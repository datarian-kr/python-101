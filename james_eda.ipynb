{
 "cells": [
  {
   "cell_type": "markdown",
   "metadata": {},
   "source": [
    "# 2020-02-07 할 일.\n",
    "- 노션 순서에 맞게 다시 하자.\n",
    "- 데이터 정제가 필요한 것을 알았으니 다음 작업 때는 정제를 하자."
   ]
  },
  {
   "cell_type": "code",
   "execution_count": 70,
   "metadata": {},
   "outputs": [],
   "source": [
    "import pandas as pd\n",
    "import numpy as np\n",
    "import matplotlib\n",
    "import matplotlib.pyplot as plt\n",
    "import seaborn as sns"
   ]
  },
  {
   "cell_type": "markdown",
   "metadata": {},
   "source": [
    "패키지를 설명해야할텐데...아나콘다를 깔게 하면 어떨까...?"
   ]
  },
  {
   "cell_type": "code",
   "execution_count": 3,
   "metadata": {},
   "outputs": [],
   "source": [
    "%matplotlib inline\n",
    "plt.rcParams['font.family'] = 'NanumGothic'\n",
    "pd.set_option('display.max_columns', None)\n",
    "pd.set_option('display.max_rows', None)\n",
    "pd.set_option('float_format', '{:f}'.format)"
   ]
  },
  {
   "cell_type": "code",
   "execution_count": 15,
   "metadata": {},
   "outputs": [
    {
     "data": {
      "text/plain": [
       "'C:\\\\Users\\\\park\\\\Desktop\\\\pro'"
      ]
     },
     "execution_count": 15,
     "metadata": {},
     "output_type": "execute_result"
    }
   ],
   "source": [
    "pwd "
   ]
  },
  {
   "cell_type": "code",
   "execution_count": 71,
   "metadata": {},
   "outputs": [],
   "source": [
    "app=pd.read_csv('googleplaystrore.csv')"
   ]
  },
  {
   "cell_type": "markdown",
   "metadata": {},
   "source": [
    "파일을 불러올 때, 절대경로/상대경로에 대한 설명.\n",
    "그 외 csv를 제외한 다른 파일들의 확장자명을 설명해주면 좋을 것 같다."
   ]
  },
  {
   "cell_type": "code",
   "execution_count": 19,
   "metadata": {
    "scrolled": true
   },
   "outputs": [
    {
     "data": {
      "text/html": [
       "<div>\n",
       "<style scoped>\n",
       "    .dataframe tbody tr th:only-of-type {\n",
       "        vertical-align: middle;\n",
       "    }\n",
       "\n",
       "    .dataframe tbody tr th {\n",
       "        vertical-align: top;\n",
       "    }\n",
       "\n",
       "    .dataframe thead th {\n",
       "        text-align: right;\n",
       "    }\n",
       "</style>\n",
       "<table border=\"1\" class=\"dataframe\">\n",
       "  <thead>\n",
       "    <tr style=\"text-align: right;\">\n",
       "      <th></th>\n",
       "      <th>App</th>\n",
       "      <th>Category</th>\n",
       "      <th>Rating</th>\n",
       "      <th>Reviews</th>\n",
       "      <th>Size</th>\n",
       "      <th>Installs</th>\n",
       "      <th>Type</th>\n",
       "      <th>Price</th>\n",
       "      <th>Content Rating</th>\n",
       "      <th>Genres</th>\n",
       "      <th>Last Updated</th>\n",
       "      <th>Current Ver</th>\n",
       "      <th>Android Ver</th>\n",
       "    </tr>\n",
       "  </thead>\n",
       "  <tbody>\n",
       "    <tr>\n",
       "      <td>0</td>\n",
       "      <td>Photo Editor &amp; Candy Camera &amp; Grid &amp; ScrapBook</td>\n",
       "      <td>ART_AND_DESIGN</td>\n",
       "      <td>4.100000</td>\n",
       "      <td>159</td>\n",
       "      <td>19M</td>\n",
       "      <td>10,000+</td>\n",
       "      <td>Free</td>\n",
       "      <td>0</td>\n",
       "      <td>Everyone</td>\n",
       "      <td>Art &amp; Design</td>\n",
       "      <td>January 7, 2018</td>\n",
       "      <td>1.0.0</td>\n",
       "      <td>4.0.3 and up</td>\n",
       "    </tr>\n",
       "    <tr>\n",
       "      <td>1</td>\n",
       "      <td>Coloring book moana</td>\n",
       "      <td>ART_AND_DESIGN</td>\n",
       "      <td>3.900000</td>\n",
       "      <td>967</td>\n",
       "      <td>14M</td>\n",
       "      <td>500,000+</td>\n",
       "      <td>Free</td>\n",
       "      <td>0</td>\n",
       "      <td>Everyone</td>\n",
       "      <td>Art &amp; Design;Pretend Play</td>\n",
       "      <td>January 15, 2018</td>\n",
       "      <td>2.0.0</td>\n",
       "      <td>4.0.3 and up</td>\n",
       "    </tr>\n",
       "    <tr>\n",
       "      <td>2</td>\n",
       "      <td>U Launcher Lite – FREE Live Cool Themes, Hide ...</td>\n",
       "      <td>ART_AND_DESIGN</td>\n",
       "      <td>4.700000</td>\n",
       "      <td>87510</td>\n",
       "      <td>8.7M</td>\n",
       "      <td>5,000,000+</td>\n",
       "      <td>Free</td>\n",
       "      <td>0</td>\n",
       "      <td>Everyone</td>\n",
       "      <td>Art &amp; Design</td>\n",
       "      <td>August 1, 2018</td>\n",
       "      <td>1.2.4</td>\n",
       "      <td>4.0.3 and up</td>\n",
       "    </tr>\n",
       "    <tr>\n",
       "      <td>3</td>\n",
       "      <td>Sketch - Draw &amp; Paint</td>\n",
       "      <td>ART_AND_DESIGN</td>\n",
       "      <td>4.500000</td>\n",
       "      <td>215644</td>\n",
       "      <td>25M</td>\n",
       "      <td>50,000,000+</td>\n",
       "      <td>Free</td>\n",
       "      <td>0</td>\n",
       "      <td>Teen</td>\n",
       "      <td>Art &amp; Design</td>\n",
       "      <td>June 8, 2018</td>\n",
       "      <td>Varies with device</td>\n",
       "      <td>4.2 and up</td>\n",
       "    </tr>\n",
       "    <tr>\n",
       "      <td>4</td>\n",
       "      <td>Pixel Draw - Number Art Coloring Book</td>\n",
       "      <td>ART_AND_DESIGN</td>\n",
       "      <td>4.300000</td>\n",
       "      <td>967</td>\n",
       "      <td>2.8M</td>\n",
       "      <td>100,000+</td>\n",
       "      <td>Free</td>\n",
       "      <td>0</td>\n",
       "      <td>Everyone</td>\n",
       "      <td>Art &amp; Design;Creativity</td>\n",
       "      <td>June 20, 2018</td>\n",
       "      <td>1.1</td>\n",
       "      <td>4.4 and up</td>\n",
       "    </tr>\n",
       "  </tbody>\n",
       "</table>\n",
       "</div>"
      ],
      "text/plain": [
       "                                                 App        Category   Rating  \\\n",
       "0     Photo Editor & Candy Camera & Grid & ScrapBook  ART_AND_DESIGN 4.100000   \n",
       "1                                Coloring book moana  ART_AND_DESIGN 3.900000   \n",
       "2  U Launcher Lite – FREE Live Cool Themes, Hide ...  ART_AND_DESIGN 4.700000   \n",
       "3                              Sketch - Draw & Paint  ART_AND_DESIGN 4.500000   \n",
       "4              Pixel Draw - Number Art Coloring Book  ART_AND_DESIGN 4.300000   \n",
       "\n",
       "  Reviews  Size     Installs  Type Price Content Rating  \\\n",
       "0     159   19M      10,000+  Free     0       Everyone   \n",
       "1     967   14M     500,000+  Free     0       Everyone   \n",
       "2   87510  8.7M   5,000,000+  Free     0       Everyone   \n",
       "3  215644   25M  50,000,000+  Free     0           Teen   \n",
       "4     967  2.8M     100,000+  Free     0       Everyone   \n",
       "\n",
       "                      Genres      Last Updated         Current Ver  \\\n",
       "0               Art & Design   January 7, 2018               1.0.0   \n",
       "1  Art & Design;Pretend Play  January 15, 2018               2.0.0   \n",
       "2               Art & Design    August 1, 2018               1.2.4   \n",
       "3               Art & Design      June 8, 2018  Varies with device   \n",
       "4    Art & Design;Creativity     June 20, 2018                 1.1   \n",
       "\n",
       "    Android Ver  \n",
       "0  4.0.3 and up  \n",
       "1  4.0.3 and up  \n",
       "2  4.0.3 and up  \n",
       "3    4.2 and up  \n",
       "4    4.4 and up  "
      ]
     },
     "execution_count": 19,
     "metadata": {},
     "output_type": "execute_result"
    }
   ],
   "source": [
    "app.head()"
   ]
  },
  {
   "cell_type": "code",
   "execution_count": 20,
   "metadata": {
    "scrolled": true
   },
   "outputs": [
    {
     "name": "stdout",
     "output_type": "stream",
     "text": [
      "(10841, 13)\n"
     ]
    }
   ],
   "source": [
    "print(app.shape)"
   ]
  },
  {
   "cell_type": "markdown",
   "metadata": {},
   "source": [
    "# 데이터 타입 확인\n",
    "데이터를 잠깐 살펴봤을 때, 원"
   ]
  },
  {
   "cell_type": "code",
   "execution_count": 21,
   "metadata": {},
   "outputs": [
    {
     "data": {
      "text/plain": [
       "App                object\n",
       "Category           object\n",
       "Rating            float64\n",
       "Reviews            object\n",
       "Size               object\n",
       "Installs           object\n",
       "Type               object\n",
       "Price              object\n",
       "Content Rating     object\n",
       "Genres             object\n",
       "Last Updated       object\n",
       "Current Ver        object\n",
       "Android Ver        object\n",
       "dtype: object"
      ]
     },
     "execution_count": 21,
     "metadata": {},
     "output_type": "execute_result"
    }
   ],
   "source": [
    "app.dtypes"
   ]
  },
  {
   "cell_type": "code",
   "execution_count": 36,
   "metadata": {},
   "outputs": [],
   "source": [
    "# 데이터타입 맞춰주기 -> 리뷰/사이즈 M, price $, last updated 날짜, 버전들은 str 때문에 미리 작업하고 변환하는 작업이 필요함.\n",
    "\n",
    "'''\n",
    "app['Reviews'] = app['Reviews'].apply(lambda x: float(x))\n",
    "app['Size'] = app['Size'].apply(lambda x: float(x))\n",
    "app['Installs'] = app['Installs'].apply(lambda x: float(x))\n",
    "app['Price'] = app['Price'].apply(lambda x: float(x))\n",
    "app['Last Updated'] = app['Last Updated'].apply(lambda x: float(x))\n",
    "app['Current Ver'] = app['Current Ver'].apply(lambda x: float(x))\n",
    "app['Android Ver'] = app['Android Ver'].apply(lambda x: float(x))\n",
    "'''"
   ]
  },
  {
   "cell_type": "code",
   "execution_count": 46,
   "metadata": {},
   "outputs": [
    {
     "data": {
      "text/plain": [
       "1,000,000+        1579\n",
       "10,000,000+       1252\n",
       "100,000+          1169\n",
       "10,000+           1054\n",
       "1,000+             907\n",
       "5,000,000+         752\n",
       "100+               719\n",
       "500,000+           539\n",
       "50,000+            479\n",
       "5,000+             477\n",
       "100,000,000+       409\n",
       "10+                386\n",
       "500+               330\n",
       "50,000,000+        289\n",
       "50+                205\n",
       "5+                  82\n",
       "500,000,000+        72\n",
       "1+                  67\n",
       "1,000,000,000+      58\n",
       "0+                  14\n",
       "0                    1\n",
       "Free                 1\n",
       "Name: Installs, dtype: int64"
      ]
     },
     "execution_count": 46,
     "metadata": {},
     "output_type": "execute_result"
    }
   ],
   "source": [
    "app['Installs'].value_counts()\n",
    "# +만 제거하면 될 듯."
   ]
  },
  {
   "cell_type": "code",
   "execution_count": 45,
   "metadata": {},
   "outputs": [
    {
     "data": {
      "text/plain": [
       "Varies with device    1695\n",
       "11M                    198\n",
       "12M                    196\n",
       "14M                    194\n",
       "13M                    191\n",
       "15M                    184\n",
       "17M                    160\n",
       "19M                    154\n",
       "16M                    149\n",
       "26M                    149\n",
       "25M                    143\n",
       "20M                    139\n",
       "21M                    138\n",
       "24M                    136\n",
       "10M                    136\n",
       "18M                    133\n",
       "23M                    117\n",
       "22M                    114\n",
       "29M                    103\n",
       "27M                     97\n",
       "28M                     95\n",
       "30M                     84\n",
       "33M                     79\n",
       "3.3M                    77\n",
       "37M                     76\n",
       "35M                     72\n",
       "31M                     70\n",
       "2.9M                    69\n",
       "2.5M                    68\n",
       "2.3M                    68\n",
       "3.4M                    65\n",
       "2.8M                    65\n",
       "3.7M                    63\n",
       "32M                     63\n",
       "34M                     63\n",
       "3.9M                    62\n",
       "3.8M                    62\n",
       "40M                     62\n",
       "44M                     61\n",
       "4.0M                    61\n",
       "3.0M                    61\n",
       "36M                     60\n",
       "46M                     59\n",
       "4.2M                    59\n",
       "48M                     59\n",
       "5.0M                    58\n",
       "3.6M                    57\n",
       "39M                     56\n",
       "3.1M                    56\n",
       "38M                     55\n",
       "3.2M                    55\n",
       "4.3M                    54\n",
       "2.7M                    53\n",
       "4.1M                    52\n",
       "3.5M                    51\n",
       "5.4M                    51\n",
       "2.0M                    51\n",
       "4.9M                    50\n",
       "2.6M                    50\n",
       "1.8M                    50\n",
       "1.5M                    48\n",
       "2.4M                    48\n",
       "41M                     48\n",
       "5.7M                    48\n",
       "43M                     47\n",
       "4.6M                    46\n",
       "2.2M                    45\n",
       "6.3M                    45\n",
       "49M                     45\n",
       "5.3M                    44\n",
       "50M                     44\n",
       "5.1M                    43\n",
       "53M                     43\n",
       "4.4M                    42\n",
       "63M                     41\n",
       "1.2M                    41\n",
       "42M                     41\n",
       "6.9M                    40\n",
       "1.7M                    40\n",
       "4.5M                    40\n",
       "2.1M                    40\n",
       "45M                     40\n",
       "1.6M                    39\n",
       "8.7M                    39\n",
       "6.1M                    39\n",
       "99M                     39\n",
       "59M                     38\n",
       "47M                     37\n",
       "5.9M                    37\n",
       "7.3M                    37\n",
       "57M                     37\n",
       "1.4M                    37\n",
       "8.5M                    36\n",
       "4.7M                    36\n",
       "60M                     36\n",
       "5.2M                    35\n",
       "1.3M                    35\n",
       "52M                     35\n",
       "5.8M                    35\n",
       "6.5M                    34\n",
       "6.0M                    34\n",
       "4.8M                    34\n",
       "5.5M                    33\n",
       "51M                     33\n",
       "7.9M                    33\n",
       "7.0M                    33\n",
       "6.6M                    33\n",
       "9.2M                    33\n",
       "1.9M                    32\n",
       "67M                     32\n",
       "62M                     32\n",
       "1.1M                    32\n",
       "56M                     31\n",
       "5.6M                    31\n",
       "8.4M                    30\n",
       "8.3M                    30\n",
       "7.2M                    30\n",
       "9.8M                    30\n",
       "6.2M                    30\n",
       "55M                     30\n",
       "7.6M                    29\n",
       "6.4M                    29\n",
       "54M                     29\n",
       "9.1M                    29\n",
       "7.8M                    29\n",
       "6.8M                    28\n",
       "7.4M                    28\n",
       "7.5M                    28\n",
       "9.5M                    28\n",
       "8.9M                    28\n",
       "9.9M                    28\n",
       "8.2M                    28\n",
       "8.1M                    27\n",
       "9.0M                    27\n",
       "70M                     27\n",
       "76M                     27\n",
       "8.8M                    27\n",
       "7.7M                    26\n",
       "7.1M                    26\n",
       "96M                     26\n",
       "61M                     26\n",
       "58M                     26\n",
       "6.7M                    25\n",
       "8.6M                    25\n",
       "9.7M                    24\n",
       "9.4M                    24\n",
       "69M                     23\n",
       "8.0M                    23\n",
       "78M                     23\n",
       "91M                     22\n",
       "82M                     21\n",
       "74M                     20\n",
       "97M                     20\n",
       "72M                     19\n",
       "68M                     18\n",
       "95M                     18\n",
       "85M                     17\n",
       "94M                     17\n",
       "93M                     16\n",
       "66M                     16\n",
       "98M                     16\n",
       "100M                    16\n",
       "9.6M                    15\n",
       "92M                     15\n",
       "9.3M                    15\n",
       "73M                     15\n",
       "64M                     15\n",
       "83M                     15\n",
       "88M                     14\n",
       "71M                     14\n",
       "87M                     13\n",
       "75M                     13\n",
       "80M                     13\n",
       "77M                     13\n",
       "79M                     11\n",
       "81M                     11\n",
       "10.0M                   10\n",
       "65M                     10\n",
       "84M                      9\n",
       "89M                      9\n",
       "86M                      8\n",
       "1.0M                     7\n",
       "90M                      6\n",
       "79k                      3\n",
       "375k                     3\n",
       "266k                     3\n",
       "201k                     3\n",
       "118k                     3\n",
       "196k                     2\n",
       "592k                     2\n",
       "957k                     2\n",
       "318k                     2\n",
       "192k                     2\n",
       "206k                     2\n",
       "33k                      2\n",
       "473k                     2\n",
       "334k                     2\n",
       "364k                     2\n",
       "656k                     2\n",
       "51k                      2\n",
       "72k                      2\n",
       "70k                      2\n",
       "948k                     2\n",
       "335k                     2\n",
       "417k                     2\n",
       "842k                     2\n",
       "29k                      2\n",
       "58k                      2\n",
       "141k                     2\n",
       "172k                     2\n",
       "18k                      2\n",
       "704k                     2\n",
       "323k                     2\n",
       "26k                      2\n",
       "17k                      2\n",
       "228k                     2\n",
       "48k                      1\n",
       "25k                      1\n",
       "313k                     1\n",
       "551k                     1\n",
       "954k                     1\n",
       "545k                     1\n",
       "485k                     1\n",
       "940k                     1\n",
       "861k                     1\n",
       "232k                     1\n",
       "812k                     1\n",
       "811k                     1\n",
       "728k                     1\n",
       "544k                     1\n",
       "980k                     1\n",
       "554k                     1\n",
       "219k                     1\n",
       "240k                     1\n",
       "41k                      1\n",
       "609k                     1\n",
       "454k                     1\n",
       "437k                     1\n",
       "351k                     1\n",
       "643k                     1\n",
       "14k                      1\n",
       "785k                     1\n",
       "221k                     1\n",
       "953k                     1\n",
       "600k                     1\n",
       "329k                     1\n",
       "688k                     1\n",
       "499k                     1\n",
       "350k                     1\n",
       "226k                     1\n",
       "353k                     1\n",
       "518k                     1\n",
       "887k                     1\n",
       "73k                      1\n",
       "412k                     1\n",
       "89k                      1\n",
       "280k                     1\n",
       "54k                      1\n",
       "371k                     1\n",
       "994k                     1\n",
       "523k                     1\n",
       "67k                      1\n",
       "963k                     1\n",
       "916k                     1\n",
       "308k                     1\n",
       "8.5k                     1\n",
       "160k                     1\n",
       "569k                     1\n",
       "500k                     1\n",
       "749k                     1\n",
       "511k                     1\n",
       "961k                     1\n",
       "899k                     1\n",
       "930k                     1\n",
       "44k                      1\n",
       "430k                     1\n",
       "91k                      1\n",
       "562k                     1\n",
       "853k                     1\n",
       "705k                     1\n",
       "82k                      1\n",
       "629k                     1\n",
       "170k                     1\n",
       "322k                     1\n",
       "892k                     1\n",
       "743k                     1\n",
       "319k                     1\n",
       "816k                     1\n",
       "93k                      1\n",
       "514k                     1\n",
       "309k                     1\n",
       "200k                     1\n",
       "784k                     1\n",
       "460k                     1\n",
       "840k                     1\n",
       "208k                     1\n",
       "676k                     1\n",
       "721k                     1\n",
       "157k                     1\n",
       "779k                     1\n",
       "809k                     1\n",
       "942k                     1\n",
       "860k                     1\n",
       "475k                     1\n",
       "691k                     1\n",
       "467k                     1\n",
       "992k                     1\n",
       "459k                     1\n",
       "920k                     1\n",
       "970k                     1\n",
       "421k                     1\n",
       "874k                     1\n",
       "924k                     1\n",
       "429k                     1\n",
       "28k                      1\n",
       "234k                     1\n",
       "383k                     1\n",
       "241k                     1\n",
       "772k                     1\n",
       "270k                     1\n",
       "556k                     1\n",
       "904k                     1\n",
       "913k                     1\n",
       "885k                     1\n",
       "526k                     1\n",
       "143k                     1\n",
       "203k                     1\n",
       "478k                     1\n",
       "23k                      1\n",
       "444k                     1\n",
       "175k                     1\n",
       "986k                     1\n",
       "847k                     1\n",
       "818k                     1\n",
       "11k                      1\n",
       "253k                     1\n",
       "585k                     1\n",
       "921k                     1\n",
       "293k                     1\n",
       "716k                     1\n",
       "713k                     1\n",
       "154k                     1\n",
       "400k                     1\n",
       "161k                     1\n",
       "191k                     1\n",
       "27k                      1\n",
       "61k                      1\n",
       "153k                     1\n",
       "283k                     1\n",
       "902k                     1\n",
       "116k                     1\n",
       "939k                     1\n",
       "647k                     1\n",
       "81k                      1\n",
       "238k                     1\n",
       "598k                     1\n",
       "730k                     1\n",
       "837k                     1\n",
       "420k                     1\n",
       "506k                     1\n",
       "193k                     1\n",
       "862k                     1\n",
       "50k                      1\n",
       "857k                     1\n",
       "314k                     1\n",
       "714k                     1\n",
       "626k                     1\n",
       "404k                     1\n",
       "608k                     1\n",
       "496k                     1\n",
       "306k                     1\n",
       "34k                      1\n",
       "164k                     1\n",
       "754k                     1\n",
       "103k                     1\n",
       "498k                     1\n",
       "597k                     1\n",
       "549k                     1\n",
       "780k                     1\n",
       "470k                     1\n",
       "898k                     1\n",
       "720k                     1\n",
       "1020k                    1\n",
       "24k                      1\n",
       "782k                     1\n",
       "613k                     1\n",
       "220k                     1\n",
       "778k                     1\n",
       "801k                     1\n",
       "376k                     1\n",
       "658k                     1\n",
       "97k                      1\n",
       "251k                     1\n",
       "914k                     1\n",
       "246k                     1\n",
       "717k                     1\n",
       "756k                     1\n",
       "239k                     1\n",
       "540k                     1\n",
       "982k                     1\n",
       "186k                     1\n",
       "865k                     1\n",
       "525k                     1\n",
       "775k                     1\n",
       "872k                     1\n",
       "387k                     1\n",
       "257k                     1\n",
       "663k                     1\n",
       "624k                     1\n",
       "552k                     1\n",
       "292k                     1\n",
       "237k                     1\n",
       "108k                     1\n",
       "122k                     1\n",
       "209k                     1\n",
       "787k                     1\n",
       "245k                     1\n",
       "176k                     1\n",
       "210k                     1\n",
       "39k                      1\n",
       "582k                     1\n",
       "169k                     1\n",
       "619k                     1\n",
       "222k                     1\n",
       "144k                     1\n",
       "965k                     1\n",
       "55k                      1\n",
       "879k                     1\n",
       "173k                     1\n",
       "981k                     1\n",
       "243k                     1\n",
       "45k                      1\n",
       "881k                     1\n",
       "317k                     1\n",
       "976k                     1\n",
       "411k                     1\n",
       "903k                     1\n",
       "695k                     1\n",
       "683k                     1\n",
       "269k                     1\n",
       "373k                     1\n",
       "121k                     1\n",
       "190k                     1\n",
       "636k                     1\n",
       "951k                     1\n",
       "288k                     1\n",
       "414k                     1\n",
       "259k                     1\n",
       "74k                      1\n",
       "1,000+                   1\n",
       "746k                     1\n",
       "442k                     1\n",
       "458k                     1\n",
       "378k                     1\n",
       "601k                     1\n",
       "516k                     1\n",
       "975k                     1\n",
       "78k                      1\n",
       "655k                     1\n",
       "642k                     1\n",
       "20k                      1\n",
       "696k                     1\n",
       "Name: Size, dtype: int64"
      ]
     },
     "execution_count": 45,
     "metadata": {},
     "output_type": "execute_result"
    }
   ],
   "source": [
    "app['Size'].value_counts()\n",
    "# k와 M 구분을 어떻게 할 것인지. Varies with device 얘는 또 뭘까..? "
   ]
  },
  {
   "cell_type": "code",
   "execution_count": 42,
   "metadata": {},
   "outputs": [
    {
     "data": {
      "text/plain": [
       "FAMILY                 1972\n",
       "GAME                   1144\n",
       "TOOLS                   843\n",
       "MEDICAL                 463\n",
       "BUSINESS                460\n",
       "PRODUCTIVITY            424\n",
       "PERSONALIZATION         392\n",
       "COMMUNICATION           387\n",
       "SPORTS                  384\n",
       "LIFESTYLE               382\n",
       "FINANCE                 366\n",
       "HEALTH_AND_FITNESS      341\n",
       "PHOTOGRAPHY             335\n",
       "SOCIAL                  295\n",
       "NEWS_AND_MAGAZINES      283\n",
       "SHOPPING                260\n",
       "TRAVEL_AND_LOCAL        258\n",
       "DATING                  234\n",
       "BOOKS_AND_REFERENCE     231\n",
       "VIDEO_PLAYERS           175\n",
       "EDUCATION               156\n",
       "ENTERTAINMENT           149\n",
       "MAPS_AND_NAVIGATION     137\n",
       "FOOD_AND_DRINK          127\n",
       "HOUSE_AND_HOME           88\n",
       "LIBRARIES_AND_DEMO       85\n",
       "AUTO_AND_VEHICLES        85\n",
       "WEATHER                  82\n",
       "ART_AND_DESIGN           65\n",
       "EVENTS                   64\n",
       "PARENTING                60\n",
       "COMICS                   60\n",
       "BEAUTY                   53\n",
       "1.9                       1\n",
       "Name: Category, dtype: int64"
      ]
     },
     "execution_count": 42,
     "metadata": {},
     "output_type": "execute_result"
    }
   ],
   "source": [
    "app['Category'].value_counts()"
   ]
  },
  {
   "cell_type": "code",
   "execution_count": 38,
   "metadata": {},
   "outputs": [
    {
     "data": {
      "text/plain": [
       "34"
      ]
     },
     "execution_count": 38,
     "metadata": {},
     "output_type": "execute_result"
    }
   ],
   "source": [
    "app['Category'].nunique()"
   ]
  },
  {
   "cell_type": "code",
   "execution_count": 22,
   "metadata": {},
   "outputs": [
    {
     "data": {
      "text/plain": [
       "App                  0\n",
       "Category             0\n",
       "Rating            1474\n",
       "Reviews              0\n",
       "Size                 0\n",
       "Installs             0\n",
       "Type                 1\n",
       "Price                0\n",
       "Content Rating       1\n",
       "Genres               0\n",
       "Last Updated         0\n",
       "Current Ver          8\n",
       "Android Ver          3\n",
       "dtype: int64"
      ]
     },
     "execution_count": 22,
     "metadata": {},
     "output_type": "execute_result"
    }
   ],
   "source": [
    "app.isnull().sum()"
   ]
  },
  {
   "cell_type": "markdown",
   "metadata": {},
   "source": [
    "등급의 널 값이 생각보다 많은데 어떻게 처리하는게 좋은 방법일까...? 그 외의 널 값들도 어떻게 처리하지...?"
   ]
  },
  {
   "cell_type": "markdown",
   "metadata": {},
   "source": [
    "# 컬럼 간 상관관계\n",
    "맨 처음 타입을 확인할 때, rating만 숫자였다. 숫자로 나타낼 수 있는 값들은 타입을 변경하는 작업을 해여한다. "
   ]
  },
  {
   "cell_type": "code",
   "execution_count": 34,
   "metadata": {},
   "outputs": [
    {
     "data": {
      "text/html": [
       "<div>\n",
       "<style scoped>\n",
       "    .dataframe tbody tr th:only-of-type {\n",
       "        vertical-align: middle;\n",
       "    }\n",
       "\n",
       "    .dataframe tbody tr th {\n",
       "        vertical-align: top;\n",
       "    }\n",
       "\n",
       "    .dataframe thead th {\n",
       "        text-align: right;\n",
       "    }\n",
       "</style>\n",
       "<table border=\"1\" class=\"dataframe\">\n",
       "  <thead>\n",
       "    <tr style=\"text-align: right;\">\n",
       "      <th></th>\n",
       "      <th>Rating</th>\n",
       "    </tr>\n",
       "  </thead>\n",
       "  <tbody>\n",
       "    <tr>\n",
       "      <td>Rating</td>\n",
       "      <td>1.000000</td>\n",
       "    </tr>\n",
       "  </tbody>\n",
       "</table>\n",
       "</div>"
      ],
      "text/plain": [
       "         Rating\n",
       "Rating 1.000000"
      ]
     },
     "execution_count": 34,
     "metadata": {},
     "output_type": "execute_result"
    }
   ],
   "source": [
    "app.corr()"
   ]
  },
  {
   "cell_type": "code",
   "execution_count": 35,
   "metadata": {},
   "outputs": [
    {
     "data": {
      "text/plain": [
       "<matplotlib.axes._subplots.AxesSubplot at 0x1d7d5b63b08>"
      ]
     },
     "execution_count": 35,
     "metadata": {},
     "output_type": "execute_result"
    },
    {
     "data": {
      "image/png": "[encoded data removed]",
      "text/plain": [
       "<Figure size 1080x648 with 2 Axes>"
      ]
     },
     "metadata": {
      "needs_background": "light"
     },
     "output_type": "display_data"
    }
   ],
   "source": [
    "plt.figure(figsize=[15, 9])\n",
    "sns.heatmap(app.corr(), annot=True, fmt = '.2f', linewidths=0.2, cmap='coolwarm')"
   ]
  },
  {
   "cell_type": "markdown",
   "metadata": {},
   "source": [
    "# 순위 랭크 세우기.\n",
    "순위 랭크 세우기 언급만 하면 좋을 듯. 결과를 보면 알겠지만 자세한 수치가 안나왔기 때문에 이 데이터 안에서 랭크 세우는 것이 의미가 없을 것 같음."
   ]
  },
  {
   "cell_type": "code",
   "execution_count": 48,
   "metadata": {},
   "outputs": [],
   "source": [
    "installs_rank=app.sort_values(by=['Installs'], axis=0, ascending=False)"
   ]
  },
  {
   "cell_type": "code",
   "execution_count": 49,
   "metadata": {
    "scrolled": true
   },
   "outputs": [
    {
     "data": {
      "text/html": [
       "<div>\n",
       "<style scoped>\n",
       "    .dataframe tbody tr th:only-of-type {\n",
       "        vertical-align: middle;\n",
       "    }\n",
       "\n",
       "    .dataframe tbody tr th {\n",
       "        vertical-align: top;\n",
       "    }\n",
       "\n",
       "    .dataframe thead th {\n",
       "        text-align: right;\n",
       "    }\n",
       "</style>\n",
       "<table border=\"1\" class=\"dataframe\">\n",
       "  <thead>\n",
       "    <tr style=\"text-align: right;\">\n",
       "      <th></th>\n",
       "      <th>App</th>\n",
       "      <th>Category</th>\n",
       "      <th>Rating</th>\n",
       "      <th>Reviews</th>\n",
       "      <th>Size</th>\n",
       "      <th>Installs</th>\n",
       "      <th>Type</th>\n",
       "      <th>Price</th>\n",
       "      <th>Content Rating</th>\n",
       "      <th>Genres</th>\n",
       "      <th>Last Updated</th>\n",
       "      <th>Current Ver</th>\n",
       "      <th>Android Ver</th>\n",
       "    </tr>\n",
       "  </thead>\n",
       "  <tbody>\n",
       "    <tr>\n",
       "      <td>10472</td>\n",
       "      <td>Life Made WI-Fi Touchscreen Photo Frame</td>\n",
       "      <td>1.9</td>\n",
       "      <td>19.000000</td>\n",
       "      <td>3.0M</td>\n",
       "      <td>1,000+</td>\n",
       "      <td>Free</td>\n",
       "      <td>0</td>\n",
       "      <td>Everyone</td>\n",
       "      <td>NaN</td>\n",
       "      <td>February 11, 2018</td>\n",
       "      <td>1.0.19</td>\n",
       "      <td>4.0 and up</td>\n",
       "      <td>nan</td>\n",
       "    </tr>\n",
       "    <tr>\n",
       "      <td>420</td>\n",
       "      <td>UC Browser - Fast Download Private &amp; Secure</td>\n",
       "      <td>COMMUNICATION</td>\n",
       "      <td>4.500000</td>\n",
       "      <td>17714850</td>\n",
       "      <td>40M</td>\n",
       "      <td>500,000,000+</td>\n",
       "      <td>Free</td>\n",
       "      <td>0</td>\n",
       "      <td>Teen</td>\n",
       "      <td>Communication</td>\n",
       "      <td>August 2, 2018</td>\n",
       "      <td>12.8.5.1121</td>\n",
       "      <td>4.0 and up</td>\n",
       "    </tr>\n",
       "    <tr>\n",
       "      <td>474</td>\n",
       "      <td>LINE: Free Calls &amp; Messages</td>\n",
       "      <td>COMMUNICATION</td>\n",
       "      <td>4.200000</td>\n",
       "      <td>10790289</td>\n",
       "      <td>Varies with device</td>\n",
       "      <td>500,000,000+</td>\n",
       "      <td>Free</td>\n",
       "      <td>0</td>\n",
       "      <td>Everyone</td>\n",
       "      <td>Communication</td>\n",
       "      <td>July 26, 2018</td>\n",
       "      <td>Varies with device</td>\n",
       "      <td>Varies with device</td>\n",
       "    </tr>\n",
       "    <tr>\n",
       "      <td>3767</td>\n",
       "      <td>Flipboard: News For Our Time</td>\n",
       "      <td>NEWS_AND_MAGAZINES</td>\n",
       "      <td>4.400000</td>\n",
       "      <td>1284017</td>\n",
       "      <td>Varies with device</td>\n",
       "      <td>500,000,000+</td>\n",
       "      <td>Free</td>\n",
       "      <td>0</td>\n",
       "      <td>Everyone 10+</td>\n",
       "      <td>News &amp; Magazines</td>\n",
       "      <td>August 3, 2018</td>\n",
       "      <td>Varies with device</td>\n",
       "      <td>Varies with device</td>\n",
       "    </tr>\n",
       "    <tr>\n",
       "      <td>3574</td>\n",
       "      <td>Cloud Print</td>\n",
       "      <td>PRODUCTIVITY</td>\n",
       "      <td>4.100000</td>\n",
       "      <td>282460</td>\n",
       "      <td>Varies with device</td>\n",
       "      <td>500,000,000+</td>\n",
       "      <td>Free</td>\n",
       "      <td>0</td>\n",
       "      <td>Everyone</td>\n",
       "      <td>Productivity</td>\n",
       "      <td>May 23, 2018</td>\n",
       "      <td>Varies with device</td>\n",
       "      <td>Varies with device</td>\n",
       "    </tr>\n",
       "    <tr>\n",
       "      <td>3326</td>\n",
       "      <td>Gboard - the Google Keyboard</td>\n",
       "      <td>TOOLS</td>\n",
       "      <td>4.200000</td>\n",
       "      <td>1859109</td>\n",
       "      <td>Varies with device</td>\n",
       "      <td>500,000,000+</td>\n",
       "      <td>Free</td>\n",
       "      <td>0</td>\n",
       "      <td>Everyone</td>\n",
       "      <td>Tools</td>\n",
       "      <td>July 31, 2018</td>\n",
       "      <td>Varies with device</td>\n",
       "      <td>Varies with device</td>\n",
       "    </tr>\n",
       "    <tr>\n",
       "      <td>431</td>\n",
       "      <td>Viber Messenger</td>\n",
       "      <td>COMMUNICATION</td>\n",
       "      <td>4.300000</td>\n",
       "      <td>11334973</td>\n",
       "      <td>Varies with device</td>\n",
       "      <td>500,000,000+</td>\n",
       "      <td>Free</td>\n",
       "      <td>0</td>\n",
       "      <td>Everyone</td>\n",
       "      <td>Communication</td>\n",
       "      <td>July 18, 2018</td>\n",
       "      <td>Varies with device</td>\n",
       "      <td>Varies with device</td>\n",
       "    </tr>\n",
       "    <tr>\n",
       "      <td>4222</td>\n",
       "      <td>imo free video calls and chat</td>\n",
       "      <td>COMMUNICATION</td>\n",
       "      <td>4.300000</td>\n",
       "      <td>4785892</td>\n",
       "      <td>11M</td>\n",
       "      <td>500,000,000+</td>\n",
       "      <td>Free</td>\n",
       "      <td>0</td>\n",
       "      <td>Everyone</td>\n",
       "      <td>Communication</td>\n",
       "      <td>June 8, 2018</td>\n",
       "      <td>9.8.000000010501</td>\n",
       "      <td>4.0 and up</td>\n",
       "    </tr>\n",
       "    <tr>\n",
       "      <td>3235</td>\n",
       "      <td>Google Translate</td>\n",
       "      <td>TOOLS</td>\n",
       "      <td>4.400000</td>\n",
       "      <td>5745093</td>\n",
       "      <td>Varies with device</td>\n",
       "      <td>500,000,000+</td>\n",
       "      <td>Free</td>\n",
       "      <td>0</td>\n",
       "      <td>Everyone</td>\n",
       "      <td>Tools</td>\n",
       "      <td>August 4, 2018</td>\n",
       "      <td>Varies with device</td>\n",
       "      <td>Varies with device</td>\n",
       "    </tr>\n",
       "    <tr>\n",
       "      <td>1842</td>\n",
       "      <td>Candy Crush Saga</td>\n",
       "      <td>GAME</td>\n",
       "      <td>4.400000</td>\n",
       "      <td>22429716</td>\n",
       "      <td>74M</td>\n",
       "      <td>500,000,000+</td>\n",
       "      <td>Free</td>\n",
       "      <td>0</td>\n",
       "      <td>Everyone</td>\n",
       "      <td>Casual</td>\n",
       "      <td>July 5, 2018</td>\n",
       "      <td>1.129.0.2</td>\n",
       "      <td>4.1 and up</td>\n",
       "    </tr>\n",
       "  </tbody>\n",
       "</table>\n",
       "</div>"
      ],
      "text/plain": [
       "                                               App            Category  \\\n",
       "10472      Life Made WI-Fi Touchscreen Photo Frame                 1.9   \n",
       "420    UC Browser - Fast Download Private & Secure       COMMUNICATION   \n",
       "474                    LINE: Free Calls & Messages       COMMUNICATION   \n",
       "3767                  Flipboard: News For Our Time  NEWS_AND_MAGAZINES   \n",
       "3574                                   Cloud Print        PRODUCTIVITY   \n",
       "3326                  Gboard - the Google Keyboard               TOOLS   \n",
       "431                                Viber Messenger       COMMUNICATION   \n",
       "4222                 imo free video calls and chat       COMMUNICATION   \n",
       "3235                              Google Translate               TOOLS   \n",
       "1842                              Candy Crush Saga                GAME   \n",
       "\n",
       "         Rating   Reviews                Size      Installs  Type     Price  \\\n",
       "10472 19.000000      3.0M              1,000+          Free     0  Everyone   \n",
       "420    4.500000  17714850                 40M  500,000,000+  Free         0   \n",
       "474    4.200000  10790289  Varies with device  500,000,000+  Free         0   \n",
       "3767   4.400000   1284017  Varies with device  500,000,000+  Free         0   \n",
       "3574   4.100000    282460  Varies with device  500,000,000+  Free         0   \n",
       "3326   4.200000   1859109  Varies with device  500,000,000+  Free         0   \n",
       "431    4.300000  11334973  Varies with device  500,000,000+  Free         0   \n",
       "4222   4.300000   4785892                 11M  500,000,000+  Free         0   \n",
       "3235   4.400000   5745093  Varies with device  500,000,000+  Free         0   \n",
       "1842   4.400000  22429716                 74M  500,000,000+  Free         0   \n",
       "\n",
       "      Content Rating             Genres    Last Updated         Current Ver  \\\n",
       "10472            NaN  February 11, 2018          1.0.19          4.0 and up   \n",
       "420             Teen      Communication  August 2, 2018         12.8.5.1121   \n",
       "474         Everyone      Communication   July 26, 2018  Varies with device   \n",
       "3767    Everyone 10+   News & Magazines  August 3, 2018  Varies with device   \n",
       "3574        Everyone       Productivity    May 23, 2018  Varies with device   \n",
       "3326        Everyone              Tools   July 31, 2018  Varies with device   \n",
       "431         Everyone      Communication   July 18, 2018  Varies with device   \n",
       "4222        Everyone      Communication    June 8, 2018    9.8.000000010501   \n",
       "3235        Everyone              Tools  August 4, 2018  Varies with device   \n",
       "1842        Everyone             Casual    July 5, 2018           1.129.0.2   \n",
       "\n",
       "              Android Ver  \n",
       "10472                 nan  \n",
       "420            4.0 and up  \n",
       "474    Varies with device  \n",
       "3767   Varies with device  \n",
       "3574   Varies with device  \n",
       "3326   Varies with device  \n",
       "431    Varies with device  \n",
       "4222           4.0 and up  \n",
       "3235   Varies with device  \n",
       "1842           4.1 and up  "
      ]
     },
     "execution_count": 49,
     "metadata": {},
     "output_type": "execute_result"
    }
   ],
   "source": [
    "installs_rank.head(10)"
   ]
  },
  {
   "cell_type": "markdown",
   "metadata": {},
   "source": [
    "# 사분위 확인\n",
    "rating만 숫자여서 다른 컬럼들 타입을 변경해야함."
   ]
  },
  {
   "cell_type": "code",
   "execution_count": 50,
   "metadata": {},
   "outputs": [
    {
     "data": {
      "text/plain": [
       "Rating   4.300000\n",
       "dtype: float64"
      ]
     },
     "execution_count": 50,
     "metadata": {},
     "output_type": "execute_result"
    }
   ],
   "source": [
    "app.median() # 중앙값"
   ]
  },
  {
   "cell_type": "code",
   "execution_count": 52,
   "metadata": {},
   "outputs": [
    {
     "data": {
      "text/plain": [
       "Rating   4.193338\n",
       "dtype: float64"
      ]
     },
     "execution_count": 52,
     "metadata": {},
     "output_type": "execute_result"
    }
   ],
   "source": [
    "app.mean() # 평균"
   ]
  },
  {
   "cell_type": "code",
   "execution_count": 53,
   "metadata": {},
   "outputs": [
    {
     "data": {
      "text/html": [
       "<div>\n",
       "<style scoped>\n",
       "    .dataframe tbody tr th:only-of-type {\n",
       "        vertical-align: middle;\n",
       "    }\n",
       "\n",
       "    .dataframe tbody tr th {\n",
       "        vertical-align: top;\n",
       "    }\n",
       "\n",
       "    .dataframe thead th {\n",
       "        text-align: right;\n",
       "    }\n",
       "</style>\n",
       "<table border=\"1\" class=\"dataframe\">\n",
       "  <thead>\n",
       "    <tr style=\"text-align: right;\">\n",
       "      <th></th>\n",
       "      <th>Rating</th>\n",
       "    </tr>\n",
       "  </thead>\n",
       "  <tbody>\n",
       "    <tr>\n",
       "      <td>count</td>\n",
       "      <td>9367.000000</td>\n",
       "    </tr>\n",
       "    <tr>\n",
       "      <td>mean</td>\n",
       "      <td>4.193338</td>\n",
       "    </tr>\n",
       "    <tr>\n",
       "      <td>std</td>\n",
       "      <td>0.537431</td>\n",
       "    </tr>\n",
       "    <tr>\n",
       "      <td>min</td>\n",
       "      <td>1.000000</td>\n",
       "    </tr>\n",
       "    <tr>\n",
       "      <td>25%</td>\n",
       "      <td>4.000000</td>\n",
       "    </tr>\n",
       "    <tr>\n",
       "      <td>50%</td>\n",
       "      <td>4.300000</td>\n",
       "    </tr>\n",
       "    <tr>\n",
       "      <td>75%</td>\n",
       "      <td>4.500000</td>\n",
       "    </tr>\n",
       "    <tr>\n",
       "      <td>max</td>\n",
       "      <td>19.000000</td>\n",
       "    </tr>\n",
       "  </tbody>\n",
       "</table>\n",
       "</div>"
      ],
      "text/plain": [
       "           Rating\n",
       "count 9367.000000\n",
       "mean     4.193338\n",
       "std      0.537431\n",
       "min      1.000000\n",
       "25%      4.000000\n",
       "50%      4.300000\n",
       "75%      4.500000\n",
       "max     19.000000"
      ]
     },
     "execution_count": 53,
     "metadata": {},
     "output_type": "execute_result"
    }
   ],
   "source": [
    "app.describe()"
   ]
  },
  {
   "cell_type": "code",
   "execution_count": 63,
   "metadata": {},
   "outputs": [
    {
     "data": {
      "text/plain": [
       "<matplotlib.axes._subplots.AxesSubplot at 0x1d7d6553108>"
      ]
     },
     "execution_count": 63,
     "metadata": {},
     "output_type": "execute_result"
    },
    {
     "data": {
      "image/png": "[encoded data removed]",
      "text/plain": [
       "<Figure size 432x288 with 1 Axes>"
      ]
     },
     "metadata": {
      "needs_background": "light"
     },
     "output_type": "display_data"
    }
   ],
   "source": [
    "app['Rating'].hist(bins=5) # 이 축의 x,y는 무엇일까..? "
   ]
  },
  {
   "cell_type": "code",
   "execution_count": 68,
   "metadata": {},
   "outputs": [],
   "source": [
    "# 뭔가 이상하게 안나온다. 데이터 정제가 필요해보인다."
   ]
  },
  {
   "cell_type": "code",
   "execution_count": 66,
   "metadata": {
    "scrolled": true
   },
   "outputs": [
    {
     "name": "stderr",
     "output_type": "stream",
     "text": [
      "C:\\Users\\park\\Anaconda3\\lib\\site-packages\\numpy\\lib\\function_base.py:3826: RuntimeWarning: Invalid value encountered in percentile\n",
      "  interpolation=interpolation)\n",
      "C:\\Users\\park\\Anaconda3\\lib\\site-packages\\matplotlib\\cbook\\__init__.py:1316: RuntimeWarning: invalid value encountered in less_equal\n",
      "  wiskhi = x[x <= hival]\n",
      "C:\\Users\\park\\Anaconda3\\lib\\site-packages\\matplotlib\\cbook\\__init__.py:1323: RuntimeWarning: invalid value encountered in greater_equal\n",
      "  wisklo = x[x >= loval]\n",
      "C:\\Users\\park\\Anaconda3\\lib\\site-packages\\matplotlib\\cbook\\__init__.py:1331: RuntimeWarning: invalid value encountered in less\n",
      "  x[x < stats['whislo']],\n",
      "C:\\Users\\park\\Anaconda3\\lib\\site-packages\\matplotlib\\cbook\\__init__.py:1332: RuntimeWarning: invalid value encountered in greater\n",
      "  x[x > stats['whishi']],\n"
     ]
    },
    {
     "data": {
      "image/png": "[encoded data removed]",
      "text/plain": [
       "<Figure size 432x288 with 1 Axes>"
      ]
     },
     "metadata": {
      "needs_background": "light"
     },
     "output_type": "display_data"
    }
   ],
   "source": [
    "plt.boxplot(app['Rating'])\n",
    "plt.show()"
   ]
  },
  {
   "cell_type": "code",
   "execution_count": 67,
   "metadata": {},
   "outputs": [
    {
     "name": "stderr",
     "output_type": "stream",
     "text": [
      "C:\\Users\\park\\Anaconda3\\lib\\site-packages\\numpy\\lib\\function_base.py:3826: RuntimeWarning: Invalid value encountered in percentile\n",
      "  interpolation=interpolation)\n",
      "C:\\Users\\park\\Anaconda3\\lib\\site-packages\\matplotlib\\cbook\\__init__.py:1316: RuntimeWarning: invalid value encountered in less_equal\n",
      "  wiskhi = x[x <= hival]\n",
      "C:\\Users\\park\\Anaconda3\\lib\\site-packages\\matplotlib\\cbook\\__init__.py:1323: RuntimeWarning: invalid value encountered in greater_equal\n",
      "  wisklo = x[x >= loval]\n",
      "C:\\Users\\park\\Anaconda3\\lib\\site-packages\\matplotlib\\cbook\\__init__.py:1331: RuntimeWarning: invalid value encountered in less\n",
      "  x[x < stats['whislo']],\n",
      "C:\\Users\\park\\Anaconda3\\lib\\site-packages\\matplotlib\\cbook\\__init__.py:1332: RuntimeWarning: invalid value encountered in greater\n",
      "  x[x > stats['whishi']],\n"
     ]
    },
    {
     "data": {
      "image/png": "[encoded data removed]",
      "text/plain": [
       "<Figure size 432x288 with 1 Axes>"
      ]
     },
     "metadata": {
      "needs_background": "light"
     },
     "output_type": "display_data"
    }
   ],
   "source": [
    "# setting outlier symbol, title, xlabel\n",
    "\n",
    "plt.boxplot(app['Rating'], sym=\"bo\")\n",
    "\n",
    "plt.title('Box plot of rating')\n",
    "\n",
    "plt.xticks([1], ['rating'])\n",
    "\n",
    "plt.show()\n",
    "\n",
    "\n",
    "\n",
    "#출처: https://rfriend.tistory.com/410 [R, Python 분석과 프로그래밍의 친구 (by R Friend)]"
   ]
  },
  {
   "cell_type": "code",
   "execution_count": null,
   "metadata": {},
   "outputs": [],
   "source": []
  }
 ],
 "metadata": {
  "kernelspec": {
   "display_name": "Python 3",
   "language": "python",
   "name": "python3"
  },
  "language_info": {
   "codemirror_mode": {
    "name": "ipython",
    "version": 3
   },
   "file_extension": ".py",
   "mimetype": "text/x-python",
   "name": "python",
   "nbconvert_exporter": "python",
   "pygments_lexer": "ipython3",
   "version": "3.7.4"
  }
 },
 "nbformat": 4,
 "nbformat_minor": 2
}
