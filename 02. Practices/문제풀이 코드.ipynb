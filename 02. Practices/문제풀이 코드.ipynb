{
 "cells": [
  {
   "cell_type": "markdown",
   "metadata": {},
   "source": [
    "## 02. Arithmetic Operators\n",
    "\n",
    "https://www.hackerrank.com/challenges/python-arithmetic-operators/problem?h_r=next-challenge&h_v=zen\n",
    "\n"
   ]
  },
  {
   "cell_type": "code",
   "execution_count": 1,
   "metadata": {},
   "outputs": [
    {
     "name": "stdout",
     "output_type": "stream",
     "text": [
      "1\n",
      "2\n",
      "3\n",
      "-1\n",
      "2\n"
     ]
    }
   ],
   "source": [
    "if __name__ == '__main__':\n",
    "    a = int(input())\n",
    "    b = int(input())\n",
    "\n",
    "    print(a+b)\n",
    "    print(a-b)\n",
    "    print(a*b)\n"
   ]
  },
  {
   "cell_type": "markdown",
   "metadata": {},
   "source": [
    "## 03. Python: Division\n",
    "\n",
    "https://www.hackerrank.com/challenges/python-division/problem?h_r=next-challenge&h_v=zen&h_r=next-challenge&h_v=zen"
   ]
  },
  {
   "cell_type": "code",
   "execution_count": 2,
   "metadata": {},
   "outputs": [
    {
     "name": "stdout",
     "output_type": "stream",
     "text": [
      "1\n",
      "2\n",
      "0\n",
      "0.5\n"
     ]
    }
   ],
   "source": [
    "if __name__ == '__main__':\n",
    "    a = int(input())\n",
    "    b = int(input())\n",
    "    print(a//b)\n",
    "    print(a/b)\n"
   ]
  },
  {
   "cell_type": "markdown",
   "metadata": {},
   "source": [
    "## 04. Python If-Else\n",
    "\n",
    "\n",
    "https://www.hackerrank.com/challenges/py-if-else/problem"
   ]
  },
  {
   "cell_type": "markdown",
   "metadata": {},
   "source": [
    "int를 받아서 다음과 같은 조건을 따르는 함수를 만드세요\n",
    "\n",
    "1. 홀수 일 때, 'Weird' 출력\n",
    "2. 짝수이면서 2이상 6이하일 때 'Not Weird' 출력\n",
    "3. 짝수이면서 6이상 20 이하일 때 'Weird' 출력\n",
    "4. 짝수이면서 20 초과면 'Not Weird' 출력\n"
   ]
  },
  {
   "cell_type": "code",
   "execution_count": 3,
   "metadata": {},
   "outputs": [
    {
     "name": "stdout",
     "output_type": "stream",
     "text": [
      "1\n",
      "Weird\n"
     ]
    }
   ],
   "source": [
    "import math\n",
    "import os\n",
    "import random\n",
    "import re\n",
    "import sys\n",
    "\n",
    "\n",
    "\n",
    "if __name__ == '__main__':\n",
    "    n = int(input().strip())\n",
    "\n",
    "    if n % 2 != 0 :\n",
    "        print('Weird')\n",
    "    else:\n",
    "        if (n >= 2 and n <= 6) or (n > 20):\n",
    "        # if (n in range(2, 5)) or (n > 20):\n",
    "            print('Not Weird') \n",
    "        else:\n",
    "            print('Weird')"
   ]
  },
  {
   "cell_type": "markdown",
   "metadata": {},
   "source": [
    "## 05. Lists\n",
    "\n",
    "https://www.hackerrank.com/challenges/python-lists/problem"
   ]
  },
  {
   "cell_type": "code",
   "execution_count": null,
   "metadata": {},
   "outputs": [],
   "source": [
    "if __name__ == '__main__':\n",
    "    N = int(input())\n",
    "    li = []\n",
    "\n",
    "    for _ in range(N) :\n",
    "\n",
    "        a = input().split()\n",
    "\n",
    "        #명령어 cmd\n",
    "        cmd = a[0]\n",
    "        if cmd == 'insert' :\n",
    "            li.insert(int(a[1]), int(a[2]))\n",
    "\n",
    "        elif cmd == 'print' :\n",
    "            print(li)\n",
    "\n",
    "        elif cmd == 'remove' :\n",
    "            li.remove(int(a[1]))\n",
    "            \n",
    "        elif cmd == 'append' :\n",
    "            li.append(int(a[1]))\n",
    "\n",
    "        elif cmd == 'sort':\n",
    "            li.sort()\n",
    "\n",
    "        elif cmd == 'pop' :\n",
    "            li.pop()\n",
    "\n",
    "        elif cmd == 'reverse' :\n",
    "            li.reverse()\n"
   ]
  },
  {
   "cell_type": "markdown",
   "metadata": {},
   "source": [
    "## 05. Write a function (윤년)(함수, 다중 조건문)\n",
    "\n",
    "https://www.hackerrank.com/challenges/write-a-function/problem?h_r=next-challenge&h_v=zen&h_r=next-challenge&h_v=zen&h_r=next-challenge&h_v=zen&h_r=next-challenge&h_v=zen\n",
    "\n",
    "4년에 한번, 2월이 29일인 해를 윤년이라고 한다. \n",
    "그래고리안력에 따르면 아래와 조건으로 윤년을 알 수 있다.\n",
    "\n",
    "- 년도가 4의 배수이면 윤년이다.\n",
    "- 그런데 년도가 100의 배수일 때는 윤년이 아니다.\n",
    "- 그렇지만 400의 배수일 때는 윤년이다.\n",
    "\n",
    "그래서 그래고리안력에 따르면, 2000년과 2400년은 윤년이지만 1800년과 1900년과 2100년, 2200,2300,2500년은 윤년이 아니다.\n",
    "\n",
    "\n",
    "\n",
    "*실행 순서에 따라서 결과가 달라질 수 있음을 이야기 해주기*\n",
    "*elif가 아닌 if를 사용했을 때 또한 결과가 달라진다는 것 이야기 해주기* -> 수업떄\n",
    "\n"
   ]
  },
  {
   "cell_type": "code",
   "execution_count": 4,
   "metadata": {},
   "outputs": [
    {
     "name": "stdout",
     "output_type": "stream",
     "text": [
      "2000\n"
     ]
    }
   ],
   "source": [
    "def is_leap(year):\n",
    "    leap = False\n",
    "    if year % 400 == 0 :\n",
    "        leap = True\n",
    "    elif year % 100 == 0:\n",
    "        leap = False\n",
    "    elif year % 4 == 0 :\n",
    "        leap = True\n",
    "    \n",
    "    return leap\n",
    "\n",
    "year = int(input())"
   ]
  },
  {
   "cell_type": "markdown",
   "metadata": {},
   "source": [
    "## 리스트\n",
    "## Find the Runner-Up Score! 2등 점수 찾기\n",
    "\n",
    "\n",
    "https://www.hackerrank.com/challenges/find-second-maximum-number-in-a-list/problem?h_r=next-challenge&h_v=zen"
   ]
  },
  {
   "cell_type": "code",
   "execution_count": 4,
   "metadata": {},
   "outputs": [
    {
     "name": "stdout",
     "output_type": "stream",
     "text": [
      "5\n",
      "1 2 4 4 5\n",
      "4\n"
     ]
    }
   ],
   "source": [
    "if __name__ == '__main__':\n",
    "    n = int(input())\n",
    "    arr = map(int, input().split())\n",
    "\n",
    "    print(sorted(set(arr))[-2])\n",
    "\n",
    "    \n",
    "    \n"
   ]
  },
  {
   "cell_type": "markdown",
   "metadata": {},
   "source": [
    "## 리스트 컴프리핸션\n",
    "\n",
    "https://www.hackerrank.com/challenges/list-comprehensions/problem"
   ]
  },
  {
   "cell_type": "code",
   "execution_count": null,
   "metadata": {},
   "outputs": [],
   "source": [
    "if __name__ == '__main__':\n",
    "    x = int(input())\n",
    "    y = int(input())\n",
    "    z = int(input())\n",
    "    n = int(input())\n",
    "    print([[a,b,c] for a in range(x+1) for b in range(y+1) for c in range(z+1) if a+b+c != n])"
   ]
  }
 ],
 "metadata": {
  "kernelspec": {
   "display_name": "Python 3",
   "language": "python",
   "name": "python3"
  },
  "language_info": {
   "codemirror_mode": {
    "name": "ipython",
    "version": 3
   },
   "file_extension": ".py",
   "mimetype": "text/x-python",
   "name": "python",
   "nbconvert_exporter": "python",
   "pygments_lexer": "ipython3",
   "version": "3.7.0"
  }
 },
 "nbformat": 4,
 "nbformat_minor": 2
}
