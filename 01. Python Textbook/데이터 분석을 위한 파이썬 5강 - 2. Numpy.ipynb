{
 "cells": [
  {
   "cell_type": "code",
   "execution_count": 1,
   "metadata": {},
   "outputs": [],
   "source": [
    "# pandas 사용하기\n",
    "import pandas as pd\n",
    "\n",
    "import numpy as np\n",
    "import matplotlib\n",
    "import matplotlib.pyplot as plt\n",
    "import seaborn as sns"
   ]
  },
  {
   "cell_type": "code",
   "execution_count": 2,
   "metadata": {},
   "outputs": [],
   "source": [
    "# numpy 설치 -> 아나콘다 없을 때\n",
    "#import numpy as np \n",
    "# 이미 불렀지롱."
   ]
  },
  {
   "cell_type": "markdown",
   "metadata": {},
   "source": [
    "---\n",
    "#### 참고 링크:\n",
    " https://wikidocs.net/32829\n",
    " https://wikidocs.net/21047\n",
    "<br><br><br><br><br>"
   ]
  },
  {
   "cell_type": "markdown",
   "metadata": {},
   "source": [
    "## Numpy(넘파이)"
   ]
  },
  {
   "cell_type": "markdown",
   "metadata": {},
   "source": [
    "Numpy는 수치 데이터를 다루는 파이썬 패키지다. Numpy의 핵심이라고 불리는 다차원 행렬 자료구조인 ndarray를 통해 벡터 및 행렬을 사용하는 선형 대수 계산에서 주로 사용한다. Numpy는 편의성 뿐 만 아니라, 속도면에서 순수 파이썬에 비해 압도적으로 빠르다는 장점이 있다."
   ]
  },
  {
   "cell_type": "markdown",
   "metadata": {},
   "source": [
    "**Numpy의 주요 모듈**\n",
    "1. np.array() # 리스트, 튜플, 배열로 부터 ndarray를 생성\n",
    "2. np.arange() # range와 비슷\n",
    "3. reshape()\n",
    "4. Numpy Sliceing\n",
    "\n",
    "<br> 이 중 pandas에서 많이 쓰이는 1-4번만 설명.\n",
    "\n",
    "5. np.asarray() # 기존의 array로 부터 ndarray를 생성\n",
    "6. np.arange() # range와 비슷\n",
    "7. np.linspace(start, end, num) # [start, end] 균일한 간격으로 num개 생성\n",
    "8. np.logspace(start, end, num) # [start, end] log scale 간격으로 num개 생성"
   ]
  },
  {
   "cell_type": "markdown",
   "metadata": {},
   "source": [
    "<br><br>"
   ]
  },
  {
   "cell_type": "markdown",
   "metadata": {},
   "source": [
    "### 1. np.array "
   ]
  },
  {
   "cell_type": "markdown",
   "metadata": {},
   "source": [
    "Numpy의 핵심 ndarray. np.array()는 리스트, 튜플, 배열로 부터 ndarray를 생성합니다. 또한, 인덱스가 항상 0으로 시작한다는 특징을 갖고 있습니다."
   ]
  },
  {
   "cell_type": "code",
   "execution_count": 12,
   "metadata": {},
   "outputs": [
    {
     "name": "stdout",
     "output_type": "stream",
     "text": [
      "<class 'numpy.ndarray'>\n",
      "[1 2 3 4 5]\n"
     ]
    }
   ],
   "source": [
    "a = np.array([1, 2, 3, 4, 5]) #리스트를 가지고 1차원 배열 생성\n",
    "print(type(a))\n",
    "print(a)"
   ]
  },
  {
   "cell_type": "code",
   "execution_count": 11,
   "metadata": {},
   "outputs": [
    {
     "name": "stdout",
     "output_type": "stream",
     "text": [
      "1\n",
      "(5,)\n"
     ]
    }
   ],
   "source": [
    "print(a.ndim) #차원 출력\n",
    "print(a.shape) #크기 출력"
   ]
  },
  {
   "cell_type": "code",
   "execution_count": 8,
   "metadata": {},
   "outputs": [
    {
     "name": "stdout",
     "output_type": "stream",
     "text": [
      "[[10 20 30]\n",
      " [60 70 80]]\n"
     ]
    }
   ],
   "source": [
    "b = np.array([[10, 20, 30], [ 60, 70, 80]])  # 2차원 배열 생성. \n",
    "print(b) #출력"
   ]
  },
  {
   "cell_type": "code",
   "execution_count": 10,
   "metadata": {},
   "outputs": [
    {
     "name": "stdout",
     "output_type": "stream",
     "text": [
      "1\n",
      "(5,)\n"
     ]
    }
   ],
   "source": [
    "print(a.ndim) #차원 출력\n",
    "print(a.shape) #크기 출력"
   ]
  },
  {
   "cell_type": "code",
   "execution_count": 9,
   "metadata": {},
   "outputs": [
    {
     "name": "stdout",
     "output_type": "stream",
     "text": [
      "2\n",
      "(2, 3)\n"
     ]
    }
   ],
   "source": [
    "print(b.ndim) #차원 출력\n",
    "print(b.shape) #크기 출력"
   ]
  },
  {
   "cell_type": "markdown",
   "metadata": {},
   "source": [
    "차원 출력 결과\n",
    "- a는 1차원 배열. 5의 배열\n",
    "- b는 2차원, 2*3 행렬"
   ]
  },
  {
   "cell_type": "markdown",
   "metadata": {},
   "source": [
    "---\n",
    "<br><br>"
   ]
  },
  {
   "cell_type": "markdown",
   "metadata": {},
   "source": [
    "### 2. np.arange() : 지정 범위에 대한 배열을 생성 "
   ]
  },
  {
   "cell_type": "markdown",
   "metadata": {},
   "source": [
    "**<np.arange() 범위 지정 방법>**\n",
    "\n",
    "- numpy.arange(start, stop, step, dtype)\n",
    "- a = np.arange(n) # 0, ..., n-1까지 범위의 지정.\n",
    "- a = np.arange(i, j, k) # i부터 j-1까지 k씩 증가하는 배열."
   ]
  },
  {
   "cell_type": "code",
   "execution_count": 16,
   "metadata": {},
   "outputs": [
    {
     "name": "stdout",
     "output_type": "stream",
     "text": [
      "[0 1 2 3 4 5 6 7 8 9]\n"
     ]
    }
   ],
   "source": [
    "a = np.arange(10) #0부터 9까지\n",
    "print(a)"
   ]
  },
  {
   "cell_type": "code",
   "execution_count": 17,
   "metadata": {},
   "outputs": [
    {
     "name": "stdout",
     "output_type": "stream",
     "text": [
      "[1 3 5 7 9]\n"
     ]
    }
   ],
   "source": [
    "a = np.arange(1, 10, 2) #1부터 9까지 +2씩 적용되는 범위\n",
    "print(a)"
   ]
  },
  {
   "cell_type": "markdown",
   "metadata": {},
   "source": [
    "---\n",
    "<br><br>"
   ]
  },
  {
   "cell_type": "markdown",
   "metadata": {},
   "source": [
    "### 3.  reshape()"
   ]
  },
  {
   "cell_type": "markdown",
   "metadata": {},
   "source": [
    "0부터 n-1 까지의 숫자를 생성하는 arange(n) 함수에 배열을 다차원으로 변형하는 reshape()를 통해 배열을 생성"
   ]
  },
  {
   "cell_type": "code",
   "execution_count": 18,
   "metadata": {},
   "outputs": [
    {
     "name": "stdout",
     "output_type": "stream",
     "text": [
      "[[ 0  1  2  3  4  5]\n",
      " [ 6  7  8  9 10 11]\n",
      " [12 13 14 15 16 17]\n",
      " [18 19 20 21 22 23]\n",
      " [24 25 26 27 28 29]]\n"
     ]
    }
   ],
   "source": [
    "a = np.array(np.arange(30)).reshape((5,6))\n",
    "print(a)"
   ]
  },
  {
   "cell_type": "markdown",
   "metadata": {},
   "source": [
    "---\n",
    "<br><br>"
   ]
  },
  {
   "cell_type": "markdown",
   "metadata": {},
   "source": [
    "### 4.  Numpy Sliceing(슬라이싱)"
   ]
  },
  {
   "cell_type": "markdown",
   "metadata": {},
   "source": [
    "ndarry를 통해 만든 다차원 배열은 파이썬 리스트처럼 Slice 기능을 지원. Slice 기능을 사용하면 원소들 중 복수 개에 접근 가능 "
   ]
  },
  {
   "cell_type": "code",
   "execution_count": 21,
   "metadata": {},
   "outputs": [],
   "source": [
    "a = np.array([[1, 2, 3], [4, 5, 6]])"
   ]
  },
  {
   "cell_type": "code",
   "execution_count": 22,
   "metadata": {},
   "outputs": [
    {
     "name": "stdout",
     "output_type": "stream",
     "text": [
      "[[1 2]\n",
      " [4 5]]\n"
     ]
    }
   ],
   "source": [
    "b=a[0:2, 0:2]\n",
    "print(b)"
   ]
  },
  {
   "cell_type": "markdown",
   "metadata": {},
   "source": [
    "다차원 배열 슬라이싱 -> 차원 별로 슬라이스 범위 지정"
   ]
  },
  {
   "cell_type": "code",
   "execution_count": 24,
   "metadata": {},
   "outputs": [
    {
     "name": "stdout",
     "output_type": "stream",
     "text": [
      "[1 2 3]\n"
     ]
    }
   ],
   "source": [
    "b=a[0, :] # 첫번째 행 출력\n",
    "print(b)"
   ]
  },
  {
   "cell_type": "code",
   "execution_count": 25,
   "metadata": {},
   "outputs": [
    {
     "name": "stdout",
     "output_type": "stream",
     "text": [
      "[2 5]\n"
     ]
    }
   ],
   "source": [
    "b=a[:, 1] # 두번째 열 출력\n",
    "print(b)"
   ]
  },
  {
   "cell_type": "markdown",
   "metadata": {},
   "source": [
    "---\n",
    "<br><br><br><br>"
   ]
  },
  {
   "cell_type": "markdown",
   "metadata": {},
   "source": [
    "## 활용"
   ]
  },
  {
   "cell_type": "code",
   "execution_count": 27,
   "metadata": {},
   "outputs": [],
   "source": [
    "data=pd.read_csv('kr_googlestore.csv')"
   ]
  },
  {
   "cell_type": "code",
   "execution_count": 28,
   "metadata": {},
   "outputs": [
    {
     "data": {
      "text/html": [
       "<div>\n",
       "<style scoped>\n",
       "    .dataframe tbody tr th:only-of-type {\n",
       "        vertical-align: middle;\n",
       "    }\n",
       "\n",
       "    .dataframe tbody tr th {\n",
       "        vertical-align: top;\n",
       "    }\n",
       "\n",
       "    .dataframe thead th {\n",
       "        text-align: right;\n",
       "    }\n",
       "</style>\n",
       "<table border=\"1\" class=\"dataframe\">\n",
       "  <thead>\n",
       "    <tr style=\"text-align: right;\">\n",
       "      <th></th>\n",
       "      <th>어플</th>\n",
       "      <th>장르</th>\n",
       "      <th>등급</th>\n",
       "      <th>리뷰 수</th>\n",
       "      <th>크기</th>\n",
       "      <th>설치 수</th>\n",
       "      <th>타입</th>\n",
       "      <th>가격</th>\n",
       "      <th>연령층</th>\n",
       "      <th>안드로이드 버전</th>\n",
       "      <th>업데이트_년도</th>\n",
       "      <th>업데이트_달</th>\n",
       "      <th>업데이트_년달</th>\n",
       "    </tr>\n",
       "  </thead>\n",
       "  <tbody>\n",
       "    <tr>\n",
       "      <td>0</td>\n",
       "      <td>Photo Editor &amp; Candy Camera &amp; Grid &amp; ScrapBook</td>\n",
       "      <td>Art &amp; Design</td>\n",
       "      <td>4.1</td>\n",
       "      <td>159</td>\n",
       "      <td>190.0</td>\n",
       "      <td>10000</td>\n",
       "      <td>무료</td>\n",
       "      <td>0</td>\n",
       "      <td>전체가</td>\n",
       "      <td>4.0</td>\n",
       "      <td>2018</td>\n",
       "      <td>1</td>\n",
       "      <td>2018.01</td>\n",
       "    </tr>\n",
       "    <tr>\n",
       "      <td>1</td>\n",
       "      <td>Coloring book moana</td>\n",
       "      <td>Art &amp; Design;Pretend Play</td>\n",
       "      <td>3.9</td>\n",
       "      <td>967</td>\n",
       "      <td>140.0</td>\n",
       "      <td>500000</td>\n",
       "      <td>무료</td>\n",
       "      <td>0</td>\n",
       "      <td>전체가</td>\n",
       "      <td>4.0</td>\n",
       "      <td>2018</td>\n",
       "      <td>1</td>\n",
       "      <td>2018.01</td>\n",
       "    </tr>\n",
       "    <tr>\n",
       "      <td>2</td>\n",
       "      <td>U Launcher Lite – FREE Live Cool Themes, Hide ...</td>\n",
       "      <td>Art &amp; Design</td>\n",
       "      <td>4.7</td>\n",
       "      <td>87510</td>\n",
       "      <td>8.7</td>\n",
       "      <td>5000000</td>\n",
       "      <td>무료</td>\n",
       "      <td>0</td>\n",
       "      <td>전체가</td>\n",
       "      <td>4.0</td>\n",
       "      <td>2018</td>\n",
       "      <td>8</td>\n",
       "      <td>2018.08</td>\n",
       "    </tr>\n",
       "    <tr>\n",
       "      <td>3</td>\n",
       "      <td>Sketch - Draw &amp; Paint</td>\n",
       "      <td>Art &amp; Design</td>\n",
       "      <td>4.5</td>\n",
       "      <td>215644</td>\n",
       "      <td>250.0</td>\n",
       "      <td>50000000</td>\n",
       "      <td>무료</td>\n",
       "      <td>0</td>\n",
       "      <td>청소년</td>\n",
       "      <td>4.2</td>\n",
       "      <td>2018</td>\n",
       "      <td>6</td>\n",
       "      <td>2018.06</td>\n",
       "    </tr>\n",
       "    <tr>\n",
       "      <td>4</td>\n",
       "      <td>Pixel Draw - Number Art Coloring Book</td>\n",
       "      <td>Art &amp; Design;Creativity</td>\n",
       "      <td>4.3</td>\n",
       "      <td>967</td>\n",
       "      <td>2.8</td>\n",
       "      <td>100000</td>\n",
       "      <td>무료</td>\n",
       "      <td>0</td>\n",
       "      <td>전체가</td>\n",
       "      <td>4.4</td>\n",
       "      <td>2018</td>\n",
       "      <td>6</td>\n",
       "      <td>2018.06</td>\n",
       "    </tr>\n",
       "  </tbody>\n",
       "</table>\n",
       "</div>"
      ],
      "text/plain": [
       "                                                  어플  \\\n",
       "0     Photo Editor & Candy Camera & Grid & ScrapBook   \n",
       "1                                Coloring book moana   \n",
       "2  U Launcher Lite – FREE Live Cool Themes, Hide ...   \n",
       "3                              Sketch - Draw & Paint   \n",
       "4              Pixel Draw - Number Art Coloring Book   \n",
       "\n",
       "                          장르   등급    리뷰 수     크기      설치 수  타입 가격  연령층  \\\n",
       "0               Art & Design  4.1     159  190.0     10000  무료  0  전체가   \n",
       "1  Art & Design;Pretend Play  3.9     967  140.0    500000  무료  0  전체가   \n",
       "2               Art & Design  4.7   87510    8.7   5000000  무료  0  전체가   \n",
       "3               Art & Design  4.5  215644  250.0  50000000  무료  0  청소년   \n",
       "4    Art & Design;Creativity  4.3     967    2.8    100000  무료  0  전체가   \n",
       "\n",
       "   안드로이드 버전  업데이트_년도  업데이트_달  업데이트_년달  \n",
       "0       4.0     2018       1  2018.01  \n",
       "1       4.0     2018       1  2018.01  \n",
       "2       4.0     2018       8  2018.08  \n",
       "3       4.2     2018       6  2018.06  \n",
       "4       4.4     2018       6  2018.06  "
      ]
     },
     "execution_count": 28,
     "metadata": {},
     "output_type": "execute_result"
    }
   ],
   "source": [
    "data.head()"
   ]
  },
  {
   "cell_type": "code",
   "execution_count": 36,
   "metadata": {},
   "outputs": [
    {
     "data": {
      "text/plain": [
       "146.26777777777775"
      ]
     },
     "execution_count": 36,
     "metadata": {},
     "output_type": "execute_result"
    }
   ],
   "source": [
    "np.mean(data.크기) #numpy로 평균 구하기"
   ]
  },
  {
   "cell_type": "code",
   "execution_count": 37,
   "metadata": {},
   "outputs": [
    {
     "data": {
      "text/plain": [
       "147.0313472455432"
      ]
     },
     "execution_count": 37,
     "metadata": {},
     "output_type": "execute_result"
    }
   ],
   "source": [
    "np.std(data.크기)  #numpy로 표준편차 구하기"
   ]
  },
  {
   "cell_type": "code",
   "execution_count": 38,
   "metadata": {},
   "outputs": [
    {
     "data": {
      "text/plain": [
       "21618.217072839507"
      ]
     },
     "execution_count": 38,
     "metadata": {},
     "output_type": "execute_result"
    }
   ],
   "source": [
    "np.var(data.크기)  #numpy로 분산 구하기"
   ]
  },
  {
   "cell_type": "code",
   "execution_count": 40,
   "metadata": {},
   "outputs": [
    {
     "data": {
      "text/plain": [
       "array([  1.1,   1.2,   2.2,   2.4,   2.5,   2.7,   2.7,   2.8,   2.9,\n",
       "         3.1,   3.4,   3.6,   3.9,   4.2,   4.2,   4.2,   4.5,   4.6,\n",
       "         5.2,   5.4,   5.5,   5.6,   5.6,   5.7,   6. ,   6.1,   7. ,\n",
       "         7. ,   7.9,   7.9,   8. ,   8.6,   8.7,   8.9,   9.2,   9.2,\n",
       "         9.4, 100. , 110. , 110. , 110. , 120. , 120. , 120. , 140. ,\n",
       "       140. , 140. , 140. , 150. , 150. , 160. , 160. , 170. , 170. ,\n",
       "       170. , 170. , 170. , 180. , 190. , 190. , 190. , 200. , 201. ,\n",
       "       210. , 230. , 240. , 240. , 250. , 250. , 250. , 260. , 270. ,\n",
       "       280. , 290. , 310. , 320. , 330. , 330. , 330. , 350. , 350. ,\n",
       "       350. , 370. , 370. , 380. , 380. , 390. , 540. , 560. , 570. ,\n",
       "         nan,   nan,   nan,   nan,   nan,   nan,   nan,   nan,   nan,\n",
       "         nan])"
      ]
     },
     "execution_count": 40,
     "metadata": {},
     "output_type": "execute_result"
    }
   ],
   "source": [
    "np.sort(data.크기)  # 전체 성분 오름차순 정렬"
   ]
  },
  {
   "cell_type": "code",
   "execution_count": 41,
   "metadata": {},
   "outputs": [
    {
     "data": {
      "text/plain": [
       "array([  nan,   nan,   nan,   nan,   nan,   nan,   nan,   nan,   nan,\n",
       "         nan, 570. , 560. , 540. , 390. , 380. , 380. , 370. , 370. ,\n",
       "       350. , 350. , 350. , 330. , 330. , 330. , 320. , 310. , 290. ,\n",
       "       280. , 270. , 260. , 250. , 250. , 250. , 240. , 240. , 230. ,\n",
       "       210. , 201. , 200. , 190. , 190. , 190. , 180. , 170. , 170. ,\n",
       "       170. , 170. , 170. , 160. , 160. , 150. , 150. , 140. , 140. ,\n",
       "       140. , 140. , 120. , 120. , 120. , 110. , 110. , 110. , 100. ,\n",
       "         9.4,   9.2,   9.2,   8.9,   8.7,   8.6,   8. ,   7.9,   7.9,\n",
       "         7. ,   7. ,   6.1,   6. ,   5.7,   5.6,   5.6,   5.5,   5.4,\n",
       "         5.2,   4.6,   4.5,   4.2,   4.2,   4.2,   3.9,   3.6,   3.4,\n",
       "         3.1,   2.9,   2.8,   2.7,   2.7,   2.5,   2.4,   2.2,   1.2,\n",
       "         1.1])"
      ]
     },
     "execution_count": 41,
     "metadata": {},
     "output_type": "execute_result"
    }
   ],
   "source": [
    "np.sort(data.크기)[::-1] # 전체 성분 내림차순 정렬"
   ]
  },
  {
   "cell_type": "code",
   "execution_count": null,
   "metadata": {},
   "outputs": [],
   "source": []
  }
 ],
 "metadata": {
  "kernelspec": {
   "display_name": "Python 3",
   "language": "python",
   "name": "python3"
  },
  "language_info": {
   "codemirror_mode": {
    "name": "ipython",
    "version": 3
   },
   "file_extension": ".py",
   "mimetype": "text/x-python",
   "name": "python",
   "nbconvert_exporter": "python",
   "pygments_lexer": "ipython3",
   "version": "3.7.4"
  }
 },
 "nbformat": 4,
 "nbformat_minor": 2
}
