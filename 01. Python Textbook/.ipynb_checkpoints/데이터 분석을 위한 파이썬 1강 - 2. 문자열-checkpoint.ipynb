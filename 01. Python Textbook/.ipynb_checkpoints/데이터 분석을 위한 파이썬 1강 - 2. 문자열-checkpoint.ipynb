{
 "cells": [
  {
   "cell_type": "markdown",
   "metadata": {},
   "source": [
    "# 문자열, String\n",
    "\n",
    "**문자열(String)** : 문자, 단어 등으로 구성된 문자들의 집합\n"
   ]
  },
  {
   "cell_type": "markdown",
   "metadata": {},
   "source": [
    "---\n",
    "\n",
    "### 변수 선언\n",
    "\n",
    "- '' 작은 따옴표나 \"\" 큰 따옴표로 문자열을 만들 수 있다.\n",
    "- 문자열 안에 따옴표를 쓰고 싶을 때: 큰 따옴표롤 문자열을 생성한 뒤, 작은 따옴표를 안에 넣거나 반대로 작은 따옴표로 문자열을 생성한 뒤 안에 큰 따옴표를 사용\n",
    "- 둘 다 사용하고 싶을 때 : 역슬래쉬(\\)을 적은 뒤 따옴표를 표기하면 역슬래쉬는 출력되지 않은 채 스트링을 생성할 수 있다."
   ]
  },
  {
   "cell_type": "code",
   "execution_count": 65,
   "metadata": {},
   "outputs": [
    {
     "name": "stdout",
     "output_type": "stream",
     "text": [
      "3 <class 'str'>\n"
     ]
    }
   ],
   "source": [
    "a = 'Hello World!'\n",
    "b = \"Let's start\"\n",
    "c = 'Data Analyize'"
   ]
  },
  {
   "cell_type": "markdown",
   "metadata": {},
   "source": [
    "### 문자열 캐스팅\n",
    "- 다른 자료형을 string형으로 바꾸고 싶을 땐 str()을 사용해 '캐스팅'해주면 된다."
   ]
  },
  {
   "cell_type": "code",
   "execution_count": 68,
   "metadata": {},
   "outputs": [
    {
     "name": "stdout",
     "output_type": "stream",
     "text": [
      "3 <class 'str'>\n",
      "[1, 2] <class 'str'>\n"
     ]
    }
   ],
   "source": [
    "n = 3\n",
    "d = str(n)\n",
    "\n",
    "l = [1, 2]\n",
    "e = str(l)\n",
    "\n",
    "print(d, type(d))\n",
    "print(e, type(e))"
   ]
  },
  {
   "cell_type": "markdown",
   "metadata": {},
   "source": [
    "------\n",
    "\n",
    "\n",
    "### 문자열 더하고 곱해보기"
   ]
  },
  {
   "cell_type": "markdown",
   "metadata": {},
   "source": [
    "#### 더하기"
   ]
  },
  {
   "cell_type": "code",
   "execution_count": 37,
   "metadata": {},
   "outputs": [
    {
     "data": {
      "text/plain": [
       "\"Let's start, Data Analyize\""
      ]
     },
     "execution_count": 37,
     "metadata": {},
     "output_type": "execute_result"
    }
   ],
   "source": [
    "word = b + ', ' + c\n",
    "word"
   ]
  },
  {
   "cell_type": "markdown",
   "metadata": {},
   "source": [
    "*다른 데이터 타입과의 연산은 불가능 하기 때문에, str형으로 바꾼 후 더해주자*"
   ]
  },
  {
   "cell_type": "code",
   "execution_count": 70,
   "metadata": {},
   "outputs": [],
   "source": [
    "# word = word + 3"
   ]
  },
  {
   "cell_type": "code",
   "execution_count": 72,
   "metadata": {},
   "outputs": [
    {
     "data": {
      "text/plain": [
       "\"Let's start, Data Analyize33\""
      ]
     },
     "execution_count": 72,
     "metadata": {},
     "output_type": "execute_result"
    }
   ],
   "source": [
    "n = 2020\n",
    "word3 = word + str(n)\n",
    "\n",
    "word3"
   ]
  },
  {
   "cell_type": "markdown",
   "metadata": {},
   "source": [
    "#### 곱하기"
   ]
  },
  {
   "cell_type": "code",
   "execution_count": 41,
   "metadata": {},
   "outputs": [
    {
     "name": "stdout",
     "output_type": "stream",
     "text": [
      "==========================\n",
      "Let's start, Data Analyize\n",
      "==========================\n"
     ]
    }
   ],
   "source": [
    "print('=' * 26)\n",
    "print(word)\n",
    "print('=' * 26)"
   ]
  },
  {
   "cell_type": "markdown",
   "metadata": {},
   "source": [
    "---\n",
    "\n",
    "\n",
    "### 문자열 길이 len()"
   ]
  },
  {
   "cell_type": "code",
   "execution_count": 44,
   "metadata": {},
   "outputs": [
    {
     "data": {
      "text/plain": [
       "26"
      ]
     },
     "execution_count": 44,
     "metadata": {},
     "output_type": "execute_result"
    }
   ],
   "source": [
    "len(word)"
   ]
  },
  {
   "cell_type": "code",
   "execution_count": 43,
   "metadata": {},
   "outputs": [
    {
     "data": {
      "text/plain": [
       "26"
      ]
     },
     "execution_count": 43,
     "metadata": {},
     "output_type": "execute_result"
    }
   ],
   "source": [
    "length = len(word)\n",
    "length"
   ]
  },
  {
   "cell_type": "markdown",
   "metadata": {},
   "source": [
    "---\n",
    "\n",
    "\n",
    "\n",
    "## 인덱싱, 슬라이싱"
   ]
  },
  {
   "cell_type": "markdown",
   "metadata": {},
   "source": [
    "문자열에서 특정한 위치의 문자들만 잘라내고 사용할 일들이 자주 있습니다.\n",
    "\n",
    "예를 들어 기사의 제목들이 아래와 같을 때, [속보]라는 텍스트는 제거하고 다시 제목을 저장하고 싶을 수 있죠?\n",
    "- '[속보]강동원 잘생겨'\n",
    "- '[속보]아이린 잘생겨'\n",
    "\n",
    "\n",
    "또는 '[속보]'로 시작하는 기사들만 뽑아서 보고 싶을 수도 있을 거에요.\n",
    "\n",
    "이럴 땐 어떻게 해야할까요?\n",
    "\n",
    "---\n",
    "\n",
    "- **인덱싱(Indexing) :** 무엇인가를 \"가리킨다\""
   ]
  },
  {
   "cell_type": "code",
   "execution_count": 51,
   "metadata": {},
   "outputs": [
    {
     "data": {
      "text/plain": [
       "'H'"
      ]
     },
     "execution_count": 51,
     "metadata": {},
     "output_type": "execute_result"
    }
   ],
   "source": [
    "a[0]"
   ]
  },
  {
   "cell_type": "code",
   "execution_count": 50,
   "metadata": {},
   "outputs": [
    {
     "data": {
      "text/plain": [
       "'!'"
      ]
     },
     "execution_count": 50,
     "metadata": {},
     "output_type": "execute_result"
    }
   ],
   "source": [
    "a[-1]"
   ]
  },
  {
   "cell_type": "markdown",
   "metadata": {},
   "source": [
    "- **슬라이싱(Slicing) :**  무엇인가를 \"잘라낸다\""
   ]
  },
  {
   "cell_type": "code",
   "execution_count": 12,
   "metadata": {},
   "outputs": [
    {
     "data": {
      "text/plain": [
       "'Hello'"
      ]
     },
     "execution_count": 12,
     "metadata": {},
     "output_type": "execute_result"
    }
   ],
   "source": [
    "a[0:5]"
   ]
  },
  {
   "cell_type": "code",
   "execution_count": 15,
   "metadata": {},
   "outputs": [
    {
     "data": {
      "text/plain": [
       "'World'"
      ]
     },
     "execution_count": 15,
     "metadata": {},
     "output_type": "execute_result"
    }
   ],
   "source": [
    "a[6:-1]"
   ]
  },
  {
   "cell_type": "code",
   "execution_count": 22,
   "metadata": {},
   "outputs": [
    {
     "data": {
      "text/plain": [
       "'!dlroW olleH'"
      ]
     },
     "execution_count": 22,
     "metadata": {},
     "output_type": "execute_result"
    }
   ],
   "source": [
    "a[::-1]"
   ]
  },
  {
   "cell_type": "markdown",
   "metadata": {},
   "source": [
    "-------\n",
    "\n",
    "## 수정하기\n",
    "\n",
    "문자열 자료형은 immutable, 그 요솟값을 변경할 수 없어요.\n",
    "\n",
    "아래를 실행해 보세요(전체 선택 후 ctrl + /, ctrl + enter : 맥은 ctrl 대신 command키)"
   ]
  },
  {
   "cell_type": "code",
   "execution_count": 59,
   "metadata": {},
   "outputs": [],
   "source": [
    "a = 'Jello Borld!'"
   ]
  },
  {
   "cell_type": "code",
   "execution_count": 62,
   "metadata": {},
   "outputs": [],
   "source": [
    "# a[0] = 'H'\n",
    "# a"
   ]
  },
  {
   "cell_type": "markdown",
   "metadata": {},
   "source": [
    "오류가 나죠?\n",
    "\n",
    "그렇지만 재구성해서 다시 만들어 주면 됩니다."
   ]
  },
  {
   "cell_type": "code",
   "execution_count": 60,
   "metadata": {
    "scrolled": true
   },
   "outputs": [
    {
     "data": {
      "text/plain": [
       "'Hello World!'"
      ]
     },
     "execution_count": 60,
     "metadata": {},
     "output_type": "execute_result"
    }
   ],
   "source": [
    "a = 'H' + a[1:6] + 'W' + a[7:]\n",
    "a"
   ]
  },
  {
   "cell_type": "markdown",
   "metadata": {},
   "source": [
    "---\n",
    "\n",
    "## 문자열에서 자주 쓰는 함수\n",
    "\n",
    "\n",
    "    문자 개수 세기(count)\n",
    "    위치 알려주기1(find)\n",
    "    위치 알려주기2(index)\n",
    "    문자열 삽입(join)\n",
    "    \n",
    "    소문자를 대문자로 바꾸기(upper)\n",
    "    대문자를 소문자로 바꾸기(lower)\n",
    "    \n",
    "    왼쪽 공백 지우기(lstrip)\n",
    "    오른쪽 공백 지우기(rstrip)\n",
    "    양쪽 공백 지우기(strip)\n",
    "    \n",
    "    문자열 바꾸기(replace)\n",
    "    문자열 나누기(split)"
   ]
  },
  {
   "cell_type": "markdown",
   "metadata": {},
   "source": [
    "#### strip()\n",
    "좌우 공백을 지워주는 함수"
   ]
  },
  {
   "cell_type": "code",
   "execution_count": 24,
   "metadata": {},
   "outputs": [
    {
     "data": {
      "text/plain": [
       "'   No Space    '"
      ]
     },
     "execution_count": 24,
     "metadata": {},
     "output_type": "execute_result"
    }
   ],
   "source": [
    "word = '   No Space    '\n",
    "word"
   ]
  },
  {
   "cell_type": "code",
   "execution_count": 25,
   "metadata": {},
   "outputs": [
    {
     "data": {
      "text/plain": [
       "'No Space'"
      ]
     },
     "execution_count": 25,
     "metadata": {},
     "output_type": "execute_result"
    }
   ],
   "source": [
    "word.strip()"
   ]
  },
  {
   "cell_type": "code",
   "execution_count": 26,
   "metadata": {},
   "outputs": [
    {
     "data": {
      "text/plain": [
       "'   No Space    '"
      ]
     },
     "execution_count": 26,
     "metadata": {},
     "output_type": "execute_result"
    }
   ],
   "source": [
    "word"
   ]
  },
  {
   "cell_type": "code",
   "execution_count": 27,
   "metadata": {},
   "outputs": [
    {
     "data": {
      "text/plain": [
       "'No Space    '"
      ]
     },
     "execution_count": 27,
     "metadata": {},
     "output_type": "execute_result"
    }
   ],
   "source": [
    "word.lstrip()"
   ]
  },
  {
   "cell_type": "code",
   "execution_count": 56,
   "metadata": {},
   "outputs": [
    {
     "data": {
      "text/plain": [
       "\"Let's start, Data Analyize\""
      ]
     },
     "execution_count": 56,
     "metadata": {},
     "output_type": "execute_result"
    }
   ],
   "source": [
    "word.rstrip()"
   ]
  },
  {
   "cell_type": "markdown",
   "metadata": {},
   "source": [
    "---\n",
    "\n",
    "## 문자열 포매팅(Formatting)\n",
    "\n",
    "\n",
    "문자열 안에 어떤 값을 삽입하는 방법.\n",
    "\n",
    "\n",
    "\n",
    "    코드\t설명\n",
    "    %s\t문자열(String) : 어떤 형태의 값이든 변환해 넣을 수 있다.\n",
    "    %c\t문자 1개(character)\n",
    "    %d\t정수(Integer)\n",
    "    %f\t부동소수(floating-point)\n",
    "    %o\t8진수\n",
    "    %x\t16진수\n",
    "    %%\tLiteral % (문자 % 자체)\n",
    "\n",
    "---\n",
    "\n",
    "\"I have %s apples\" % 3\n",
    "'I have 3 apples'\n",
    ">>> \"rate is %s\" % 3.234\n",
    "\n",
    "\n",
    "[포매팅 연산자 %d와 %를 같이 쓸 때는 %%를 쓴다]\n",
    "\n",
    ">>> \"Error is %d%.\" % 98\n",
    "위 예문의 결괏값으로 당연히 \"Error is 98%.\"가 출력될 것이라고 예상하겠지만 파이썬은 값이 올바르지 않다는 값 오류(Value Error) 메시지를 보여 준다.\n",
    "\n",
    "Traceback (most recent call last):\n",
    "File \"<stdin>\", line 1, in <module>\n",
    "ValueError: incomplete format\n",
    "이유는 문자열 포맷 코드인 %d와 %가 같은 문자열 안에 존재하는 경우, %를 나타내려면 반드시 %%로 써야 하는 법칙이 있기 때문이다. 이 점은 꼭 기억해 두어야 한다. 하지만 문자열 안에 %d 같은 포매팅 연산자가 없으면 %는 홀로 쓰여도 상관이 없다.\n",
    "\n",
    "따라서 위 예를 제대로 실행하려면 다음과 같이 해야 한다.\n",
    "\n",
    ">>> \"Error is %d%%.\" % 98\n",
    "'Error is 98%.'"
   ]
  },
  {
   "cell_type": "code",
   "execution_count": 1,
   "metadata": {},
   "outputs": [
    {
     "data": {
      "text/plain": [
       "'I have 3 apples'"
      ]
     },
     "execution_count": 1,
     "metadata": {},
     "output_type": "execute_result"
    }
   ],
   "source": [
    "\"I have %s apples\" % 3"
   ]
  },
  {
   "cell_type": "code",
   "execution_count": 2,
   "metadata": {},
   "outputs": [
    {
     "data": {
      "text/plain": [
       "'rate is 3.234'"
      ]
     },
     "execution_count": 2,
     "metadata": {},
     "output_type": "execute_result"
    }
   ],
   "source": [
    "\"rate is %s\" % 3.234"
   ]
  },
  {
   "cell_type": "code",
   "execution_count": null,
   "metadata": {},
   "outputs": [],
   "source": []
  }
 ],
 "metadata": {
  "kernelspec": {
   "display_name": "Python 3",
   "language": "python",
   "name": "python3"
  },
  "language_info": {
   "codemirror_mode": {
    "name": "ipython",
    "version": 3
   },
   "file_extension": ".py",
   "mimetype": "text/x-python",
   "name": "python",
   "nbconvert_exporter": "python",
   "pygments_lexer": "ipython3",
   "version": "3.7.0"
  }
 },
 "nbformat": 4,
 "nbformat_minor": 2
}
