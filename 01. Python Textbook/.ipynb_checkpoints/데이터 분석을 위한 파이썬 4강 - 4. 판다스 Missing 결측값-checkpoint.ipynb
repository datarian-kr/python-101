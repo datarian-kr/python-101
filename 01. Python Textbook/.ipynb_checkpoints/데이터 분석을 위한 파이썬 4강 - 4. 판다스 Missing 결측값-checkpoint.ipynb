{
 "cells": [
  {
   "cell_type": "markdown",
   "metadata": {},
   "source": [
    "---\n",
    "\n",
    "## Misisng 결측값\n",
    "\n",
    "### Na : Not available, 결측값\n",
    "\n",
    "### Null : 값이 없다.\n",
    "\n",
    "### NaN : Not a Number, 수학적으로 정의되지 않는다.\n",
    "\n",
    "### 0 : 0이라는 값"
   ]
  },
  {
   "cell_type": "markdown",
   "metadata": {},
   "source": [
    "### 4) 결측치(missing) \n",
    "\n",
    "\n",
    "#### 왜 데이터에 결측값이 있으면 안좋을까요? 어떤 상황에 어떤 값으로 채워 넣는 것이 데이터를 최대한 훼손하지 않는 방법일까요?\n",
    "\n",
    "10명의 사람들의 키 평균을 재려고 하는데, 한 사람이 키를 적어내지 않았지만 사람 수에는 포함이 될 때, 평균 키를 얼마나 깎아 먹을까?\n",
    "\n",
    "\n",
    "판다스 내부 함수들에서 이런 경우들을 자동으로 처리해주는 메서드가 많긴 하지만, 데이터끼리 합치거나 계산하게 될 때 에러가 생기는 경우가 많다.\n",
    "\n",
    "\n",
    "\n",
    "### a. 내 데이터에 missing 값이 있는지 체크해 보기\n",
    "- isnull() 메소드는 관측치가 결측이면, True / 결측이 아니면, False의 boollean 값 반환\n",
    "- notnull()메소드는 관측치가 결측이면, False / 결측이 아니면, True의 boollean 값 반환 -> isnull 정반대."
   ]
  },
  {
   "cell_type": "code",
   "execution_count": null,
   "metadata": {
    "scrolled": true
   },
   "outputs": [],
   "source": [
    "pd.isnull(data)"
   ]
  },
  {
   "cell_type": "markdown",
   "metadata": {},
   "source": [
    "### b. 칼럼별 결측값 개수 구하기: df.isnull().sum()\n",
    "\n",
    "\n",
    "boolean 타입은 0(False)과 1(True)로 값이 변환이 되기 때문에 sum()을 할 경우, True의 경우들의 갯수가 나옵니다."
   ]
  },
  {
   "cell_type": "code",
   "execution_count": null,
   "metadata": {},
   "outputs": [],
   "source": [
    "data.isnull().sum()"
   ]
  },
  {
   "cell_type": "markdown",
   "metadata": {},
   "source": [
    "<br>\n",
    "\n",
    "특정 칼럼 '크기'에 결측값이 몇개 있는지 알고 싶을 때는 컬럼명으로 인덱싱을 해준 후 isnull().sum()을 해주면 됩니다."
   ]
  },
  {
   "cell_type": "code",
   "execution_count": null,
   "metadata": {},
   "outputs": [],
   "source": [
    "data['크기'].isnull().sum()"
   ]
  },
  {
   "cell_type": "markdown",
   "metadata": {},
   "source": [
    "<br>\n",
    "\n",
    "### c. **결측치 연산 방법**\n",
    "- 참고: https://rfriend.tistory.com/261?category=675917"
   ]
  },
  {
   "cell_type": "markdown",
   "metadata": {},
   "source": [
    "1) sum(), cumsum() methods 계산 시 : NaN은 '0'으로 처리"
   ]
  },
  {
   "cell_type": "markdown",
   "metadata": {},
   "source": [
    "2) mean(), std() 연산 시 : NaN은 분석 대상(population)에서 제외"
   ]
  },
  {
   "cell_type": "markdown",
   "metadata": {},
   "source": [
    "3) DataFrame 칼럼 간 연산 시 : NaN이 하나라도 있으면 NaN 반환\n",
    "4) 컬럼을 아예 삭제하거나 등등등등"
   ]
  },
  {
   "cell_type": "code",
   "execution_count": null,
   "metadata": {},
   "outputs": [],
   "source": [
    "# Nan 제외하고 평균 만들어짐.\n",
    "data['등급'].mean()"
   ]
  },
  {
   "cell_type": "code",
   "execution_count": null,
   "metadata": {},
   "outputs": [],
   "source": [
    "# Nan 제외하고 std 만들어짐.\n",
    "data['등급'].std()"
   ]
  },
  {
   "cell_type": "code",
   "execution_count": null,
   "metadata": {},
   "outputs": [],
   "source": [
    "data['크기'].mean()"
   ]
  },
  {
   "cell_type": "code",
   "execution_count": null,
   "metadata": {},
   "outputs": [],
   "source": [
    "# 데이터 null 값 넣기. \n",
    "data.loc[data['등급'].isnull(), '등급'] = 4.2\n",
    "data.loc[data['크기'].isnull(), '크기'] = 144.2\n",
    "# data=data.fillna(data.mean())"
   ]
  },
  {
   "cell_type": "code",
   "execution_count": null,
   "metadata": {},
   "outputs": [],
   "source": [
    "data.isnull().sum()"
   ]
  },
  {
   "cell_type": "code",
   "execution_count": null,
   "metadata": {},
   "outputs": [],
   "source": [
    "# 조건을 충족할 때, 결측치를 넣어주세요. \n",
    "'''\n",
    "check_null = data['등급'].isnull()\n",
    "condition1 = data['리뷰수'] >= 100\n",
    "\n",
    "data.loc[check_null & condition1, '등급'] = 4.2 ''' "
   ]
  },
  {
   "cell_type": "markdown",
   "metadata": {},
   "source": [
    "**타입에 일부러 nan만들어서, 조건 충족 하면 어떨까요?**"
   ]
  },
  {
   "cell_type": "code",
   "execution_count": null,
   "metadata": {},
   "outputs": [],
   "source": [
    "# data.loc[data['등급'].isnull(), '등급'] = 4.2"
   ]
  },
  {
   "cell_type": "code",
   "execution_count": null,
   "metadata": {},
   "outputs": [],
   "source": [
    "# .T 속성 -> Transpose index and columns. => index와 column 바꾼 형태.\n",
    "# data.T"
   ]
  },
  {
   "cell_type": "code",
   "execution_count": null,
   "metadata": {},
   "outputs": [],
   "source": [
    "# 각 인덱스에 대한 이름 설정하기\n",
    "data.index.name = '순서'\n",
    "data"
   ]
  },
  {
   "cell_type": "code",
   "execution_count": null,
   "metadata": {},
   "outputs": [],
   "source": []
  }
 ],
 "metadata": {
  "kernelspec": {
   "display_name": "Python 3",
   "language": "python",
   "name": "python3"
  },
  "language_info": {
   "codemirror_mode": {
    "name": "ipython",
    "version": 3
   },
   "file_extension": ".py",
   "mimetype": "text/x-python",
   "name": "python",
   "nbconvert_exporter": "python",
   "pygments_lexer": "ipython3",
   "version": "3.7.0"
  }
 },
 "nbformat": 4,
 "nbformat_minor": 2
}
