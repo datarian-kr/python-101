{
 "cells": [
  {
   "cell_type": "markdown",
   "metadata": {},
   "source": [
    "## 08. 딕셔너리(Dictionary)\n",
    "    딕셔너리 선언\n",
    "    \n",
    "    검색\n",
    "    \n",
    "    딕셔너리 추가\n",
    "    \n",
    "    딕셔너리 요소 삭제\n",
    "    \n",
    "## 09. 튜플 (Tuple)\n",
    "    튜플 선언"
   ]
  },
  {
   "cell_type": "markdown",
   "metadata": {},
   "source": [
    "\n",
    "<br><br>\n",
    "\n",
    "---\n",
    "\n",
    "\n",
    "## 08. 딕셔너리(Dictionary)\n",
    "\n",
    "#### Key와 Vaule를 한 쌍으로 갖고 있는 자료형\n",
    "    \n",
    "- 기본 구조: { Key1 : Value1, Key2 : Value2, Key3 : Value3, ...}\n",
    "\n",
    "#### 아래와 같이 홍길동이라는 사람의 정보를 저장해볼까요?\n",
    "\n",
    "- Key: <b>국적</b>\n",
    "    - Vaule: 대한민국\n",
    "<br><br>\n",
    "\n",
    "- Key: <b>이름</b> \n",
    "    - Vaule: 홍길동\n",
    "<br><br>\n",
    "\n",
    "- Key: <b>주소</b>\n",
    "    - Vaule: 서울특별시\n",
    "        \n",
    "    ...\n",
    "    \n",
    "    \n",
    "\n",
    "더 자세한 내용 참고 : https://wikidocs.net/16043\n"
   ]
  },
  {
   "cell_type": "markdown",
   "metadata": {},
   "source": [
    "## 딕셔너리 선언"
   ]
  },
  {
   "cell_type": "code",
   "execution_count": 16,
   "metadata": {},
   "outputs": [],
   "source": [
    "dic = {} # 빈 딕셔너리 선언\n",
    "dic = dict() # 캐스팅의 형식으로 선언을 할 수도 있어요\n",
    "\n",
    "dic = {'국적':'대한민국', '이름':'홍길동', '주소': '서울특별시'}\n",
    "\n",
    "# dict constructor를 통해 아래처럼 선언할 수도 있어요.\n",
    "dic2 = dict( 국적 = '미국', 이름 = '신사임당', 주소 = '강원도')\n"
   ]
  },
  {
   "cell_type": "markdown",
   "metadata": {},
   "source": [
    "---\n",
    "\n",
    "# 검색\n",
    "\n",
    "- .keys()\n",
    "- .values()\n",
    "- .items()\n",
    "\n",
    "- in"
   ]
  },
  {
   "cell_type": "markdown",
   "metadata": {},
   "source": [
    "### key : 키 찾기"
   ]
  },
  {
   "cell_type": "code",
   "execution_count": 5,
   "metadata": {},
   "outputs": [
    {
     "data": {
      "text/plain": [
       "dict_keys(['국적', '이름', '주소'])"
      ]
     },
     "execution_count": 5,
     "metadata": {},
     "output_type": "execute_result"
    }
   ],
   "source": [
    "dic.keys()"
   ]
  },
  {
   "cell_type": "markdown",
   "metadata": {},
   "source": [
    "#### for문 활용\n",
    "\n",
    "딕셔너리에서 포문을 돌리면 기본적으로 key값을 반환해 냅니다."
   ]
  },
  {
   "cell_type": "code",
   "execution_count": 17,
   "metadata": {},
   "outputs": [
    {
     "name": "stdout",
     "output_type": "stream",
     "text": [
      "국적\n",
      "이름\n",
      "주소\n"
     ]
    }
   ],
   "source": [
    "for key in dic :\n",
    "    print(key)"
   ]
  },
  {
   "cell_type": "markdown",
   "metadata": {},
   "source": [
    "---\n",
    "\n",
    "### value : 값 찾기"
   ]
  },
  {
   "cell_type": "markdown",
   "metadata": {},
   "source": [
    "#### .values() : 딕셔너리 안의 모든 값을 반환"
   ]
  },
  {
   "cell_type": "code",
   "execution_count": 4,
   "metadata": {},
   "outputs": [
    {
     "data": {
      "text/plain": [
       "dict_values(['대한민국', '홍길동', '서울특별시'])"
      ]
     },
     "execution_count": 4,
     "metadata": {},
     "output_type": "execute_result"
    }
   ],
   "source": [
    "dic.values()"
   ]
  },
  {
   "cell_type": "markdown",
   "metadata": {},
   "source": [
    "#### for문 활용"
   ]
  },
  {
   "cell_type": "code",
   "execution_count": 19,
   "metadata": {},
   "outputs": [
    {
     "name": "stdout",
     "output_type": "stream",
     "text": [
      "서울특별시\n",
      "서울특별시\n",
      "서울특별시\n"
     ]
    }
   ],
   "source": [
    "for val in dic.values():\n",
    "    print(value)"
   ]
  },
  {
   "cell_type": "markdown",
   "metadata": {},
   "source": [
    "#### 특정 키값에 대한 값을 알고 싶다면 어떻게 해야할까요?\n",
    "\n",
    "딕셔너리에는 순서가 없습니다! 그래서 Index로 접근할 수 없어요\n",
    "\n",
    "대신 딕셔너리의 변수 이름[Key]를 활용하여 Value 값을 반환할 수 있어요. 더 직관적이죠."
   ]
  },
  {
   "cell_type": "code",
   "execution_count": 2,
   "metadata": {
    "scrolled": true
   },
   "outputs": [
    {
     "data": {
      "text/plain": [
       "'대한민국'"
      ]
     },
     "execution_count": 2,
     "metadata": {},
     "output_type": "execute_result"
    }
   ],
   "source": [
    "dic['국적'] # 딕셔너리의 변수 이름[Key]를 활용하여 Value 값을 반환"
   ]
  },
  {
   "cell_type": "markdown",
   "metadata": {},
   "source": [
    "---\n",
    "\n",
    "### .items() : 키와 값 동시에 출력"
   ]
  },
  {
   "cell_type": "code",
   "execution_count": 24,
   "metadata": {},
   "outputs": [
    {
     "name": "stdout",
     "output_type": "stream",
     "text": [
      "key = 국적, value = 대한민국\n",
      "key = 이름, value = 홍길동\n",
      "key = 주소, value = 서울특별시\n"
     ]
    }
   ],
   "source": [
    "for key, val in dic.items():\n",
    "    #print(key, val)\n",
    "    # 또는 아래처럼 포매팅을 해서 출력한다면 더 잘 볼 수 있겠죠?\n",
    "    print(\"key = {key}, value = {value}\".format(key=key,value=val))"
   ]
  },
  {
   "cell_type": "markdown",
   "metadata": {},
   "source": [
    "---\n",
    "### 딕셔너리의 in\n",
    "\n",
    "어떤 키가 딕셔너리 내부에 있는지 여부를 체크해야 할 경우가 있다면? (value는 in으로 못 찾아요. for문을 활용해 보세요)"
   ]
  },
  {
   "cell_type": "code",
   "execution_count": 25,
   "metadata": {},
   "outputs": [
    {
     "data": {
      "text/plain": [
       "True"
      ]
     },
     "execution_count": 25,
     "metadata": {},
     "output_type": "execute_result"
    }
   ],
   "source": [
    "'국적' in dic"
   ]
  },
  {
   "cell_type": "code",
   "execution_count": 26,
   "metadata": {},
   "outputs": [
    {
     "data": {
      "text/plain": [
       "False"
      ]
     },
     "execution_count": 26,
     "metadata": {},
     "output_type": "execute_result"
    }
   ],
   "source": [
    "'나이' in dic"
   ]
  },
  {
   "cell_type": "code",
   "execution_count": 27,
   "metadata": {},
   "outputs": [
    {
     "data": {
      "text/plain": [
       "True"
      ]
     },
     "execution_count": 27,
     "metadata": {},
     "output_type": "execute_result"
    }
   ],
   "source": [
    "'번호' not in dic"
   ]
  },
  {
   "cell_type": "markdown",
   "metadata": {},
   "source": [
    "---\n",
    "<br>\n",
    "<br>\n",
    "\n",
    "<br>\n",
    "\n",
    "## 딕셔너리 요소 추가\n",
    "    1) key, vaule 값 지정을 통한 추가\n",
    "    2) Vaule 값으로 리스트도 추가"
   ]
  },
  {
   "cell_type": "markdown",
   "metadata": {},
   "source": [
    "#### 1)  key, vaule 값 지정을 통한 추가"
   ]
  },
  {
   "cell_type": "code",
   "execution_count": 37,
   "metadata": {},
   "outputs": [],
   "source": [
    "dic['전화번호'] = '123-123'"
   ]
  },
  {
   "cell_type": "code",
   "execution_count": 38,
   "metadata": {},
   "outputs": [
    {
     "data": {
      "text/plain": [
       "{'국적': '대한민국', '이름': '홍길동', '주소': '대전광역시', '전화번호': '123-123'}"
      ]
     },
     "execution_count": 38,
     "metadata": {},
     "output_type": "execute_result"
    }
   ],
   "source": [
    "dic"
   ]
  },
  {
   "cell_type": "markdown",
   "metadata": {},
   "source": [
    "#### 2) Vaule 값으로 리스트도 추가"
   ]
  },
  {
   "cell_type": "code",
   "execution_count": 39,
   "metadata": {},
   "outputs": [],
   "source": [
    "# key는 반려동물, vaule는 [강아지, 고양이] 추가.\n",
    "\n",
    "dic['반려동물'] = '[강아지, 고양이]' "
   ]
  },
  {
   "cell_type": "code",
   "execution_count": 40,
   "metadata": {},
   "outputs": [
    {
     "data": {
      "text/plain": [
       "{'국적': '대한민국',\n",
       " '이름': '홍길동',\n",
       " '주소': '대전광역시',\n",
       " '전화번호': '123-123',\n",
       " '반려동물': '[강아지, 고양이]'}"
      ]
     },
     "execution_count": 40,
     "metadata": {},
     "output_type": "execute_result"
    }
   ],
   "source": [
    "dic"
   ]
  },
  {
   "cell_type": "markdown",
   "metadata": {},
   "source": [
    "---"
   ]
  },
  {
   "cell_type": "markdown",
   "metadata": {},
   "source": [
    "<br>\n",
    "<br>\n",
    "<br>\n",
    "\n",
    "\n",
    "## 딕셔너리 요소 삭제 : del"
   ]
  },
  {
   "cell_type": "code",
   "execution_count": 41,
   "metadata": {},
   "outputs": [
    {
     "data": {
      "text/plain": [
       "{'국적': '대한민국', '이름': '홍길동', '전화번호': '123-123', '반려동물': '[강아지, 고양이]'}"
      ]
     },
     "execution_count": 41,
     "metadata": {},
     "output_type": "execute_result"
    }
   ],
   "source": [
    "del dic['주소']\n",
    "\n",
    "dic"
   ]
  },
  {
   "cell_type": "markdown",
   "metadata": {},
   "source": [
    "----\n",
    "\n",
    "<br><br><br><br>\n",
    "\n",
    "## 09. 튜플(Tuple)\n",
    "\n",
    "- 리스트는 [ ] 을 사용하지만, 튜플은 ( )을 사용한다.\n",
    "- 리스트는 그 값의 생성, 삭제, 수정이 가능하지만, 튜플은 값을 변경할 수 없다."
   ]
  },
  {
   "cell_type": "markdown",
   "metadata": {},
   "source": [
    "### 튜플 선언"
   ]
  },
  {
   "cell_type": "code",
   "execution_count": 28,
   "metadata": {},
   "outputs": [],
   "source": [
    "t1 = ()\n",
    "t2 = (1,)\n",
    "t3 = (1, 2, 3)\n",
    "t4 = 1, 2, 3\n",
    "t5 = ('a', 'b', ('cd', 'ef'))"
   ]
  },
  {
   "cell_type": "code",
   "execution_count": 29,
   "metadata": {},
   "outputs": [
    {
     "ename": "TypeError",
     "evalue": "'tuple' object doesn't support item deletion",
     "output_type": "error",
     "traceback": [
      "\u001b[0;31m---------------------------------------------------------------------------\u001b[0m",
      "\u001b[0;31mTypeError\u001b[0m                                 Traceback (most recent call last)",
      "\u001b[0;32m<ipython-input-29-b30af2626759>\u001b[0m in \u001b[0;36m<module>\u001b[0;34m\u001b[0m\n\u001b[0;32m----> 1\u001b[0;31m \u001b[0;32mdel\u001b[0m \u001b[0mt5\u001b[0m\u001b[0;34m[\u001b[0m\u001b[0;36m0\u001b[0m\u001b[0;34m]\u001b[0m \u001b[0;31m# 튜플의 요소값을 삭제할 때, 지우는 행위가 지원되지 않는 것을 알 수 있다.\u001b[0m\u001b[0;34m\u001b[0m\u001b[0m\n\u001b[0m",
      "\u001b[0;31mTypeError\u001b[0m: 'tuple' object doesn't support item deletion"
     ]
    }
   ],
   "source": [
    "del t5[0] # 튜플의 요소값을 삭제할 때, 지우는 행위가 지원되지 않는 것을 알 수 있다. "
   ]
  },
  {
   "cell_type": "code",
   "execution_count": 30,
   "metadata": {
    "scrolled": true
   },
   "outputs": [
    {
     "ename": "TypeError",
     "evalue": "'tuple' object does not support item assignment",
     "output_type": "error",
     "traceback": [
      "\u001b[0;31m---------------------------------------------------------------------------\u001b[0m",
      "\u001b[0;31mTypeError\u001b[0m                                 Traceback (most recent call last)",
      "\u001b[0;32m<ipython-input-30-abec9dca95ad>\u001b[0m in \u001b[0;36m<module>\u001b[0;34m\u001b[0m\n\u001b[0;32m----> 1\u001b[0;31m \u001b[0mt5\u001b[0m\u001b[0;34m[\u001b[0m\u001b[0;36m0\u001b[0m\u001b[0;34m]\u001b[0m \u001b[0;34m=\u001b[0m \u001b[0;34m'e'\u001b[0m \u001b[0;31m# 튜플 값이 변경 불가 메세지.\u001b[0m\u001b[0;34m\u001b[0m\u001b[0m\n\u001b[0m",
      "\u001b[0;31mTypeError\u001b[0m: 'tuple' object does not support item assignment"
     ]
    }
   ],
   "source": [
    "t5[0] = 'e' # 튜플 값이 변경 불가 메세지."
   ]
  }
 ],
 "metadata": {
  "kernelspec": {
   "display_name": "Python 3",
   "language": "python",
   "name": "python3"
  },
  "language_info": {
   "codemirror_mode": {
    "name": "ipython",
    "version": 3
   },
   "file_extension": ".py",
   "mimetype": "text/x-python",
   "name": "python",
   "nbconvert_exporter": "python",
   "pygments_lexer": "ipython3",
   "version": "3.7.0"
  }
 },
 "nbformat": 4,
 "nbformat_minor": 2
}
