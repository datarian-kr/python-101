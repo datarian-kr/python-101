{
 "cells": [
  {
   "cell_type": "markdown",
   "metadata": {},
   "source": [
    "# 4강 Merge/ Grouping"
   ]
  },
  {
   "cell_type": "markdown",
   "metadata": {},
   "source": [
    "  ## 1. merge\n",
    "        1) concat\n",
    "        2) merge\n",
    "  ## 2. Grouping"
   ]
  },
  {
   "cell_type": "markdown",
   "metadata": {},
   "source": [
    "<br><br>\n"
   ]
  },
  {
   "cell_type": "code",
   "execution_count": 116,
   "metadata": {},
   "outputs": [],
   "source": [
    "import pandas as pd\n",
    "data=pd.read_csv('kr_googlestore.csv')"
   ]
  },
  {
   "cell_type": "markdown",
   "metadata": {},
   "source": [
    "<br><br><br>\n",
    "\n",
    "\n",
    "---------------------"
   ]
  },
  {
   "cell_type": "markdown",
   "metadata": {},
   "source": [
    "# 1. merge : 데이터 프레임 병합\n",
    "    1) concat \n",
    "    2) merge"
   ]
  },
  {
   "cell_type": "markdown",
   "metadata": {},
   "source": [
    "<br><br><br>"
   ]
  },
  {
   "cell_type": "markdown",
   "metadata": {},
   "source": [
    "## 1) pd.concat : 단순 연결\n",
    "concat은 연결의 뜻을 가진 concatenation의 줄임말이다. concat은 단순히 하나의 dataframe에 다른 dataframe을 연속적으로 붙여주는 **단순연결**함수다.\n",
    "\n",
    "\n",
    "즉, 두 dataframe을 행방향(default) or 열방향으로 **단순연결**을 해준다. \n",
    "\n",
    "concat을 사용할 때는 열의 이름을 주의하면서 살펴봐야한다. 열의 이름이 같아야지만 합쳐주기 때문이다. 만약  열의 이름이 같지 않다면, concat을 하는데 오류가 생긴다. \n",
    "\n",
    "``사용법`` **pd.concat**([데이터프레임, 데이터프레임])"
   ]
  },
  {
   "cell_type": "markdown",
   "metadata": {},
   "source": [
    "<br><be><br>"
   ]
  },
  {
   "cell_type": "markdown",
   "metadata": {},
   "source": [
    "##### 데이터프레임 생성\n",
    "df3만 마지막 컬럼이 다름"
   ]
  },
  {
   "cell_type": "code",
   "execution_count": 46,
   "metadata": {},
   "outputs": [],
   "source": [
    "df1 = pd.DataFrame({'이름': ['Park', 'James', 'Rai'],\n",
    "                    '번호': [82, 1, 91],\n",
    "                    '순서': ['A', 'B', 'C']})\n",
    "\n",
    "df2 = pd.DataFrame({'이름': ['Leon', 'Nefert', 'lee'],\n",
    "                    '번호': [49, 20,82 ],\n",
    "                    '순서': ['D', 'E', 'F']})\n",
    "\n",
    "df3 = pd.DataFrame({'이름': ['tae', 'young', 'yeoun'],\n",
    "                    '번호': [82, 82, 82],\n",
    "                    '나이': [30, 30, 30]})"
   ]
  },
  {
   "cell_type": "markdown",
   "metadata": {},
   "source": [
    "### concat 사용 \n",
    "\n",
    "concat은 기본적으로 같은 열의 이름에 맞춰서 세로로 결합이 된다.\n",
    "\n",
    "``사용법`` **concat**([데이터프레임, 데이터프레임])\n"
   ]
  },
  {
   "cell_type": "code",
   "execution_count": 25,
   "metadata": {},
   "outputs": [
    {
     "data": {
      "text/html": [
       "<div>\n",
       "<style scoped>\n",
       "    .dataframe tbody tr th:only-of-type {\n",
       "        vertical-align: middle;\n",
       "    }\n",
       "\n",
       "    .dataframe tbody tr th {\n",
       "        vertical-align: top;\n",
       "    }\n",
       "\n",
       "    .dataframe thead th {\n",
       "        text-align: right;\n",
       "    }\n",
       "</style>\n",
       "<table border=\"1\" class=\"dataframe\">\n",
       "  <thead>\n",
       "    <tr style=\"text-align: right;\">\n",
       "      <th></th>\n",
       "      <th>이름</th>\n",
       "      <th>번호</th>\n",
       "      <th>순서</th>\n",
       "    </tr>\n",
       "  </thead>\n",
       "  <tbody>\n",
       "    <tr>\n",
       "      <td>0</td>\n",
       "      <td>Park</td>\n",
       "      <td>82</td>\n",
       "      <td>A</td>\n",
       "    </tr>\n",
       "    <tr>\n",
       "      <td>1</td>\n",
       "      <td>James</td>\n",
       "      <td>1</td>\n",
       "      <td>B</td>\n",
       "    </tr>\n",
       "    <tr>\n",
       "      <td>2</td>\n",
       "      <td>Rai</td>\n",
       "      <td>91</td>\n",
       "      <td>C</td>\n",
       "    </tr>\n",
       "    <tr>\n",
       "      <td>0</td>\n",
       "      <td>Leon</td>\n",
       "      <td>49</td>\n",
       "      <td>D</td>\n",
       "    </tr>\n",
       "    <tr>\n",
       "      <td>1</td>\n",
       "      <td>Nefert</td>\n",
       "      <td>20</td>\n",
       "      <td>E</td>\n",
       "    </tr>\n",
       "    <tr>\n",
       "      <td>2</td>\n",
       "      <td>lee</td>\n",
       "      <td>82</td>\n",
       "      <td>F</td>\n",
       "    </tr>\n",
       "  </tbody>\n",
       "</table>\n",
       "</div>"
      ],
      "text/plain": [
       "       이름  번호 순서\n",
       "0    Park  82  A\n",
       "1   James   1  B\n",
       "2     Rai  91  C\n",
       "0    Leon  49  D\n",
       "1  Nefert  20  E\n",
       "2     lee  82  F"
      ]
     },
     "execution_count": 25,
     "metadata": {},
     "output_type": "execute_result"
    }
   ],
   "source": [
    "pd.concat([df1, df2])"
   ]
  },
  {
   "cell_type": "markdown",
   "metadata": {},
   "source": [
    "### concat의 가로 결합 : axis=1\n",
    "\n",
    "\n",
    "concat은 디폴트 결합은 세로이지만, 가로로 결합하고 싶을 때는 **axis=1** 써주면 된다."
   ]
  },
  {
   "cell_type": "code",
   "execution_count": 30,
   "metadata": {},
   "outputs": [
    {
     "data": {
      "text/html": [
       "<div>\n",
       "<style scoped>\n",
       "    .dataframe tbody tr th:only-of-type {\n",
       "        vertical-align: middle;\n",
       "    }\n",
       "\n",
       "    .dataframe tbody tr th {\n",
       "        vertical-align: top;\n",
       "    }\n",
       "\n",
       "    .dataframe thead th {\n",
       "        text-align: right;\n",
       "    }\n",
       "</style>\n",
       "<table border=\"1\" class=\"dataframe\">\n",
       "  <thead>\n",
       "    <tr style=\"text-align: right;\">\n",
       "      <th></th>\n",
       "      <th>이름</th>\n",
       "      <th>번호</th>\n",
       "      <th>순서</th>\n",
       "      <th>이름</th>\n",
       "      <th>번호</th>\n",
       "      <th>순서</th>\n",
       "    </tr>\n",
       "  </thead>\n",
       "  <tbody>\n",
       "    <tr>\n",
       "      <td>0</td>\n",
       "      <td>Park</td>\n",
       "      <td>82</td>\n",
       "      <td>A</td>\n",
       "      <td>Leon</td>\n",
       "      <td>49</td>\n",
       "      <td>D</td>\n",
       "    </tr>\n",
       "    <tr>\n",
       "      <td>1</td>\n",
       "      <td>James</td>\n",
       "      <td>1</td>\n",
       "      <td>B</td>\n",
       "      <td>Nefert</td>\n",
       "      <td>20</td>\n",
       "      <td>E</td>\n",
       "    </tr>\n",
       "    <tr>\n",
       "      <td>2</td>\n",
       "      <td>Rai</td>\n",
       "      <td>91</td>\n",
       "      <td>C</td>\n",
       "      <td>lee</td>\n",
       "      <td>82</td>\n",
       "      <td>F</td>\n",
       "    </tr>\n",
       "  </tbody>\n",
       "</table>\n",
       "</div>"
      ],
      "text/plain": [
       "      이름  번호 순서      이름  번호 순서\n",
       "0   Park  82  A    Leon  49  D\n",
       "1  James   1  B  Nefert  20  E\n",
       "2    Rai  91  C     lee  82  F"
      ]
     },
     "execution_count": 30,
     "metadata": {},
     "output_type": "execute_result"
    }
   ],
   "source": [
    "pd.concat([df1,df2],axis=1)"
   ]
  },
  {
   "cell_type": "markdown",
   "metadata": {},
   "source": [
    "#### 열의 이름이 다를 때, 생기는 오류.\n",
    "\n",
    "concat은 열의 이름이 다를 경우 아래와 같은 오류가 발생한다. concat을 사용할 때는 데이터의 열의 이름을 꼭 확인하자."
   ]
  },
  {
   "cell_type": "code",
   "execution_count": 26,
   "metadata": {},
   "outputs": [
    {
     "name": "stderr",
     "output_type": "stream",
     "text": [
      "C:\\Users\\park\\Anaconda3\\lib\\site-packages\\ipykernel_launcher.py:1: FutureWarning: Sorting because non-concatenation axis is not aligned. A future version\n",
      "of pandas will change to not sort by default.\n",
      "\n",
      "To accept the future behavior, pass 'sort=False'.\n",
      "\n",
      "To retain the current behavior and silence the warning, pass 'sort=True'.\n",
      "\n",
      "  \"\"\"Entry point for launching an IPython kernel.\n"
     ]
    },
    {
     "data": {
      "text/html": [
       "<div>\n",
       "<style scoped>\n",
       "    .dataframe tbody tr th:only-of-type {\n",
       "        vertical-align: middle;\n",
       "    }\n",
       "\n",
       "    .dataframe tbody tr th {\n",
       "        vertical-align: top;\n",
       "    }\n",
       "\n",
       "    .dataframe thead th {\n",
       "        text-align: right;\n",
       "    }\n",
       "</style>\n",
       "<table border=\"1\" class=\"dataframe\">\n",
       "  <thead>\n",
       "    <tr style=\"text-align: right;\">\n",
       "      <th></th>\n",
       "      <th>나이</th>\n",
       "      <th>번호</th>\n",
       "      <th>순서</th>\n",
       "      <th>이름</th>\n",
       "    </tr>\n",
       "  </thead>\n",
       "  <tbody>\n",
       "    <tr>\n",
       "      <td>0</td>\n",
       "      <td>NaN</td>\n",
       "      <td>82</td>\n",
       "      <td>A</td>\n",
       "      <td>Park</td>\n",
       "    </tr>\n",
       "    <tr>\n",
       "      <td>1</td>\n",
       "      <td>NaN</td>\n",
       "      <td>1</td>\n",
       "      <td>B</td>\n",
       "      <td>James</td>\n",
       "    </tr>\n",
       "    <tr>\n",
       "      <td>2</td>\n",
       "      <td>NaN</td>\n",
       "      <td>91</td>\n",
       "      <td>C</td>\n",
       "      <td>Rai</td>\n",
       "    </tr>\n",
       "    <tr>\n",
       "      <td>0</td>\n",
       "      <td>30.0</td>\n",
       "      <td>82</td>\n",
       "      <td>NaN</td>\n",
       "      <td>tae</td>\n",
       "    </tr>\n",
       "    <tr>\n",
       "      <td>1</td>\n",
       "      <td>30.0</td>\n",
       "      <td>82</td>\n",
       "      <td>NaN</td>\n",
       "      <td>young</td>\n",
       "    </tr>\n",
       "    <tr>\n",
       "      <td>2</td>\n",
       "      <td>30.0</td>\n",
       "      <td>82</td>\n",
       "      <td>NaN</td>\n",
       "      <td>yeoun</td>\n",
       "    </tr>\n",
       "  </tbody>\n",
       "</table>\n",
       "</div>"
      ],
      "text/plain": [
       "     나이  번호   순서     이름\n",
       "0   NaN  82    A   Park\n",
       "1   NaN   1    B  James\n",
       "2   NaN  91    C    Rai\n",
       "0  30.0  82  NaN    tae\n",
       "1  30.0  82  NaN  young\n",
       "2  30.0  82  NaN  yeoun"
      ]
     },
     "execution_count": 26,
     "metadata": {},
     "output_type": "execute_result"
    }
   ],
   "source": [
    "pd.concat([df1, df3])"
   ]
  },
  {
   "cell_type": "markdown",
   "metadata": {},
   "source": [
    "<br><br>\n",
    "\n",
    "\n",
    "------"
   ]
  },
  {
   "cell_type": "markdown",
   "metadata": {},
   "source": [
    "## 2) join : pd.merge()\n",
    "\n",
    "\n",
    "두 DataFrame에 공통적으로 포함되어 있는 하나의 열을 기준으로, 해당 열의 값이 동일한 두개의 행들을 하나의 행으로 합치는 방식이다.\n",
    "\n",
    "하나의 열을 기준으로 사용할 때는 **on='해당 열'** 처럼, on에 특정 열이름을 지정하여 그 열을 기준으로 병합한다. \n",
    "\n",
    "SQL의 join함수와 pandas의 merge함수는 사용방법이 비슷하다. 비슷한 점이 많은 merge를 이번 기회에 잘 익혀보자.\n",
    "\n",
    "``사용법`` pd.merge(데이터프레임, 데이터프레임, **on='해당 열'**)\n",
    "\n",
    "즉, key 기준으로 DataFrame이 합쳐진다."
   ]
  },
  {
   "cell_type": "markdown",
   "metadata": {},
   "source": [
    "<br><br>\n",
    "-----"
   ]
  },
  {
   "cell_type": "markdown",
   "metadata": {},
   "source": [
    "#### 데이터프레임 생성"
   ]
  },
  {
   "cell_type": "code",
   "execution_count": 62,
   "metadata": {},
   "outputs": [],
   "source": [
    "df_left = pd.DataFrame({'이름': ['Park', 'James', 'Rai', 'Leon'],\n",
    "                        '나이': [27, 60, 41, 39],\n",
    "                        '번호': [ 1, 2, 3, 4]})\n",
    "\n",
    "df_right = pd.DataFrame({'이름': ['Park', 'James', 'Rai', 'Leon'],\n",
    "                         '국적': ['한국', '미국', '인도', '스페인'],\n",
    "                         '취미': [ '일', '럭비', '유튜브', '요리'],\n",
    "                         '핸드폰' : ['갤럭시', '블랙베리', '아이폰', '엘지']})"
   ]
  },
  {
   "cell_type": "markdown",
   "metadata": {},
   "source": [
    "### merge 사용 \n",
    "``사용법`` pd.merge(데이터프레임, 데이터프레임, **on='해당 열'**)\n",
    "\n",
    "기준이 되는 열을 **on= '해당 열'** 을 꼭 써주자."
   ]
  },
  {
   "cell_type": "code",
   "execution_count": 63,
   "metadata": {},
   "outputs": [
    {
     "data": {
      "text/html": [
       "<div>\n",
       "<style scoped>\n",
       "    .dataframe tbody tr th:only-of-type {\n",
       "        vertical-align: middle;\n",
       "    }\n",
       "\n",
       "    .dataframe tbody tr th {\n",
       "        vertical-align: top;\n",
       "    }\n",
       "\n",
       "    .dataframe thead th {\n",
       "        text-align: right;\n",
       "    }\n",
       "</style>\n",
       "<table border=\"1\" class=\"dataframe\">\n",
       "  <thead>\n",
       "    <tr style=\"text-align: right;\">\n",
       "      <th></th>\n",
       "      <th>이름</th>\n",
       "      <th>나이</th>\n",
       "      <th>번호</th>\n",
       "      <th>국적</th>\n",
       "      <th>취미</th>\n",
       "      <th>핸드폰</th>\n",
       "    </tr>\n",
       "  </thead>\n",
       "  <tbody>\n",
       "    <tr>\n",
       "      <td>0</td>\n",
       "      <td>Park</td>\n",
       "      <td>27</td>\n",
       "      <td>1</td>\n",
       "      <td>한국</td>\n",
       "      <td>일</td>\n",
       "      <td>갤럭시</td>\n",
       "    </tr>\n",
       "    <tr>\n",
       "      <td>1</td>\n",
       "      <td>James</td>\n",
       "      <td>60</td>\n",
       "      <td>2</td>\n",
       "      <td>미국</td>\n",
       "      <td>럭비</td>\n",
       "      <td>블랙베리</td>\n",
       "    </tr>\n",
       "    <tr>\n",
       "      <td>2</td>\n",
       "      <td>Rai</td>\n",
       "      <td>41</td>\n",
       "      <td>3</td>\n",
       "      <td>인도</td>\n",
       "      <td>유튜브</td>\n",
       "      <td>아이폰</td>\n",
       "    </tr>\n",
       "    <tr>\n",
       "      <td>3</td>\n",
       "      <td>Leon</td>\n",
       "      <td>39</td>\n",
       "      <td>4</td>\n",
       "      <td>스페인</td>\n",
       "      <td>요리</td>\n",
       "      <td>엘지</td>\n",
       "    </tr>\n",
       "  </tbody>\n",
       "</table>\n",
       "</div>"
      ],
      "text/plain": [
       "      이름  나이  번호   국적   취미   핸드폰\n",
       "0   Park  27   1   한국    일   갤럭시\n",
       "1  James  60   2   미국   럭비  블랙베리\n",
       "2    Rai  41   3   인도  유튜브   아이폰\n",
       "3   Leon  39   4  스페인   요리    엘지"
      ]
     },
     "execution_count": 63,
     "metadata": {},
     "output_type": "execute_result"
    }
   ],
   "source": [
    "pd.merge(df_left, df_right, on='이름')"
   ]
  },
  {
   "cell_type": "markdown",
   "metadata": {},
   "source": [
    "# 이게 왜 똑같을 까요...? "
   ]
  },
  {
   "cell_type": "code",
   "execution_count": 68,
   "metadata": {},
   "outputs": [
    {
     "data": {
      "text/html": [
       "<div>\n",
       "<style scoped>\n",
       "    .dataframe tbody tr th:only-of-type {\n",
       "        vertical-align: middle;\n",
       "    }\n",
       "\n",
       "    .dataframe tbody tr th {\n",
       "        vertical-align: top;\n",
       "    }\n",
       "\n",
       "    .dataframe thead th {\n",
       "        text-align: right;\n",
       "    }\n",
       "</style>\n",
       "<table border=\"1\" class=\"dataframe\">\n",
       "  <thead>\n",
       "    <tr style=\"text-align: right;\">\n",
       "      <th></th>\n",
       "      <th>이름</th>\n",
       "      <th>나이</th>\n",
       "      <th>번호</th>\n",
       "      <th>국적</th>\n",
       "      <th>취미</th>\n",
       "      <th>핸드폰</th>\n",
       "    </tr>\n",
       "  </thead>\n",
       "  <tbody>\n",
       "    <tr>\n",
       "      <td>0</td>\n",
       "      <td>Park</td>\n",
       "      <td>27</td>\n",
       "      <td>1</td>\n",
       "      <td>한국</td>\n",
       "      <td>일</td>\n",
       "      <td>갤럭시</td>\n",
       "    </tr>\n",
       "    <tr>\n",
       "      <td>1</td>\n",
       "      <td>James</td>\n",
       "      <td>60</td>\n",
       "      <td>2</td>\n",
       "      <td>미국</td>\n",
       "      <td>럭비</td>\n",
       "      <td>블랙베리</td>\n",
       "    </tr>\n",
       "    <tr>\n",
       "      <td>2</td>\n",
       "      <td>Rai</td>\n",
       "      <td>41</td>\n",
       "      <td>3</td>\n",
       "      <td>인도</td>\n",
       "      <td>유튜브</td>\n",
       "      <td>아이폰</td>\n",
       "    </tr>\n",
       "    <tr>\n",
       "      <td>3</td>\n",
       "      <td>Leon</td>\n",
       "      <td>39</td>\n",
       "      <td>4</td>\n",
       "      <td>스페인</td>\n",
       "      <td>요리</td>\n",
       "      <td>엘지</td>\n",
       "    </tr>\n",
       "  </tbody>\n",
       "</table>\n",
       "</div>"
      ],
      "text/plain": [
       "      이름  나이  번호   국적   취미   핸드폰\n",
       "0   Park  27   1   한국    일   갤럭시\n",
       "1  James  60   2   미국   럭비  블랙베리\n",
       "2    Rai  41   3   인도  유튜브   아이폰\n",
       "3   Leon  39   4  스페인   요리    엘지"
      ]
     },
     "execution_count": 68,
     "metadata": {},
     "output_type": "execute_result"
    }
   ],
   "source": [
    "pd.merge(df_left, df_right, on='이름', how='right')"
   ]
  },
  {
   "cell_type": "code",
   "execution_count": 65,
   "metadata": {},
   "outputs": [
    {
     "data": {
      "text/html": [
       "<div>\n",
       "<style scoped>\n",
       "    .dataframe tbody tr th:only-of-type {\n",
       "        vertical-align: middle;\n",
       "    }\n",
       "\n",
       "    .dataframe tbody tr th {\n",
       "        vertical-align: top;\n",
       "    }\n",
       "\n",
       "    .dataframe thead th {\n",
       "        text-align: right;\n",
       "    }\n",
       "</style>\n",
       "<table border=\"1\" class=\"dataframe\">\n",
       "  <thead>\n",
       "    <tr style=\"text-align: right;\">\n",
       "      <th></th>\n",
       "      <th>이름</th>\n",
       "      <th>나이</th>\n",
       "      <th>번호</th>\n",
       "      <th>국적</th>\n",
       "      <th>취미</th>\n",
       "      <th>핸드폰</th>\n",
       "    </tr>\n",
       "  </thead>\n",
       "  <tbody>\n",
       "    <tr>\n",
       "      <td>0</td>\n",
       "      <td>Park</td>\n",
       "      <td>27</td>\n",
       "      <td>1</td>\n",
       "      <td>한국</td>\n",
       "      <td>일</td>\n",
       "      <td>갤럭시</td>\n",
       "    </tr>\n",
       "    <tr>\n",
       "      <td>1</td>\n",
       "      <td>James</td>\n",
       "      <td>60</td>\n",
       "      <td>2</td>\n",
       "      <td>미국</td>\n",
       "      <td>럭비</td>\n",
       "      <td>블랙베리</td>\n",
       "    </tr>\n",
       "    <tr>\n",
       "      <td>2</td>\n",
       "      <td>Rai</td>\n",
       "      <td>41</td>\n",
       "      <td>3</td>\n",
       "      <td>인도</td>\n",
       "      <td>유튜브</td>\n",
       "      <td>아이폰</td>\n",
       "    </tr>\n",
       "    <tr>\n",
       "      <td>3</td>\n",
       "      <td>Leon</td>\n",
       "      <td>39</td>\n",
       "      <td>4</td>\n",
       "      <td>스페인</td>\n",
       "      <td>요리</td>\n",
       "      <td>엘지</td>\n",
       "    </tr>\n",
       "  </tbody>\n",
       "</table>\n",
       "</div>"
      ],
      "text/plain": [
       "      이름  나이  번호   국적   취미   핸드폰\n",
       "0   Park  27   1   한국    일   갤럭시\n",
       "1  James  60   2   미국   럭비  블랙베리\n",
       "2    Rai  41   3   인도  유튜브   아이폰\n",
       "3   Leon  39   4  스페인   요리    엘지"
      ]
     },
     "execution_count": 65,
     "metadata": {},
     "output_type": "execute_result"
    }
   ],
   "source": [
    "pd.merge(df_left, df_right, on='이름', how='outer')"
   ]
  },
  {
   "cell_type": "markdown",
   "metadata": {},
   "source": [
    "------------------------------\n",
    "<br><br><br>"
   ]
  },
  {
   "cell_type": "markdown",
   "metadata": {},
   "source": [
    "## 2. Grouping\n",
    "\n",
    "group by 함수는 다양한 변수를 가진 데이터셋을 분석하는데 있어 그룹별로 데이터를 집계할 수 있다. \n",
    "\n",
    "group by는 값을 하나로 묶어 통계 또는 집계 결과를 얻기 위할 사용된다. 컬럼 별로 평균(mean), 크기(size), 합(sum)을 구할 수 있다. "
   ]
  },
  {
   "cell_type": "markdown",
   "metadata": {},
   "source": [
    "##### 구글스토어 데이터를 통해 groupby 함수에 대해서 알아보자"
   ]
  },
  {
   "cell_type": "code",
   "execution_count": 69,
   "metadata": {},
   "outputs": [
    {
     "data": {
      "text/html": [
       "<div>\n",
       "<style scoped>\n",
       "    .dataframe tbody tr th:only-of-type {\n",
       "        vertical-align: middle;\n",
       "    }\n",
       "\n",
       "    .dataframe tbody tr th {\n",
       "        vertical-align: top;\n",
       "    }\n",
       "\n",
       "    .dataframe thead th {\n",
       "        text-align: right;\n",
       "    }\n",
       "</style>\n",
       "<table border=\"1\" class=\"dataframe\">\n",
       "  <thead>\n",
       "    <tr style=\"text-align: right;\">\n",
       "      <th></th>\n",
       "      <th>어플</th>\n",
       "      <th>장르</th>\n",
       "      <th>등급</th>\n",
       "      <th>리뷰 수</th>\n",
       "      <th>크기</th>\n",
       "      <th>설치 수</th>\n",
       "      <th>타입</th>\n",
       "      <th>가격</th>\n",
       "      <th>연령층</th>\n",
       "      <th>안드로이드 버전</th>\n",
       "      <th>업데이트_년도</th>\n",
       "      <th>업데이트_달</th>\n",
       "      <th>업데이트_년달</th>\n",
       "    </tr>\n",
       "  </thead>\n",
       "  <tbody>\n",
       "    <tr>\n",
       "      <td>0</td>\n",
       "      <td>Photo Editor &amp; Candy Camera &amp; Grid &amp; ScrapBook</td>\n",
       "      <td>Art &amp; Design</td>\n",
       "      <td>4.1</td>\n",
       "      <td>159</td>\n",
       "      <td>190.0</td>\n",
       "      <td>10000</td>\n",
       "      <td>무료</td>\n",
       "      <td>0</td>\n",
       "      <td>전체가</td>\n",
       "      <td>4.0</td>\n",
       "      <td>2018</td>\n",
       "      <td>1</td>\n",
       "      <td>2018.01</td>\n",
       "    </tr>\n",
       "    <tr>\n",
       "      <td>1</td>\n",
       "      <td>Coloring book moana</td>\n",
       "      <td>Art &amp; Design;Pretend Play</td>\n",
       "      <td>3.9</td>\n",
       "      <td>967</td>\n",
       "      <td>140.0</td>\n",
       "      <td>500000</td>\n",
       "      <td>무료</td>\n",
       "      <td>0</td>\n",
       "      <td>전체가</td>\n",
       "      <td>4.0</td>\n",
       "      <td>2018</td>\n",
       "      <td>1</td>\n",
       "      <td>2018.01</td>\n",
       "    </tr>\n",
       "    <tr>\n",
       "      <td>2</td>\n",
       "      <td>U Launcher Lite – FREE Live Cool Themes, Hide ...</td>\n",
       "      <td>Art &amp; Design</td>\n",
       "      <td>4.7</td>\n",
       "      <td>87510</td>\n",
       "      <td>8.7</td>\n",
       "      <td>5000000</td>\n",
       "      <td>무료</td>\n",
       "      <td>0</td>\n",
       "      <td>전체가</td>\n",
       "      <td>4.0</td>\n",
       "      <td>2018</td>\n",
       "      <td>8</td>\n",
       "      <td>2018.08</td>\n",
       "    </tr>\n",
       "    <tr>\n",
       "      <td>3</td>\n",
       "      <td>Sketch - Draw &amp; Paint</td>\n",
       "      <td>Art &amp; Design</td>\n",
       "      <td>4.5</td>\n",
       "      <td>215644</td>\n",
       "      <td>250.0</td>\n",
       "      <td>50000000</td>\n",
       "      <td>무료</td>\n",
       "      <td>0</td>\n",
       "      <td>청소년</td>\n",
       "      <td>4.2</td>\n",
       "      <td>2018</td>\n",
       "      <td>6</td>\n",
       "      <td>2018.06</td>\n",
       "    </tr>\n",
       "    <tr>\n",
       "      <td>4</td>\n",
       "      <td>Pixel Draw - Number Art Coloring Book</td>\n",
       "      <td>Art &amp; Design;Creativity</td>\n",
       "      <td>4.3</td>\n",
       "      <td>967</td>\n",
       "      <td>2.8</td>\n",
       "      <td>100000</td>\n",
       "      <td>무료</td>\n",
       "      <td>0</td>\n",
       "      <td>전체가</td>\n",
       "      <td>4.4</td>\n",
       "      <td>2018</td>\n",
       "      <td>6</td>\n",
       "      <td>2018.06</td>\n",
       "    </tr>\n",
       "  </tbody>\n",
       "</table>\n",
       "</div>"
      ],
      "text/plain": [
       "                                                  어플  \\\n",
       "0     Photo Editor & Candy Camera & Grid & ScrapBook   \n",
       "1                                Coloring book moana   \n",
       "2  U Launcher Lite – FREE Live Cool Themes, Hide ...   \n",
       "3                              Sketch - Draw & Paint   \n",
       "4              Pixel Draw - Number Art Coloring Book   \n",
       "\n",
       "                          장르   등급    리뷰 수     크기      설치 수  타입 가격  연령층  \\\n",
       "0               Art & Design  4.1     159  190.0     10000  무료  0  전체가   \n",
       "1  Art & Design;Pretend Play  3.9     967  140.0    500000  무료  0  전체가   \n",
       "2               Art & Design  4.7   87510    8.7   5000000  무료  0  전체가   \n",
       "3               Art & Design  4.5  215644  250.0  50000000  무료  0  청소년   \n",
       "4    Art & Design;Creativity  4.3     967    2.8    100000  무료  0  전체가   \n",
       "\n",
       "   안드로이드 버전  업데이트_년도  업데이트_달  업데이트_년달  \n",
       "0       4.0     2018       1  2018.01  \n",
       "1       4.0     2018       1  2018.01  \n",
       "2       4.0     2018       8  2018.08  \n",
       "3       4.2     2018       6  2018.06  \n",
       "4       4.4     2018       6  2018.06  "
      ]
     },
     "execution_count": 69,
     "metadata": {},
     "output_type": "execute_result"
    }
   ],
   "source": [
    "data.head()"
   ]
  },
  {
   "cell_type": "code",
   "execution_count": 81,
   "metadata": {},
   "outputs": [
    {
     "data": {
      "text/html": [
       "<div>\n",
       "<style scoped>\n",
       "    .dataframe tbody tr th:only-of-type {\n",
       "        vertical-align: middle;\n",
       "    }\n",
       "\n",
       "    .dataframe tbody tr th {\n",
       "        vertical-align: top;\n",
       "    }\n",
       "\n",
       "    .dataframe thead th {\n",
       "        text-align: right;\n",
       "    }\n",
       "</style>\n",
       "<table border=\"1\" class=\"dataframe\">\n",
       "  <thead>\n",
       "    <tr style=\"text-align: right;\">\n",
       "      <th></th>\n",
       "      <th>리뷰 수</th>\n",
       "      <th>크기</th>\n",
       "      <th>설치 수</th>\n",
       "      <th>안드로이드 버전</th>\n",
       "      <th>업데이트_년도</th>\n",
       "      <th>업데이트_달</th>\n",
       "      <th>업데이트_년달</th>\n",
       "    </tr>\n",
       "    <tr>\n",
       "      <th>등급</th>\n",
       "      <th></th>\n",
       "      <th></th>\n",
       "      <th></th>\n",
       "      <th></th>\n",
       "      <th></th>\n",
       "      <th></th>\n",
       "      <th></th>\n",
       "    </tr>\n",
       "  </thead>\n",
       "  <tbody>\n",
       "    <tr>\n",
       "      <td>3.2</td>\n",
       "      <td>152.500000</td>\n",
       "      <td>1.900000</td>\n",
       "      <td>5.250000e+04</td>\n",
       "      <td>4.100000</td>\n",
       "      <td>2018.000000</td>\n",
       "      <td>5.000000</td>\n",
       "      <td>2018.050000</td>\n",
       "    </tr>\n",
       "    <tr>\n",
       "      <td>3.7</td>\n",
       "      <td>5110.000000</td>\n",
       "      <td>265.000000</td>\n",
       "      <td>1.000000e+06</td>\n",
       "      <td>4.200000</td>\n",
       "      <td>2018.000000</td>\n",
       "      <td>7.000000</td>\n",
       "      <td>2018.070000</td>\n",
       "    </tr>\n",
       "    <tr>\n",
       "      <td>3.8</td>\n",
       "      <td>808.000000</td>\n",
       "      <td>192.600000</td>\n",
       "      <td>8.750000e+04</td>\n",
       "      <td>4.075000</td>\n",
       "      <td>2018.000000</td>\n",
       "      <td>5.500000</td>\n",
       "      <td>2018.055000</td>\n",
       "    </tr>\n",
       "    <tr>\n",
       "      <td>3.9</td>\n",
       "      <td>856.571429</td>\n",
       "      <td>136.816667</td>\n",
       "      <td>1.242857e+05</td>\n",
       "      <td>3.928571</td>\n",
       "      <td>2018.000000</td>\n",
       "      <td>5.857143</td>\n",
       "      <td>2018.058571</td>\n",
       "    </tr>\n",
       "    <tr>\n",
       "      <td>4.0</td>\n",
       "      <td>1178.625000</td>\n",
       "      <td>150.925000</td>\n",
       "      <td>3.562500e+05</td>\n",
       "      <td>3.712500</td>\n",
       "      <td>2017.250000</td>\n",
       "      <td>6.125000</td>\n",
       "      <td>2017.311250</td>\n",
       "    </tr>\n",
       "    <tr>\n",
       "      <td>4.1</td>\n",
       "      <td>10702.857143</td>\n",
       "      <td>102.583333</td>\n",
       "      <td>9.085714e+05</td>\n",
       "      <td>3.300000</td>\n",
       "      <td>2017.857143</td>\n",
       "      <td>4.714286</td>\n",
       "      <td>2017.904286</td>\n",
       "    </tr>\n",
       "    <tr>\n",
       "      <td>4.2</td>\n",
       "      <td>36367.666667</td>\n",
       "      <td>150.466667</td>\n",
       "      <td>1.724444e+06</td>\n",
       "      <td>4.155556</td>\n",
       "      <td>2017.888889</td>\n",
       "      <td>6.000000</td>\n",
       "      <td>2017.948889</td>\n",
       "    </tr>\n",
       "    <tr>\n",
       "      <td>4.3</td>\n",
       "      <td>34893.125000</td>\n",
       "      <td>114.085714</td>\n",
       "      <td>1.550000e+06</td>\n",
       "      <td>3.425000</td>\n",
       "      <td>2018.000000</td>\n",
       "      <td>6.750000</td>\n",
       "      <td>2018.067500</td>\n",
       "    </tr>\n",
       "    <tr>\n",
       "      <td>4.4</td>\n",
       "      <td>66644.800000</td>\n",
       "      <td>193.900000</td>\n",
       "      <td>2.610000e+06</td>\n",
       "      <td>3.720000</td>\n",
       "      <td>2017.600000</td>\n",
       "      <td>6.800000</td>\n",
       "      <td>2017.668000</td>\n",
       "    </tr>\n",
       "    <tr>\n",
       "      <td>4.5</td>\n",
       "      <td>44040.200000</td>\n",
       "      <td>107.360000</td>\n",
       "      <td>1.006200e+07</td>\n",
       "      <td>3.740000</td>\n",
       "      <td>2017.800000</td>\n",
       "      <td>6.400000</td>\n",
       "      <td>2017.864000</td>\n",
       "    </tr>\n",
       "    <tr>\n",
       "      <td>4.6</td>\n",
       "      <td>34021.333333</td>\n",
       "      <td>147.633333</td>\n",
       "      <td>1.594444e+06</td>\n",
       "      <td>4.066667</td>\n",
       "      <td>2018.000000</td>\n",
       "      <td>6.666667</td>\n",
       "      <td>2018.066667</td>\n",
       "    </tr>\n",
       "    <tr>\n",
       "      <td>4.7</td>\n",
       "      <td>32126.900000</td>\n",
       "      <td>115.570000</td>\n",
       "      <td>1.757000e+06</td>\n",
       "      <td>4.180000</td>\n",
       "      <td>2017.900000</td>\n",
       "      <td>7.300000</td>\n",
       "      <td>2017.973000</td>\n",
       "    </tr>\n",
       "    <tr>\n",
       "      <td>4.8</td>\n",
       "      <td>31233.750000</td>\n",
       "      <td>175.333333</td>\n",
       "      <td>1.402500e+06</td>\n",
       "      <td>3.325000</td>\n",
       "      <td>2018.000000</td>\n",
       "      <td>6.500000</td>\n",
       "      <td>2018.065000</td>\n",
       "    </tr>\n",
       "    <tr>\n",
       "      <td>4.9</td>\n",
       "      <td>70333.333333</td>\n",
       "      <td>273.333333</td>\n",
       "      <td>4.000000e+05</td>\n",
       "      <td>4.166667</td>\n",
       "      <td>2018.000000</td>\n",
       "      <td>7.000000</td>\n",
       "      <td>2018.070000</td>\n",
       "    </tr>\n",
       "  </tbody>\n",
       "</table>\n",
       "</div>"
      ],
      "text/plain": [
       "             리뷰 수          크기          설치 수  안드로이드 버전      업데이트_년도    업데이트_달  \\\n",
       "등급                                                                             \n",
       "3.2    152.500000    1.900000  5.250000e+04  4.100000  2018.000000  5.000000   \n",
       "3.7   5110.000000  265.000000  1.000000e+06  4.200000  2018.000000  7.000000   \n",
       "3.8    808.000000  192.600000  8.750000e+04  4.075000  2018.000000  5.500000   \n",
       "3.9    856.571429  136.816667  1.242857e+05  3.928571  2018.000000  5.857143   \n",
       "4.0   1178.625000  150.925000  3.562500e+05  3.712500  2017.250000  6.125000   \n",
       "4.1  10702.857143  102.583333  9.085714e+05  3.300000  2017.857143  4.714286   \n",
       "4.2  36367.666667  150.466667  1.724444e+06  4.155556  2017.888889  6.000000   \n",
       "4.3  34893.125000  114.085714  1.550000e+06  3.425000  2018.000000  6.750000   \n",
       "4.4  66644.800000  193.900000  2.610000e+06  3.720000  2017.600000  6.800000   \n",
       "4.5  44040.200000  107.360000  1.006200e+07  3.740000  2017.800000  6.400000   \n",
       "4.6  34021.333333  147.633333  1.594444e+06  4.066667  2018.000000  6.666667   \n",
       "4.7  32126.900000  115.570000  1.757000e+06  4.180000  2017.900000  7.300000   \n",
       "4.8  31233.750000  175.333333  1.402500e+06  3.325000  2018.000000  6.500000   \n",
       "4.9  70333.333333  273.333333  4.000000e+05  4.166667  2018.000000  7.000000   \n",
       "\n",
       "         업데이트_년달  \n",
       "등급                \n",
       "3.2  2018.050000  \n",
       "3.7  2018.070000  \n",
       "3.8  2018.055000  \n",
       "3.9  2018.058571  \n",
       "4.0  2017.311250  \n",
       "4.1  2017.904286  \n",
       "4.2  2017.948889  \n",
       "4.3  2018.067500  \n",
       "4.4  2017.668000  \n",
       "4.5  2017.864000  \n",
       "4.6  2018.066667  \n",
       "4.7  2017.973000  \n",
       "4.8  2018.065000  \n",
       "4.9  2018.070000  "
      ]
     },
     "execution_count": 81,
     "metadata": {},
     "output_type": "execute_result"
    }
   ],
   "source": [
    "data.groupby('등급').mean()"
   ]
  },
  {
   "cell_type": "markdown",
   "metadata": {},
   "source": [
    "### 등급 크기"
   ]
  },
  {
   "cell_type": "code",
   "execution_count": 83,
   "metadata": {},
   "outputs": [
    {
     "data": {
      "text/plain": [
       "등급\n",
       "3.2     2\n",
       "3.7     2\n",
       "3.8     4\n",
       "3.9     7\n",
       "4.0     8\n",
       "4.1     7\n",
       "4.2     9\n",
       "4.3     8\n",
       "4.4     5\n",
       "4.5     5\n",
       "4.6     9\n",
       "4.7    10\n",
       "4.8     4\n",
       "4.9     3\n",
       "dtype: int64"
      ]
     },
     "execution_count": 83,
     "metadata": {},
     "output_type": "execute_result"
    }
   ],
   "source": [
    "data.groupby('등급').size()"
   ]
  },
  {
   "cell_type": "markdown",
   "metadata": {},
   "source": [
    "### 특정 컬럼 기준 group by\n",
    "등급, 어플 컬럼을 기준으로 가격과 연령층을 보여준다"
   ]
  },
  {
   "cell_type": "code",
   "execution_count": 122,
   "metadata": {},
   "outputs": [],
   "source": [
    "df=data.groupby(['등급', '어플'])['가격', '연령층'].first()"
   ]
  },
  {
   "cell_type": "code",
   "execution_count": 123,
   "metadata": {},
   "outputs": [
    {
     "data": {
      "text/html": [
       "<div>\n",
       "<style scoped>\n",
       "    .dataframe tbody tr th:only-of-type {\n",
       "        vertical-align: middle;\n",
       "    }\n",
       "\n",
       "    .dataframe tbody tr th {\n",
       "        vertical-align: top;\n",
       "    }\n",
       "\n",
       "    .dataframe thead th {\n",
       "        text-align: right;\n",
       "    }\n",
       "</style>\n",
       "<table border=\"1\" class=\"dataframe\">\n",
       "  <thead>\n",
       "    <tr style=\"text-align: right;\">\n",
       "      <th></th>\n",
       "      <th></th>\n",
       "      <th>가격</th>\n",
       "      <th>연령층</th>\n",
       "    </tr>\n",
       "    <tr>\n",
       "      <th>등급</th>\n",
       "      <th>어플</th>\n",
       "      <th></th>\n",
       "      <th></th>\n",
       "    </tr>\n",
       "  </thead>\n",
       "  <tbody>\n",
       "    <tr>\n",
       "      <td rowspan=\"2\" valign=\"top\">3.2</td>\n",
       "      <td>Learn To Draw Kawaii Characters</td>\n",
       "      <td>0</td>\n",
       "      <td>전체가</td>\n",
       "    </tr>\n",
       "    <tr>\n",
       "      <td>RST - Sale of cars on the PCT</td>\n",
       "      <td>0</td>\n",
       "      <td>전체가</td>\n",
       "    </tr>\n",
       "    <tr>\n",
       "      <td rowspan=\"2\" valign=\"top\">3.7</td>\n",
       "      <td>SKencar</td>\n",
       "      <td>0</td>\n",
       "      <td>전체가</td>\n",
       "    </tr>\n",
       "    <tr>\n",
       "      <td>Used car search Goo net whole car Go to net</td>\n",
       "      <td>0</td>\n",
       "      <td>전체가</td>\n",
       "    </tr>\n",
       "    <tr>\n",
       "      <td>3.8</td>\n",
       "      <td>How to draw Ladybug and Cat Noir</td>\n",
       "      <td>$1.54</td>\n",
       "      <td>전체가</td>\n",
       "    </tr>\n",
       "  </tbody>\n",
       "</table>\n",
       "</div>"
      ],
      "text/plain": [
       "                                                    가격  연령층\n",
       "등급  어플                                                     \n",
       "3.2 Learn To Draw Kawaii Characters                  0  전체가\n",
       "    RST - Sale of cars on the PCT                    0  전체가\n",
       "3.7 SKencar                                          0  전체가\n",
       "    Used car search Goo net whole car Go to net      0  전체가\n",
       "3.8 How to draw Ladybug and Cat Noir             $1.54  전체가"
      ]
     },
     "execution_count": 123,
     "metadata": {},
     "output_type": "execute_result"
    }
   ],
   "source": [
    "df.head()"
   ]
  },
  {
   "cell_type": "markdown",
   "metadata": {},
   "source": [
    "##### 얘도 안됨."
   ]
  },
  {
   "cell_type": "code",
   "execution_count": 107,
   "metadata": {},
   "outputs": [
    {
     "data": {
      "text/plain": [
       "등급\n",
       "3.2     2\n",
       "3.7     2\n",
       "3.8     4\n",
       "3.9     7\n",
       "4.0     8\n",
       "4.1     7\n",
       "4.2     9\n",
       "4.3     8\n",
       "4.4     5\n",
       "4.5     5\n",
       "4.6     9\n",
       "4.7    10\n",
       "4.8     4\n",
       "4.9     3\n",
       "Name: 리뷰 수, dtype: int64"
      ]
     },
     "execution_count": 107,
     "metadata": {},
     "output_type": "execute_result"
    }
   ],
   "source": [
    "data.groupby(['등급'])['리뷰 수'].count()"
   ]
  },
  {
   "cell_type": "code",
   "execution_count": 115,
   "metadata": {},
   "outputs": [
    {
     "ename": "KeyError",
     "evalue": "False",
     "output_type": "error",
     "traceback": [
      "\u001b[1;31m---------------------------------------------------------------------------\u001b[0m",
      "\u001b[1;31mKeyError\u001b[0m                                  Traceback (most recent call last)",
      "\u001b[1;32m<ipython-input-115-87407b7b9f3e>\u001b[0m in \u001b[0;36m<module>\u001b[1;34m\u001b[0m\n\u001b[1;32m----> 1\u001b[1;33m \u001b[0mdata\u001b[0m\u001b[1;33m.\u001b[0m\u001b[0mgroupby\u001b[0m\u001b[1;33m(\u001b[0m\u001b[1;33m[\u001b[0m\u001b[1;34m'장르'\u001b[0m\u001b[1;33m]\u001b[0m \u001b[1;33m==\u001b[0m \u001b[1;34m'Art & Design'\u001b[0m\u001b[1;33m)\u001b[0m\u001b[1;33m\u001b[0m\u001b[1;33m\u001b[0m\u001b[0m\n\u001b[0m",
      "\u001b[1;32m~\\Anaconda3\\lib\\site-packages\\pandas\\core\\generic.py\u001b[0m in \u001b[0;36mgroupby\u001b[1;34m(self, by, axis, level, as_index, sort, group_keys, squeeze, observed, **kwargs)\u001b[0m\n\u001b[0;32m   7892\u001b[0m             \u001b[0msqueeze\u001b[0m\u001b[1;33m=\u001b[0m\u001b[0msqueeze\u001b[0m\u001b[1;33m,\u001b[0m\u001b[1;33m\u001b[0m\u001b[1;33m\u001b[0m\u001b[0m\n\u001b[0;32m   7893\u001b[0m             \u001b[0mobserved\u001b[0m\u001b[1;33m=\u001b[0m\u001b[0mobserved\u001b[0m\u001b[1;33m,\u001b[0m\u001b[1;33m\u001b[0m\u001b[1;33m\u001b[0m\u001b[0m\n\u001b[1;32m-> 7894\u001b[1;33m             \u001b[1;33m**\u001b[0m\u001b[0mkwargs\u001b[0m\u001b[1;33m\u001b[0m\u001b[1;33m\u001b[0m\u001b[0m\n\u001b[0m\u001b[0;32m   7895\u001b[0m         )\n\u001b[0;32m   7896\u001b[0m \u001b[1;33m\u001b[0m\u001b[0m\n",
      "\u001b[1;32m~\\Anaconda3\\lib\\site-packages\\pandas\\core\\groupby\\groupby.py\u001b[0m in \u001b[0;36mgroupby\u001b[1;34m(obj, by, **kwds)\u001b[0m\n\u001b[0;32m   2520\u001b[0m         \u001b[1;32mraise\u001b[0m \u001b[0mTypeError\u001b[0m\u001b[1;33m(\u001b[0m\u001b[1;34m\"invalid type: {}\"\u001b[0m\u001b[1;33m.\u001b[0m\u001b[0mformat\u001b[0m\u001b[1;33m(\u001b[0m\u001b[0mobj\u001b[0m\u001b[1;33m)\u001b[0m\u001b[1;33m)\u001b[0m\u001b[1;33m\u001b[0m\u001b[1;33m\u001b[0m\u001b[0m\n\u001b[0;32m   2521\u001b[0m \u001b[1;33m\u001b[0m\u001b[0m\n\u001b[1;32m-> 2522\u001b[1;33m     \u001b[1;32mreturn\u001b[0m \u001b[0mklass\u001b[0m\u001b[1;33m(\u001b[0m\u001b[0mobj\u001b[0m\u001b[1;33m,\u001b[0m \u001b[0mby\u001b[0m\u001b[1;33m,\u001b[0m \u001b[1;33m**\u001b[0m\u001b[0mkwds\u001b[0m\u001b[1;33m)\u001b[0m\u001b[1;33m\u001b[0m\u001b[1;33m\u001b[0m\u001b[0m\n\u001b[0m",
      "\u001b[1;32m~\\Anaconda3\\lib\\site-packages\\pandas\\core\\groupby\\groupby.py\u001b[0m in \u001b[0;36m__init__\u001b[1;34m(self, obj, keys, axis, level, grouper, exclusions, selection, as_index, sort, group_keys, squeeze, observed, **kwargs)\u001b[0m\n\u001b[0;32m    389\u001b[0m                 \u001b[0msort\u001b[0m\u001b[1;33m=\u001b[0m\u001b[0msort\u001b[0m\u001b[1;33m,\u001b[0m\u001b[1;33m\u001b[0m\u001b[1;33m\u001b[0m\u001b[0m\n\u001b[0;32m    390\u001b[0m                 \u001b[0mobserved\u001b[0m\u001b[1;33m=\u001b[0m\u001b[0mobserved\u001b[0m\u001b[1;33m,\u001b[0m\u001b[1;33m\u001b[0m\u001b[1;33m\u001b[0m\u001b[0m\n\u001b[1;32m--> 391\u001b[1;33m                 \u001b[0mmutated\u001b[0m\u001b[1;33m=\u001b[0m\u001b[0mself\u001b[0m\u001b[1;33m.\u001b[0m\u001b[0mmutated\u001b[0m\u001b[1;33m,\u001b[0m\u001b[1;33m\u001b[0m\u001b[1;33m\u001b[0m\u001b[0m\n\u001b[0m\u001b[0;32m    392\u001b[0m             )\n\u001b[0;32m    393\u001b[0m \u001b[1;33m\u001b[0m\u001b[0m\n",
      "\u001b[1;32m~\\Anaconda3\\lib\\site-packages\\pandas\\core\\groupby\\grouper.py\u001b[0m in \u001b[0;36m_get_grouper\u001b[1;34m(obj, key, axis, level, sort, observed, mutated, validate)\u001b[0m\n\u001b[0;32m    619\u001b[0m                 \u001b[0min_axis\u001b[0m\u001b[1;33m,\u001b[0m \u001b[0mname\u001b[0m\u001b[1;33m,\u001b[0m \u001b[0mlevel\u001b[0m\u001b[1;33m,\u001b[0m \u001b[0mgpr\u001b[0m \u001b[1;33m=\u001b[0m \u001b[1;32mFalse\u001b[0m\u001b[1;33m,\u001b[0m \u001b[1;32mNone\u001b[0m\u001b[1;33m,\u001b[0m \u001b[0mgpr\u001b[0m\u001b[1;33m,\u001b[0m \u001b[1;32mNone\u001b[0m\u001b[1;33m\u001b[0m\u001b[1;33m\u001b[0m\u001b[0m\n\u001b[0;32m    620\u001b[0m             \u001b[1;32melse\u001b[0m\u001b[1;33m:\u001b[0m\u001b[1;33m\u001b[0m\u001b[1;33m\u001b[0m\u001b[0m\n\u001b[1;32m--> 621\u001b[1;33m                 \u001b[1;32mraise\u001b[0m \u001b[0mKeyError\u001b[0m\u001b[1;33m(\u001b[0m\u001b[0mgpr\u001b[0m\u001b[1;33m)\u001b[0m\u001b[1;33m\u001b[0m\u001b[1;33m\u001b[0m\u001b[0m\n\u001b[0m\u001b[0;32m    622\u001b[0m         \u001b[1;32melif\u001b[0m \u001b[0misinstance\u001b[0m\u001b[1;33m(\u001b[0m\u001b[0mgpr\u001b[0m\u001b[1;33m,\u001b[0m \u001b[0mGrouper\u001b[0m\u001b[1;33m)\u001b[0m \u001b[1;32mand\u001b[0m \u001b[0mgpr\u001b[0m\u001b[1;33m.\u001b[0m\u001b[0mkey\u001b[0m \u001b[1;32mis\u001b[0m \u001b[1;32mnot\u001b[0m \u001b[1;32mNone\u001b[0m\u001b[1;33m:\u001b[0m\u001b[1;33m\u001b[0m\u001b[1;33m\u001b[0m\u001b[0m\n\u001b[0;32m    623\u001b[0m             \u001b[1;31m# Add key to exclusions\u001b[0m\u001b[1;33m\u001b[0m\u001b[1;33m\u001b[0m\u001b[1;33m\u001b[0m\u001b[0m\n",
      "\u001b[1;31mKeyError\u001b[0m: False"
     ]
    }
   ],
   "source": [
    "data.groupby(['장르'] == 'Art & Design')"
   ]
  },
  {
   "cell_type": "code",
   "execution_count": null,
   "metadata": {},
   "outputs": [],
   "source": []
  }
 ],
 "metadata": {
  "kernelspec": {
   "display_name": "Python 3",
   "language": "python",
   "name": "python3"
  },
  "language_info": {
   "codemirror_mode": {
    "name": "ipython",
    "version": 3
   },
   "file_extension": ".py",
   "mimetype": "text/x-python",
   "name": "python",
   "nbconvert_exporter": "python",
   "pygments_lexer": "ipython3",
   "version": "3.7.4"
  }
 },
 "nbformat": 4,
 "nbformat_minor": 2
}
