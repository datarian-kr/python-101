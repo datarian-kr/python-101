{
 "cells": [
  {
   "cell_type": "code",
   "execution_count": 1,
   "metadata": {},
   "outputs": [],
   "source": [
    "# pandas 사용하기\n",
    "import pandas as pd\n",
    "\n",
    "import numpy as np\n",
    "import matplotlib\n",
    "import matplotlib.pyplot as plt\n",
    "import seaborn as sns"
   ]
  },
  {
   "cell_type": "markdown",
   "metadata": {},
   "source": [
    "---\n",
    "#### 참고 링크:\n",
    "https://wikidocs.net/64\n",
    "\n",
    "\n",
    "\n",
    "<br><br><br><br><br>\n",
    "\n",
    "-------"
   ]
  },
  {
   "cell_type": "markdown",
   "metadata": {},
   "source": [
    "<br><br> 보충자료 내용 복사\n",
    "\n",
    "# 0. **함수**\n",
    "- 프로그래밍을 하다 보면 똑같은 내용을 반복해서 작성하고 있을 때가 종종 있다. 이런 작업을 단순하게 해주는 작업이 바로 함수다.\n",
    "- 반복 적으로 작성하고 있는 뭉치를 묶어서 '어떤 입력 값을 주었을 때 어떤 결과값을' 돌려주는 것.\n",
    "- 자신이 만든 코딩의 흐름을 한 눈에 볼 수 있다. -> 프로그래머 능력"
   ]
  },
  {
   "cell_type": "markdown",
   "metadata": {},
   "source": [
    "<함수 구조>\n",
    "\n",
    "def 함수명(매개변수): # def 함수를 만들어 예약어? \n",
    "    <수행할 문장1>    # 함수 정의 후 if, for, while문 등 다양하게 작성할 수 있다.\n",
    "    <수행할 문장2>\n",
    "    ..."
   ]
  },
  {
   "cell_type": "code",
   "execution_count": null,
   "metadata": {},
   "outputs": [],
   "source": [
    "# 간단한 함수 만들기.\n",
    "\n",
    "def add(a, b): # a, b는 매개변수\n",
    "    return a + b "
   ]
  },
  {
   "cell_type": "code",
   "execution_count": null,
   "metadata": {},
   "outputs": [],
   "source": [
    "add(7,8) # 7,8은 인수"
   ]
  },
  {
   "cell_type": "code",
   "execution_count": null,
   "metadata": {},
   "outputs": [],
   "source": [
    "- 매개 변수: 함수에 입력으로 전달 된 값을 반듣 변수\n",
    "- 인수: 함수를 호출할 때 전달하는 입력값"
   ]
  },
  {
   "cell_type": "code",
   "execution_count": null,
   "metadata": {},
   "outputs": [],
   "source": [
    "a = 5\n",
    "b = 6\n",
    "c = add(a, b)\n",
    "\n",
    "print(c)"
   ]
  },
  {
   "cell_type": "code",
   "execution_count": null,
   "metadata": {},
   "outputs": [],
   "source": [
    "# 함수의 결과값은 언제나 하나. -> 명칭 변경하기."
   ]
  },
  {
   "cell_type": "code",
   "execution_count": null,
   "metadata": {},
   "outputs": [],
   "source": [
    "def add_and_mul(a,b): \n",
    "     return a+b, a*b"
   ]
  },
  {
   "cell_type": "code",
   "execution_count": null,
   "metadata": {},
   "outputs": [],
   "source": [
    "add_and_mul(3,4)"
   ]
  },
  {
   "cell_type": "markdown",
   "metadata": {},
   "source": [
    "<br><br><br><br>\n",
    "\n",
    "-------\n",
    "\n"
   ]
  },
  {
   "cell_type": "markdown",
   "metadata": {},
   "source": [
    "## 1. Lambda(람다) : 익명의 함수 정의"
   ]
  },
  {
   "cell_type": "markdown",
   "metadata": {},
   "source": [
    "- 표현 방법 -> lambda x: 함수, 리스트 / lambda 인자 : 표현식"
   ]
  },
  {
   "cell_type": "markdown",
   "metadata": {},
   "source": [
    "예시) 두 수를 더하는 함수"
   ]
  },
  {
   "cell_type": "code",
   "execution_count": 4,
   "metadata": {},
   "outputs": [],
   "source": [
    "def plus(x, y):\n",
    "   return x + y"
   ]
  },
  {
   "cell_type": "code",
   "execution_count": 5,
   "metadata": {},
   "outputs": [
    {
     "data": {
      "text/plain": [
       "11"
      ]
     },
     "execution_count": 5,
     "metadata": {},
     "output_type": "execute_result"
    }
   ],
   "source": [
    "plus(5,6)"
   ]
  },
  {
   "cell_type": "markdown",
   "metadata": {},
   "source": [
    "예시) lambda 형식 변경"
   ]
  },
  {
   "cell_type": "code",
   "execution_count": 6,
   "metadata": {},
   "outputs": [
    {
     "data": {
      "text/plain": [
       "11"
      ]
     },
     "execution_count": 6,
     "metadata": {},
     "output_type": "execute_result"
    }
   ],
   "source": [
    "(lambda x,y: x + y)(5, 6)"
   ]
  },
  {
   "cell_type": "markdown",
   "metadata": {},
   "source": [
    "---\n",
    "<br><br><br>"
   ]
  },
  {
   "cell_type": "markdown",
   "metadata": {},
   "source": [
    "## 2. MAP : 함수를 리스트 원소 각각에 적용 함."
   ]
  },
  {
   "cell_type": "markdown",
   "metadata": {},
   "source": [
    "표현 방식 -> list(map(함수, 리스트)) / map(lambda x: 함수, 리스트)\n",
    "- 함수와 리스트를 인자로 받는다. 리스트로 부터 원소를 하나씩 꺼내서 함수를 적용시킨 다음, 그 결과를 새로운 리스트에 담아준다.\n",
    "\n",
    "- map 함수는 DataFrame 타입이 아니라, 반드시 Series 타입에서만 사용.\n"
   ]
  },
  {
   "cell_type": "markdown",
   "metadata": {},
   "source": [
    "https://dojang.io/mod/page/view.php?id=2286"
   ]
  },
  {
   "cell_type": "markdown",
   "metadata": {},
   "source": [
    "예시 1) for 반목문"
   ]
  },
  {
   "cell_type": "code",
   "execution_count": 31,
   "metadata": {},
   "outputs": [],
   "source": [
    "a = [3.9, 4.2, 8.1, 8.5, 6.28 ,9.22]"
   ]
  },
  {
   "cell_type": "code",
   "execution_count": 32,
   "metadata": {},
   "outputs": [],
   "source": [
    "for i in range(len(a)):\n",
    "     a[i] = int(a[i])"
   ]
  },
  {
   "cell_type": "code",
   "execution_count": 33,
   "metadata": {},
   "outputs": [
    {
     "data": {
      "text/plain": [
       "[3, 4, 8, 8, 6, 9]"
      ]
     },
     "execution_count": 33,
     "metadata": {},
     "output_type": "execute_result"
    }
   ],
   "source": [
    "a"
   ]
  },
  {
   "cell_type": "markdown",
   "metadata": {},
   "source": [
    "예시 1) for 반복문 map 사용."
   ]
  },
  {
   "cell_type": "code",
   "execution_count": 34,
   "metadata": {},
   "outputs": [],
   "source": [
    "a = [3.9, 4.2, 8.1, 8.5, 6.28 ,9.22]"
   ]
  },
  {
   "cell_type": "code",
   "execution_count": 35,
   "metadata": {},
   "outputs": [],
   "source": [
    "a = list(map(int, a))"
   ]
  },
  {
   "cell_type": "code",
   "execution_count": 36,
   "metadata": {},
   "outputs": [
    {
     "data": {
      "text/plain": [
       "[3, 4, 8, 8, 6, 9]"
      ]
     },
     "execution_count": 36,
     "metadata": {},
     "output_type": "execute_result"
    }
   ],
   "source": [
    "a"
   ]
  },
  {
   "cell_type": "markdown",
   "metadata": {},
   "source": [
    "예시 2) range(1, 5) 제곱하는 range 함수"
   ]
  },
  {
   "cell_type": "code",
   "execution_count": 35,
   "metadata": {},
   "outputs": [
    {
     "name": "stdout",
     "output_type": "stream",
     "text": [
      "[1, 4, 9, 16]\n"
     ]
    }
   ],
   "source": [
    "multiply = []\n",
    "\n",
    "for x in range(1, 5) :\n",
    "\n",
    "    multiply.append(x ** 2)\n",
    "\n",
    "print(multiply)"
   ]
  },
  {
   "cell_type": "markdown",
   "metadata": {},
   "source": [
    "예시 2) map(lambda) 형식으로 변경"
   ]
  },
  {
   "cell_type": "code",
   "execution_count": 10,
   "metadata": {},
   "outputs": [
    {
     "data": {
      "text/plain": [
       "[0, 1, 4, 9, 16]"
      ]
     },
     "execution_count": 10,
     "metadata": {},
     "output_type": "execute_result"
    }
   ],
   "source": [
    "list(map(lambda x: x ** 2, range(5)))"
   ]
  },
  {
   "cell_type": "markdown",
   "metadata": {},
   "source": [
    "함수 설명:\n",
    "\n",
    "1. map 함수가 인자로 받은 함수는 lambda x: x ** 2, 리스트로 range(5)를 받는다. \n",
    "2. range(5) 함수가 [0,1,2,3,4] 리스트를 돌려준다\n",
    "3. [0,1,2,3,4] 리스트를 x**2 (x값 제곱)한다\n",
    "4. 결과값 도출"
   ]
  },
  {
   "cell_type": "markdown",
   "metadata": {},
   "source": [
    "<br><br>\n",
    "\n",
    "---------"
   ]
  },
  {
   "cell_type": "markdown",
   "metadata": {},
   "source": [
    "## 3. apply : lambda 함수 적용한 컬럼들로 Pandas DataFrame 만들기"
   ]
  },
  {
   "cell_type": "markdown",
   "metadata": {},
   "source": [
    "표현 방식-> apply(lambda x: 함수, 리스트)\n",
    "\n",
    "- 데이터 전처리 유용."
   ]
  },
  {
   "cell_type": "code",
   "execution_count": 37,
   "metadata": {},
   "outputs": [],
   "source": [
    "aa = pd.DataFrame({'id': ['a', 'a', 'a', 'b', 'b'],\n",
    "                    'val': [1, 2, 3, 4, 5]})"
   ]
  },
  {
   "cell_type": "code",
   "execution_count": 38,
   "metadata": {},
   "outputs": [
    {
     "data": {
      "text/html": [
       "<div>\n",
       "<style scoped>\n",
       "    .dataframe tbody tr th:only-of-type {\n",
       "        vertical-align: middle;\n",
       "    }\n",
       "\n",
       "    .dataframe tbody tr th {\n",
       "        vertical-align: top;\n",
       "    }\n",
       "\n",
       "    .dataframe thead th {\n",
       "        text-align: right;\n",
       "    }\n",
       "</style>\n",
       "<table border=\"1\" class=\"dataframe\">\n",
       "  <thead>\n",
       "    <tr style=\"text-align: right;\">\n",
       "      <th></th>\n",
       "      <th>id</th>\n",
       "      <th>val</th>\n",
       "    </tr>\n",
       "  </thead>\n",
       "  <tbody>\n",
       "    <tr>\n",
       "      <td>0</td>\n",
       "      <td>a</td>\n",
       "      <td>1</td>\n",
       "    </tr>\n",
       "    <tr>\n",
       "      <td>1</td>\n",
       "      <td>a</td>\n",
       "      <td>2</td>\n",
       "    </tr>\n",
       "    <tr>\n",
       "      <td>2</td>\n",
       "      <td>a</td>\n",
       "      <td>3</td>\n",
       "    </tr>\n",
       "    <tr>\n",
       "      <td>3</td>\n",
       "      <td>b</td>\n",
       "      <td>4</td>\n",
       "    </tr>\n",
       "    <tr>\n",
       "      <td>4</td>\n",
       "      <td>b</td>\n",
       "      <td>5</td>\n",
       "    </tr>\n",
       "  </tbody>\n",
       "</table>\n",
       "</div>"
      ],
      "text/plain": [
       "  id  val\n",
       "0  a    1\n",
       "1  a    2\n",
       "2  a    3\n",
       "3  b    4\n",
       "4  b    5"
      ]
     },
     "execution_count": 38,
     "metadata": {},
     "output_type": "execute_result"
    }
   ],
   "source": [
    "aa"
   ]
  },
  {
   "cell_type": "code",
   "execution_count": 41,
   "metadata": {},
   "outputs": [],
   "source": [
    "df = aa.groupby('id').apply(lambda x:\n",
    "\n",
    "      pd.Series({'clst_obs_cnt': len(x), \n",
    "                 'clst_val_sum': sum(x.val), \n",
    "                 'id_list': x.id.tolist()})).reset_index()"
   ]
  },
  {
   "cell_type": "code",
   "execution_count": 40,
   "metadata": {},
   "outputs": [
    {
     "data": {
      "text/html": [
       "<div>\n",
       "<style scoped>\n",
       "    .dataframe tbody tr th:only-of-type {\n",
       "        vertical-align: middle;\n",
       "    }\n",
       "\n",
       "    .dataframe tbody tr th {\n",
       "        vertical-align: top;\n",
       "    }\n",
       "\n",
       "    .dataframe thead th {\n",
       "        text-align: right;\n",
       "    }\n",
       "</style>\n",
       "<table border=\"1\" class=\"dataframe\">\n",
       "  <thead>\n",
       "    <tr style=\"text-align: right;\">\n",
       "      <th></th>\n",
       "      <th>id</th>\n",
       "      <th>clst_obs_cnt</th>\n",
       "      <th>clst_val_sum</th>\n",
       "      <th>id_list</th>\n",
       "    </tr>\n",
       "  </thead>\n",
       "  <tbody>\n",
       "    <tr>\n",
       "      <td>0</td>\n",
       "      <td>a</td>\n",
       "      <td>3</td>\n",
       "      <td>6</td>\n",
       "      <td>[a, a, a]</td>\n",
       "    </tr>\n",
       "    <tr>\n",
       "      <td>1</td>\n",
       "      <td>b</td>\n",
       "      <td>2</td>\n",
       "      <td>9</td>\n",
       "      <td>[b, b]</td>\n",
       "    </tr>\n",
       "  </tbody>\n",
       "</table>\n",
       "</div>"
      ],
      "text/plain": [
       "  id  clst_obs_cnt  clst_val_sum    id_list\n",
       "0  a             3             6  [a, a, a]\n",
       "1  b             2             9     [b, b]"
      ]
     },
     "execution_count": 40,
     "metadata": {},
     "output_type": "execute_result"
    }
   ],
   "source": [
    "df"
   ]
  },
  {
   "cell_type": "markdown",
   "metadata": {},
   "source": [
    "<br><br>\n",
    "\n",
    "----"
   ]
  },
  {
   "cell_type": "markdown",
   "metadata": {},
   "source": [
    "<br><br>\n",
    "**실제 데이터 적용**"
   ]
  },
  {
   "cell_type": "code",
   "execution_count": 3,
   "metadata": {},
   "outputs": [],
   "source": [
    "data=pd.read_csv('kr_googlestore.csv')"
   ]
  },
  {
   "cell_type": "code",
   "execution_count": 4,
   "metadata": {
    "scrolled": true
   },
   "outputs": [
    {
     "data": {
      "text/html": [
       "<div>\n",
       "<style scoped>\n",
       "    .dataframe tbody tr th:only-of-type {\n",
       "        vertical-align: middle;\n",
       "    }\n",
       "\n",
       "    .dataframe tbody tr th {\n",
       "        vertical-align: top;\n",
       "    }\n",
       "\n",
       "    .dataframe thead th {\n",
       "        text-align: right;\n",
       "    }\n",
       "</style>\n",
       "<table border=\"1\" class=\"dataframe\">\n",
       "  <thead>\n",
       "    <tr style=\"text-align: right;\">\n",
       "      <th></th>\n",
       "      <th>어플</th>\n",
       "      <th>장르</th>\n",
       "      <th>등급</th>\n",
       "      <th>리뷰 수</th>\n",
       "      <th>크기</th>\n",
       "      <th>설치 수</th>\n",
       "      <th>타입</th>\n",
       "      <th>가격</th>\n",
       "      <th>연령층</th>\n",
       "      <th>안드로이드 버전</th>\n",
       "      <th>업데이트_년도</th>\n",
       "      <th>업데이트_달</th>\n",
       "      <th>업데이트_년달</th>\n",
       "    </tr>\n",
       "  </thead>\n",
       "  <tbody>\n",
       "    <tr>\n",
       "      <td>0</td>\n",
       "      <td>Photo Editor &amp; Candy Camera &amp; Grid &amp; ScrapBook</td>\n",
       "      <td>Art &amp; Design</td>\n",
       "      <td>4.1</td>\n",
       "      <td>159</td>\n",
       "      <td>190.0</td>\n",
       "      <td>10000</td>\n",
       "      <td>무료</td>\n",
       "      <td>0</td>\n",
       "      <td>전체가</td>\n",
       "      <td>4.0</td>\n",
       "      <td>2018</td>\n",
       "      <td>1</td>\n",
       "      <td>2018.01</td>\n",
       "    </tr>\n",
       "    <tr>\n",
       "      <td>1</td>\n",
       "      <td>Coloring book moana</td>\n",
       "      <td>Art &amp; Design;Pretend Play</td>\n",
       "      <td>3.9</td>\n",
       "      <td>967</td>\n",
       "      <td>140.0</td>\n",
       "      <td>500000</td>\n",
       "      <td>무료</td>\n",
       "      <td>0</td>\n",
       "      <td>전체가</td>\n",
       "      <td>4.0</td>\n",
       "      <td>2018</td>\n",
       "      <td>1</td>\n",
       "      <td>2018.01</td>\n",
       "    </tr>\n",
       "    <tr>\n",
       "      <td>2</td>\n",
       "      <td>U Launcher Lite – FREE Live Cool Themes, Hide ...</td>\n",
       "      <td>Art &amp; Design</td>\n",
       "      <td>4.7</td>\n",
       "      <td>87510</td>\n",
       "      <td>8.7</td>\n",
       "      <td>5000000</td>\n",
       "      <td>무료</td>\n",
       "      <td>0</td>\n",
       "      <td>전체가</td>\n",
       "      <td>4.0</td>\n",
       "      <td>2018</td>\n",
       "      <td>8</td>\n",
       "      <td>2018.08</td>\n",
       "    </tr>\n",
       "    <tr>\n",
       "      <td>3</td>\n",
       "      <td>Sketch - Draw &amp; Paint</td>\n",
       "      <td>Art &amp; Design</td>\n",
       "      <td>4.5</td>\n",
       "      <td>215644</td>\n",
       "      <td>250.0</td>\n",
       "      <td>50000000</td>\n",
       "      <td>무료</td>\n",
       "      <td>0</td>\n",
       "      <td>청소년</td>\n",
       "      <td>4.2</td>\n",
       "      <td>2018</td>\n",
       "      <td>6</td>\n",
       "      <td>2018.06</td>\n",
       "    </tr>\n",
       "    <tr>\n",
       "      <td>4</td>\n",
       "      <td>Pixel Draw - Number Art Coloring Book</td>\n",
       "      <td>Art &amp; Design;Creativity</td>\n",
       "      <td>4.3</td>\n",
       "      <td>967</td>\n",
       "      <td>2.8</td>\n",
       "      <td>100000</td>\n",
       "      <td>무료</td>\n",
       "      <td>0</td>\n",
       "      <td>전체가</td>\n",
       "      <td>4.4</td>\n",
       "      <td>2018</td>\n",
       "      <td>6</td>\n",
       "      <td>2018.06</td>\n",
       "    </tr>\n",
       "  </tbody>\n",
       "</table>\n",
       "</div>"
      ],
      "text/plain": [
       "                                                  어플  \\\n",
       "0     Photo Editor & Candy Camera & Grid & ScrapBook   \n",
       "1                                Coloring book moana   \n",
       "2  U Launcher Lite – FREE Live Cool Themes, Hide ...   \n",
       "3                              Sketch - Draw & Paint   \n",
       "4              Pixel Draw - Number Art Coloring Book   \n",
       "\n",
       "                          장르   등급    리뷰 수     크기      설치 수  타입 가격  연령층  \\\n",
       "0               Art & Design  4.1     159  190.0     10000  무료  0  전체가   \n",
       "1  Art & Design;Pretend Play  3.9     967  140.0    500000  무료  0  전체가   \n",
       "2               Art & Design  4.7   87510    8.7   5000000  무료  0  전체가   \n",
       "3               Art & Design  4.5  215644  250.0  50000000  무료  0  청소년   \n",
       "4    Art & Design;Creativity  4.3     967    2.8    100000  무료  0  전체가   \n",
       "\n",
       "   안드로이드 버전  업데이트_년도  업데이트_달  업데이트_년달  \n",
       "0       4.0     2018       1  2018.01  \n",
       "1       4.0     2018       1  2018.01  \n",
       "2       4.0     2018       8  2018.08  \n",
       "3       4.2     2018       6  2018.06  \n",
       "4       4.4     2018       6  2018.06  "
      ]
     },
     "execution_count": 4,
     "metadata": {},
     "output_type": "execute_result"
    }
   ],
   "source": [
    "data.head()"
   ]
  },
  {
   "cell_type": "markdown",
   "metadata": {},
   "source": [
    "### data['장르'] 데이터 값 슬라이싱"
   ]
  },
  {
   "cell_type": "code",
   "execution_count": 37,
   "metadata": {
    "scrolled": true
   },
   "outputs": [],
   "source": [
    "data['new1']= data['장르'].apply(lambda x: x.split()[0])"
   ]
  },
  {
   "cell_type": "code",
   "execution_count": 38,
   "metadata": {},
   "outputs": [
    {
     "data": {
      "text/plain": [
       "0        Art\n",
       "1        Art\n",
       "2        Art\n",
       "3        Art\n",
       "4        Art\n",
       "       ...  \n",
       "95      Auto\n",
       "96      Auto\n",
       "97      Auto\n",
       "98    Beauty\n",
       "99    Beauty\n",
       "Name: new1, Length: 100, dtype: object"
      ]
     },
     "execution_count": 38,
     "metadata": {},
     "output_type": "execute_result"
    }
   ],
   "source": [
    "data['new1']"
   ]
  },
  {
   "cell_type": "markdown",
   "metadata": {},
   "source": [
    "<br><br>\n",
    "\n",
    "---------\n",
    "\n"
   ]
  },
  {
   "cell_type": "markdown",
   "metadata": {},
   "source": [
    "## 다운로드 대비 리뷰가 얼마나 많을까???"
   ]
  },
  {
   "cell_type": "code",
   "execution_count": 39,
   "metadata": {},
   "outputs": [],
   "source": [
    "data['redownload'] = data.apply(lambda data: data['리뷰 수']/ data['설치 수'], axis=1) "
   ]
  },
  {
   "cell_type": "code",
   "execution_count": 40,
   "metadata": {},
   "outputs": [],
   "source": [
    "data['new2'] = data.apply(lambda x: x['리뷰 수']/ x['설치 수'], axis=1) "
   ]
  },
  {
   "cell_type": "code",
   "execution_count": 41,
   "metadata": {},
   "outputs": [
    {
     "data": {
      "text/plain": [
       "0     0.015900\n",
       "1     0.001934\n",
       "2     0.017502\n",
       "3     0.004313\n",
       "4     0.009670\n",
       "        ...   \n",
       "95    0.003508\n",
       "96    0.005360\n",
       "97    0.012880\n",
       "98    0.037800\n",
       "99    0.049790\n",
       "Name: new2, Length: 100, dtype: float64"
      ]
     },
     "execution_count": 41,
     "metadata": {},
     "output_type": "execute_result"
    }
   ],
   "source": [
    "data['new2']"
   ]
  },
  {
   "cell_type": "markdown",
   "metadata": {},
   "source": [
    "<br><br>\n",
    "\n",
    "----------"
   ]
  },
  {
   "cell_type": "markdown",
   "metadata": {},
   "source": [
    "### 각 열에 어떤 값이 얼마나 사용되었는지 보고 싶을 때. (미완)"
   ]
  },
  {
   "cell_type": "code",
   "execution_count": 54,
   "metadata": {},
   "outputs": [
    {
     "data": {
      "text/html": [
       "<div>\n",
       "<style scoped>\n",
       "    .dataframe tbody tr th:only-of-type {\n",
       "        vertical-align: middle;\n",
       "    }\n",
       "\n",
       "    .dataframe tbody tr th {\n",
       "        vertical-align: top;\n",
       "    }\n",
       "\n",
       "    .dataframe thead th {\n",
       "        text-align: right;\n",
       "    }\n",
       "</style>\n",
       "<table border=\"1\" class=\"dataframe\">\n",
       "  <thead>\n",
       "    <tr style=\"text-align: right;\">\n",
       "      <th></th>\n",
       "      <th>어플</th>\n",
       "      <th>장르</th>\n",
       "      <th>등급</th>\n",
       "      <th>리뷰 수</th>\n",
       "      <th>크기</th>\n",
       "      <th>설치 수</th>\n",
       "      <th>타입</th>\n",
       "      <th>가격</th>\n",
       "      <th>연령층</th>\n",
       "      <th>안드로이드 버전</th>\n",
       "      <th>업데이트_년도</th>\n",
       "      <th>업데이트_달</th>\n",
       "      <th>업데이트_년달</th>\n",
       "    </tr>\n",
       "  </thead>\n",
       "  <tbody>\n",
       "    <tr>\n",
       "      <td>1</td>\n",
       "      <td>NaN</td>\n",
       "      <td>NaN</td>\n",
       "      <td>NaN</td>\n",
       "      <td>NaN</td>\n",
       "      <td>NaN</td>\n",
       "      <td>NaN</td>\n",
       "      <td>NaN</td>\n",
       "      <td>NaN</td>\n",
       "      <td>NaN</td>\n",
       "      <td>NaN</td>\n",
       "      <td>NaN</td>\n",
       "      <td>4.0</td>\n",
       "      <td>NaN</td>\n",
       "    </tr>\n",
       "    <tr>\n",
       "      <td>1.1</td>\n",
       "      <td>NaN</td>\n",
       "      <td>NaN</td>\n",
       "      <td>NaN</td>\n",
       "      <td>NaN</td>\n",
       "      <td>1.0</td>\n",
       "      <td>NaN</td>\n",
       "      <td>NaN</td>\n",
       "      <td>NaN</td>\n",
       "      <td>NaN</td>\n",
       "      <td>NaN</td>\n",
       "      <td>NaN</td>\n",
       "      <td>NaN</td>\n",
       "      <td>NaN</td>\n",
       "    </tr>\n",
       "    <tr>\n",
       "      <td>1.2</td>\n",
       "      <td>NaN</td>\n",
       "      <td>NaN</td>\n",
       "      <td>NaN</td>\n",
       "      <td>NaN</td>\n",
       "      <td>1.0</td>\n",
       "      <td>NaN</td>\n",
       "      <td>NaN</td>\n",
       "      <td>NaN</td>\n",
       "      <td>NaN</td>\n",
       "      <td>NaN</td>\n",
       "      <td>NaN</td>\n",
       "      <td>NaN</td>\n",
       "      <td>NaN</td>\n",
       "    </tr>\n",
       "    <tr>\n",
       "      <td>2.2</td>\n",
       "      <td>NaN</td>\n",
       "      <td>NaN</td>\n",
       "      <td>NaN</td>\n",
       "      <td>NaN</td>\n",
       "      <td>1.0</td>\n",
       "      <td>NaN</td>\n",
       "      <td>NaN</td>\n",
       "      <td>NaN</td>\n",
       "      <td>NaN</td>\n",
       "      <td>1.0</td>\n",
       "      <td>NaN</td>\n",
       "      <td>NaN</td>\n",
       "      <td>NaN</td>\n",
       "    </tr>\n",
       "    <tr>\n",
       "      <td>2.3</td>\n",
       "      <td>NaN</td>\n",
       "      <td>NaN</td>\n",
       "      <td>NaN</td>\n",
       "      <td>NaN</td>\n",
       "      <td>NaN</td>\n",
       "      <td>NaN</td>\n",
       "      <td>NaN</td>\n",
       "      <td>NaN</td>\n",
       "      <td>NaN</td>\n",
       "      <td>13.0</td>\n",
       "      <td>NaN</td>\n",
       "      <td>NaN</td>\n",
       "      <td>NaN</td>\n",
       "    </tr>\n",
       "    <tr>\n",
       "      <td>...</td>\n",
       "      <td>...</td>\n",
       "      <td>...</td>\n",
       "      <td>...</td>\n",
       "      <td>...</td>\n",
       "      <td>...</td>\n",
       "      <td>...</td>\n",
       "      <td>...</td>\n",
       "      <td>...</td>\n",
       "      <td>...</td>\n",
       "      <td>...</td>\n",
       "      <td>...</td>\n",
       "      <td>...</td>\n",
       "      <td>...</td>\n",
       "    </tr>\n",
       "    <tr>\n",
       "      <td>ipsy: Makeup, Beauty, and Tips</td>\n",
       "      <td>1.0</td>\n",
       "      <td>NaN</td>\n",
       "      <td>NaN</td>\n",
       "      <td>NaN</td>\n",
       "      <td>NaN</td>\n",
       "      <td>NaN</td>\n",
       "      <td>NaN</td>\n",
       "      <td>NaN</td>\n",
       "      <td>NaN</td>\n",
       "      <td>NaN</td>\n",
       "      <td>NaN</td>\n",
       "      <td>NaN</td>\n",
       "      <td>NaN</td>\n",
       "    </tr>\n",
       "    <tr>\n",
       "      <td>무료</td>\n",
       "      <td>NaN</td>\n",
       "      <td>NaN</td>\n",
       "      <td>NaN</td>\n",
       "      <td>NaN</td>\n",
       "      <td>NaN</td>\n",
       "      <td>NaN</td>\n",
       "      <td>71.0</td>\n",
       "      <td>NaN</td>\n",
       "      <td>NaN</td>\n",
       "      <td>NaN</td>\n",
       "      <td>NaN</td>\n",
       "      <td>NaN</td>\n",
       "      <td>NaN</td>\n",
       "    </tr>\n",
       "    <tr>\n",
       "      <td>유료</td>\n",
       "      <td>NaN</td>\n",
       "      <td>NaN</td>\n",
       "      <td>NaN</td>\n",
       "      <td>NaN</td>\n",
       "      <td>NaN</td>\n",
       "      <td>NaN</td>\n",
       "      <td>29.0</td>\n",
       "      <td>NaN</td>\n",
       "      <td>NaN</td>\n",
       "      <td>NaN</td>\n",
       "      <td>NaN</td>\n",
       "      <td>NaN</td>\n",
       "      <td>NaN</td>\n",
       "    </tr>\n",
       "    <tr>\n",
       "      <td>전체가</td>\n",
       "      <td>NaN</td>\n",
       "      <td>NaN</td>\n",
       "      <td>NaN</td>\n",
       "      <td>NaN</td>\n",
       "      <td>NaN</td>\n",
       "      <td>NaN</td>\n",
       "      <td>NaN</td>\n",
       "      <td>NaN</td>\n",
       "      <td>96.0</td>\n",
       "      <td>NaN</td>\n",
       "      <td>NaN</td>\n",
       "      <td>NaN</td>\n",
       "      <td>NaN</td>\n",
       "    </tr>\n",
       "    <tr>\n",
       "      <td>청소년</td>\n",
       "      <td>NaN</td>\n",
       "      <td>NaN</td>\n",
       "      <td>NaN</td>\n",
       "      <td>NaN</td>\n",
       "      <td>NaN</td>\n",
       "      <td>NaN</td>\n",
       "      <td>NaN</td>\n",
       "      <td>NaN</td>\n",
       "      <td>4.0</td>\n",
       "      <td>NaN</td>\n",
       "      <td>NaN</td>\n",
       "      <td>NaN</td>\n",
       "      <td>NaN</td>\n",
       "    </tr>\n",
       "  </tbody>\n",
       "</table>\n",
       "<p>329 rows × 13 columns</p>\n",
       "</div>"
      ],
      "text/plain": [
       "                                 어플  장르  등급  리뷰 수   크기  설치 수    타입  가격   연령층  \\\n",
       "1                               NaN NaN NaN   NaN  NaN   NaN   NaN NaN   NaN   \n",
       "1.1                             NaN NaN NaN   NaN  1.0   NaN   NaN NaN   NaN   \n",
       "1.2                             NaN NaN NaN   NaN  1.0   NaN   NaN NaN   NaN   \n",
       "2.2                             NaN NaN NaN   NaN  1.0   NaN   NaN NaN   NaN   \n",
       "2.3                             NaN NaN NaN   NaN  NaN   NaN   NaN NaN   NaN   \n",
       "...                             ...  ..  ..   ...  ...   ...   ...  ..   ...   \n",
       "ipsy: Makeup, Beauty, and Tips  1.0 NaN NaN   NaN  NaN   NaN   NaN NaN   NaN   \n",
       "무료                              NaN NaN NaN   NaN  NaN   NaN  71.0 NaN   NaN   \n",
       "유료                              NaN NaN NaN   NaN  NaN   NaN  29.0 NaN   NaN   \n",
       "전체가                             NaN NaN NaN   NaN  NaN   NaN   NaN NaN  96.0   \n",
       "청소년                             NaN NaN NaN   NaN  NaN   NaN   NaN NaN   4.0   \n",
       "\n",
       "                                안드로이드 버전  업데이트_년도  업데이트_달  업데이트_년달  \n",
       "1                                    NaN      NaN     4.0      NaN  \n",
       "1.1                                  NaN      NaN     NaN      NaN  \n",
       "1.2                                  NaN      NaN     NaN      NaN  \n",
       "2.2                                  1.0      NaN     NaN      NaN  \n",
       "2.3                                 13.0      NaN     NaN      NaN  \n",
       "...                                  ...      ...     ...      ...  \n",
       "ipsy: Makeup, Beauty, and Tips       NaN      NaN     NaN      NaN  \n",
       "무료                                   NaN      NaN     NaN      NaN  \n",
       "유료                                   NaN      NaN     NaN      NaN  \n",
       "전체가                                  NaN      NaN     NaN      NaN  \n",
       "청소년                                  NaN      NaN     NaN      NaN  \n",
       "\n",
       "[329 rows x 13 columns]"
      ]
     },
     "execution_count": 54,
     "metadata": {},
     "output_type": "execute_result"
    }
   ],
   "source": [
    "data.apply(pd.value_counts)"
   ]
  },
  {
   "cell_type": "markdown",
   "metadata": {},
   "source": [
    "<br><br>\n",
    "\n",
    "----------"
   ]
  },
  {
   "cell_type": "markdown",
   "metadata": {},
   "source": [
    "### NaN값을 내가 원하는 값으로 채워넣기 (미완)"
   ]
  },
  {
   "cell_type": "code",
   "execution_count": 63,
   "metadata": {},
   "outputs": [
    {
     "data": {
      "text/plain": [
       "어플           0\n",
       "장르           0\n",
       "등급          17\n",
       "리뷰 수         0\n",
       "크기          10\n",
       "설치 수         0\n",
       "타입           0\n",
       "가격           0\n",
       "연령층          0\n",
       "안드로이드 버전     0\n",
       "업데이트_년도      0\n",
       "업데이트_달       0\n",
       "업데이트_년달      0\n",
       "dtype: int64"
      ]
     },
     "execution_count": 63,
     "metadata": {},
     "output_type": "execute_result"
    }
   ],
   "source": [
    "data.isnull().sum()"
   ]
  },
  {
   "cell_type": "code",
   "execution_count": 20,
   "metadata": {},
   "outputs": [
    {
     "data": {
      "text/plain": [
       "0     4.1\n",
       "1     3.9\n",
       "2     4.7\n",
       "3     4.5\n",
       "4     4.3\n",
       "     ... \n",
       "95    4.0\n",
       "96    0.0\n",
       "97    4.0\n",
       "98    4.7\n",
       "99    0.0\n",
       "Name: 등급, Length: 100, dtype: float64"
      ]
     },
     "execution_count": 20,
     "metadata": {},
     "output_type": "execute_result"
    }
   ],
   "source": [
    "data['등급'].fillna(0)"
   ]
  },
  {
   "cell_type": "markdown",
   "metadata": {},
   "source": [
    "#### 한슬님 예제 1) "
   ]
  },
  {
   "cell_type": "code",
   "execution_count": 23,
   "metadata": {},
   "outputs": [
    {
     "ename": "SyntaxError",
     "evalue": "EOF while scanning triple-quoted string literal (<ipython-input-23-f7b5679632ed>, line 8)",
     "output_type": "error",
     "traceback": [
      "\u001b[1;36m  File \u001b[1;32m\"<ipython-input-23-f7b5679632ed>\"\u001b[1;36m, line \u001b[1;32m8\u001b[0m\n\u001b[1;33m    ''\u001b[0m\n\u001b[1;37m      \n^\u001b[0m\n\u001b[1;31mSyntaxError\u001b[0m\u001b[1;31m:\u001b[0m EOF while scanning triple-quoted string literal\n"
     ]
    }
   ],
   "source": [
    "'''\n",
    "df_train['bldng_ar'] = joined_train.apply(lambda row : row['bldng_ar'] \n",
    "                    if row['bldng_ar'] != 0\n",
    "                        else round(row['lnd_ar'] * row['blm']) \n",
    "                    if (row['lnd_ar'] != 0) & (row['blm'] != 0)\n",
    "                        else 0, axis=1)\n",
    "\n",
    "''"
   ]
  },
  {
   "cell_type": "markdown",
   "metadata": {},
   "source": [
    "#### 한슬님 예제 2)"
   ]
  },
  {
   "cell_type": "code",
   "execution_count": 42,
   "metadata": {},
   "outputs": [],
   "source": [
    "#train = train.dropna(subset=['emd_nm'])"
   ]
  },
  {
   "cell_type": "code",
   "execution_count": 43,
   "metadata": {},
   "outputs": [],
   "source": [
    "#### 한슬님 예제 3)"
   ]
  },
  {
   "cell_type": "code",
   "execution_count": 44,
   "metadata": {},
   "outputs": [
    {
     "ename": "SyntaxError",
     "evalue": "invalid syntax (<ipython-input-44-08f8b43b7dac>, line 1)",
     "output_type": "error",
     "traceback": [
      "\u001b[1;36m  File \u001b[1;32m\"<ipython-input-44-08f8b43b7dac>\"\u001b[1;36m, line \u001b[1;32m1\u001b[0m\n\u001b[1;33m    train['시도'] = train['emd_nm'].apply(lambda x: str(x).split()[0]) train['시군구'] = train['emd_nm'].apply(lambda x: str(x).split()[1][:3]) train['구시동면읍'] = train['emd_nm'].apply(lambda x: str(x).split()[2]) # 창원시는 따로 train.loc[train['시군구'].apply(lambda x: len(x) > 3), '구시동면읍'] = train['emd_nm'].apply(lambda x: str(x).split()[1][3:]) train['주소'] = train['시도'] + ' ' + train['시군구'] + ' ' + train['구시동면읍']\u001b[0m\n\u001b[1;37m                                                                         ^\u001b[0m\n\u001b[1;31mSyntaxError\u001b[0m\u001b[1;31m:\u001b[0m invalid syntax\n"
     ]
    }
   ],
   "source": [
    "train['시도'] = train['emd_nm'].apply(lambda x: str(x).split()[0]) train['시군구'] = train['emd_nm'].apply(lambda x: str(x).split()[1][:3]) train['구시동면읍'] = train['emd_nm'].apply(lambda x: str(x).split()[2]) # 창원시는 따로 train.loc[train['시군구'].apply(lambda x: len(x) > 3), '구시동면읍'] = train['emd_nm'].apply(lambda x: str(x).split()[1][3:]) train['주소'] = train['시도'] + ' ' + train['시군구'] + ' ' + train['구시동면읍']"
   ]
  },
  {
   "cell_type": "markdown",
   "metadata": {},
   "source": [
    "##### 한슬님 예제 4)"
   ]
  },
  {
   "cell_type": "code",
   "execution_count": 45,
   "metadata": {},
   "outputs": [
    {
     "ename": "SyntaxError",
     "evalue": "invalid syntax (<ipython-input-45-65077b9dfba2>, line 1)",
     "output_type": "error",
     "traceback": [
      "\u001b[1;36m  File \u001b[1;32m\"<ipython-input-45-65077b9dfba2>\"\u001b[1;36m, line \u001b[1;32m1\u001b[0m\n\u001b[1;33m    binary_y = {'N': 0, 'Y': 1} train['fr_yn'] = train['fr_yn'].map(binary_y) val['fr_yn'] = val['fr_yn'].map(binary_y) train['mlt_us_yn'] = train['mlt_us_yn'].map(binary_y) val['mlt_us_yn'] = val['mlt_us_yn'].map(binary_y) test['mlt_us_yn'] = test['mlt_us_yn'].map(binary_y)\u001b[0m\n\u001b[1;37m                                    ^\u001b[0m\n\u001b[1;31mSyntaxError\u001b[0m\u001b[1;31m:\u001b[0m invalid syntax\n"
     ]
    }
   ],
   "source": [
    "binary_y = {'N': 0, 'Y': 1} train['fr_yn'] = train['fr_yn'].map(binary_y) val['fr_yn'] = val['fr_yn'].map(binary_y) train['mlt_us_yn'] = train['mlt_us_yn'].map(binary_y) val['mlt_us_yn'] = val['mlt_us_yn'].map(binary_y) test['mlt_us_yn'] = test['mlt_us_yn'].map(binary_y)"
   ]
  },
  {
   "cell_type": "markdown",
   "metadata": {},
   "source": [
    "#### 한슬님 예제 5)"
   ]
  },
  {
   "cell_type": "code",
   "execution_count": 46,
   "metadata": {},
   "outputs": [
    {
     "ename": "SyntaxError",
     "evalue": "invalid syntax (<ipython-input-46-3c907e31dc43>, line 1)",
     "output_type": "error",
     "traceback": [
      "\u001b[1;36m  File \u001b[1;32m\"<ipython-input-46-3c907e31dc43>\"\u001b[1;36m, line \u001b[1;32m1\u001b[0m\n\u001b[1;33m    train['wnd_spd'] = train.groupby(['주소', 'year-month-day'])['wnd_spd'].transform(lambda x: x.fillna(x.median())) train['wnd_spd']\u001b[0m\n\u001b[1;37m                                                                                                                        ^\u001b[0m\n\u001b[1;31mSyntaxError\u001b[0m\u001b[1;31m:\u001b[0m invalid syntax\n"
     ]
    }
   ],
   "source": [
    "train['wnd_spd'] = train.groupby(['주소', 'year-month-day'])['wnd_spd'].transform(lambda x: x.fillna(x.median())) train['wnd_spd']"
   ]
  },
  {
   "cell_type": "markdown",
   "metadata": {},
   "source": [
    "#### 한슬님 예제 5)"
   ]
  },
  {
   "cell_type": "code",
   "execution_count": 47,
   "metadata": {},
   "outputs": [
    {
     "ename": "NameError",
     "evalue": "name 'corr' is not defined",
     "output_type": "error",
     "traceback": [
      "\u001b[1;31m---------------------------------------------------------------------------\u001b[0m",
      "\u001b[1;31mNameError\u001b[0m                                 Traceback (most recent call last)",
      "\u001b[1;32m<ipython-input-47-6c09796f03c5>\u001b[0m in \u001b[0;36m<module>\u001b[1;34m\u001b[0m\n\u001b[1;32m----> 1\u001b[1;33m \u001b[0mcorr\u001b[0m\u001b[1;33m.\u001b[0m\u001b[0mloc\u001b[0m\u001b[1;33m[\u001b[0m\u001b[0mcorr\u001b[0m\u001b[1;33m[\u001b[0m\u001b[1;34m'tmprtr'\u001b[0m\u001b[1;33m]\u001b[0m \u001b[1;33m>\u001b[0m \u001b[1;36m0.1\u001b[0m\u001b[1;33m,\u001b[0m \u001b[1;34m'tmprtr'\u001b[0m\u001b[1;33m]\u001b[0m\u001b[1;33m\u001b[0m\u001b[1;33m\u001b[0m\u001b[0m\n\u001b[0m",
      "\u001b[1;31mNameError\u001b[0m: name 'corr' is not defined"
     ]
    }
   ],
   "source": [
    "corr.loc[corr['tmprtr'] > 0.1, 'tmprtr']"
   ]
  },
  {
   "cell_type": "markdown",
   "metadata": {},
   "source": [
    "----\n",
    "<br><br><br><br>"
   ]
  },
  {
   "cell_type": "markdown",
   "metadata": {},
   "source": [
    "## 예시) lambda, map"
   ]
  },
  {
   "cell_type": "code",
   "execution_count": 45,
   "metadata": {},
   "outputs": [
    {
     "name": "stdout",
     "output_type": "stream",
     "text": [
      "Lambda Example1 :  [1, 'OK', 3, 'OK', 5, 'OK', 7, 'OK', 9, 'OK']\n",
      "Lambda Example2 :  ['First', 'Second', 9, 16, 25, 36, 49, 64, 81, 100]\n",
      "Lambda Example3 :  [3, 6, 9, 12, 15, 18, 21, 24, 27, 30]\n"
     ]
    }
   ],
   "source": [
    "if __name__ == '__main__':\n",
    "\n",
    "    testArr1 = [1, 2, 3, 4, 5, 6, 7, 8, 9, 10]\n",
    "    testArr2 = [2, 4, 6, 8, 10, 12, 14, 16, 18, 20]\n",
    "\n",
    "    #lambda 사용법 : 매개변수1, 매개변수2, 매개변수X...: 출력식1 if 조건문 else 출력식2\n",
    "    #if 조건식 사용할 경우 반드시 else 문 사용해야 한다.\n",
    "\n",
    "    #람다 예제1 -> if-else 구문 활용한 기본 람다식 예제\n",
    "    outArr1 = list(map(lambda x: 'OK' if x % 2 == 0 else x, testArr1))\n",
    "    print('Lambda Example1 : ', outArr1)\n",
    " \n",
    "    #람다 예제2 -> 다중 if-else 구문을 활용한 람다식 예제\n",
    "    #다중 조건식은 코드의 가독성이 현저하게 떨어지므로, 되도록 함수로 분리\n",
    "    outArr2 = list(map(lambda x: 'First' if x == 1 else 'Second' if x == 2 else x * x, testArr1))\n",
    "    print('Lambda Example2 : ', outArr2)\n",
    "\n",
    "    #람다 예제3 -> 다중 매개변수를 활용한 람다식 예제\n",
    "    #다중 매개변수 map + 람다식 활용\n",
    "    outArr3 = list(map(lambda x, y: x + y, testArr1, testArr2))\n",
    "    print('Lambda Example3 : ', outArr3)"
   ]
  }
 ],
 "metadata": {
  "kernelspec": {
   "display_name": "Python 3",
   "language": "python",
   "name": "python3"
  },
  "language_info": {
   "codemirror_mode": {
    "name": "ipython",
    "version": 3
   },
   "file_extension": ".py",
   "mimetype": "text/x-python",
   "name": "python",
   "nbconvert_exporter": "python",
   "pygments_lexer": "ipython3",
   "version": "3.7.4"
  }
 },
 "nbformat": 4,
 "nbformat_minor": 2
}
