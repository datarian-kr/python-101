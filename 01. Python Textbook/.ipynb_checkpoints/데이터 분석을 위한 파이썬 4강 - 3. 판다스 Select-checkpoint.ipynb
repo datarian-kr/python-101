{
 "cells": [
  {
   "cell_type": "code",
   "execution_count": 1,
   "metadata": {},
   "outputs": [],
   "source": [
    "import pandas as pd\n",
    "data=pd.read_csv('kr_googlestore.csv')"
   ]
  },
  {
   "cell_type": "markdown",
   "metadata": {},
   "source": [
    "# 3. **데이터 선택**"
   ]
  },
  {
   "cell_type": "markdown",
   "metadata": {},
   "source": [
    "### 1) 특정 '컬럼'의 값 가져오기"
   ]
  },
  {
   "cell_type": "code",
   "execution_count": 2,
   "metadata": {},
   "outputs": [
    {
     "data": {
      "text/plain": [
       "0        Photo Editor & Candy Camera & Grid & ScrapBook\n",
       "1                                   Coloring book moana\n",
       "2     U Launcher Lite – FREE Live Cool Themes, Hide ...\n",
       "3                                 Sketch - Draw & Paint\n",
       "4                 Pixel Draw - Number Art Coloring Book\n",
       "                            ...                        \n",
       "95    All of the parking lot - National Park applica...\n",
       "96                 Inquiry Fines and Debits of Vehicles\n",
       "97                                          Gas Station\n",
       "98                                Hush - Beauty for 전체가\n",
       "99                       ipsy: Makeup, Beauty, and Tips\n",
       "Name: 어플, Length: 100, dtype: object"
      ]
     },
     "execution_count": 2,
     "metadata": {},
     "output_type": "execute_result"
    }
   ],
   "source": [
    "data['어플']"
   ]
  },
  {
   "cell_type": "code",
   "execution_count": 3,
   "metadata": {},
   "outputs": [
    {
     "data": {
      "text/plain": [
       "0        Photo Editor & Candy Camera & Grid & ScrapBook\n",
       "1                                   Coloring book moana\n",
       "2     U Launcher Lite – FREE Live Cool Themes, Hide ...\n",
       "3                                 Sketch - Draw & Paint\n",
       "4                 Pixel Draw - Number Art Coloring Book\n",
       "                            ...                        \n",
       "95    All of the parking lot - National Park applica...\n",
       "96                 Inquiry Fines and Debits of Vehicles\n",
       "97                                          Gas Station\n",
       "98                                Hush - Beauty for 전체가\n",
       "99                       ipsy: Makeup, Beauty, and Tips\n",
       "Name: 어플, Length: 100, dtype: object"
      ]
     },
     "execution_count": 3,
     "metadata": {},
     "output_type": "execute_result"
    }
   ],
   "source": [
    "data.어플"
   ]
  },
  {
   "cell_type": "markdown",
   "metadata": {},
   "source": [
    "### 2) DataFrame 인덱싱"
   ]
  },
  {
   "cell_type": "code",
   "execution_count": 4,
   "metadata": {},
   "outputs": [
    {
     "data": {
      "text/html": [
       "<div>\n",
       "<style scoped>\n",
       "    .dataframe tbody tr th:only-of-type {\n",
       "        vertical-align: middle;\n",
       "    }\n",
       "\n",
       "    .dataframe tbody tr th {\n",
       "        vertical-align: top;\n",
       "    }\n",
       "\n",
       "    .dataframe thead th {\n",
       "        text-align: right;\n",
       "    }\n",
       "</style>\n",
       "<table border=\"1\" class=\"dataframe\">\n",
       "  <thead>\n",
       "    <tr style=\"text-align: right;\">\n",
       "      <th></th>\n",
       "      <th>어플</th>\n",
       "      <th>장르</th>\n",
       "      <th>등급</th>\n",
       "      <th>리뷰 수</th>\n",
       "      <th>크기</th>\n",
       "      <th>설치 수</th>\n",
       "      <th>타입</th>\n",
       "      <th>가격</th>\n",
       "      <th>연령층</th>\n",
       "      <th>안드로이드 버전</th>\n",
       "      <th>업데이트_년도</th>\n",
       "      <th>업데이트_달</th>\n",
       "      <th>업데이트_년달</th>\n",
       "    </tr>\n",
       "  </thead>\n",
       "  <tbody>\n",
       "    <tr>\n",
       "      <th>0</th>\n",
       "      <td>Photo Editor &amp; Candy Camera &amp; Grid &amp; ScrapBook</td>\n",
       "      <td>Art &amp; Design</td>\n",
       "      <td>4.1</td>\n",
       "      <td>159</td>\n",
       "      <td>190.0</td>\n",
       "      <td>10000</td>\n",
       "      <td>무료</td>\n",
       "      <td>0</td>\n",
       "      <td>전체가</td>\n",
       "      <td>4.0</td>\n",
       "      <td>2018</td>\n",
       "      <td>1</td>\n",
       "      <td>2018.01</td>\n",
       "    </tr>\n",
       "    <tr>\n",
       "      <th>1</th>\n",
       "      <td>Coloring book moana</td>\n",
       "      <td>Art &amp; Design;Pretend Play</td>\n",
       "      <td>3.9</td>\n",
       "      <td>967</td>\n",
       "      <td>140.0</td>\n",
       "      <td>500000</td>\n",
       "      <td>무료</td>\n",
       "      <td>0</td>\n",
       "      <td>전체가</td>\n",
       "      <td>4.0</td>\n",
       "      <td>2018</td>\n",
       "      <td>1</td>\n",
       "      <td>2018.01</td>\n",
       "    </tr>\n",
       "    <tr>\n",
       "      <th>2</th>\n",
       "      <td>U Launcher Lite – FREE Live Cool Themes, Hide ...</td>\n",
       "      <td>Art &amp; Design</td>\n",
       "      <td>4.7</td>\n",
       "      <td>87510</td>\n",
       "      <td>8.7</td>\n",
       "      <td>5000000</td>\n",
       "      <td>무료</td>\n",
       "      <td>0</td>\n",
       "      <td>전체가</td>\n",
       "      <td>4.0</td>\n",
       "      <td>2018</td>\n",
       "      <td>8</td>\n",
       "      <td>2018.08</td>\n",
       "    </tr>\n",
       "    <tr>\n",
       "      <th>3</th>\n",
       "      <td>Sketch - Draw &amp; Paint</td>\n",
       "      <td>Art &amp; Design</td>\n",
       "      <td>4.5</td>\n",
       "      <td>215644</td>\n",
       "      <td>250.0</td>\n",
       "      <td>50000000</td>\n",
       "      <td>무료</td>\n",
       "      <td>0</td>\n",
       "      <td>청소년</td>\n",
       "      <td>4.2</td>\n",
       "      <td>2018</td>\n",
       "      <td>6</td>\n",
       "      <td>2018.06</td>\n",
       "    </tr>\n",
       "    <tr>\n",
       "      <th>4</th>\n",
       "      <td>Pixel Draw - Number Art Coloring Book</td>\n",
       "      <td>Art &amp; Design;Creativity</td>\n",
       "      <td>4.3</td>\n",
       "      <td>967</td>\n",
       "      <td>2.8</td>\n",
       "      <td>100000</td>\n",
       "      <td>무료</td>\n",
       "      <td>0</td>\n",
       "      <td>전체가</td>\n",
       "      <td>4.4</td>\n",
       "      <td>2018</td>\n",
       "      <td>6</td>\n",
       "      <td>2018.06</td>\n",
       "    </tr>\n",
       "  </tbody>\n",
       "</table>\n",
       "</div>"
      ],
      "text/plain": [
       "                                                  어플  \\\n",
       "0     Photo Editor & Candy Camera & Grid & ScrapBook   \n",
       "1                                Coloring book moana   \n",
       "2  U Launcher Lite – FREE Live Cool Themes, Hide ...   \n",
       "3                              Sketch - Draw & Paint   \n",
       "4              Pixel Draw - Number Art Coloring Book   \n",
       "\n",
       "                          장르   등급    리뷰 수     크기      설치 수  타입 가격  연령층  \\\n",
       "0               Art & Design  4.1     159  190.0     10000  무료  0  전체가   \n",
       "1  Art & Design;Pretend Play  3.9     967  140.0    500000  무료  0  전체가   \n",
       "2               Art & Design  4.7   87510    8.7   5000000  무료  0  전체가   \n",
       "3               Art & Design  4.5  215644  250.0  50000000  무료  0  청소년   \n",
       "4    Art & Design;Creativity  4.3     967    2.8    100000  무료  0  전체가   \n",
       "\n",
       "   안드로이드 버전  업데이트_년도  업데이트_달  업데이트_년달  \n",
       "0       4.0     2018       1  2018.01  \n",
       "1       4.0     2018       1  2018.01  \n",
       "2       4.0     2018       8  2018.08  \n",
       "3       4.2     2018       6  2018.06  \n",
       "4       4.4     2018       6  2018.06  "
      ]
     },
     "execution_count": 4,
     "metadata": {},
     "output_type": "execute_result"
    }
   ],
   "source": [
    "# 맨 처음 5개의 행을 가져오기\n",
    "data[0:5]"
   ]
  },
  {
   "cell_type": "code",
   "execution_count": 5,
   "metadata": {},
   "outputs": [
    {
     "data": {
      "text/html": [
       "<div>\n",
       "<style scoped>\n",
       "    .dataframe tbody tr th:only-of-type {\n",
       "        vertical-align: middle;\n",
       "    }\n",
       "\n",
       "    .dataframe tbody tr th {\n",
       "        vertical-align: top;\n",
       "    }\n",
       "\n",
       "    .dataframe thead th {\n",
       "        text-align: right;\n",
       "    }\n",
       "</style>\n",
       "<table border=\"1\" class=\"dataframe\">\n",
       "  <thead>\n",
       "    <tr style=\"text-align: right;\">\n",
       "      <th></th>\n",
       "      <th>어플</th>\n",
       "      <th>장르</th>\n",
       "      <th>등급</th>\n",
       "      <th>리뷰 수</th>\n",
       "      <th>크기</th>\n",
       "      <th>설치 수</th>\n",
       "      <th>타입</th>\n",
       "      <th>가격</th>\n",
       "      <th>연령층</th>\n",
       "      <th>안드로이드 버전</th>\n",
       "      <th>업데이트_년도</th>\n",
       "      <th>업데이트_달</th>\n",
       "      <th>업데이트_년달</th>\n",
       "    </tr>\n",
       "  </thead>\n",
       "  <tbody>\n",
       "    <tr>\n",
       "      <th>12</th>\n",
       "      <td>Tattoo Name On My Photo Editor</td>\n",
       "      <td>Art &amp; Design</td>\n",
       "      <td>NaN</td>\n",
       "      <td>44829</td>\n",
       "      <td>200.0</td>\n",
       "      <td>10000000</td>\n",
       "      <td>무료</td>\n",
       "      <td>0</td>\n",
       "      <td>청소년</td>\n",
       "      <td>4.1</td>\n",
       "      <td>2018</td>\n",
       "      <td>4</td>\n",
       "      <td>2018.04</td>\n",
       "    </tr>\n",
       "    <tr>\n",
       "      <th>13</th>\n",
       "      <td>Mandala Coloring Book</td>\n",
       "      <td>Art &amp; Design</td>\n",
       "      <td>4.6</td>\n",
       "      <td>4326</td>\n",
       "      <td>210.0</td>\n",
       "      <td>100000</td>\n",
       "      <td>무료</td>\n",
       "      <td>0</td>\n",
       "      <td>전체가</td>\n",
       "      <td>4.4</td>\n",
       "      <td>2018</td>\n",
       "      <td>6</td>\n",
       "      <td>2018.06</td>\n",
       "    </tr>\n",
       "    <tr>\n",
       "      <th>14</th>\n",
       "      <td>3D Color Pixel by Number - Sandbox Art Coloring</td>\n",
       "      <td>Art &amp; Design</td>\n",
       "      <td>NaN</td>\n",
       "      <td>1518</td>\n",
       "      <td>370.0</td>\n",
       "      <td>100000</td>\n",
       "      <td>유료</td>\n",
       "      <td>$1.99</td>\n",
       "      <td>전체가</td>\n",
       "      <td>2.3</td>\n",
       "      <td>2018</td>\n",
       "      <td>8</td>\n",
       "      <td>2018.08</td>\n",
       "    </tr>\n",
       "  </tbody>\n",
       "</table>\n",
       "</div>"
      ],
      "text/plain": [
       "                                                 어플            장르   등급   리뷰 수  \\\n",
       "12                   Tattoo Name On My Photo Editor  Art & Design  NaN  44829   \n",
       "13                            Mandala Coloring Book  Art & Design  4.6   4326   \n",
       "14  3D Color Pixel by Number - Sandbox Art Coloring  Art & Design  NaN   1518   \n",
       "\n",
       "       크기      설치 수  타입     가격  연령층  안드로이드 버전  업데이트_년도  업데이트_달  업데이트_년달  \n",
       "12  200.0  10000000  무료      0  청소년       4.1     2018       4  2018.04  \n",
       "13  210.0    100000  무료      0  전체가       4.4     2018       6  2018.06  \n",
       "14  370.0    100000  유료  $1.99  전체가       2.3     2018       8  2018.08  "
      ]
     },
     "execution_count": 5,
     "metadata": {},
     "output_type": "execute_result"
    }
   ],
   "source": [
    "# index가 [12:15]에 해당하는 것만 가져오기\n",
    "data[12:15]"
   ]
  },
  {
   "cell_type": "markdown",
   "metadata": {},
   "source": [
    "### 3) .loc을 통한 인덱싱 \n",
    "\n",
    "참고 : https://pandas.pydata.org/pandas-docs/stable/reference/api/pandas.DataFrame.loc.html#pandas.DataFrame.loc"
   ]
  },
  {
   "cell_type": "markdown",
   "metadata": {},
   "source": [
    "1. 인자가 하나일 때는 **인덱스**로 접근\n",
    "\n",
    "        .loc[x]\n",
    "        .loc[[x, x1]]\n",
    "        .loc[[x : x1]]\n",
    "\n",
    "\n",
    "2. 인자를 2개 받을 경우 **인덱스**와 **컬럼명**으로 접근\n",
    "\n",
    "        .loc[x : y]\n",
    "        .loc[[x, x1, x2], y]\n",
    "\n",
    "\n",
    "3. 첫 인자를 :로 놓고 컬럼명으로 접근\n",
    "\n",
    "        .loc[:,y]"
   ]
  },
  {
   "cell_type": "code",
   "execution_count": null,
   "metadata": {},
   "outputs": [],
   "source": [
    "data.loc[3]\n",
    "#data.loc[App['Tattoo Name On My Photo Editor']]"
   ]
  },
  {
   "cell_type": "code",
   "execution_count": null,
   "metadata": {},
   "outputs": [],
   "source": [
    "# 컬럼 App, Rating에 대한 모든 값 가져오기\n",
    "data.loc[:,['어플', '등급']]"
   ]
  },
  {
   "cell_type": "code",
   "execution_count": null,
   "metadata": {},
   "outputs": [],
   "source": [
    "data.head()"
   ]
  },
  {
   "cell_type": "markdown",
   "metadata": {},
   "source": [
    "#### 특정 인덱스 값의 컬럼 App, Rating에 대한 모든 값 가져오기\n"
   ]
  },
  {
   "cell_type": "code",
   "execution_count": null,
   "metadata": {},
   "outputs": [],
   "source": [
    "data.loc[순서[5], ['어플', '등급']]"
   ]
  },
  {
   "cell_type": "markdown",
   "metadata": {},
   "source": [
    "#### .at[ x, y ]  : 특정 인덱스 값과 특정 컬럼에 있는 값 가져오기"
   ]
  },
  {
   "cell_type": "code",
   "execution_count": null,
   "metadata": {},
   "outputs": [],
   "source": [
    "data.loc[[5],'어플'] #object타입으로 메타데이터도"
   ]
  },
  {
   "cell_type": "code",
   "execution_count": null,
   "metadata": {},
   "outputs": [],
   "source": [
    "data.at[5, '어플'] # string으로 값만 반환"
   ]
  },
  {
   "cell_type": "markdown",
   "metadata": {},
   "source": [
    "### 4) .iloc : **위치 이용하여 선택하기**"
   ]
  },
  {
   "cell_type": "code",
   "execution_count": null,
   "metadata": {},
   "outputs": [],
   "source": [
    "# python 인덱스 개념. 즉, 5번째 인덱스를 가져오는 게 아닌 6번째 인덱스 get \n",
    "data.iloc[5]"
   ]
  },
  {
   "cell_type": "code",
   "execution_count": null,
   "metadata": {},
   "outputs": [],
   "source": [
    "# 데이터 슬라이싱 및 인덱스\n",
    "data.iloc[3:5,0:2]"
   ]
  },
  {
   "cell_type": "code",
   "execution_count": null,
   "metadata": {},
   "outputs": [],
   "source": [
    "# 데이터 슬라이싱 및 인덱스\n",
    "df.iloc[[1,2,4],[0,2]]"
   ]
  },
  {
   "cell_type": "code",
   "execution_count": null,
   "metadata": {},
   "outputs": [],
   "source": [
    "# 명시적으로 행이나 열 선택 인자에 ' : ' 있으면 -> 행 or 열 전체 가져와라\n",
    "data.iloc[1:5,:]\n",
    "# data.iloc[:,1:5]"
   ]
  },
  {
   "cell_type": "code",
   "execution_count": null,
   "metadata": {},
   "outputs": [],
   "source": [
    "# 값 하나를 섲ㄴ택하기 위해 특정 행과 열 지정 방식. \n",
    "data.iloc[4,2]\n",
    "#data.iat[4,2]"
   ]
  },
  {
   "cell_type": "markdown",
   "metadata": {},
   "source": [
    "### 5) 조건 이용 선택\n",
    "\n",
    "#### 등급이 3.7 이상인 데이터만 선택해서 보고 싶을 땐 어떻게 해야할까요?\n"
   ]
  },
  {
   "cell_type": "code",
   "execution_count": null,
   "metadata": {},
   "outputs": [],
   "source": [
    "data[data.등급 > 3.7]"
   ]
  },
  {
   "cell_type": "code",
   "execution_count": null,
   "metadata": {},
   "outputs": [],
   "source": []
  }
 ],
 "metadata": {
  "kernelspec": {
   "display_name": "Python 3",
   "language": "python",
   "name": "python3"
  },
  "language_info": {
   "codemirror_mode": {
    "name": "ipython",
    "version": 3
   },
   "file_extension": ".py",
   "mimetype": "text/x-python",
   "name": "python",
   "nbconvert_exporter": "python",
   "pygments_lexer": "ipython3",
   "version": "3.7.0"
  }
 },
 "nbformat": 4,
 "nbformat_minor": 2
}
