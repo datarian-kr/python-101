{
 "cells": [
  {
   "cell_type": "markdown",
   "metadata": {},
   "source": [
    "파이선 프래그래밍에서는 if, for, while 등 과 같은 제어문이 있습니다.\n",
    "\n",
    "\n",
    "밥먹듯이 쓰이는 if, for문에 대해서 배우도록 하겠습니다"
   ]
  },
  {
   "cell_type": "markdown",
   "metadata": {},
   "source": [
    "---\n",
    "<br><br><br><br>\n",
    "\n",
    "# If 조건문"
   ]
  },
  {
   "cell_type": "markdown",
   "metadata": {},
   "source": [
    "**if문** : 해당 조건을 판단할 때 사용. "
   ]
  },
  {
   "cell_type": "markdown",
   "metadata": {},
   "source": [
    "**<if문의 기본 구조>**\n",
    "\n",
    "```python\n",
    "if 조건문:\n",
    "    수행 할 문장 1\n",
    "    수행 할 문장 2 \n",
    "else:\n",
    "    수행 할 문장 A\n",
    "    수행 할 문장 B\n",
    "```\n",
    "\n",
    "주의할 점: if문에 속하는 모든 문장에 들여쓰기(indention)!"
   ]
  },
  {
   "cell_type": "code",
   "execution_count": 5,
   "metadata": {},
   "outputs": [
    {
     "name": "stdout",
     "output_type": "stream",
     "text": [
      "매우 사랑스럽고 귀엽다. 그리고 또 귀엽다\n"
     ]
    }
   ],
   "source": [
    "Cat = True # cat에 True를 입력했으므로 Cat는 참. 따라서 if문 다음 문장이 수행되어 매우 옳은 말이 출력된다.\n",
    "\n",
    "if Cat: \n",
    "    print ('매우 사랑스럽고 귀엽다. 그리고 또 귀엽다')\n",
    "\n",
    "else:\n",
    "    print('사람이다. 희망이 없다')"
   ]
  },
  {
   "cell_type": "code",
   "execution_count": 9,
   "metadata": {},
   "outputs": [
    {
     "ename": "IndentationError",
     "evalue": "unexpected indent (<ipython-input-9-783369f9c4c0>, line 8)",
     "output_type": "error",
     "traceback": [
      "\u001b[1;36m  File \u001b[1;32m\"<ipython-input-9-783369f9c4c0>\"\u001b[1;36m, line \u001b[1;32m8\u001b[0m\n\u001b[1;33m    print('사지 말고 입양하세요') # 어떤 문장이든 들여쓰지 않으면 오류가 발생한다.\u001b[0m\n\u001b[1;37m    ^\u001b[0m\n\u001b[1;31mIndentationError\u001b[0m\u001b[1;31m:\u001b[0m unexpected indent\n"
     ]
    }
   ],
   "source": [
    "# if문 들여쓰기 안햇을 때, 오류 예시.\n",
    "\n",
    "Cat = True\n",
    "\n",
    "if Cat: \n",
    "    print ('매우 사랑스럽고 귀엽다. 그리고 또 귀엽다')\n",
    "print('입양 문의는 포인핸드')\n",
    "    print('사지 말고 입양하세요') # 어떤 문장이든 들여쓰지 않으면 오류가 발생한다."
   ]
  },
  {
   "cell_type": "markdown",
   "metadata": {},
   "source": [
    "### **비교 연산자**\n",
    "\n",
    "- x < y : x가 y보다 작다.\n",
    "- x > y : x가 y보다 크다.\n",
    "- x == y : x와 y가 같다.\n",
    "- x != y : x와 y가 같지 않다.\n",
    "- x >= y : x가 y보다 크거나 같다.\n",
    "- x <= y : x가 y보다 작거나 같다"
   ]
  },
  {
   "cell_type": "code",
   "execution_count": 18,
   "metadata": {},
   "outputs": [
    {
     "data": {
      "text/plain": [
       "False"
      ]
     },
     "execution_count": 18,
     "metadata": {},
     "output_type": "execute_result"
    }
   ],
   "source": [
    "# 연산자 예시: \n",
    "x = 3\n",
    "y = 2\n",
    "\n",
    "x < y\n",
    "# x != y\n",
    "# x == y"
   ]
  },
  {
   "cell_type": "code",
   "execution_count": 17,
   "metadata": {},
   "outputs": [
    {
     "name": "stdout",
     "output_type": "stream",
     "text": [
      "매우 사랑스럽고 귀엽다. 그리고 또 귀엽다\n"
     ]
    }
   ],
   "source": [
    "# if문 비교 연산자 예시.\n",
    "\n",
    "Cat = 3000 # cat 사랑해.\n",
    "\n",
    "if Cat >= 486: # 조건문이 3000 >= 486 이기 때문에 참.\n",
    "    print ('매우 사랑스럽고 귀엽다. 그리고 또 귀엽다')\n",
    "\n",
    "else: \n",
    "    print('사람이다. 희망이 없다')"
   ]
  },
  {
   "cell_type": "markdown",
   "metadata": {},
   "source": [
    "### *and, or, not 연산자*\n",
    "\n",
    "- x or y : x와 y 둘 중에 하나만 참이어도 참이다. -> 합집합\n",
    "- x and y : x와 y 모두 참이어야 참이다. -> 교집합\n",
    "- not x : x가 거짓이면 참이다. -> 차집합\n",
    "- not y : y가 거짓이면 참이다."
   ]
  },
  {
   "cell_type": "code",
   "execution_count": 21,
   "metadata": {},
   "outputs": [
    {
     "name": "stdout",
     "output_type": "stream",
     "text": [
      "맞아. 고양이는 매우 사랑스럽고 귀엽지. 알고 있지? 이런, 또 귀엽다\n"
     ]
    }
   ],
   "source": [
    "# and 예시:\n",
    "\n",
    "Cat = 3000 # cat 사랑해.\n",
    "People = 186 # 인간^^\n",
    "\n",
    "if Cat >= 3000 and People == 186: # 듀 조건이 참이기 때문에.\n",
    "    print ('맞아. 고양이는 매우 사랑스럽고 귀엽지. 알고 있지? 이런, 또 귀엽다')\n",
    "\n",
    "else: # Cat, People 둘 중 하나만 조건이 틀렸다면, 출력.\n",
    "    print('사람이다. 희망이 없다')"
   ]
  },
  {
   "cell_type": "markdown",
   "metadata": {},
   "source": [
    "## elif\n",
    "\n",
    "다양한 조건을 판단하는 **elif**\n",
    "- if와 else만으로는 다양한 조건을 판단하기 어렵다. (선택사항이 두개이기 때문에)\n",
    "- 이러한 조건에서 다중 조건을 판단하게 하는 것이 elif이다. "
   ]
  },
  {
   "cell_type": "code",
   "execution_count": 24,
   "metadata": {},
   "outputs": [
    {
     "name": "stdout",
     "output_type": "stream",
     "text": [
      "고양이는 야옹야옹\n"
     ]
    }
   ],
   "source": [
    "# elif를 사용하지 않을 때 산만한 파이썬 코딩.\n",
    "\n",
    "animal = ['cat', 'people']\n",
    "dog = True\n",
    "\n",
    "if 'cat' in animal:\n",
    "    print(\"고양이는 야옹야옹\")\n",
    "else:\n",
    "    if dog:\n",
    "        print(\"강아지는 멍멍\")\n",
    "    else:\n",
    "         print(\"인간은...ㅎ\")"
   ]
  },
  {
   "cell_type": "code",
   "execution_count": 26,
   "metadata": {},
   "outputs": [
    {
     "name": "stdout",
     "output_type": "stream",
     "text": [
      "고양이는 야옹야옹\n"
     ]
    }
   ],
   "source": [
    "# elif를 사용한 코딩\n",
    "\n",
    "animal = ['cat', 'people']\n",
    "dog = True\n",
    "\n",
    "if 'cat' in animal:\n",
    "    print(\"고양이는 야옹야옹\")\n",
    "elif dog: # 여기서 달라짐.\n",
    "    print(\"강아지는 멍멍\") \n",
    "else:      # else는 가장 마지막에 나온다.\n",
    "    print(\"인간은...ㅎ\")"
   ]
  },
  {
   "cell_type": "markdown",
   "metadata": {},
   "source": [
    "elif 기본 구조 : elif는 이전 조건문이 거짓일 때 수행된다.\n",
    "                 elif는 개수의 제한 없이 사용할 수 있다.\n",
    "\n",
    "If <조건문>:\n",
    "    <수행할 문장1> \n",
    "    <수행할 문장2>\n",
    "    ...\n",
    "elif <조건문>: # if가 거짓일 경우 실행\n",
    "    <수행할 문장1>\n",
    "    <수행할 문장2>\n",
    "    ...\n",
    "elif <조건문>: # 그 전 elif가 거짓일 경우 실행\n",
    "    <수행할 문장1>\n",
    "    <수행할 문장2>\n",
    "    ...\n",
    "...\n",
    "else: # 마지막 조건.\n",
    "   <수행할 문장1>\n",
    "   <수행할 문장2>\n",
    "   ... "
   ]
  }
 ],
 "metadata": {
  "kernelspec": {
   "display_name": "Python 3",
   "language": "python",
   "name": "python3"
  },
  "language_info": {
   "codemirror_mode": {
    "name": "ipython",
    "version": 3
   },
   "file_extension": ".py",
   "mimetype": "text/x-python",
   "name": "python",
   "nbconvert_exporter": "python",
   "pygments_lexer": "ipython3",
   "version": "3.7.0"
  }
 },
 "nbformat": 4,
 "nbformat_minor": 2
}
