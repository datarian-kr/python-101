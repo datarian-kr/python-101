{
 "cells": [
  {
   "cell_type": "markdown",
   "metadata": {},
   "source": [
    "---\n",
    "\n",
    "<br><br><br><br>\n",
    "\n",
    "# **for 반복문**\n",
    "\n",
    "반복적인 작업을 효율적으로 명령\n",
    "\n",
    "**<for문 기본 구조>**\n",
    "\n",
    "```python\n",
    "for 변수 in 리스트(또는 튜플, 문자열):\n",
    "    수행할 문장1\n",
    "    수행할 문장2\n",
    "    ...\n",
    "```"
   ]
  },
  {
   "cell_type": "markdown",
   "metadata": {},
   "source": [
    "### Hello World를 10번 작성한다고 했을 때, 여러 가지 방법 중 2가지 방법을 소개한다."
   ]
  },
  {
   "cell_type": "markdown",
   "metadata": {},
   "source": [
    "#### 방법 1  -> print('Hello World')을 10번 친다.\n"
   ]
  },
  {
   "cell_type": "code",
   "execution_count": 31,
   "metadata": {
    "collapsed": true
   },
   "outputs": [
    {
     "name": "stdout",
     "output_type": "stream",
     "text": [
      "Hello World\n",
      "Hello World\n",
      "Hello World\n",
      "Hello World\n",
      "Hello World\n",
      "Hello World\n",
      "Hello World\n",
      "Hello World\n",
      "Hello World\n",
      "Hello World\n"
     ]
    }
   ],
   "source": [
    "print('Hello World')\n",
    "print('Hello World')\n",
    "print('Hello World')\n",
    "print('Hello World')\n",
    "print('Hello World')\n",
    "print('Hello World')\n",
    "print('Hello World')\n",
    "print('Hello World')\n",
    "print('Hello World')\n",
    "print('Hello World')"
   ]
  },
  {
   "cell_type": "markdown",
   "metadata": {},
   "source": [
    "#### 방법 2 -> for문 활용"
   ]
  },
  {
   "cell_type": "code",
   "execution_count": 48,
   "metadata": {
    "collapsed": true
   },
   "outputs": [
    {
     "name": "stdout",
     "output_type": "stream",
     "text": [
      "Hello World 0\n",
      "Hello World 1\n",
      "Hello World 2\n",
      "Hello World 3\n",
      "Hello World 4\n",
      "Hello World 5\n",
      "Hello World 6\n",
      "Hello World 7\n",
      "Hello World 8\n",
      "Hello World 9\n"
     ]
    }
   ],
   "source": [
    "for i in range(0,10):\n",
    "    print('Hello World', i)"
   ]
  },
  {
   "cell_type": "markdown",
   "metadata": {},
   "source": [
    "#### 논외) for문 숫자 감소 방법 1\n"
   ]
  },
  {
   "cell_type": "code",
   "execution_count": 58,
   "metadata": {
    "collapsed": true
   },
   "outputs": [
    {
     "name": "stdout",
     "output_type": "stream",
     "text": [
      "Hello World 10\n",
      "Hello World 9\n",
      "Hello World 8\n",
      "Hello World 7\n",
      "Hello World 6\n",
      "Hello World 5\n",
      "Hello World 4\n",
      "Hello World 3\n",
      "Hello World 2\n",
      "Hello World 1\n"
     ]
    }
   ],
   "source": [
    "for i in range(10, 0,-1):\n",
    "    print('Hello World', i)"
   ]
  },
  {
   "cell_type": "markdown",
   "metadata": {},
   "source": [
    "#### 논외) for문 숫자 감소 방법 2\n"
   ]
  },
  {
   "cell_type": "code",
   "execution_count": 59,
   "metadata": {
    "collapsed": true
   },
   "outputs": [
    {
     "name": "stdout",
     "output_type": "stream",
     "text": [
      "Hello World 9\n",
      "Hello World 8\n",
      "Hello World 7\n",
      "Hello World 6\n",
      "Hello World 5\n",
      "Hello World 4\n",
      "Hello World 3\n",
      "Hello World 2\n",
      "Hello World 1\n",
      "Hello World 0\n"
     ]
    }
   ],
   "source": [
    "for i in reversed(range(10)): # reversed 함수를 활용하여 range 숫자의 순서를 반대로 뒤짐음\n",
    "    print('Hello World', i)"
   ]
  },
  {
   "cell_type": "markdown",
   "metadata": {},
   "source": [
    "##### reserved 활용 방법\n",
    "\n",
    "- for 변수 in reversed(range(횟수))\n",
    "- for 변수 in reversed(range(시작, 끝))\n",
    "- for 변수 in reversed(range(시작, 끝, 증각폭))"
   ]
  },
  {
   "cell_type": "code",
   "execution_count": 61,
   "metadata": {},
   "outputs": [
    {
     "name": "stdout",
     "output_type": "stream",
     "text": [
      "cat\n",
      "dog\n",
      "people\n"
     ]
    }
   ],
   "source": [
    "# 전형적인 for문 예시 -> list로 for문 돌리기.\n",
    "\n",
    "animal = ['cat','dog', 'people']\n",
    "\n",
    "for i in animal: \n",
    "     print(i)"
   ]
  },
  {
   "cell_type": "code",
   "execution_count": 62,
   "metadata": {},
   "outputs": [
    {
     "name": "stdout",
     "output_type": "stream",
     "text": [
      "0\n",
      "1\n",
      "2\n"
     ]
    }
   ],
   "source": [
    "animal = ['cat','dog', 'people']\n",
    "\n",
    "for i in range(len(animal)):  # len 길이 함수\n",
    "     print(i)"
   ]
  },
  {
   "cell_type": "code",
   "execution_count": 45,
   "metadata": {},
   "outputs": [
    {
     "name": "stdout",
     "output_type": "stream",
     "text": [
      "3\n",
      "7\n",
      "11\n"
     ]
    }
   ],
   "source": [
    "# 다양한 for문 사용\n",
    "\n",
    "a = [(1,2), (3,4), (5,6)]\n",
    "\n",
    "for (first, last) in a: # a리스트의 요솟값이 튜플이기 때문에 각각의 요소가 자동으로 (first, list) 변수 대입\n",
    "     print(first + last) # (first + last) = (1+2) "
   ]
  },
  {
   "cell_type": "code",
   "execution_count": 65,
   "metadata": {},
   "outputs": [
    {
     "name": "stdout",
     "output_type": "stream",
     "text": [
      "0 * 0 = 0\n",
      "0 * 1 = 0\n",
      "0 * 2 = 0\n",
      "0 * 3 = 0\n",
      "1 * 0 = 0\n",
      "1 * 1 = 1\n",
      "1 * 2 = 2\n",
      "1 * 3 = 3\n"
     ]
    }
   ],
   "source": [
    "# for문 응용 -> for문안에 for문\n",
    "\n",
    "for i in range(2):\n",
    "     for j in range(4):\n",
    "        print(i, \"*\", j, \"=\", i*j)"
   ]
  },
  {
   "cell_type": "code",
   "execution_count": 71,
   "metadata": {},
   "outputs": [
    {
     "name": "stdout",
     "output_type": "stream",
     "text": [
      "1번 학생은 합격입니다.\n",
      "2번 학생은 불합격입니다.\n",
      "3번 학생은 합격입니다.\n",
      "4번 학생은 불합격입니다.\n",
      "5번 학생은 합격입니다.\n"
     ]
    }
   ],
   "source": [
    "scores = [90, 25, 67, 45, 80]\n",
    "number = 0 \n",
    "\n",
    "for scores in scores: \n",
    "    number = number +1 \n",
    "    \n",
    "    if scores >= 50: \n",
    "        print(\"%d번 학생은 합격입니다.\" % number)\n",
    "    \n",
    "    else: \n",
    "        print(\"%d번 학생은 불합격입니다.\" % number)"
   ]
  },
  {
   "cell_type": "markdown",
   "metadata": {},
   "source": [
    "### for문으로  list 효율적으로 사용하기\n",
    " \n",
    "\n",
    "**<구조>**\n",
    "[표현식 for 항목 in 반복가능객체 if 조건문]\n",
    "\n",
    "\n",
    "<for in for>\n",
    "표현식 \n",
    "\n",
    "```python\n",
    "    for 항목1 in 반복가능객체1 if 조건문1\n",
    "    \n",
    "    for 항목2 in 반복가능객체2 if 조건문2\n",
    "\n",
    "    for 항목n in 반복가능객체n if 조건문n\n",
    "```"
   ]
  },
  {
   "cell_type": "code",
   "execution_count": 77,
   "metadata": {},
   "outputs": [
    {
     "name": "stdout",
     "output_type": "stream",
     "text": [
      "[3, 6, 9, 12]\n"
     ]
    }
   ],
   "source": [
    "# 리스트 사용 안 한 코드 -> 코드 약간 변경하기 밑에 것도.\n",
    "\n",
    "a = [1,2,3,4]\n",
    "result = []\n",
    "\n",
    "for num in a:\n",
    "     result.append(num*3)\n",
    "        \n",
    "print(result)"
   ]
  },
  {
   "cell_type": "code",
   "execution_count": 75,
   "metadata": {},
   "outputs": [
    {
     "name": "stdout",
     "output_type": "stream",
     "text": [
      "[3, 6, 9, 12]\n"
     ]
    }
   ],
   "source": [
    "# 리스트 내포 사용\n",
    "\n",
    "a = [1,2,3,4]\n",
    "\n",
    "result = [num * 3 for num in a]\n",
    "\n",
    "print(result)"
   ]
  },
  {
   "cell_type": "code",
   "execution_count": 78,
   "metadata": {},
   "outputs": [
    {
     "name": "stdout",
     "output_type": "stream",
     "text": [
      "[6, 12]\n"
     ]
    }
   ],
   "source": [
    "# 리스트 내포, if 사용.\n",
    "\n",
    "a = [1,2,3,4]\n",
    "\n",
    "result = [num * 3 for num in a if num % 2 == 0]\n",
    "print(result)"
   ]
  },
  {
   "cell_type": "code",
   "execution_count": null,
   "metadata": {},
   "outputs": [],
   "source": []
  }
 ],
 "metadata": {
  "kernelspec": {
   "display_name": "Python 3",
   "language": "python",
   "name": "python3"
  },
  "language_info": {
   "codemirror_mode": {
    "name": "ipython",
    "version": 3
   },
   "file_extension": ".py",
   "mimetype": "text/x-python",
   "name": "python",
   "nbconvert_exporter": "python",
   "pygments_lexer": "ipython3",
   "version": "3.7.0"
  }
 },
 "nbformat": 4,
 "nbformat_minor": 2
}
