{
 "cells": [
  {
   "cell_type": "markdown",
   "metadata": {},
   "source": [
    "# 4강. 판다스로 데이터 살펴보기\n",
    "------------"
   ]
  },
  {
   "cell_type": "code",
   "execution_count": null,
   "metadata": {},
   "outputs": [],
   "source": [
    "# pandas 사용하기\n",
    "import pandas as pd"
   ]
  },
  {
   "cell_type": "markdown",
   "metadata": {},
   "source": [
    "판다스 공식문서 및 참고 링크\n",
    "- https://pandas.pydata.org/pandas-docs/stable/getting_started/10min.html\n",
    "- https://dandyrilla.github.io/2017-08-12/pandas-10min/\n",
    "- https://doorbw.tistory.com/172\n",
    "\n"
   ]
  },
  {
   "cell_type": "markdown",
   "metadata": {},
   "source": [
    "<br><br><br>\n",
    "\n",
    "----------------------------------------\n",
    "\n",
    "목차 \n",
    "1. 데이터 불러오기\n",
    "2. 데이터 맛보기(크게 훑어보기)\n",
    "3. 데이터 선택하기\n",
    "4. 데이터 변경하기(조작하기)\n",
    "5. DataFrame 메서드\n",
    "6. 간단한 시각화를 통해 데이터 다시보기\n",
    "----"
   ]
  },
  {
   "cell_type": "markdown",
   "metadata": {},
   "source": [
    "## 1. 데이터 불러오기\n",
    "    1) 절대 경로를 통해 파일 열기\n",
    "    2) 상대 경로를 통해 파일 열기\n",
    "<br>\n",
    "\n",
    "**파일 위치 찾기**\n",
    "\n",
    "- 절대 경로: 파일이 가지고 있는 고유한 경로\n",
    "- 상대 경로: 현재 위치한 곳을 기준으로 한 경로\n",
    "\n",
    "\n",
    "**해당 파일 열기**\n",
    "- csv 파일 열기: .read_csv('파일명.csv')\n",
    "- excel 파일 열기: .read_excel('파일명.xlsx')\n",
    "\n",
    "<br><br>"
   ]
  },
  {
   "cell_type": "markdown",
   "metadata": {},
   "source": [
    "### 1) 절대 경로를 통해 파일 열기"
   ]
  },
  {
   "cell_type": "code",
   "execution_count": null,
   "metadata": {},
   "outputs": [],
   "source": [
    "pwd # 내 위치 확인\n",
    "mypath = pwd"
   ]
  },
  {
   "cell_type": "code",
   "execution_count": null,
   "metadata": {},
   "outputs": [],
   "source": [
    "# .read_csv('파일명.csv')\n",
    "# data=pd.read_csv('C:\\\\Users\\\\park\\\\Desktop\\\\datarian-kr\\\\01. Python Textbook/kr_googlestore.csv')"
   ]
  },
  {
   "cell_type": "markdown",
   "metadata": {},
   "source": [
    "<br>\n",
    "\n",
    "### 2) 상대 경로를 통해 파일 열기"
   ]
  },
  {
   "cell_type": "code",
   "execution_count": null,
   "metadata": {},
   "outputs": [],
   "source": [
    "# .read_csv('파일명.csv') csv 데이터 읽기\n",
    "data=pd.read_csv('kr_googlestore.csv')"
   ]
  },
  {
   "cell_type": "markdown",
   "metadata": {},
   "source": [
    "----------\n",
    "<br><br><br><br><br>\n",
    "\n",
    "## 02. 데이터 맛보기(크게 훑어보기)"
   ]
  },
  {
   "cell_type": "markdown",
   "metadata": {},
   "source": [
    "<br><br>\n",
    "\n",
    "### 1) 데이터 샘플 뽑아 보기\n",
    "\n",
    "- .head(n)   : 상위 n개 데이터 \n",
    "- .tail(n)   : 하위 n개 데이터 \n",
    "- .sample(n) : 데이터 랜덤 샘플 n개\n",
    "\n",
    "<br><br>"
   ]
  },
  {
   "cell_type": "markdown",
   "metadata": {},
   "source": [
    "#### 상위 n개 데이터 뽑기 : .head(n)  => (default : 5개)"
   ]
  },
  {
   "cell_type": "code",
   "execution_count": null,
   "metadata": {},
   "outputs": [],
   "source": [
    "data.head()"
   ]
  },
  {
   "cell_type": "markdown",
   "metadata": {},
   "source": [
    "#### 하위 n개 데이터 뽑기 : .tail(n) => default : 5개"
   ]
  },
  {
   "cell_type": "code",
   "execution_count": null,
   "metadata": {},
   "outputs": [],
   "source": [
    "data.tail()"
   ]
  },
  {
   "cell_type": "markdown",
   "metadata": {},
   "source": [
    "#### 데이터 랜덤 샘플 n개 뽑기 : .sample(n) => default : 10개"
   ]
  },
  {
   "cell_type": "code",
   "execution_count": null,
   "metadata": {},
   "outputs": [],
   "source": [
    "data.sample(10)"
   ]
  },
  {
   "cell_type": "markdown",
   "metadata": {},
   "source": [
    "---\n",
    "<br><br>\n",
    "\n",
    "### 2) 데이터 행렬 조작하기\n",
    "\n",
    "- ```.index``` : Data Frame 속성/행 방향의 index\n",
    "- ```.columns``` : Data Frame 컬럼 / 열 방향의 index\n",
    "- ```.values``` : numpy 데이터 확인하기 => 값 얻기\n"
   ]
  },
  {
   "cell_type": "markdown",
   "metadata": {},
   "source": [
    "<br><br>"
   ]
  },
  {
   "cell_type": "markdown",
   "metadata": {},
   "source": [
    "#### 데이터 프레임 속성 확인 : .index"
   ]
  },
  {
   "cell_type": "code",
   "execution_count": null,
   "metadata": {},
   "outputs": [],
   "source": [
    "data.index"
   ]
  },
  {
   "cell_type": "markdown",
   "metadata": {},
   "source": [
    "#### 데이터 컬럼 확인 : .columns"
   ]
  },
  {
   "cell_type": "code",
   "execution_count": null,
   "metadata": {},
   "outputs": [],
   "source": [
    "data.columns"
   ]
  },
  {
   "cell_type": "markdown",
   "metadata": {},
   "source": [
    "#### 데이터 확인 : .values"
   ]
  },
  {
   "cell_type": "code",
   "execution_count": null,
   "metadata": {},
   "outputs": [],
   "source": [
    "data.values"
   ]
  },
  {
   "cell_type": "markdown",
   "metadata": {},
   "source": [
    "<br><br>\n",
    "\n",
    "------"
   ]
  },
  {
   "cell_type": "markdown",
   "metadata": {},
   "source": [
    "### 3) 데이터 값 살펴보기: uniqe, value"
   ]
  },
  {
   "cell_type": "markdown",
   "metadata": {},
   "source": [
    "- ```unique``` : 데이터 안에 있는 값을 중복 없이 반환\n",
    "- ```nunique``` : 데이터 안에 있는 값을 중복 제외된 갯수를 확인\n",
    "\n",
    "<br>\n",
    "\n",
    "- ```values```: 데이터 안에 어떤 값이 들어있는지 중복 포함하여 모두 반환\n",
    "- ```value_counts```: 데이터 안에 어떤 값이 들어있는지 갯수 확인 \n"
   ]
  },
  {
   "cell_type": "markdown",
   "metadata": {},
   "source": [
    "<br><br>"
   ]
  },
  {
   "cell_type": "markdown",
   "metadata": {},
   "source": [
    "#### 데이터 값의 종류 확인 : unique()"
   ]
  },
  {
   "cell_type": "code",
   "execution_count": null,
   "metadata": {},
   "outputs": [],
   "source": [
    "data['안드로이드 버전'].unique()"
   ]
  },
  {
   "cell_type": "markdown",
   "metadata": {},
   "source": [
    "#### 데이터 값의 종류 갯수 확인 : nuniqe()"
   ]
  },
  {
   "cell_type": "code",
   "execution_count": null,
   "metadata": {},
   "outputs": [],
   "source": [
    "data['안드로이드 버전'].nunique()"
   ]
  },
  {
   "cell_type": "markdown",
   "metadata": {},
   "source": [
    "#### 데이터 값 확인 : values"
   ]
  },
  {
   "cell_type": "code",
   "execution_count": null,
   "metadata": {},
   "outputs": [],
   "source": [
    "data['안드로이드 버전'].values"
   ]
  },
  {
   "cell_type": "markdown",
   "metadata": {},
   "source": [
    "#### 데이터 값의 종류 갯수 확인 : value_counts()"
   ]
  },
  {
   "cell_type": "code",
   "execution_count": null,
   "metadata": {},
   "outputs": [],
   "source": [
    "data['안드로이드 버전'].value_counts()"
   ]
  },
  {
   "cell_type": "markdown",
   "metadata": {},
   "source": [
    "---\n",
    "<br><br><br><br><br>\n"
   ]
  },
  {
   "cell_type": "markdown",
   "metadata": {},
   "source": [
    "### 4) 결측치(missing) \n",
    "\n",
    "\n",
    "#### 왜 데이터에 결측값이 있으면 안좋을까요? 어떤 상황에 어떤 값으로 채워 넣는 것이 데이터를 최대한 훼손하지 않는 방법일까요?\n",
    "\n",
    "10명의 사람들의 키 평균을 재려고 하는데, 한 사람이 키를 적어내지 않았지만 사람 수에는 포함이 될 때, 평균 키를 얼마나 깎아 먹을까요?\n",
    "판다스 내부 함수들에서 이런 경우들을 자동으로 처리해주는 메서드가 많긴 하지만, 데이터끼리 합친다거나 계산하게 될 때 에러가 생기는 경우가 많아요\n",
    "\n",
    "Series 데이터 타입을 공부할 때 다른 인덱스가 다를 때 연산이 되지 않고 NaN을 뽑아낸 것과 같은 경우 말이에요.\n",
    "\n",
    "\n",
    "\n",
    "\n",
    "### a. 내 데이터에 missing 값이 있는지 체크해 보기\n",
    "- isnull() 메소드는 관측치가 결측이면, True / 결측이 아니면, False의 boollean 값 반환\n",
    "- notnull()메소드는 관측치가 결측이면, False / 결측이 아니면, True의 boollean 값 반환 -> isnull 정반대."
   ]
  },
  {
   "cell_type": "code",
   "execution_count": null,
   "metadata": {
    "scrolled": true
   },
   "outputs": [],
   "source": [
    "pd.isnull(data)"
   ]
  },
  {
   "cell_type": "markdown",
   "metadata": {},
   "source": [
    "### b. 칼럼별 결측값 개수 구하기: df.isnull().sum()\n",
    "\n",
    "\n",
    "boolean 타입은 0(False)과 1(True)로 값이 변환이 되기 때문에 sum()을 할 경우, True의 경우들의 갯수가 나옵니다."
   ]
  },
  {
   "cell_type": "code",
   "execution_count": null,
   "metadata": {},
   "outputs": [],
   "source": [
    "data.isnull().sum()"
   ]
  },
  {
   "cell_type": "markdown",
   "metadata": {},
   "source": [
    "<br>\n",
    "\n",
    "특정 칼럼 '크기'에 결측값이 몇개 있는지 알고 싶을 때는 컬럼명으로 인덱싱을 해준 후 isnull().sum()을 해주면 됩니다."
   ]
  },
  {
   "cell_type": "code",
   "execution_count": null,
   "metadata": {},
   "outputs": [],
   "source": [
    "data['크기'].isnull().sum()"
   ]
  },
  {
   "cell_type": "markdown",
   "metadata": {},
   "source": [
    "<br>\n",
    "\n",
    "### c. **결측치 연산 방법**\n",
    "- 참고: https://rfriend.tistory.com/261?category=675917"
   ]
  },
  {
   "cell_type": "markdown",
   "metadata": {},
   "source": [
    "1) sum(), cumsum() methods 계산 시 : NaN은 '0'으로 처리"
   ]
  },
  {
   "cell_type": "markdown",
   "metadata": {},
   "source": [
    "2) mean(), std() 연산 시 : NaN은 분석 대상(population)에서 제외"
   ]
  },
  {
   "cell_type": "markdown",
   "metadata": {},
   "source": [
    "3) DataFrame 칼럼 간 연산 시 : NaN이 하나라도 있으면 NaN 반환\n",
    "4) 컬럼을 아예 삭제하거나 등등등등"
   ]
  },
  {
   "cell_type": "code",
   "execution_count": null,
   "metadata": {},
   "outputs": [],
   "source": [
    "# Nan 제외하고 평균 만들어짐.\n",
    "data['등급'].mean()"
   ]
  },
  {
   "cell_type": "code",
   "execution_count": null,
   "metadata": {},
   "outputs": [],
   "source": [
    "# Nan 제외하고 std 만들어짐.\n",
    "data['등급'].std()"
   ]
  },
  {
   "cell_type": "code",
   "execution_count": null,
   "metadata": {},
   "outputs": [],
   "source": [
    "data['크기'].mean()"
   ]
  },
  {
   "cell_type": "code",
   "execution_count": null,
   "metadata": {},
   "outputs": [],
   "source": [
    "# 데이터 null 값 넣기. \n",
    "data.loc[data['등급'].isnull(), '등급'] = 4.2\n",
    "data.loc[data['크기'].isnull(), '크기'] = 144.2\n",
    "# data=data.fillna(data.mean())"
   ]
  },
  {
   "cell_type": "code",
   "execution_count": null,
   "metadata": {},
   "outputs": [],
   "source": [
    "data.isnull().sum()"
   ]
  },
  {
   "cell_type": "code",
   "execution_count": null,
   "metadata": {},
   "outputs": [],
   "source": [
    "# 조건을 충족할 때, 결측치를 넣어주세요. \n",
    "'''\n",
    "check_null = data['등급'].isnull()\n",
    "condition1 = data['리뷰수'] >= 100\n",
    "\n",
    "data.loc[check_null & condition1, '등급'] = 4.2 ''' "
   ]
  },
  {
   "cell_type": "markdown",
   "metadata": {},
   "source": [
    "**타입에 일부러 nan만들어서, 조건 충족 하면 어떨까요?**"
   ]
  },
  {
   "cell_type": "code",
   "execution_count": null,
   "metadata": {},
   "outputs": [],
   "source": [
    "# data.loc[data['등급'].isnull(), '등급'] = 4.2"
   ]
  },
  {
   "cell_type": "code",
   "execution_count": null,
   "metadata": {},
   "outputs": [],
   "source": [
    "# .T 속성 -> Transpose index and columns. => index와 column 바꾼 형태.\n",
    "# data.T"
   ]
  },
  {
   "cell_type": "code",
   "execution_count": null,
   "metadata": {},
   "outputs": [],
   "source": [
    "# 각 인덱스에 대한 이름 설정하기\n",
    "data.index.name = '순서'\n",
    "data"
   ]
  },
  {
   "cell_type": "markdown",
   "metadata": {},
   "source": [
    "---\n",
    "<br><br><br><br><br>\n"
   ]
  },
  {
   "cell_type": "markdown",
   "metadata": {},
   "source": [
    "## 5) **통계 함수**\n",
    "- mead() 평균\n",
    "- std() 표준편차\n",
    "- sum() 합계\n",
    "- median() 중위수\n",
    "- min() 최솟값\n",
    "- max() 최댓값\n",
    "- n() 빈도"
   ]
  },
  {
   "cell_type": "code",
   "execution_count": null,
   "metadata": {},
   "outputs": [],
   "source": [
    "# describe() 함수 -> data frame의 간단한 통계 정보를 알려준다. \n",
    "data.describe()"
   ]
  },
  {
   "cell_type": "code",
   "execution_count": null,
   "metadata": {},
   "outputs": [],
   "source": [
    "# 최댓갓 예시\n",
    "data['크기'].max()"
   ]
  },
  {
   "cell_type": "code",
   "execution_count": null,
   "metadata": {},
   "outputs": [],
   "source": [
    "# DataFrame을 만들면서 columns와 index를 설정할 수 있다.\n",
    "df2 = pd.DataFrame(data, columns=['year', 'name', 'points', 'penalty'],\n",
    "                  index=['one', 'two', 'three', 'four', 'five'])\n",
    "df2"
   ]
  },
  {
   "cell_type": "code",
   "execution_count": null,
   "metadata": {},
   "outputs": [],
   "source": [
    "# DataFrame을 만들면서 columns와 index를 설정할 수 있다.\n",
    "data2 = pd.DataFrame(data, columns=['year', 'name', 'points', 'penalty'],\n",
    "                  index=['one', 'two', 'three', 'four', 'five'])\n",
    "df2"
   ]
  },
  {
   "cell_type": "markdown",
   "metadata": {},
   "source": [
    "---\n",
    "<br><br>\n"
   ]
  },
  {
   "cell_type": "markdown",
   "metadata": {},
   "source": [
    "## 6) 정렬\n",
    "\n",
    "### .sort_inex()** -> 행과 열 이름 정렬\n",
    "\n",
    "정렬할 대상 축을 결정할 때, axis.\n",
    "- axis = 0 => 인덱스 기준 정렬(기본값)\n",
    "- axis = 1 => 컬럼 기준.\n",
    "\n",
    "정렬의 방향에 대한 파라미터, ascending.\n",
    "- ascending = True 오름차순(기본값)\n",
    "- ascending = False 내림차순"
   ]
  },
  {
   "cell_type": "markdown",
   "metadata": {},
   "source": [
    "#### 내림차순 정렬 예시\n"
   ]
  },
  {
   "cell_type": "code",
   "execution_count": null,
   "metadata": {
    "scrolled": true
   },
   "outputs": [],
   "source": [
    "data.sort_index(axis=1, ascending=False)"
   ]
  },
  {
   "cell_type": "markdown",
   "metadata": {},
   "source": [
    "#### DataFrame 내부 값 정렬"
   ]
  },
  {
   "cell_type": "code",
   "execution_count": null,
   "metadata": {},
   "outputs": [],
   "source": [
    "data.sort_values(by='등급')"
   ]
  },
  {
   "cell_type": "markdown",
   "metadata": {},
   "source": [
    "---\n",
    "<br><br><br><br><br>\n"
   ]
  },
  {
   "cell_type": "markdown",
   "metadata": {},
   "source": [
    "# 3. **데이터 선택**"
   ]
  },
  {
   "cell_type": "markdown",
   "metadata": {},
   "source": [
    "### 1) 특정 '컬럼'의 값 가져오기"
   ]
  },
  {
   "cell_type": "code",
   "execution_count": null,
   "metadata": {},
   "outputs": [],
   "source": [
    "data['어플']"
   ]
  },
  {
   "cell_type": "code",
   "execution_count": null,
   "metadata": {},
   "outputs": [],
   "source": [
    "data.어플"
   ]
  },
  {
   "cell_type": "markdown",
   "metadata": {},
   "source": [
    "### 2) DataFrame 인덱싱"
   ]
  },
  {
   "cell_type": "code",
   "execution_count": null,
   "metadata": {},
   "outputs": [],
   "source": [
    "# 맨 처음 5개의 행을 가져오기\n",
    "data[0:5]"
   ]
  },
  {
   "cell_type": "code",
   "execution_count": null,
   "metadata": {},
   "outputs": [],
   "source": [
    "# index가 [12:15]에 해당하는 것만 가져오기\n",
    "data[12:15]"
   ]
  },
  {
   "cell_type": "markdown",
   "metadata": {},
   "source": [
    "### 3) .loc을 통한 인덱싱 \n",
    "\n",
    "참고 : https://pandas.pydata.org/pandas-docs/stable/reference/api/pandas.DataFrame.loc.html#pandas.DataFrame.loc"
   ]
  },
  {
   "cell_type": "markdown",
   "metadata": {},
   "source": [
    "1. 인자가 하나일 때는 **인덱스**로 접근\n",
    "\n",
    "        .loc[x]\n",
    "        .loc[[x, x1]]\n",
    "        .loc[[x : x1]]\n",
    "\n",
    "\n",
    "2. 인자를 2개 받을 경우 **인덱스**와 **컬럼명**으로 접근\n",
    "\n",
    "        .loc[x : y]\n",
    "        .loc[[x, x1, x2], y]\n",
    "\n",
    "\n",
    "3. 첫 인자를 :로 놓고 컬럼명으로 접근\n",
    "\n",
    "        .loc[:,y]"
   ]
  },
  {
   "cell_type": "code",
   "execution_count": null,
   "metadata": {},
   "outputs": [],
   "source": [
    "data.loc[3]\n",
    "#data.loc[App['Tattoo Name On My Photo Editor']]"
   ]
  },
  {
   "cell_type": "code",
   "execution_count": null,
   "metadata": {},
   "outputs": [],
   "source": [
    "# 컬럼 App, Rating에 대한 모든 값 가져오기\n",
    "data.loc[:,['어플', '등급']]"
   ]
  },
  {
   "cell_type": "code",
   "execution_count": null,
   "metadata": {},
   "outputs": [],
   "source": [
    "data.head()"
   ]
  },
  {
   "cell_type": "markdown",
   "metadata": {},
   "source": [
    "#### 특정 인덱스 값의 컬럼 App, Rating에 대한 모든 값 가져오기\n"
   ]
  },
  {
   "cell_type": "code",
   "execution_count": null,
   "metadata": {},
   "outputs": [],
   "source": [
    "data.loc[순서[5], ['어플', '등급']]"
   ]
  },
  {
   "cell_type": "markdown",
   "metadata": {},
   "source": [
    "#### .at[ x, y ]  : 특정 인덱스 값과 특정 컬럼에 있는 값 가져오기"
   ]
  },
  {
   "cell_type": "code",
   "execution_count": null,
   "metadata": {},
   "outputs": [],
   "source": [
    "data.loc[[5],'어플'] #object타입으로 메타데이터도"
   ]
  },
  {
   "cell_type": "code",
   "execution_count": null,
   "metadata": {},
   "outputs": [],
   "source": [
    "data.at[5, '어플'] # string으로 값만 반환"
   ]
  },
  {
   "cell_type": "markdown",
   "metadata": {},
   "source": [
    "### 4) .iloc : **위치 이용하여 선택하기**"
   ]
  },
  {
   "cell_type": "code",
   "execution_count": null,
   "metadata": {},
   "outputs": [],
   "source": [
    "# python 인덱스 개념. 즉, 5번째 인덱스를 가져오는 게 아닌 6번째 인덱스 get \n",
    "data.iloc[5]"
   ]
  },
  {
   "cell_type": "code",
   "execution_count": null,
   "metadata": {},
   "outputs": [],
   "source": [
    "# 데이터 슬라이싱 및 인덱스\n",
    "data.iloc[3:5,0:2]"
   ]
  },
  {
   "cell_type": "code",
   "execution_count": null,
   "metadata": {},
   "outputs": [],
   "source": [
    "# 데이터 슬라이싱 및 인덱스\n",
    "df.iloc[[1,2,4],[0,2]]"
   ]
  },
  {
   "cell_type": "code",
   "execution_count": null,
   "metadata": {},
   "outputs": [],
   "source": [
    "# 명시적으로 행이나 열 선택 인자에 ' : ' 있으면 -> 행 or 열 전체 가져와라\n",
    "data.iloc[1:5,:]\n",
    "# data.iloc[:,1:5]"
   ]
  },
  {
   "cell_type": "code",
   "execution_count": null,
   "metadata": {},
   "outputs": [],
   "source": [
    "# 값 하나를 섲ㄴ택하기 위해 특정 행과 열 지정 방식. \n",
    "data.iloc[4,2]\n",
    "#data.iat[4,2]"
   ]
  },
  {
   "cell_type": "markdown",
   "metadata": {},
   "source": [
    "### 5) 조건 이용 선택\n",
    "\n",
    "#### 등급이 3.7 이상인 데이터만 선택해서 보고 싶을 땐 어떻게 해야할까요?\n"
   ]
  },
  {
   "cell_type": "code",
   "execution_count": null,
   "metadata": {},
   "outputs": [],
   "source": [
    "data[data.등급 > 3.7]"
   ]
  },
  {
   "cell_type": "markdown",
   "metadata": {},
   "source": [
    "---\n",
    "<br><br><br><br><br>\n"
   ]
  },
  {
   "cell_type": "markdown",
   "metadata": {},
   "source": [
    "# 4. **데이터 변경하기**\n",
    "\n",
    "데이터 프레임 특정 값들을 다른 값으로 변경 할 수 있다. \n",
    "\n",
    "기존 데이터 프레임에 새로운 열을 추가하고 싶을 때는 다음과 같이 같은 인덱스를 가진 시리즈 하나를 데이터 프레임 열 하나를 지정하여 넣어준다"
   ]
  },
  {
   "cell_type": "code",
   "execution_count": null,
   "metadata": {},
   "outputs": [],
   "source": [
    "# 값 알맞게 찾아서 넣기. \n",
    "test = pd.Series(['Photo Editor', 2, 3, 4, 5, 6], index=pd.date_range('20130102', periods=6))"
   ]
  },
  {
   "cell_type": "code",
   "execution_count": null,
   "metadata": {
    "scrolled": true
   },
   "outputs": [],
   "source": [
    "test"
   ]
  },
  {
   "cell_type": "code",
   "execution_count": null,
   "metadata": {},
   "outputs": [],
   "source": [
    "# data['F'] = test"
   ]
  },
  {
   "cell_type": "code",
   "execution_count": null,
   "metadata": {
    "scrolled": true
   },
   "outputs": [],
   "source": [
    "data"
   ]
  },
  {
   "cell_type": "markdown",
   "metadata": {},
   "source": [
    "#### 데이터 프레임의 특정 값 하나를 선택하여 다른 값으로 변경"
   ]
  },
  {
   "cell_type": "code",
   "execution_count": null,
   "metadata": {},
   "outputs": [],
   "source": [
    "print(data.at[0, '어플'])\n",
    "data.at[0, '어플'] = \"포토 에디터\"\n",
    "data.at[0, '어플']"
   ]
  },
  {
   "cell_type": "code",
   "execution_count": null,
   "metadata": {},
   "outputs": [],
   "source": [
    "# 값의 위치(인덱스 번호)를 이용한 변경 가능\n",
    "data.iat[0,4] = 3.7"
   ]
  },
  {
   "cell_type": "code",
   "execution_count": null,
   "metadata": {},
   "outputs": [],
   "source": [
    "# 데이터 내용 한꺼번에 바꾸기 -> 어떻게 변경 되었는가\n",
    "data.loc[:,'어플'] = np.array([5] * len(data))"
   ]
  },
  {
   "cell_type": "code",
   "execution_count": null,
   "metadata": {},
   "outputs": [],
   "source": [
    "data"
   ]
  },
  {
   "cell_type": "code",
   "execution_count": null,
   "metadata": {},
   "outputs": [],
   "source": [
    "# 지정한 행 또는 열에서 중복값을 제외한 유니크한 값만 얻기\n",
    "data['크기'].unique()"
   ]
  },
  {
   "cell_type": "code",
   "execution_count": null,
   "metadata": {},
   "outputs": [],
   "source": [
    "# 지정한 행 또는 열에서 값에 따른 개수 얻기\n",
    "data['크기'].value_counts()"
   ]
  },
  {
   "cell_type": "markdown",
   "metadata": {},
   "source": [
    "---\n",
    "<br><br><br><br><br>\n"
   ]
  },
  {
   "cell_type": "markdown",
   "metadata": {},
   "source": [
    "# 5. DataFrame 메서드\n",
    "\n",
    "sum() 함수 이외에도 pandas에서 DataFrame에 적용되는 함수는 다음의 것들이 있다.\n",
    "\n",
    "count 전체 성분의 (NaN이 아닌) 값의 갯수를 계산\n",
    "\n",
    "min, max 전체 성분의 최솟, 최댓값을 계산\n",
    "\n",
    "argmin, argmax 전체 성분의 최솟값, 최댓값이 위치한 (정수)인덱스를 반환\n",
    "\n",
    "idxmin, idxmax 전체 인덱스 중 최솟값, 최댓값을 반환\n",
    "\n",
    "quantile 전체 성분의 특정 사분위수에 해당하는 값을 반환 (0~1 사이)\n",
    "\n",
    "sum 전체 성분의 합을 계산\n",
    "\n",
    "mean 전체 성분의 평균을 계산\n",
    "\n",
    "median 전체 성분의 중간값을 반환\n",
    "\n",
    "mad 전체 성분의 평균값으로부터의 절대 편차(absolute deviation)의 평균을 계산\n",
    "\n",
    "std, var 전체 성분의 표준편차, 분산을 계산\n",
    "\n",
    "cumsum 맨 첫 번째 성분부터 각 성분까지의 누적합을 계산 (0에서부터 계속 더해짐)\n",
    "\n",
    "cumprod 맨 첫번째 성분부터 각 성분까지의 누적곱을 계산 (1에서부터 계속 곱해짐\n",
    "\n"
   ]
  },
  {
   "cell_type": "markdown",
   "metadata": {},
   "source": [
    "---\n",
    "<br><br><br><br><br>\n"
   ]
  },
  {
   "cell_type": "markdown",
   "metadata": {},
   "source": [
    "# 6. 간단한 시각화를 통해 데이터 다시보기\n",
    "\n",
    "\n",
    "**히스토그램 그리기**\n",
    "- 데이터의 값들의 빈도를 조사하여 히스토그램을 만들 수 있다\n",
    "- 참고: https://pandas.pydata.org/pandas-docs/stable/getting_started/basics.html#basics-discretization"
   ]
  },
  {
   "cell_type": "code",
   "execution_count": null,
   "metadata": {
    "scrolled": true
   },
   "outputs": [],
   "source": [
    "data['등급'].hist()"
   ]
  },
  {
   "cell_type": "code",
   "execution_count": null,
   "metadata": {},
   "outputs": [],
   "source": [
    "s = pd.Series(np.random.randint(0, 7, size=10)) "
   ]
  },
  {
   "cell_type": "code",
   "execution_count": null,
   "metadata": {
    "scrolled": true
   },
   "outputs": [],
   "source": [
    "s.value_counts()"
   ]
  },
  {
   "cell_type": "code",
   "execution_count": null,
   "metadata": {},
   "outputs": [],
   "source": [
    "s.value_counts().hist()"
   ]
  }
 ],
 "metadata": {
  "kernelspec": {
   "display_name": "Python 3",
   "language": "python",
   "name": "python3"
  },
  "language_info": {
   "codemirror_mode": {
    "name": "ipython",
    "version": 3
   },
   "file_extension": ".py",
   "mimetype": "text/x-python",
   "name": "python",
   "nbconvert_exporter": "python",
   "pygments_lexer": "ipython3",
   "version": "3.7.0"
  }
 },
 "nbformat": 4,
 "nbformat_minor": 2
}
