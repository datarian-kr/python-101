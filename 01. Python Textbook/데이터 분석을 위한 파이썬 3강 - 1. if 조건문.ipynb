{
 "cells": [
  {
   "cell_type": "markdown",
   "metadata": {},
   "source": [
    "파이선 프래그래밍에서는 if, for, while 등 과 같은 제어문이 있습니다.\n",
    "\n",
    "\n",
    "밥먹듯이 쓰이는 if, for문에 대해서 배우도록 하겠습니다"
   ]
  },
  {
   "cell_type": "markdown",
   "metadata": {},
   "source": [
    "# 3강. if 조건문 "
   ]
  },
  {
   "cell_type": "markdown",
   "metadata": {},
   "source": [
    "----------------------------"
   ]
  },
  {
   "cell_type": "markdown",
   "metadata": {},
   "source": [
    "## 01. if 조건문\n",
    "## 02. 비교연산자 : > , < , >= , <=, ==, !=\n",
    "## 03. 논리연산자 : AND, OR, NOT\n",
    "## 04. elif\n",
    "\n",
    "<br><br><br>"
   ]
  },
  {
   "cell_type": "markdown",
   "metadata": {},
   "source": [
    "---\n",
    "<br><br><br><br>\n",
    "\n",
    "## 01. If 조건문 : 해당 조건을 판단할 때 사용"
   ]
  },
  {
   "cell_type": "markdown",
   "metadata": {},
   "source": [
    "### if문의 기본구조"
   ]
  },
  {
   "cell_type": "markdown",
   "metadata": {},
   "source": [
    "```python\n",
    "if 조건문:\n",
    "    수행 할 문장 1\n",
    "    수행 할 문장 2 \n",
    "else:\n",
    "    수행 할 문장 A\n",
    "    수행 할 문장 B\n",
    "```\n",
    "\n",
    "주의할 점:\n",
    "    - 조건문 쓴 후, **:** 꼭 써주기.\n",
    "    - if문에 속하는 모든 문장에 들여쓰기(indention)!"
   ]
  },
  {
   "cell_type": "markdown",
   "metadata": {},
   "source": [
    "#### if문 예시"
   ]
  },
  {
   "cell_type": "code",
   "execution_count": 2,
   "metadata": {},
   "outputs": [
    {
     "name": "stdout",
     "output_type": "stream",
     "text": [
      "양수 입니다\n"
     ]
    }
   ],
   "source": [
    "a = 123 \n",
    "\n",
    "if a > 0:   # a인 123은 0보다 크다.\n",
    "    print ('양수 입니다') # 참\n",
    "\n",
    "else:\n",
    "    print('음수 입니다') # 거짓"
   ]
  },
  {
   "cell_type": "markdown",
   "metadata": {},
   "source": [
    "##### if문 주의할 점  ':' 쓰기 "
   ]
  },
  {
   "cell_type": "code",
   "execution_count": 10,
   "metadata": {},
   "outputs": [
    {
     "ename": "SyntaxError",
     "evalue": "invalid syntax (<ipython-input-10-3fd1518e8237>, line 3)",
     "output_type": "error",
     "traceback": [
      "\u001b[1;36m  File \u001b[1;32m\"<ipython-input-10-3fd1518e8237>\"\u001b[1;36m, line \u001b[1;32m3\u001b[0m\n\u001b[1;33m    if a > 0   # 조건문 다 쓴 후, :을 쓰지 않아서 오류.\u001b[0m\n\u001b[1;37m                                         ^\u001b[0m\n\u001b[1;31mSyntaxError\u001b[0m\u001b[1;31m:\u001b[0m invalid syntax\n"
     ]
    }
   ],
   "source": [
    "a = 123 \n",
    "\n",
    "if a > 0   # 조건문 다 쓴 후, :을 쓰지 않아서 오류.\n",
    "    print ('양수 입니다') \n",
    "\n",
    "else:\n",
    "print('음수 입니다') "
   ]
  },
  {
   "cell_type": "markdown",
   "metadata": {},
   "source": [
    "##### if문 주의할 점 : 들여쓰기"
   ]
  },
  {
   "cell_type": "code",
   "execution_count": 5,
   "metadata": {},
   "outputs": [
    {
     "ename": "IndentationError",
     "evalue": "expected an indented block (<ipython-input-5-d7e11ebbf645>, line 7)",
     "output_type": "error",
     "traceback": [
      "\u001b[1;36m  File \u001b[1;32m\"<ipython-input-5-d7e11ebbf645>\"\u001b[1;36m, line \u001b[1;32m7\u001b[0m\n\u001b[1;33m    print('음수 입니다') # 거짓\u001b[0m\n\u001b[1;37m        ^\u001b[0m\n\u001b[1;31mIndentationError\u001b[0m\u001b[1;31m:\u001b[0m expected an indented block\n"
     ]
    }
   ],
   "source": [
    "a = 123 \n",
    "\n",
    "if a > 0:   \n",
    "    print ('양수 입니다') \n",
    "\n",
    "else:\n",
    "print('음수 입니다') # 들여쓰기를 하지 않았기 때문에 오류."
   ]
  },
  {
   "cell_type": "markdown",
   "metadata": {},
   "source": [
    "<br><br><br>\n",
    "\n",
    "------\n"
   ]
  },
  {
   "cell_type": "markdown",
   "metadata": {},
   "source": [
    "## 02. 비교 연산자 : < , > , == , != , >= , <= \n",
    "\n",
    "### 비교 연산자\n",
    "- x < y : x가 y보다 작다.\n",
    "- x > y : x가 y보다 크다.\n",
    "- x == y : x와 y가 같다.\n",
    "- x != y : x와 y가 같지 않다.\n",
    "- x >= y : x가 y보다 크거나 같다.\n",
    "- x <= y : x가 y보다 작거나 같다"
   ]
  },
  {
   "cell_type": "markdown",
   "metadata": {},
   "source": [
    "### 비교 연산자 예시"
   ]
  },
  {
   "cell_type": "code",
   "execution_count": 12,
   "metadata": {},
   "outputs": [
    {
     "data": {
      "text/plain": [
       "False"
      ]
     },
     "execution_count": 12,
     "metadata": {},
     "output_type": "execute_result"
    }
   ],
   "source": [
    "x = 3\n",
    "y = 2\n",
    "\n",
    "x < y\n",
    "# x != y\n",
    "# x == y"
   ]
  },
  {
   "cell_type": "markdown",
   "metadata": {},
   "source": [
    "### if문 비교 연산자 예시"
   ]
  },
  {
   "cell_type": "code",
   "execution_count": 9,
   "metadata": {},
   "outputs": [
    {
     "name": "stdout",
     "output_type": "stream",
     "text": [
      "불합격입니다.\n"
     ]
    }
   ],
   "source": [
    "score = 75\n",
    "\n",
    "if score > 80:\n",
    "    print('합격입니다.')\n",
    "    \n",
    "else: \n",
    "    print('불합격입니다.')"
   ]
  },
  {
   "cell_type": "markdown",
   "metadata": {},
   "source": [
    "<br><br><br>\n",
    "\n",
    "------\n"
   ]
  },
  {
   "cell_type": "markdown",
   "metadata": {},
   "source": [
    "## 03. 논리 연산자 : and, or, not\n",
    "\n",
    "### 논리연산자\n",
    "- x **and** y\n",
    "- x **&** y\n",
    "    \n",
    "        x와 y 모두 참이어야 참이다. -> 교집합\n",
    "- x **or** y\n",
    "- x **|** y\n",
    "    \n",
    "        x와 y 둘 중에 하나만 참이어도 참이다. -> 합집합\n",
    "- **not** x : \n",
    "        \n",
    "        x가 거짓이면 참이다. -> 차집합"
   ]
  },
  {
   "cell_type": "markdown",
   "metadata": {},
   "source": [
    "### and 논리 연산자\n",
    "\n",
    "-연산자 and , 기호 & -> 사용 예: x and y , x & y\n",
    "\n",
    "- x **and** y : x와 y 모두 참이어야 참이다. -> 교집합."
   ]
  },
  {
   "cell_type": "code",
   "execution_count": 23,
   "metadata": {},
   "outputs": [
    {
     "data": {
      "text/plain": [
       "True"
      ]
     },
     "execution_count": 23,
     "metadata": {},
     "output_type": "execute_result"
    }
   ],
   "source": [
    "True and True"
   ]
  },
  {
   "cell_type": "code",
   "execution_count": 26,
   "metadata": {},
   "outputs": [
    {
     "data": {
      "text/plain": [
       "False"
      ]
     },
     "execution_count": 26,
     "metadata": {},
     "output_type": "execute_result"
    }
   ],
   "source": [
    "True and False"
   ]
  },
  {
   "cell_type": "code",
   "execution_count": 27,
   "metadata": {},
   "outputs": [
    {
     "data": {
      "text/plain": [
       "True"
      ]
     },
     "execution_count": 27,
     "metadata": {},
     "output_type": "execute_result"
    }
   ],
   "source": [
    "not False"
   ]
  },
  {
   "cell_type": "markdown",
   "metadata": {},
   "source": [
    "#### and 논리 연산자 예시"
   ]
  },
  {
   "cell_type": "code",
   "execution_count": 29,
   "metadata": {},
   "outputs": [
    {
     "name": "stdout",
     "output_type": "stream",
     "text": [
      "숫자는 0에서 100사이에 있다.\n"
     ]
    }
   ],
   "source": [
    "number = 55\n",
    "\n",
    "if score >= 0 and score <=100 :\n",
    "    print ('숫자는 0에서 100사이에 있다.')\n",
    "\n",
    "else:\n",
    "    print('숫자는 0에서 100사이에 있다.')"
   ]
  },
  {
   "cell_type": "markdown",
   "metadata": {},
   "source": [
    "<br><br>\n",
    "\n",
    "-------\n"
   ]
  },
  {
   "cell_type": "markdown",
   "metadata": {},
   "source": [
    "## 04. elif : 다양한 조건을 판단.\n",
    "\n",
    "elif는 if/else와 다르게 다양한 조건을 판단한다. if/else는 2가지의 선택사항만 있다면, elif는 프로그래머 재량에 따란 조건을 다양하게 줄 수 있다. 즉, elif는 다중조건을 판단하게 한다.\n",
    "\n",
    "다양한 조건을 판단하는 **elif**\n",
    "- if와 else만으로는 다양한 조건을 판단하기 어렵다. (선택사항이 두개이기 때문에)\n"
   ]
  },
  {
   "cell_type": "markdown",
   "metadata": {},
   "source": [
    "### elif 기본 구조 : \n",
    "#### elif는 이전 조건문이 거짓일 때 수행된다. elif는 개수의 제한 없이 사용할 수 있다.\n",
    "<br>\n",
    "\n",
    "```python\n",
    "If <조건문>:\n",
    "    <수행할 문장1> \n",
    "    <수행할 문장2>    \n",
    "elif <조건문>: # if가 거짓일 경우 실행\n",
    "    <수행할 문장1>\n",
    "    <수행할 문장2>\n",
    "    \n",
    "elif <조건문>: # 그 전 elif가 거짓일 경우 실행\n",
    "    <수행할 문장1>\n",
    "    <수행할 문장2>\n",
    "    \n",
    "\n",
    "else: # 마지막 조건. 마지막 조건일 때, 꼭 **else**를 써준다.\n",
    "   <수행할 문장1>\n",
    "   <수행할 문장2>\n",
    "```"
   ]
  },
  {
   "cell_type": "markdown",
   "metadata": {},
   "source": [
    "#### elif를 써야하는 이유 -> 산만한 코딩"
   ]
  },
  {
   "cell_type": "code",
   "execution_count": 36,
   "metadata": {},
   "outputs": [
    {
     "name": "stdout",
     "output_type": "stream",
     "text": [
      "당신의 성적은 C입니다\n"
     ]
    }
   ],
   "source": [
    "score = 54\n",
    "\n",
    "if score >= 90:\n",
    "    print('당신의 성적은 A입니다')\n",
    "    \n",
    "else:\n",
    "    if  score >= 80:\n",
    "        print('당신의 성적은 B입니다')\n",
    "    else:\n",
    "         print('당신의 성적은 C입니다')"
   ]
  },
  {
   "cell_type": "markdown",
   "metadata": {},
   "source": [
    "### elif를 사용한 코딩"
   ]
  },
  {
   "cell_type": "code",
   "execution_count": 37,
   "metadata": {},
   "outputs": [
    {
     "name": "stdout",
     "output_type": "stream",
     "text": [
      "당신의 성적은 FA입니다\n"
     ]
    }
   ],
   "source": [
    "score = 54\n",
    "\n",
    "if score >= 90:\n",
    "    print('당신의 성적은 A입니다')\n",
    "    \n",
    "elif score >= 80:\n",
    "    print('당신의 성적은 B입니다')\n",
    "\n",
    "elif score >= 70:\n",
    "    print('당신의 성적은 C입니다')\n",
    "\n",
    "elif score >= 60:\n",
    "    print('당신의 성적은 D입니다')\n",
    "    \n",
    "else:\n",
    "    print('당신의 성적은 FA입니다')\n"
   ]
  }
 ],
 "metadata": {
  "kernelspec": {
   "display_name": "Python 3",
   "language": "python",
   "name": "python3"
  },
  "language_info": {
   "codemirror_mode": {
    "name": "ipython",
    "version": 3
   },
   "file_extension": ".py",
   "mimetype": "text/x-python",
   "name": "python",
   "nbconvert_exporter": "python",
   "pygments_lexer": "ipython3",
   "version": "3.7.4"
  }
 },
 "nbformat": 4,
 "nbformat_minor": 2
}
