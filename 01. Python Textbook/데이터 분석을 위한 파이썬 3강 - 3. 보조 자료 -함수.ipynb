{
 "cells": [
  {
   "cell_type": "markdown",
   "metadata": {},
   "source": [
    "---\n",
    "\n",
    "<br><br><br><br>\n",
    "\n",
    "# **함수 f(x) function** \n",
    "\n",
    "- 프로그래밍을 하다 보면 비슷한 '작업'을 반복해서 작성하고 있을 때가 종종 있습니다. 이 작업을 효율적으로 할 수 있도록 해주는 것이 '함수'입니다.\n",
    "\n",
    "\n",
    "- 반복 적으로 작성하고 있는 뭉치를 묶어서 '어떤 입력 값을 주었을 때 어떤 결과값을' 돌려주는 것.\n",
    "\n",
    "- 이 함수를 통해서 자신이 만든 코딩의 흐름을 한 눈에 볼 수 있습니다.\n",
    "\n",
    "\n",
    "\n",
    "#### 매개 변수\n",
    "    함수에 입력으로 전달 된 값의 자리를 지정하고, 그 값을 전달하는 변수\n",
    "\n",
    "#### 인수\n",
    "    함수를 호출할 때 전달하는 입력값"
   ]
  },
  {
   "cell_type": "markdown",
   "metadata": {},
   "source": [
    "<함수 구조>\n",
    "\n",
    "```python\n",
    "def 함수명(매개변수):  # def : definition : 정의 : 함수명으로 아래의 코드를 정의한다는 뜻의 예약어. \n",
    "                   # 함수명으로 파이썬 예약어는 피하는 것이 좋습니다.\n",
    "    <수행할 문장1>    # 함수 안에 if, for, while문 등을 활용해 수행할 코드를 정의한다.\n",
    "    <수행할 문장2>\n",
    "    ... \n",
    "    return 반환값 # 반환값이 없는 함수도 만들 수 있다.\n",
    "```"
   ]
  },
  {
   "cell_type": "markdown",
   "metadata": {},
   "source": [
    "## 함수 만들기"
   ]
  },
  {
   "cell_type": "code",
   "execution_count": 2,
   "metadata": {},
   "outputs": [],
   "source": [
    "def add(a, b): # a, b를 매개변수로 받는 add함수\n",
    "    return a + b "
   ]
  },
  {
   "cell_type": "markdown",
   "metadata": {},
   "source": [
    "## 함수 실행하기"
   ]
  },
  {
   "cell_type": "code",
   "execution_count": 10,
   "metadata": {},
   "outputs": [
    {
     "data": {
      "text/plain": [
       "15"
      ]
     },
     "execution_count": 10,
     "metadata": {},
     "output_type": "execute_result"
    }
   ],
   "source": [
    "add(7,8) # 7,8은 인수로 받아 add함수를 실행하기. 인자인 7과 8은 add 함수 속에서 a와 b의 자리에 들어가게 된다."
   ]
  },
  {
   "cell_type": "code",
   "execution_count": 5,
   "metadata": {},
   "outputs": [
    {
     "name": "stdout",
     "output_type": "stream",
     "text": [
      "11\n"
     ]
    }
   ],
   "source": [
    "a = 5\n",
    "b = 6\n",
    "c = add(a, b)\n",
    "\n",
    "print(c)"
   ]
  },
  {
   "cell_type": "markdown",
   "metadata": {},
   "source": [
    "#### return이 나오면 return값을 반환하면서 함수는 끝난다. \n",
    "\n",
    "아래와 같이 return에 두개의 값을 넣으면 튜플로 값을 묶어서 반환"
   ]
  },
  {
   "cell_type": "code",
   "execution_count": 6,
   "metadata": {},
   "outputs": [],
   "source": [
    "def add_and_mul(a,b): \n",
    "     return a+b, a*b"
   ]
  },
  {
   "cell_type": "code",
   "execution_count": 9,
   "metadata": {},
   "outputs": [
    {
     "data": {
      "text/plain": [
       "(7, 12)"
      ]
     },
     "execution_count": 9,
     "metadata": {},
     "output_type": "execute_result"
    }
   ],
   "source": [
    "add_and_mul(3,4)"
   ]
  },
  {
   "cell_type": "code",
   "execution_count": 11,
   "metadata": {
    "scrolled": true
   },
   "outputs": [
    {
     "data": {
      "text/plain": [
       "tuple"
      ]
     },
     "execution_count": 11,
     "metadata": {},
     "output_type": "execute_result"
    }
   ],
   "source": [
    "type(add_and_mul(3,4))"
   ]
  },
  {
   "cell_type": "markdown",
   "metadata": {},
   "source": [
    "## Practice01. 함수 만들기 연습"
   ]
  },
  {
   "cell_type": "markdown",
   "metadata": {},
   "source": [
    "#### 합격 체크 함수\n",
    "\n",
    "한 반 학색들의 점수를 순서대로 입력한 list를 받아서 합격 여부를 출력해주는 함수를 만들어 보세요"
   ]
  },
  {
   "cell_type": "code",
   "execution_count": 14,
   "metadata": {},
   "outputs": [
    {
     "name": "stdout",
     "output_type": "stream",
     "text": [
      "1번 학생은 합격입니다.\n",
      "2번 학생은 불합격입니다.\n",
      "3번 학생은 합격입니다.\n",
      "4번 학생은 불합격입니다.\n",
      "5번 학생은 합격입니다.\n"
     ]
    }
   ],
   "source": [
    "def score_check(scores):\n",
    "    number = 0\n",
    "    for score in scores: \n",
    "        number = number +1 \n",
    "        if score >= 50: \n",
    "            print(\"%d번 학생은 합격입니다.\" % number)\n",
    "    \n",
    "        else: \n",
    "            print(\"%d번 학생은 불합격입니다.\" % number)\n",
    "        \n",
    "score_check([90, 25, 67, 45, 80])"
   ]
  },
  {
   "cell_type": "markdown",
   "metadata": {},
   "source": [
    "#### 딕셔너리 출력 함수\n",
    "\n",
    "딕셔너리를 입력받아서 딕셔너리 내부의 키 벨류값을 한 줄씩 출력한 후, value들만 list로 return 하는 함수를 만들어 보세요"
   ]
  },
  {
   "cell_type": "code",
   "execution_count": 21,
   "metadata": {},
   "outputs": [
    {
     "name": "stdout",
     "output_type": "stream",
     "text": [
      "국적  :  대한민국\n",
      "이름  :  홍길동\n",
      "주소  :  서울특별시\n"
     ]
    },
    {
     "data": {
      "text/plain": [
       "['대한민국', '홍길동', '서울특별시']"
      ]
     },
     "execution_count": 21,
     "metadata": {},
     "output_type": "execute_result"
    }
   ],
   "source": [
    "def dict_printer(dic):\n",
    "    for i in dic.items():\n",
    "        print(i[0], ' : ', i[1])\n",
    "    return list(dic.values())\n",
    "    \n",
    "    \n",
    "dic = {'국적':'대한민국', '이름':'홍길동', '주소': '서울특별시'}\n",
    "\n",
    "dict_printer(dic)"
   ]
  }
 ],
 "metadata": {
  "kernelspec": {
   "display_name": "Python 3",
   "language": "python",
   "name": "python3"
  },
  "language_info": {
   "codemirror_mode": {
    "name": "ipython",
    "version": 3
   },
   "file_extension": ".py",
   "mimetype": "text/x-python",
   "name": "python",
   "nbconvert_exporter": "python",
   "pygments_lexer": "ipython3",
   "version": "3.7.0"
  }
 },
 "nbformat": 4,
 "nbformat_minor": 2
}
