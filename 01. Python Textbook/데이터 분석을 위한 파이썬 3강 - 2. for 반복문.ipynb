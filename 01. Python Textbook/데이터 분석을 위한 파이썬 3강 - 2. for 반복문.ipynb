{
 "cells": [
  {
   "cell_type": "markdown",
   "metadata": {},
   "source": [
    "# 3강. for 반복문 \n",
    "---\n"
   ]
  },
  {
   "cell_type": "markdown",
   "metadata": {},
   "source": [
    "## 01. for문\n",
    "        기본구조\n",
    "        for문 활용\n",
    "        \n",
    "## 02. for문으로 리스트(List) 효율적으로 사용하기\n",
    "        for문으로 리스트 만들기\n",
    "        enumerate\n",
    "        \n",
    "## 03. for문으로 튜플(Tuple) 효율적으로 사용하기\n",
    "\n",
    "\n",
    "## 04. for문으로 셋(Set) 효율적으로 사용하기\n",
    "\n",
    "  \n",
    "## 05. for문으로 딕셔너리(Dictionary) 효율적으로 사용하기\n",
    "        items\n",
    "        key\n",
    "        values\n",
    "        \n",
    "\n",
    "<br><br>"
   ]
  },
  {
   "cell_type": "markdown",
   "metadata": {},
   "source": [
    "<br><br>\n",
    "\n",
    "---------------------------"
   ]
  },
  {
   "cell_type": "markdown",
   "metadata": {},
   "source": [
    "## **01. for문** : 반복적인 작업을 효율적으로 명령\n",
    "\n",
    "<br>\n",
    "\n",
    "### 1) for문 기본 구조\n",
    "\n",
    "***for문 기본 구조***\n",
    "\n",
    "```python\n",
    "for 변수 in 리스트(또는 튜플, 문자열):\n",
    "    수행할 문장1\n",
    "    수행할 문장2\n",
    "    ...\n",
    "```"
   ]
  },
  {
   "cell_type": "markdown",
   "metadata": {},
   "source": [
    "------"
   ]
  },
  {
   "cell_type": "markdown",
   "metadata": {},
   "source": [
    "### for문을 써야하는 이유: \n",
    "\n",
    "Hello World를 10번 작성해보자."
   ]
  },
  {
   "cell_type": "code",
   "execution_count": 1,
   "metadata": {},
   "outputs": [
    {
     "name": "stdout",
     "output_type": "stream",
     "text": [
      "Hello World\n",
      "Hello World\n",
      "Hello World\n",
      "Hello World\n",
      "Hello World\n",
      "Hello World\n",
      "Hello World\n",
      "Hello World\n",
      "Hello World\n",
      "Hello World\n"
     ]
    }
   ],
   "source": [
    "print('Hello World')\n",
    "print('Hello World')\n",
    "print('Hello World')\n",
    "print('Hello World')\n",
    "print('Hello World')\n",
    "print('Hello World')\n",
    "print('Hello World')\n",
    "print('Hello World')\n",
    "print('Hello World')\n",
    "print('Hello World')"
   ]
  },
  {
   "cell_type": "markdown",
   "metadata": {},
   "source": [
    "<br><br><br>\n",
    "\n",
    "---------------"
   ]
  },
  {
   "cell_type": "markdown",
   "metadata": {},
   "source": [
    "## 2) for문 활용:\n",
    "        range 활용 방법\n",
    "        list로 for문 활용\n",
    "        심화\n",
    "\n",
    "<br><br>\n",
    "### i) range 활용 방법\n",
    "\n",
    "- for 변수 in (range(횟수))\n",
    "- for 변수 in (range(시작, 끝))\n",
    "- for 변수 in (range(시작, 끝, 증각폭))\n",
    "<br><br>\n",
    "\n",
    "-----\n",
    "\n",
    "Hello world를 10번 작성해보자."
   ]
  },
  {
   "cell_type": "code",
   "execution_count": 2,
   "metadata": {
    "scrolled": true
   },
   "outputs": [
    {
     "name": "stdout",
     "output_type": "stream",
     "text": [
      "Hello World 0\n",
      "Hello World 1\n",
      "Hello World 2\n",
      "Hello World 3\n",
      "Hello World 4\n",
      "Hello World 5\n",
      "Hello World 6\n",
      "Hello World 7\n",
      "Hello World 8\n",
      "Hello World 9\n"
     ]
    }
   ],
   "source": [
    "for i in range(0,10):\n",
    "    print('Hello World', i)"
   ]
  },
  {
   "cell_type": "markdown",
   "metadata": {},
   "source": [
    "#### 쉬어가기) for문 숫자 감소 방법 1"
   ]
  },
  {
   "cell_type": "code",
   "execution_count": 3,
   "metadata": {},
   "outputs": [
    {
     "name": "stdout",
     "output_type": "stream",
     "text": [
      "Hello World 10\n",
      "Hello World 9\n",
      "Hello World 8\n",
      "Hello World 7\n",
      "Hello World 6\n",
      "Hello World 5\n",
      "Hello World 4\n",
      "Hello World 3\n",
      "Hello World 2\n",
      "Hello World 1\n"
     ]
    }
   ],
   "source": [
    "for i in range(10, 0,-1):\n",
    "    print('Hello World', i)"
   ]
  },
  {
   "cell_type": "markdown",
   "metadata": {},
   "source": [
    "#### 쉬어가기) for문 숫자 감소 방법 2\n"
   ]
  },
  {
   "cell_type": "code",
   "execution_count": 4,
   "metadata": {},
   "outputs": [
    {
     "name": "stdout",
     "output_type": "stream",
     "text": [
      "Hello World 9\n",
      "Hello World 8\n",
      "Hello World 7\n",
      "Hello World 6\n",
      "Hello World 5\n",
      "Hello World 4\n",
      "Hello World 3\n",
      "Hello World 2\n",
      "Hello World 1\n",
      "Hello World 0\n"
     ]
    }
   ],
   "source": [
    "for i in reversed(range(10)): # reversed 함수를 활용하여 range 숫자의 순서를 반대로 뒤짐음\n",
    "    print('Hello World', i)"
   ]
  },
  {
   "cell_type": "markdown",
   "metadata": {},
   "source": [
    "<br><br><br>\n",
    "\n",
    "\n",
    "### ii) list로 for문 활용\n",
    "<br>\n",
    "\n",
    "**<기본 구조>**\n",
    "\n",
    "```python\n",
    "for i in 리스트:\n",
    "    print(i)\n",
    "```"
   ]
  },
  {
   "cell_type": "code",
   "execution_count": 5,
   "metadata": {},
   "outputs": [
    {
     "name": "stdout",
     "output_type": "stream",
     "text": [
      "cat\n",
      "dog\n",
      "people\n"
     ]
    }
   ],
   "source": [
    "animal = ['cat','dog', 'people']\n",
    "\n",
    "for i in animal: # 리스트 출력\n",
    "     print(i)"
   ]
  },
  {
   "cell_type": "code",
   "execution_count": 6,
   "metadata": {},
   "outputs": [
    {
     "name": "stdout",
     "output_type": "stream",
     "text": [
      "0\n",
      "1\n",
      "2\n"
     ]
    }
   ],
   "source": [
    "animal = ['cat','dog', 'people']\n",
    "\n",
    "for i in range(len(animal)):  # len 길이 함수\n",
    "     print(i)"
   ]
  },
  {
   "cell_type": "markdown",
   "metadata": {},
   "source": [
    "### iii) 심화 : for문 안에 for문 -> 중첩 for문"
   ]
  },
  {
   "cell_type": "code",
   "execution_count": 7,
   "metadata": {},
   "outputs": [
    {
     "name": "stdout",
     "output_type": "stream",
     "text": [
      "0 * 0 = 0\n",
      "0 * 1 = 0\n",
      "0 * 2 = 0\n",
      "0 * 3 = 0\n",
      "1 * 0 = 0\n",
      "1 * 1 = 1\n",
      "1 * 2 = 2\n",
      "1 * 3 = 3\n"
     ]
    }
   ],
   "source": [
    "for i in range(2):\n",
    "     for j in range(4):\n",
    "        print(i, \"*\", j, \"=\", i*j)"
   ]
  },
  {
   "cell_type": "markdown",
   "metadata": {},
   "source": [
    "<br><br>\n",
    "\n",
    "--------------------"
   ]
  },
  {
   "cell_type": "markdown",
   "metadata": {},
   "source": [
    "## 02. for문으로  리스트(List) 효율적으로 사용하기\n",
    "\n",
    "### for문으로 리스트 만들기\n",
    "    1차원 리스트 만들기\n",
    "    2차원 리스트 만들기\n",
    "    \n",
    "### enumerate\n",
    "<br><br>\n",
    "\n",
    "-------"
   ]
  },
  {
   "cell_type": "markdown",
   "metadata": {},
   "source": [
    "### 1) for문으로 리스트 만들기"
   ]
  },
  {
   "cell_type": "markdown",
   "metadata": {},
   "source": [
    "#### i) 1차원 리스트 만들기"
   ]
  },
  {
   "cell_type": "code",
   "execution_count": 8,
   "metadata": {},
   "outputs": [],
   "source": [
    "number = []  # 빈 리스트 생성"
   ]
  },
  {
   "cell_type": "code",
   "execution_count": 9,
   "metadata": {},
   "outputs": [],
   "source": [
    "for i in range(5):\n",
    "    number.append(i+1)  #append로 요소 추가"
   ]
  },
  {
   "cell_type": "code",
   "execution_count": 10,
   "metadata": {},
   "outputs": [
    {
     "name": "stdout",
     "output_type": "stream",
     "text": [
      "[1, 2, 3, 4, 5]\n"
     ]
    }
   ],
   "source": [
    "print(number)"
   ]
  },
  {
   "cell_type": "markdown",
   "metadata": {},
   "source": [
    "#### ii) 2차원 리스트 만들기 -> 중첩 for문 "
   ]
  },
  {
   "cell_type": "code",
   "execution_count": 11,
   "metadata": {},
   "outputs": [],
   "source": [
    "number2 = []    # 빈 리스트 생성"
   ]
  },
  {
   "cell_type": "code",
   "execution_count": 12,
   "metadata": {},
   "outputs": [],
   "source": [
    "for i in range(5):\n",
    "    number3 = []              # 안쪽 빈 리스트 생성\n",
    "    for j in range(2):\n",
    "        number3.append(i+1)     # 안쪽 리스트 1씩 추가\n",
    "    number2.append(number3)         # 전체 리스트에 안쪽 리스트 추가"
   ]
  },
  {
   "cell_type": "code",
   "execution_count": 13,
   "metadata": {},
   "outputs": [
    {
     "name": "stdout",
     "output_type": "stream",
     "text": [
      "[[1, 1], [2, 2], [3, 3], [4, 4], [5, 5]]\n"
     ]
    }
   ],
   "source": [
    "print(number2)"
   ]
  },
  {
   "cell_type": "markdown",
   "metadata": {},
   "source": [
    "<br><br>\n",
    "\n",
    "\n",
    "-------"
   ]
  },
  {
   "cell_type": "markdown",
   "metadata": {},
   "source": [
    "### 2) enumerate : 열거하다, 나열하다.\n",
    "\n",
    "for문에서 반복하는 횟수 or 몇번째 반복인지 알아야할 때 사용한다.\n",
    "\n",
    "enumerate을 통해 반복문을 사용하면 index번호를 얻을 수 있다. 이런 특성을 활용하여 리스트 인덱스로 for문을 돌릴 때 유용하다\n",
    "\n",
    "인덱스가 필요할 때는 range 대신 **enumerate**을 활용하는 것을 추천한다. 코드가 깔끔하고 직관적이기 때문에 코드 리뷰를 할 때도 도움이 된다."
   ]
  },
  {
   "cell_type": "markdown",
   "metadata": {},
   "source": [
    "#### enumerate을 왜 사용해야하나?? \n",
    "반복문을 사용하여 리스트의 인덱스를 출력해보세요."
   ]
  },
  {
   "cell_type": "code",
   "execution_count": 14,
   "metadata": {},
   "outputs": [],
   "source": [
    "num = [1, 3, 5, 7, 9, 11]"
   ]
  },
  {
   "cell_type": "code",
   "execution_count": 15,
   "metadata": {},
   "outputs": [
    {
     "name": "stdout",
     "output_type": "stream",
     "text": [
      "0\n",
      "1\n",
      "2\n",
      "3\n",
      "4\n",
      "5\n"
     ]
    }
   ],
   "source": [
    "for i in range(len(num)):\n",
    "    print(i)"
   ]
  },
  {
   "cell_type": "markdown",
   "metadata": {},
   "source": [
    "### enumerate 활용 : 인덱스 번호와 컬렉션 원소를 튜플 형태로 반환"
   ]
  },
  {
   "cell_type": "code",
   "execution_count": 16,
   "metadata": {},
   "outputs": [
    {
     "name": "stdout",
     "output_type": "stream",
     "text": [
      "(0, 1)\n",
      "(1, 3)\n",
      "(2, 5)\n",
      "(3, 7)\n",
      "(4, 9)\n",
      "(5, 11)\n"
     ]
    }
   ],
   "source": [
    "for v in enumerate(num):\n",
    "     print(v)"
   ]
  },
  {
   "cell_type": "markdown",
   "metadata": {},
   "source": [
    "### 심화 : for문 안에 enumerate, if문"
   ]
  },
  {
   "cell_type": "code",
   "execution_count": 17,
   "metadata": {},
   "outputs": [
    {
     "name": "stdout",
     "output_type": "stream",
     "text": [
      "0번 학생은 합격입니다.\n",
      "1번 학생은 불합격 입니다.\n",
      "2번 학생은 합격입니다.\n",
      "3번 학생은 불합격 입니다.\n",
      "4번 학생은 합격입니다.\n"
     ]
    }
   ],
   "source": [
    "scores = [90, 25, 67, 45, 80]\n",
    "\n",
    "for number, score in enumerate(scores): \n",
    "    \n",
    "    if score >= 65: \n",
    "        print(f\"{number}번 학생은 합격입니다.\")\n",
    "    \n",
    "    else:\n",
    "        print(f\"{number}번 학생은 불합격 입니다.\")"
   ]
  },
  {
   "cell_type": "markdown",
   "metadata": {},
   "source": [
    "<br><br>\n",
    "\n",
    "\n",
    "\n",
    "-------\n"
   ]
  },
  {
   "cell_type": "markdown",
   "metadata": {},
   "source": [
    "## 02. for문으로 튜플 사용하기 \n",
    "\n",
    "파이썬의 튜플은 데이터를 순서대로 저장할 수 있는 자료구조 중 하나입니다. \n",
    "\n",
    "튜플과 비슷한 특성을 가진 리스트는 수정을 할 수 있으나 튜플은 수정할 수 없습니다. 튜플은 수정할 수 없기 때문에 리스트보다 빠르다는 장점이 있습니다"
   ]
  },
  {
   "cell_type": "markdown",
   "metadata": {},
   "source": [
    "### enumerate과 튜플을 함께 사용하면 더욱 더 좋다"
   ]
  },
  {
   "cell_type": "code",
   "execution_count": 18,
   "metadata": {},
   "outputs": [
    {
     "data": {
      "text/plain": [
       "[1, 3, 5, 7, 9, 11]"
      ]
     },
     "execution_count": 18,
     "metadata": {},
     "output_type": "execute_result"
    }
   ],
   "source": [
    "num "
   ]
  },
  {
   "cell_type": "code",
   "execution_count": 19,
   "metadata": {},
   "outputs": [
    {
     "name": "stdout",
     "output_type": "stream",
     "text": [
      "(0, 1)\n",
      "(1, 3)\n",
      "(2, 5)\n",
      "(3, 7)\n",
      "(4, 9)\n",
      "(5, 11)\n"
     ]
    }
   ],
   "source": [
    "for v in enumerate(num):\n",
    "     print(v)"
   ]
  },
  {
   "cell_type": "code",
   "execution_count": 20,
   "metadata": {},
   "outputs": [
    {
     "name": "stdout",
     "output_type": "stream",
     "text": [
      "index : 0, result : 1\n",
      "index : 1, result : 3\n",
      "index : 2, result : 5\n",
      "index : 3, result : 7\n",
      "index : 4, result : 9\n",
      "index : 5, result : 11\n"
     ]
    }
   ],
   "source": [
    "for i, r in enumerate(num):\n",
    "    print(f'index : {i}, result : {r}')"
   ]
  },
  {
   "cell_type": "markdown",
   "metadata": {},
   "source": [
    "#### 튜플 예시1"
   ]
  },
  {
   "cell_type": "code",
   "execution_count": 21,
   "metadata": {},
   "outputs": [],
   "source": [
    "entertainer = ['이영자', '박나래', '송은이', '김숙']"
   ]
  },
  {
   "cell_type": "code",
   "execution_count": 22,
   "metadata": {},
   "outputs": [
    {
     "name": "stdout",
     "output_type": "stream",
     "text": [
      "index : 0 value: 이영자\n",
      "index : 1 value: 박나래\n",
      "index : 2 value: 송은이\n",
      "index : 3 value: 김숙\n"
     ]
    }
   ],
   "source": [
    "for i, v in  enumerate(entertainer):\n",
    "    print(f'index : {i} value: {v}')"
   ]
  },
  {
   "cell_type": "markdown",
   "metadata": {},
   "source": [
    "#### 튜플 예시2"
   ]
  },
  {
   "cell_type": "code",
   "execution_count": 23,
   "metadata": {},
   "outputs": [
    {
     "name": "stdout",
     "output_type": "stream",
     "text": [
      "3\n",
      "7\n",
      "11\n"
     ]
    }
   ],
   "source": [
    "basket = [(1,2), (3,4), (5,6)]\n",
    "\n",
    "for (start, end) in basket: # 튜플의 특성을 활용하여 각각의 요소가 자동으로 (start, end) 변수 대입.\n",
    "     print(start + end)    # (start + end) = (1+2) "
   ]
  },
  {
   "cell_type": "markdown",
   "metadata": {},
   "source": [
    "<br><br>"
   ]
  },
  {
   "cell_type": "markdown",
   "metadata": {},
   "source": [
    "## 03. for문으로 set 사용하기\n",
    "<br> \n"
   ]
  },
  {
   "cell_type": "code",
   "execution_count": 24,
   "metadata": {},
   "outputs": [],
   "source": [
    "s = ('이영자', '박나래', '송은이', '김숙')"
   ]
  },
  {
   "cell_type": "code",
   "execution_count": 25,
   "metadata": {},
   "outputs": [
    {
     "name": "stdout",
     "output_type": "stream",
     "text": [
      "이영자\n",
      "박나래\n",
      "송은이\n",
      "김숙\n"
     ]
    }
   ],
   "source": [
    "for person in s :\n",
    "    print(person)"
   ]
  },
  {
   "cell_type": "markdown",
   "metadata": {},
   "source": [
    "------------------------"
   ]
  },
  {
   "cell_type": "markdown",
   "metadata": {},
   "source": [
    "## 04. for문으로 딕셔너리 사용하기 : items, keys, values\n",
    "<br>\n",
    "\n",
    "- items: 키-값 쌍 모두 가져오기\n",
    "- keys : 키만 모두 가져오기\n",
    "- values : 값을 모두 가져오기 \n"
   ]
  },
  {
   "cell_type": "markdown",
   "metadata": {},
   "source": [
    "**<key, values 출력 기본 구조>**\n",
    "\n",
    "```python\n",
    "for key,value in dict.items:\n",
    "   반복할 코드\n",
    "```\n",
    "\n",
    "<br>"
   ]
  },
  {
   "cell_type": "markdown",
   "metadata": {},
   "source": [
    "### 1) items 출력 -> key, value 모두 출력"
   ]
  },
  {
   "cell_type": "code",
   "execution_count": 26,
   "metadata": {},
   "outputs": [],
   "source": [
    "dic = {'국적':'대한민국', '이름':'홍길동', '주소': '서울특별시'}"
   ]
  },
  {
   "cell_type": "code",
   "execution_count": 27,
   "metadata": {},
   "outputs": [
    {
     "name": "stdout",
     "output_type": "stream",
     "text": [
      "국적 대한민국\n",
      "이름 홍길동\n",
      "주소 서울특별시\n"
     ]
    }
   ],
   "source": [
    "for key, value in dic.items():\n",
    "    print(key, value)   # 출력하고 싶은 아이템만 print 입력해도 나온다."
   ]
  },
  {
   "cell_type": "markdown",
   "metadata": {},
   "source": [
    "### 2) key 값만 출력 -> keys"
   ]
  },
  {
   "cell_type": "code",
   "execution_count": 28,
   "metadata": {},
   "outputs": [
    {
     "name": "stdout",
     "output_type": "stream",
     "text": [
      "국적\n",
      "이름\n",
      "주소\n"
     ]
    }
   ],
   "source": [
    "for key in dic.keys():\n",
    "    print(key)"
   ]
  },
  {
   "cell_type": "code",
   "execution_count": 29,
   "metadata": {},
   "outputs": [
    {
     "name": "stdout",
     "output_type": "stream",
     "text": [
      "국적\n",
      "이름\n",
      "주소\n"
     ]
    }
   ],
   "source": [
    "for key in dic:\n",
    "    print(key)"
   ]
  },
  {
   "cell_type": "markdown",
   "metadata": {},
   "source": [
    "### 3) value 값만 출력 -> values"
   ]
  },
  {
   "cell_type": "code",
   "execution_count": 30,
   "metadata": {},
   "outputs": [
    {
     "name": "stdout",
     "output_type": "stream",
     "text": [
      "대한민국\n",
      "홍길동\n",
      "서울특별시\n"
     ]
    }
   ],
   "source": [
    "for value in dic.values():\n",
    "    print(value)"
   ]
  }
 ],
 "metadata": {
  "kernelspec": {
   "display_name": "Python 3",
   "language": "python",
   "name": "python3"
  },
  "language_info": {
   "codemirror_mode": {
    "name": "ipython",
    "version": 3
   },
   "file_extension": ".py",
   "mimetype": "text/x-python",
   "name": "python",
   "nbconvert_exporter": "python",
   "pygments_lexer": "ipython3",
   "version": "3.7.0"
  }
 },
 "nbformat": 4,
 "nbformat_minor": 2
}
