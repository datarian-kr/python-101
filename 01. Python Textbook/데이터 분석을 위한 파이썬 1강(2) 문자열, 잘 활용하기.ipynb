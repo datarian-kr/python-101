{
 "cells": [
  {
   "cell_type": "markdown",
   "metadata": {},
   "source": [
    "### 06. 문자열, 잘 활용하기\n",
    "    01. len()\n",
    "    02. 인덱싱(Indexing), 슬라이싱(slicing)\n",
    "    03. 문자열 수정\n",
    "    04. 문자열에서 자주 쓰는 함수\n",
    "    05. 문자열 포맷팅(Formatting)"
   ]
  },
  {
   "cell_type": "markdown",
   "metadata": {},
   "source": [
    "---\n",
    "<br><br><br>\n",
    "\n",
    "## 문자열 길이 len()"
   ]
  },
  {
   "cell_type": "code",
   "execution_count": 44,
   "metadata": {},
   "outputs": [
    {
     "data": {
      "text/plain": [
       "26"
      ]
     },
     "execution_count": 44,
     "metadata": {},
     "output_type": "execute_result"
    }
   ],
   "source": [
    "len(word)"
   ]
  },
  {
   "cell_type": "code",
   "execution_count": 43,
   "metadata": {},
   "outputs": [
    {
     "data": {
      "text/plain": [
       "26"
      ]
     },
     "execution_count": 43,
     "metadata": {},
     "output_type": "execute_result"
    }
   ],
   "source": [
    "length = len(word)\n",
    "length"
   ]
  },
  {
   "cell_type": "markdown",
   "metadata": {},
   "source": [
    "---\n",
    "\n",
    "\n",
    "\n",
    "## 인덱싱, 슬라이싱"
   ]
  },
  {
   "cell_type": "markdown",
   "metadata": {},
   "source": [
    "문자열에서 특정한 위치의 문자들만 잘라내고 사용할 일들이 자주 있다.\n",
    "\n",
    "예를 들어 기사의 제목들이 아래와 같을 때, [속보]라는 텍스트는 제거하고 다시 제목을 저장하고 싶을 수 있다?\n",
    "- '[속보]강동원 잘생겨'\n",
    "- '[속보]아이린 잘생겨'\n",
    "\n",
    "\n",
    "또는 '[속보]'로 시작하는 기사들만 뽑아서 보고 싶을 수도 있을 것 이다.\n",
    "\n",
    "이럴 땐 어떻게 해야할까?\n",
    "\n",
    "---\n",
    "\n",
    "- **인덱싱(Indexing) :** 무엇인가를 \"가리킨다\""
   ]
  },
  {
   "cell_type": "code",
   "execution_count": 51,
   "metadata": {},
   "outputs": [
    {
     "data": {
      "text/plain": [
       "'H'"
      ]
     },
     "execution_count": 51,
     "metadata": {},
     "output_type": "execute_result"
    }
   ],
   "source": [
    "a[0]"
   ]
  },
  {
   "cell_type": "code",
   "execution_count": 50,
   "metadata": {},
   "outputs": [
    {
     "data": {
      "text/plain": [
       "'!'"
      ]
     },
     "execution_count": 50,
     "metadata": {},
     "output_type": "execute_result"
    }
   ],
   "source": [
    "a[-1]"
   ]
  },
  {
   "cell_type": "markdown",
   "metadata": {},
   "source": [
    "- **슬라이싱(Slicing) :**  무엇인가를 \"잘라낸다\""
   ]
  },
  {
   "cell_type": "code",
   "execution_count": 12,
   "metadata": {},
   "outputs": [
    {
     "data": {
      "text/plain": [
       "'Hello'"
      ]
     },
     "execution_count": 12,
     "metadata": {},
     "output_type": "execute_result"
    }
   ],
   "source": [
    "a[0:5]"
   ]
  },
  {
   "cell_type": "code",
   "execution_count": 15,
   "metadata": {},
   "outputs": [
    {
     "data": {
      "text/plain": [
       "'World'"
      ]
     },
     "execution_count": 15,
     "metadata": {},
     "output_type": "execute_result"
    }
   ],
   "source": [
    "a[6:-1]"
   ]
  },
  {
   "cell_type": "code",
   "execution_count": 22,
   "metadata": {},
   "outputs": [
    {
     "data": {
      "text/plain": [
       "'!dlroW olleH'"
      ]
     },
     "execution_count": 22,
     "metadata": {},
     "output_type": "execute_result"
    }
   ],
   "source": [
    "a[::-1]"
   ]
  },
  {
   "cell_type": "markdown",
   "metadata": {},
   "source": [
    "-------\n",
    "\n",
    "## 문자열 수정\n",
    "\n",
    "문자열 자료형은 immutable, 그 요솟값을 변경할 수 없다.\n",
    "\n",
    "아래를 실행해보자.\n",
    "(전체 선택 후 ctrl + /, ctrl + enter : 맥은 ctrl 대신 command키)"
   ]
  },
  {
   "cell_type": "code",
   "execution_count": 59,
   "metadata": {},
   "outputs": [],
   "source": [
    "a = 'Jello Borld!'"
   ]
  },
  {
   "cell_type": "code",
   "execution_count": 62,
   "metadata": {},
   "outputs": [],
   "source": [
    "# a[0] = 'H'\n",
    "# a"
   ]
  },
  {
   "cell_type": "markdown",
   "metadata": {},
   "source": [
    "오류가 난다....\n",
    "\n",
    "그렇지만 재구성해서 다시 만들어 주면 됩니다~"
   ]
  },
  {
   "cell_type": "code",
   "execution_count": 60,
   "metadata": {
    "scrolled": true
   },
   "outputs": [
    {
     "data": {
      "text/plain": [
       "'Hello World!'"
      ]
     },
     "execution_count": 60,
     "metadata": {},
     "output_type": "execute_result"
    }
   ],
   "source": [
    "a = 'H' + a[1:6] + 'W' + a[7:]\n",
    "a"
   ]
  },
  {
   "cell_type": "markdown",
   "metadata": {},
   "source": [
    "---\n",
    "\n",
    "## 문자열에서 자주 쓰는 함수\n",
    "\n",
    "문자열 자료형은 자체적으로 함수를 가지고 있다. 이들 함수를 다른 말로 **내장함수**라 한다. \n",
    "\n",
    "    문자 개수 세기(count)\n",
    "    위치 알려주기1(find)\n",
    "    위치 알려주기2(index)\n",
    "    문자열 삽입(join)\n",
    "    \n",
    "    소문자를 대문자로 바꾸기(upper)\n",
    "    대문자를 소문자로 바꾸기(lower)\n",
    "    \n",
    "    왼쪽 공백 지우기(lstrip)\n",
    "    오른쪽 공백 지우기(rstrip)\n",
    "    양쪽 공백 지우기(strip)\n",
    "    \n",
    "    문자열 바꾸기(replace)\n",
    "    문자열 나누기(split)"
   ]
  },
  {
   "cell_type": "markdown",
   "metadata": {},
   "source": [
    "#### Count\n",
    "문자의 개수 세주는 함수"
   ]
  },
  {
   "cell_type": "code",
   "execution_count": 15,
   "metadata": {},
   "outputs": [],
   "source": [
    "i = 'I Love dogs'"
   ]
  },
  {
   "cell_type": "code",
   "execution_count": 16,
   "metadata": {},
   "outputs": [
    {
     "data": {
      "text/plain": [
       "2"
      ]
     },
     "execution_count": 16,
     "metadata": {},
     "output_type": "execute_result"
    }
   ],
   "source": [
    "i.count('o')  # 문자열 중 문자 o의 개수."
   ]
  },
  {
   "cell_type": "markdown",
   "metadata": {},
   "source": [
    "#### strip()\n",
    "좌우 공백을 지워주는 함수"
   ]
  },
  {
   "cell_type": "code",
   "execution_count": 17,
   "metadata": {},
   "outputs": [
    {
     "data": {
      "text/plain": [
       "'   No Space    '"
      ]
     },
     "execution_count": 17,
     "metadata": {},
     "output_type": "execute_result"
    }
   ],
   "source": [
    "word = '   No Space    '\n",
    "word"
   ]
  },
  {
   "cell_type": "code",
   "execution_count": 18,
   "metadata": {},
   "outputs": [
    {
     "data": {
      "text/plain": [
       "'No Space'"
      ]
     },
     "execution_count": 18,
     "metadata": {},
     "output_type": "execute_result"
    }
   ],
   "source": [
    "word.strip()"
   ]
  },
  {
   "cell_type": "code",
   "execution_count": 19,
   "metadata": {},
   "outputs": [
    {
     "data": {
      "text/plain": [
       "'   No Space    '"
      ]
     },
     "execution_count": 19,
     "metadata": {},
     "output_type": "execute_result"
    }
   ],
   "source": [
    "word"
   ]
  },
  {
   "cell_type": "code",
   "execution_count": 20,
   "metadata": {},
   "outputs": [
    {
     "data": {
      "text/plain": [
       "'No Space    '"
      ]
     },
     "execution_count": 20,
     "metadata": {},
     "output_type": "execute_result"
    }
   ],
   "source": [
    "word.lstrip()"
   ]
  },
  {
   "cell_type": "code",
   "execution_count": 56,
   "metadata": {},
   "outputs": [
    {
     "data": {
      "text/plain": [
       "\"Let's start, Data Analyize\""
      ]
     },
     "execution_count": 56,
     "metadata": {},
     "output_type": "execute_result"
    }
   ],
   "source": [
    "word.rstrip()"
   ]
  },
  {
   "cell_type": "markdown",
   "metadata": {},
   "source": [
    "#### Replace\n",
    "문자열을 바꿔주는 함수"
   ]
  },
  {
   "cell_type": "markdown",
   "metadata": {},
   "source": [
    "- 형식: replace( '바꾸고 싶은 문자열' , '바꿀 문자열')"
   ]
  },
  {
   "cell_type": "code",
   "execution_count": 22,
   "metadata": {},
   "outputs": [],
   "source": [
    "a = \"I Love cats\""
   ]
  },
  {
   "cell_type": "code",
   "execution_count": 23,
   "metadata": {},
   "outputs": [
    {
     "data": {
      "text/plain": [
       "'We Love cats'"
      ]
     },
     "execution_count": 23,
     "metadata": {},
     "output_type": "execute_result"
    }
   ],
   "source": [
    "a.replace('I', 'We') # I가 We로 변경."
   ]
  },
  {
   "cell_type": "markdown",
   "metadata": {},
   "source": [
    "---\n",
    "\n",
    "## 문자열 포매팅(Formatting)\n",
    "\n",
    "\n",
    "문자열 안에 어떤 값을 삽입하는 방법.\n",
    "\n",
    "\n",
    "\n",
    "    코드\t설명\n",
    "    %s\t문자열(String) : 어떤 형태의 값이든 변환해 넣을 수 있다.\n",
    "    %c\t문자 1개(character)\n",
    "    %d\t정수(Integer)\n",
    "    %f\t부동소수(floating-point)\n",
    "    %o\t8진수\n",
    "    %x\t16진수\n",
    "    %%\tLiteral % (문자 % 자체)\n",
    "\n",
    "---\n"
   ]
  },
  {
   "cell_type": "markdown",
   "metadata": {},
   "source": [
    "#### 반복 되는 문장 안에 연산된 결과를 추후 넣는 등의 상황이 생기기도 한다.\n",
    "\n",
    "`` I have __ cats ``\n",
    "\n",
    "안에 원하는 값을 삽입해볼까요?"
   ]
  },
  {
   "cell_type": "code",
   "execution_count": 4,
   "metadata": {},
   "outputs": [
    {
     "data": {
      "text/plain": [
       "'I have 3 cats'"
      ]
     },
     "execution_count": 4,
     "metadata": {},
     "output_type": "execute_result"
    }
   ],
   "source": [
    "\"I have %s cats\" % 3"
   ]
  },
  {
   "cell_type": "markdown",
   "metadata": {},
   "source": [
    "3을 문자열 안에 삽입하려면 <b>%d</b>를 사용하고, 3.234를 삽입하려면 <b>%f</b>를 사용해야 합니다.\n",
    "\n",
    "<br>\n",
    "\n",
    "하지만 %s를 사용하면 이런 것을 생각하지 않아도 됩니다.\n",
    "\n",
    "왜냐하면 %s는 자동으로 % 뒤에 있는 값을 문자열로 바꾸기 때문이죠."
   ]
  },
  {
   "cell_type": "code",
   "execution_count": 5,
   "metadata": {},
   "outputs": [
    {
     "data": {
      "text/plain": [
       "'I am 3.33 sure'"
      ]
     },
     "execution_count": 5,
     "metadata": {},
     "output_type": "execute_result"
    }
   ],
   "source": [
    "\"I am %s sure\" % 3.33"
   ]
  },
  {
   "cell_type": "markdown",
   "metadata": {},
   "source": [
    "#### 포매팅 연산자 %d와 %를 같이 쓸 때는 %%를 쓴다"
   ]
  },
  {
   "cell_type": "code",
   "execution_count": 2,
   "metadata": {},
   "outputs": [],
   "source": [
    "#\"I am %d% sure.\" % 99"
   ]
  },
  {
   "cell_type": "markdown",
   "metadata": {},
   "source": [
    "'I am 99% sure.'를 출력하려고 계획했지만, 파이썬은 값이 올바르지 않다는 값 오류(Value Error) 메시지를 보여 준다.\n",
    "\n",
    "이유는 문자열 포맷 코드인 %d와 %가 같은 문자열 안에 존재하는 경우, %를 나타내려면 반드시 %%로 써야 하는 법칙이 있기 때문이다. 이 점은 꼭 기억해 두어야 한다. 하지만 문자열 안에 %d 같은 포매팅 연산자가 없으면 %는 홀로 쓰여도 상관이 없다.\n",
    "\n",
    "따라서 위 예를 제대로 실행하려면 다음과 같이 해야 한다."
   ]
  },
  {
   "cell_type": "code",
   "execution_count": 3,
   "metadata": {
    "scrolled": true
   },
   "outputs": [
    {
     "data": {
      "text/plain": [
       "'I am  99% sure.'"
      ]
     },
     "execution_count": 3,
     "metadata": {},
     "output_type": "execute_result"
    }
   ],
   "source": [
    "\"I am %d%% sure.\" % 99"
   ]
  }
 ],
 "metadata": {
  "kernelspec": {
   "display_name": "Python 3",
   "language": "python",
   "name": "python3"
  },
  "language_info": {
   "codemirror_mode": {
    "name": "ipython",
    "version": 3
   },
   "file_extension": ".py",
   "mimetype": "text/x-python",
   "name": "python",
   "nbconvert_exporter": "python",
   "pygments_lexer": "ipython3",
   "version": "3.7.4"
  }
 },
 "nbformat": 4,
 "nbformat_minor": 2
}
