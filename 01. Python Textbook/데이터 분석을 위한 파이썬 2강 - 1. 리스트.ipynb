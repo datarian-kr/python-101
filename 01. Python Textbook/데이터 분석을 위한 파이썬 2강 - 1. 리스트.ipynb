{
 "cells": [
  {
   "cell_type": "markdown",
   "metadata": {},
   "source": [
    "# 2강 리스트, List\n",
    "\n",
    "---\n",
    "\n",
    "## 리스트(List) : 배열, 데이터 모음 자체\n",
    "\n",
    "### 00. 리스트 사용하는 이유\n",
    "### 01. 리스트 만들기\n",
    "### 02. 리스트의 인덱싱(Indexing)과 슬라이싱(slicing)\n",
    "        리스트의 인덱싱\n",
    "        리스트의 슬라이싱\n",
    "### 03. 리스트 연산\n",
    "        리스트의 더하기 : +\n",
    "        리스트 반복하기 : *\n",
    "### 04. 리스트 길이 : len\n",
    "### 05. 리스트의 수정과 삭제\n",
    "### 06. 리스트 관련 함수들\n",
    "        리스트 요소 추가 : append\n",
    "        리스트 요소 삽입 : insert\n",
    "        리스트 정렬 : sort\n",
    "        리스트 뒤집기: reverse\n",
    "        위치 반환 : index\n",
    "        리스트 요소 제거 : remove\n",
    "        리스트 요소 끄집어내기 : pop\n",
    "        리스트에 포함된 요소 x의 개수 세기 : count\n",
    "        리스트 확장: extend\n",
    "        \n",
    "### 07. 문자열 리스트화 하기 : join, split"
   ]
  },
  {
   "cell_type": "markdown",
   "metadata": {},
   "source": [
    "<br><br><br><br><br><br>\n",
    "\n",
    "---\n"
   ]
  },
  {
   "cell_type": "markdown",
   "metadata": {},
   "source": [
    "## 0. 리스트를 사용하는 이유?\n",
    "\n",
    "#### 지금까지 변수에는 값을 한 개씩만 저장했습니다. 이런 값을 100개를 저장하려면 어떻게 해야할까요?"
   ]
  },
  {
   "cell_type": "code",
   "execution_count": 2,
   "metadata": {},
   "outputs": [],
   "source": [
    "a = 10\n",
    "b = 20"
   ]
  },
  {
   "cell_type": "markdown",
   "metadata": {},
   "source": [
    "변수 100개를 다 따로 생성하지 않고 리스트로 생성할 수 있습니다."
   ]
  },
  {
   "cell_type": "markdown",
   "metadata": {},
   "source": [
    "## 01. 리스트 만들기\n",
    "\n",
    "- 형식: 리스트 = [값 , 값, 값 , 값]\n",
    "\n",
    "- 대괄호 속에 요소를 넣어서 만든다. \n",
    "- 요소 구분은 쉼표로 해준다.\n",
    "- 리스트 안에 리스트를 넣을 수도 있고, 어떠한 데이터 타입이든 들어갈 수 있다."
   ]
  },
  {
   "cell_type": "code",
   "execution_count": 3,
   "metadata": {},
   "outputs": [],
   "source": [
    "list = [] # 빈 리스트\n",
    "list = [1, 2, 3] # 리스트 안에 정수.\n",
    "list = ['Name', 'Age', 'Phone', 'City'] # 리스트 안에 문자열.\n",
    "list = [1, 2, 'Name', 'City'] # 리스트안에 정수, 문자열.\n",
    "list = [1, 2, 3, 'Cat', ['Name', 'City']] # 리스트 안에 리스트."
   ]
  },
  {
   "cell_type": "code",
   "execution_count": 4,
   "metadata": {},
   "outputs": [
    {
     "data": {
      "text/plain": [
       "[1, 2, 3, 'Cat', ['Name', 'City']]"
      ]
     },
     "execution_count": 4,
     "metadata": {},
     "output_type": "execute_result"
    }
   ],
   "source": [
    "list # 같은 변수명에 저장하면 가장 마지막 값이 저장됨"
   ]
  },
  {
   "cell_type": "markdown",
   "metadata": {},
   "source": [
    "<br><br> \n",
    "\n",
    "-----\n"
   ]
  },
  {
   "cell_type": "markdown",
   "metadata": {},
   "source": [
    "## 02. 리스트의  인덱싱(Indexing), 슬라이싱(slicing)"
   ]
  },
  {
   "cell_type": "markdown",
   "metadata": {},
   "source": [
    "인덱싱과 슬라이싱 개념은 문자열, 리스트, 튜플에서도 사용한다. 그렇기 때문에 꼭 기억해둬야한다.\n",
    "\n",
    "파이썬(컴퓨터 언어)에서는 숫자의 시작이 1이 아닌 0이다. 이 점을 주의하자."
   ]
  },
  {
   "cell_type": "markdown",
   "metadata": {},
   "source": [
    "### 리스트 인덱싱(Indexing)\n",
    "- <b>인덱싱(Indexing)</b> : 무엇인가를 <b>\"가리키다\"</b> -> 특정한 값을 추출."
   ]
  },
  {
   "cell_type": "code",
   "execution_count": 5,
   "metadata": {},
   "outputs": [
    {
     "data": {
      "text/plain": [
       "[1, 2, 3, 'Cat', ['Name', 'City']]"
      ]
     },
     "execution_count": 5,
     "metadata": {},
     "output_type": "execute_result"
    }
   ],
   "source": [
    "list"
   ]
  },
  {
   "cell_type": "code",
   "execution_count": 6,
   "metadata": {},
   "outputs": [
    {
     "name": "stdout",
     "output_type": "stream",
     "text": [
      "1\n",
      "3\n",
      "['Name', 'City']\n"
     ]
    }
   ],
   "source": [
    "print(list[0])\n",
    "print(list[2])\n",
    "print(list[4])"
   ]
  },
  {
   "cell_type": "markdown",
   "metadata": {},
   "source": [
    "### 리스트 슬라이싱(Slicing)\n",
    "- <b>슬라이싱(Slicing)</b> : 무엇인가를 <b>\"잘라낸다\"</b>\n",
    "\n",
    "사용\n",
    "\n",
    "시작인덱스, 끝 인덱스, 건너 띌 갭 이렇게 세 요소를 가질 수 있습니다.\n",
    "```python\n",
    "list[시작 인덱스 : 끝 인덱스 : 갭]\n",
    "```\n",
    "\n",
    "\n",
    "```python\n",
    "list[시작 인덱스:] #끝 인덱스 값을 생략한다면 시작인덱스부터 끝까지 반환하라는 뜻입니다.\n",
    "```\n",
    "\n",
    "```python\n",
    "list[시작 인덱스:끝 인덱스] #시작 번호 값은 포함되나 끝 번호 값은 포함되지 않는다.\n",
    "\n",
    "```\n",
    "\n",
    "\n",
    "```python\n",
    "list[:끝 인덱스]\n",
    "```"
   ]
  },
  {
   "cell_type": "code",
   "execution_count": 9,
   "metadata": {},
   "outputs": [
    {
     "data": {
      "text/plain": [
       "[1, 2, 3, 'Cat', ['Name', 'City']]"
      ]
     },
     "execution_count": 9,
     "metadata": {},
     "output_type": "execute_result"
    }
   ],
   "source": [
    "# list 0번째 인덱스부터 끝까지 반환\n",
    "\n",
    "list[0:]"
   ]
  },
  {
   "cell_type": "code",
   "execution_count": 10,
   "metadata": {},
   "outputs": [
    {
     "data": {
      "text/plain": [
       "['Name', 'City']"
      ]
     },
     "execution_count": 10,
     "metadata": {},
     "output_type": "execute_result"
    }
   ],
   "source": [
    "# list -1번째(뒤에서 첫번째 값) 반환\n",
    "\n",
    "list[-1]"
   ]
  },
  {
   "cell_type": "code",
   "execution_count": 11,
   "metadata": {},
   "outputs": [
    {
     "data": {
      "text/plain": [
       "[1, 3]"
      ]
     },
     "execution_count": 11,
     "metadata": {},
     "output_type": "execute_result"
    }
   ],
   "source": [
    "list[:4:2]"
   ]
  },
  {
   "cell_type": "code",
   "execution_count": 12,
   "metadata": {},
   "outputs": [
    {
     "data": {
      "text/plain": [
       "[['Name', 'City'], 3, 1]"
      ]
     },
     "execution_count": 12,
     "metadata": {},
     "output_type": "execute_result"
    }
   ],
   "source": [
    "list[::-2]"
   ]
  },
  {
   "cell_type": "markdown",
   "metadata": {},
   "source": [
    "<br><br><br>\n",
    "\n",
    "\n",
    "\n",
    "--------\n",
    "\n"
   ]
  },
  {
   "cell_type": "markdown",
   "metadata": {},
   "source": [
    "## 03. 리스트 연산하기\n",
    "    1) 리스트 더하기 : +\n",
    "    2) 리스트 반복하기 : *"
   ]
  },
  {
   "cell_type": "code",
   "execution_count": 13,
   "metadata": {},
   "outputs": [
    {
     "data": {
      "text/plain": [
       "[1, 2, 3, 'Cat', ['Name', 'City']]"
      ]
     },
     "execution_count": 13,
     "metadata": {},
     "output_type": "execute_result"
    }
   ],
   "source": [
    "a = ['hi']\n",
    "list"
   ]
  },
  {
   "cell_type": "code",
   "execution_count": 14,
   "metadata": {},
   "outputs": [],
   "source": [
    "# list += list\n",
    "# list\n",
    "list.append(a)"
   ]
  },
  {
   "cell_type": "markdown",
   "metadata": {},
   "source": [
    "#### 1) 리스트 더하기 : +"
   ]
  },
  {
   "cell_type": "code",
   "execution_count": 15,
   "metadata": {},
   "outputs": [
    {
     "data": {
      "text/plain": [
       "[1, 2, 3, 'Cat', ['Name', 'City'], ['hi'], 'hi']"
      ]
     },
     "execution_count": 15,
     "metadata": {},
     "output_type": "execute_result"
    }
   ],
   "source": [
    "list + a"
   ]
  },
  {
   "cell_type": "code",
   "execution_count": 16,
   "metadata": {},
   "outputs": [
    {
     "data": {
      "text/plain": [
       "'ab'"
      ]
     },
     "execution_count": 16,
     "metadata": {},
     "output_type": "execute_result"
    }
   ],
   "source": [
    "a= ['a','b']\n",
    "\"\".join(a)"
   ]
  },
  {
   "cell_type": "code",
   "execution_count": 17,
   "metadata": {},
   "outputs": [],
   "source": [
    "list += ['a']\n",
    "# li += 'a'"
   ]
  },
  {
   "cell_type": "code",
   "execution_count": 18,
   "metadata": {},
   "outputs": [
    {
     "data": {
      "text/plain": [
       "[1, 2, 3, 'Cat', ['Name', 'City'], ['hi'], 'a']"
      ]
     },
     "execution_count": 18,
     "metadata": {},
     "output_type": "execute_result"
    }
   ],
   "source": [
    "list"
   ]
  },
  {
   "cell_type": "markdown",
   "metadata": {},
   "source": [
    "#### 2) 리스트 반복하기: *"
   ]
  },
  {
   "cell_type": "code",
   "execution_count": 19,
   "metadata": {},
   "outputs": [
    {
     "data": {
      "text/plain": [
       "[1,\n",
       " 2,\n",
       " 3,\n",
       " 'Cat',\n",
       " ['Name', 'City'],\n",
       " ['hi'],\n",
       " 'a',\n",
       " 1,\n",
       " 2,\n",
       " 3,\n",
       " 'Cat',\n",
       " ['Name', 'City'],\n",
       " ['hi'],\n",
       " 'a']"
      ]
     },
     "execution_count": 19,
     "metadata": {},
     "output_type": "execute_result"
    }
   ],
   "source": [
    "list * 2 #내부 요소를 한번 반복해서 하나의 리스트로 반환해 줌"
   ]
  },
  {
   "cell_type": "code",
   "execution_count": 20,
   "metadata": {},
   "outputs": [
    {
     "data": {
      "text/plain": [
       "list"
      ]
     },
     "execution_count": 20,
     "metadata": {},
     "output_type": "execute_result"
    }
   ],
   "source": [
    "type(list)"
   ]
  },
  {
   "cell_type": "code",
   "execution_count": 21,
   "metadata": {},
   "outputs": [
    {
     "data": {
      "text/plain": [
       "[1, 2, 3, 'Cat', ['Name', 'City'], ['hi'], 'a']"
      ]
     },
     "execution_count": 21,
     "metadata": {},
     "output_type": "execute_result"
    }
   ],
   "source": [
    "list"
   ]
  },
  {
   "cell_type": "markdown",
   "metadata": {},
   "source": [
    "<br><br><br>\n",
    "\n",
    "-------\n",
    "\n"
   ]
  },
  {
   "cell_type": "markdown",
   "metadata": {},
   "source": [
    "## 04. 리스트 길이 : len\n",
    "\n",
    "리스트의 길이를 구하기 위해서는 len 함수를 사용한다. str, 튜플, 딕셔너리에도 사용하는 함수이기 때문에 잘 기억하자.  \n",
    "\n",
    "string은 문자열의 문자 갯수를 내놓지만, \n",
    "리스트는 내부 요소의 갯수를 내놓는다."
   ]
  },
  {
   "cell_type": "code",
   "execution_count": 22,
   "metadata": {},
   "outputs": [
    {
     "data": {
      "text/plain": [
       "[1, 2, 3, 'Cat', ['Name', 'City'], ['hi'], 'a']"
      ]
     },
     "execution_count": 22,
     "metadata": {},
     "output_type": "execute_result"
    }
   ],
   "source": [
    "list"
   ]
  },
  {
   "cell_type": "code",
   "execution_count": 23,
   "metadata": {},
   "outputs": [
    {
     "data": {
      "text/plain": [
       "7"
      ]
     },
     "execution_count": 23,
     "metadata": {},
     "output_type": "execute_result"
    }
   ],
   "source": [
    "len(list) # 리스트 길이 -> 내부 요소의 갯수"
   ]
  },
  {
   "cell_type": "markdown",
   "metadata": {},
   "source": [
    "<br><br> \n",
    "\n",
    "----\n",
    "\n"
   ]
  },
  {
   "cell_type": "markdown",
   "metadata": {},
   "source": [
    "## 05. 리스트의 수정과 삭제\n",
    "\n",
    "리스트는 값을 수정과 삭제가 가능하다. \n",
    "\n",
    "**파이썬의 시작**은 1이 아닌 **0**이다. \n",
    "\n",
    "    1) 리스트에서 값 수정\n",
    "    2) 리스트 요소 삭제 : del"
   ]
  },
  {
   "cell_type": "markdown",
   "metadata": {},
   "source": [
    "### 1) 리스트 값 수정"
   ]
  },
  {
   "cell_type": "code",
   "execution_count": 24,
   "metadata": {},
   "outputs": [],
   "source": [
    "num = [1, 2, 3, 4] # 리스트에서 숫자를 셀 때, 시작은 0이다."
   ]
  },
  {
   "cell_type": "code",
   "execution_count": 25,
   "metadata": {},
   "outputs": [],
   "source": [
    "num[2] = 'c' # list의 2번째 요소인 3 수정"
   ]
  },
  {
   "cell_type": "code",
   "execution_count": 26,
   "metadata": {},
   "outputs": [
    {
     "data": {
      "text/plain": [
       "[1, 2, 'c', 4]"
      ]
     },
     "execution_count": 26,
     "metadata": {},
     "output_type": "execute_result"
    }
   ],
   "source": [
    "num"
   ]
  },
  {
   "cell_type": "markdown",
   "metadata": {},
   "source": [
    "### 2) 리스트 요소 삭제 : del"
   ]
  },
  {
   "cell_type": "code",
   "execution_count": 27,
   "metadata": {},
   "outputs": [
    {
     "data": {
      "text/plain": [
       "[1, 2, 'c', 4]"
      ]
     },
     "execution_count": 27,
     "metadata": {},
     "output_type": "execute_result"
    }
   ],
   "source": [
    "num"
   ]
  },
  {
   "cell_type": "code",
   "execution_count": 28,
   "metadata": {},
   "outputs": [],
   "source": [
    "del num[3] # list의 3번째 요소인 4 삭제."
   ]
  },
  {
   "cell_type": "code",
   "execution_count": 29,
   "metadata": {},
   "outputs": [
    {
     "data": {
      "text/plain": [
       "[1, 2, 'c']"
      ]
     },
     "execution_count": 29,
     "metadata": {},
     "output_type": "execute_result"
    }
   ],
   "source": [
    "num"
   ]
  },
  {
   "cell_type": "markdown",
   "metadata": {},
   "source": [
    "<br><br> \n",
    "\n",
    "----\n",
    "\n"
   ]
  },
  {
   "cell_type": "markdown",
   "metadata": {},
   "source": [
    "## 06. 리스트 관련 함수들\n",
    "    리스트 요소 추가 : append \n",
    "    리스트 정렬 : sort\n",
    "    리스트 뒤집기 : reverse\n",
    "    위치 반환 : index\n",
    "    리스트에 요소 삽입 : insert\n",
    "    리스트 요소 제거 : remove\n",
    "    리스트 요소 끄집어내기 : pop\n",
    "    리스트에 포함된 요소 x의 개수 세기 : count\n",
    "    리스트 확장 : extend\n",
    "    \n",
    "    ''.join(list) -> 문자열 바꿔주는 거(요소들이 str이여야함)"
   ]
  },
  {
   "cell_type": "markdown",
   "metadata": {},
   "source": [
    "### 리스트 요소 추가 : append ( )\n",
    "리스트 안에 어떤 자료형도 추가할 수 있다."
   ]
  },
  {
   "cell_type": "code",
   "execution_count": 30,
   "metadata": {},
   "outputs": [],
   "source": [
    "a = ['a', 'b', 'c']"
   ]
  },
  {
   "cell_type": "code",
   "execution_count": 31,
   "metadata": {},
   "outputs": [],
   "source": [
    "a.append('d')"
   ]
  },
  {
   "cell_type": "code",
   "execution_count": 32,
   "metadata": {},
   "outputs": [
    {
     "data": {
      "text/plain": [
       "['a', 'b', 'c', 'd']"
      ]
     },
     "execution_count": 32,
     "metadata": {},
     "output_type": "execute_result"
    }
   ],
   "source": [
    "a"
   ]
  },
  {
   "cell_type": "markdown",
   "metadata": {},
   "source": [
    "### 리스트 요소 삽입 : insert ( a , b)\n",
    "append와 다르게 insert는 요소의 위치를 지정해서 삽입할 수 있다.\n",
    "<br>\n",
    "insert(a, b)는 리스트의 a번째 위치하는 b를 삽입한다. "
   ]
  },
  {
   "cell_type": "code",
   "execution_count": 33,
   "metadata": {},
   "outputs": [],
   "source": [
    "b = ['a', 'b', 'd', 'e']"
   ]
  },
  {
   "cell_type": "code",
   "execution_count": 34,
   "metadata": {},
   "outputs": [],
   "source": [
    "b.insert(2, 'c') # 2번째 자리에 c 삽입."
   ]
  },
  {
   "cell_type": "code",
   "execution_count": 35,
   "metadata": {},
   "outputs": [
    {
     "data": {
      "text/plain": [
       "['a', 'b', 'c', 'd', 'e']"
      ]
     },
     "execution_count": 35,
     "metadata": {},
     "output_type": "execute_result"
    }
   ],
   "source": [
    "b"
   ]
  },
  {
   "cell_type": "markdown",
   "metadata": {},
   "source": [
    "### 리스트 정렬 : sort\n",
    "리스트의 요소를 순서대로 정렬"
   ]
  },
  {
   "cell_type": "code",
   "execution_count": 36,
   "metadata": {},
   "outputs": [],
   "source": [
    "c = ['b', 'a', 'd', 'c']"
   ]
  },
  {
   "cell_type": "code",
   "execution_count": 37,
   "metadata": {},
   "outputs": [],
   "source": [
    "c.sort()"
   ]
  },
  {
   "cell_type": "code",
   "execution_count": 38,
   "metadata": {},
   "outputs": [
    {
     "data": {
      "text/plain": [
       "['a', 'b', 'c', 'd']"
      ]
     },
     "execution_count": 38,
     "metadata": {},
     "output_type": "execute_result"
    }
   ],
   "source": [
    "c"
   ]
  },
  {
   "cell_type": "markdown",
   "metadata": {},
   "source": [
    "<br><br> \n",
    "\n",
    "----\n",
    "\n"
   ]
  },
  {
   "cell_type": "markdown",
   "metadata": {},
   "source": [
    "## 07. 문자열 리스트화 시키기\n",
    "    1) .join(list) : 리스트에서 문자열 변환\n",
    "    2) str.split() : 문자열에서 리스트 변환"
   ]
  },
  {
   "cell_type": "markdown",
   "metadata": {},
   "source": [
    "### 1) .join(list) : 리스트에서 문자열 변환"
   ]
  },
  {
   "cell_type": "code",
   "execution_count": 39,
   "metadata": {},
   "outputs": [],
   "source": [
    "you = 'Happy'"
   ]
  },
  {
   "cell_type": "code",
   "execution_count": 40,
   "metadata": {},
   "outputs": [
    {
     "name": "stdout",
     "output_type": "stream",
     "text": [
      "H,a,p,p,y\n"
     ]
    }
   ],
   "source": [
    "print(','.join(you))"
   ]
  },
  {
   "cell_type": "markdown",
   "metadata": {},
   "source": [
    "### 2) str.split() : 문자열에서 리스트 변환"
   ]
  },
  {
   "cell_type": "code",
   "execution_count": 41,
   "metadata": {},
   "outputs": [],
   "source": [
    "you_list = you.split()"
   ]
  },
  {
   "cell_type": "code",
   "execution_count": 42,
   "metadata": {},
   "outputs": [
    {
     "data": {
      "text/plain": [
       "['Happy']"
      ]
     },
     "execution_count": 42,
     "metadata": {},
     "output_type": "execute_result"
    }
   ],
   "source": [
    "you_list"
   ]
  },
  {
   "cell_type": "markdown",
   "metadata": {},
   "source": [
    "### 활용"
   ]
  },
  {
   "cell_type": "code",
   "execution_count": 43,
   "metadata": {},
   "outputs": [],
   "source": [
    "data = '이 강의를 통해 데이터 분석에 재미를 느껴보세요~. ' # 스페이스바 기준으로 분리됨."
   ]
  },
  {
   "cell_type": "code",
   "execution_count": 44,
   "metadata": {},
   "outputs": [],
   "source": [
    "data_list = data.split()"
   ]
  },
  {
   "cell_type": "code",
   "execution_count": 45,
   "metadata": {},
   "outputs": [
    {
     "data": {
      "text/plain": [
       "['이', '강의를', '통해', '데이터', '분석에', '재미를', '느껴보세요~.']"
      ]
     },
     "execution_count": 45,
     "metadata": {},
     "output_type": "execute_result"
    }
   ],
   "source": [
    "data_list"
   ]
  },
  {
   "cell_type": "code",
   "execution_count": 47,
   "metadata": {},
   "outputs": [
    {
     "data": {
      "text/plain": [
       "'이 강의를 통해 데이터 분석에 재미를 느껴보세요~.'"
      ]
     },
     "execution_count": 47,
     "metadata": {},
     "output_type": "execute_result"
    }
   ],
   "source": [
    "' '.join(data_list)"
   ]
  }
 ],
 "metadata": {
  "kernelspec": {
   "display_name": "Python 3",
   "language": "python",
   "name": "python3"
  },
  "language_info": {
   "codemirror_mode": {
    "name": "ipython",
    "version": 3
   },
   "file_extension": ".py",
   "mimetype": "text/x-python",
   "name": "python",
   "nbconvert_exporter": "python",
   "pygments_lexer": "ipython3",
   "version": "3.7.0"
  }
 },
 "nbformat": 4,
 "nbformat_minor": 2
}
