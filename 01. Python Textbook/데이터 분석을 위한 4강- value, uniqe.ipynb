{
 "cells": [
  {
   "cell_type": "code",
   "execution_count": 1,
   "metadata": {},
   "outputs": [],
   "source": [
    "import pandas as pd"
   ]
  },
  {
   "cell_type": "code",
   "execution_count": 2,
   "metadata": {},
   "outputs": [],
   "source": [
    "# .read_csv('파일명.csv') csv 데이터 읽기\n",
    "data=pd.read_csv('kr_googlestore.csv')"
   ]
  },
  {
   "cell_type": "markdown",
   "metadata": {},
   "source": [
    "<br><br>\n",
    "\n",
    "------------------"
   ]
  },
  {
   "cell_type": "markdown",
   "metadata": {},
   "source": [
    "### e. 데이터 확인 \n"
   ]
  },
  {
   "cell_type": "markdown",
   "metadata": {},
   "source": [
    "- ```.values``` : numpy 데이터 확인하기 => 값 얻기"
   ]
  },
  {
   "cell_type": "markdown",
   "metadata": {},
   "source": [
    "#### 데이터 확인 : .values"
   ]
  },
  {
   "cell_type": "code",
   "execution_count": 4,
   "metadata": {},
   "outputs": [
    {
     "data": {
      "text/plain": [
       "array([['Photo Editor & Candy Camera & Grid & ScrapBook', 'Art & Design',\n",
       "        4.1, ..., 2018, 1, 2018.01],\n",
       "       ['Coloring book moana', 'Art & Design;Pretend Play', 3.9, ...,\n",
       "        2018, 1, 2018.01],\n",
       "       ['U Launcher Lite – FREE Live Cool Themes, Hide Apps',\n",
       "        'Art & Design', 4.7, ..., 2018, 8, 2018.08],\n",
       "       ...,\n",
       "       ['Gas Station', 'Auto & Vehicles', 4.0, ..., 2018, 4, 2018.04],\n",
       "       ['Hush - Beauty for 전체가', 'Beauty', 4.7, ..., 2018, 8, 2018.08],\n",
       "       ['ipsy: Makeup, Beauty, and Tips', 'Beauty', nan, ..., 2017, 11,\n",
       "        2017.11]], dtype=object)"
      ]
     },
     "execution_count": 4,
     "metadata": {},
     "output_type": "execute_result"
    }
   ],
   "source": [
    "data.values"
   ]
  },
  {
   "cell_type": "markdown",
   "metadata": {},
   "source": [
    "values는 데이터를 배열로 뽑아서 보여줌"
   ]
  },
  {
   "cell_type": "markdown",
   "metadata": {},
   "source": [
    "------------------"
   ]
  },
  {
   "cell_type": "markdown",
   "metadata": {},
   "source": [
    "### c. 데이터 값 살펴보기: uniqe, value\n",
    "\n",
    "\n",
    "### 앱의 안드로이드 버전들이 몇 몇이 있는지 한번 확인해 볼까요? \n",
    "\n",
    "컬럼을 선택할 때는 꼭 ''로 감싸서 스트링으로 넣어줘야 함\n"
   ]
  },
  {
   "cell_type": "markdown",
   "metadata": {},
   "source": [
    "- ```unique``` : 데이터 안에 있는 값을 중복 없이 반환\n",
    "- ```nunique``` : 데이터 안에 있는 값을 중복 제외된 갯수를 확인\n",
    "\n",
    "<br>\n",
    "\n",
    "- ```values```: 데이터 안에 어떤 값이 들어있는지 중복 포함하여 모두 반환\n",
    "- ```value_counts```: 데이터 안에 어떤 값이 들어있는지 갯수 확인 \n"
   ]
  },
  {
   "cell_type": "markdown",
   "metadata": {},
   "source": [
    "#### 데이터 값의 종류 확인 : unique()\n",
    "\n",
    "중복된 값들을 제거하고 보여줌. 값 종류들을 알 수 있음."
   ]
  },
  {
   "cell_type": "code",
   "execution_count": 5,
   "metadata": {},
   "outputs": [
    {
     "data": {
      "text/plain": [
       "array([4. , 4.2, 4.4, 2.3, 3. , 4.1, 2.2, 5. , 6. ])"
      ]
     },
     "execution_count": 5,
     "metadata": {},
     "output_type": "execute_result"
    }
   ],
   "source": [
    "data['안드로이드 버전'].unique()"
   ]
  },
  {
   "cell_type": "markdown",
   "metadata": {},
   "source": [
    "#### 데이터 값의 종류 갯수 확인 : nuniqe()\n",
    "\n",
    "중복된 값들을 제거하고, 값 갯수를 세어줌"
   ]
  },
  {
   "cell_type": "code",
   "execution_count": 6,
   "metadata": {},
   "outputs": [
    {
     "data": {
      "text/plain": [
       "9"
      ]
     },
     "execution_count": 6,
     "metadata": {},
     "output_type": "execute_result"
    }
   ],
   "source": [
    "data['안드로이드 버전'].nunique()"
   ]
  },
  {
   "cell_type": "markdown",
   "metadata": {},
   "source": [
    "#### 데이터 값 확인 : values\n",
    "\n",
    "중복을 제거하지 않고 순서대로 모든 값을 배열로 보여줌."
   ]
  },
  {
   "cell_type": "code",
   "execution_count": 7,
   "metadata": {},
   "outputs": [
    {
     "data": {
      "text/plain": [
       "array([4. , 4. , 4. , 4.2, 4.4, 2.3, 4. , 4.2, 3. , 4. , 4.1, 4. , 4.1,\n",
       "       4.4, 2.3, 4.2, 4.1, 2.3, 4. , 4.1, 4.1, 4. , 4. , 4.1, 4.1, 3. ,\n",
       "       4. , 4. , 2.3, 2.3, 4. , 2.3, 4. , 4.1, 4.1, 4.1, 4.4, 2.3, 4. ,\n",
       "       4. , 4. , 4. , 4. , 4.1, 4.1, 4.1, 4.1, 4.1, 2.3, 4. , 4.1, 4.1,\n",
       "       4.1, 4.1, 4.1, 4. , 4.4, 4.1, 2.2, 4.4, 4. , 4.2, 4.1, 4. , 4.2,\n",
       "       4.4, 2.3, 2.3, 2.3, 4. , 4. , 4.2, 5. , 2.3, 4. , 4. , 4.1, 4. ,\n",
       "       4.1, 4.1, 6. , 4.2, 5. , 4. , 4.4, 4.4, 2.3, 4. , 4. , 4. , 4.1,\n",
       "       4. , 4. , 4. , 4. , 4. , 4. , 4. , 5. , 4.1])"
      ]
     },
     "execution_count": 7,
     "metadata": {},
     "output_type": "execute_result"
    }
   ],
   "source": [
    "data['안드로이드 버전'].values"
   ]
  },
  {
   "cell_type": "markdown",
   "metadata": {},
   "source": [
    "#### 데이터 값의 종류 갯수 확인 : value_counts()"
   ]
  },
  {
   "cell_type": "code",
   "execution_count": 8,
   "metadata": {},
   "outputs": [
    {
     "data": {
      "text/plain": [
       "4.0    38\n",
       "4.1    27\n",
       "2.3    13\n",
       "4.4     8\n",
       "4.2     7\n",
       "5.0     3\n",
       "3.0     2\n",
       "2.2     1\n",
       "6.0     1\n",
       "Name: 안드로이드 버전, dtype: int64"
      ]
     },
     "execution_count": 8,
     "metadata": {},
     "output_type": "execute_result"
    }
   ],
   "source": [
    "data['안드로이드 버전'].value_counts()"
   ]
  },
  {
   "cell_type": "markdown",
   "metadata": {},
   "source": [
    "----------------------------"
   ]
  },
  {
   "cell_type": "code",
   "execution_count": 9,
   "metadata": {},
   "outputs": [
    {
     "data": {
      "text/html": [
       "<div>\n",
       "<style scoped>\n",
       "    .dataframe tbody tr th:only-of-type {\n",
       "        vertical-align: middle;\n",
       "    }\n",
       "\n",
       "    .dataframe tbody tr th {\n",
       "        vertical-align: top;\n",
       "    }\n",
       "\n",
       "    .dataframe thead th {\n",
       "        text-align: right;\n",
       "    }\n",
       "</style>\n",
       "<table border=\"1\" class=\"dataframe\">\n",
       "  <thead>\n",
       "    <tr style=\"text-align: right;\">\n",
       "      <th></th>\n",
       "      <th>year</th>\n",
       "      <th>name</th>\n",
       "      <th>points</th>\n",
       "      <th>penalty</th>\n",
       "    </tr>\n",
       "  </thead>\n",
       "  <tbody>\n",
       "    <tr>\n",
       "      <td>one</td>\n",
       "      <td>NaN</td>\n",
       "      <td>NaN</td>\n",
       "      <td>NaN</td>\n",
       "      <td>NaN</td>\n",
       "    </tr>\n",
       "    <tr>\n",
       "      <td>two</td>\n",
       "      <td>NaN</td>\n",
       "      <td>NaN</td>\n",
       "      <td>NaN</td>\n",
       "      <td>NaN</td>\n",
       "    </tr>\n",
       "    <tr>\n",
       "      <td>three</td>\n",
       "      <td>NaN</td>\n",
       "      <td>NaN</td>\n",
       "      <td>NaN</td>\n",
       "      <td>NaN</td>\n",
       "    </tr>\n",
       "    <tr>\n",
       "      <td>four</td>\n",
       "      <td>NaN</td>\n",
       "      <td>NaN</td>\n",
       "      <td>NaN</td>\n",
       "      <td>NaN</td>\n",
       "    </tr>\n",
       "    <tr>\n",
       "      <td>five</td>\n",
       "      <td>NaN</td>\n",
       "      <td>NaN</td>\n",
       "      <td>NaN</td>\n",
       "      <td>NaN</td>\n",
       "    </tr>\n",
       "  </tbody>\n",
       "</table>\n",
       "</div>"
      ],
      "text/plain": [
       "       year  name  points  penalty\n",
       "one     NaN   NaN     NaN      NaN\n",
       "two     NaN   NaN     NaN      NaN\n",
       "three   NaN   NaN     NaN      NaN\n",
       "four    NaN   NaN     NaN      NaN\n",
       "five    NaN   NaN     NaN      NaN"
      ]
     },
     "execution_count": 9,
     "metadata": {},
     "output_type": "execute_result"
    }
   ],
   "source": [
    "# DataFrame을 만들면서 columns와 index를 설정할 수 있다.\n",
    "df2 = pd.DataFrame(data, columns=['year', 'name', 'points', 'penalty'],\n",
    "                  index=['one', 'two', 'three', 'four', 'five'])\n",
    "df2"
   ]
  },
  {
   "cell_type": "code",
   "execution_count": 10,
   "metadata": {},
   "outputs": [
    {
     "data": {
      "text/html": [
       "<div>\n",
       "<style scoped>\n",
       "    .dataframe tbody tr th:only-of-type {\n",
       "        vertical-align: middle;\n",
       "    }\n",
       "\n",
       "    .dataframe tbody tr th {\n",
       "        vertical-align: top;\n",
       "    }\n",
       "\n",
       "    .dataframe thead th {\n",
       "        text-align: right;\n",
       "    }\n",
       "</style>\n",
       "<table border=\"1\" class=\"dataframe\">\n",
       "  <thead>\n",
       "    <tr style=\"text-align: right;\">\n",
       "      <th></th>\n",
       "      <th>year</th>\n",
       "      <th>name</th>\n",
       "      <th>points</th>\n",
       "      <th>penalty</th>\n",
       "    </tr>\n",
       "  </thead>\n",
       "  <tbody>\n",
       "    <tr>\n",
       "      <td>one</td>\n",
       "      <td>NaN</td>\n",
       "      <td>NaN</td>\n",
       "      <td>NaN</td>\n",
       "      <td>NaN</td>\n",
       "    </tr>\n",
       "    <tr>\n",
       "      <td>two</td>\n",
       "      <td>NaN</td>\n",
       "      <td>NaN</td>\n",
       "      <td>NaN</td>\n",
       "      <td>NaN</td>\n",
       "    </tr>\n",
       "    <tr>\n",
       "      <td>three</td>\n",
       "      <td>NaN</td>\n",
       "      <td>NaN</td>\n",
       "      <td>NaN</td>\n",
       "      <td>NaN</td>\n",
       "    </tr>\n",
       "    <tr>\n",
       "      <td>four</td>\n",
       "      <td>NaN</td>\n",
       "      <td>NaN</td>\n",
       "      <td>NaN</td>\n",
       "      <td>NaN</td>\n",
       "    </tr>\n",
       "    <tr>\n",
       "      <td>five</td>\n",
       "      <td>NaN</td>\n",
       "      <td>NaN</td>\n",
       "      <td>NaN</td>\n",
       "      <td>NaN</td>\n",
       "    </tr>\n",
       "  </tbody>\n",
       "</table>\n",
       "</div>"
      ],
      "text/plain": [
       "       year  name  points  penalty\n",
       "one     NaN   NaN     NaN      NaN\n",
       "two     NaN   NaN     NaN      NaN\n",
       "three   NaN   NaN     NaN      NaN\n",
       "four    NaN   NaN     NaN      NaN\n",
       "five    NaN   NaN     NaN      NaN"
      ]
     },
     "execution_count": 10,
     "metadata": {},
     "output_type": "execute_result"
    }
   ],
   "source": [
    "# DataFrame을 만들면서 columns와 index를 설정할 수 있다.\n",
    "data2 = pd.DataFrame(data, columns=['year', 'name', 'points', 'penalty'],\n",
    "                  index=['one', 'two', 'three', 'four', 'five'])\n",
    "df2"
   ]
  },
  {
   "cell_type": "code",
   "execution_count": null,
   "metadata": {},
   "outputs": [],
   "source": []
  }
 ],
 "metadata": {
  "kernelspec": {
   "display_name": "Python 3",
   "language": "python",
   "name": "python3"
  },
  "language_info": {
   "codemirror_mode": {
    "name": "ipython",
    "version": 3
   },
   "file_extension": ".py",
   "mimetype": "text/x-python",
   "name": "python",
   "nbconvert_exporter": "python",
   "pygments_lexer": "ipython3",
   "version": "3.7.4"
  }
 },
 "nbformat": 4,
 "nbformat_minor": 2
}
