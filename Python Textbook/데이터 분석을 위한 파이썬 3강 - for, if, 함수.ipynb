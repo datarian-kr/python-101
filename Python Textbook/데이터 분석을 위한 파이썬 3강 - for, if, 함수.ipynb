{
 "cells": [
  {
   "cell_type": "markdown",
   "metadata": {},
   "source": [
    "# 파이썬 3강"
   ]
  },
  {
   "cell_type": "markdown",
   "metadata": {},
   "source": [
    "파이선 프래그래밍에서는 if, for, while 등 과 같은 제어문이 있습니다. 이 중 우리는 데이터 분석에서 가장 필요하다고 생각하는 if, for문에 대해서 배우도록 하겠습니다"
   ]
  },
  {
   "cell_type": "markdown",
   "metadata": {},
   "source": [
    "**if문** : 해당 조건을 판단할 때 사용. "
   ]
  },
  {
   "cell_type": "markdown",
   "metadata": {},
   "source": [
    "<if문의 기본 구조>\n",
    "\n",
    "if 조건문:\n",
    "    수행 할 문장 1\n",
    "    수행 할 문장 2\n",
    "    ...\n",
    "else:\n",
    "    수행 할 문장 A\n",
    "    수행 할 문장 B\n",
    "    \n",
    "주의할 점: if문에 속하는 모든 문장에 들여쓰기!!!!"
   ]
  },
  {
   "cell_type": "code",
   "execution_count": 5,
   "metadata": {},
   "outputs": [
    {
     "name": "stdout",
     "output_type": "stream",
     "text": [
      "매우 사랑스럽고 귀엽다. 그리고 또 귀엽다\n"
     ]
    }
   ],
   "source": [
    "# if문 예시.\n",
    "\n",
    "Cat = True # cat에 True를 입력했으므로 Cat는 참. 따라서 if문 다음 문장이 수행되어 매우 옳은 말이 출력된다.\n",
    "\n",
    "if Cat: \n",
    "    print ('매우 사랑스럽고 귀엽다. 그리고 또 귀엽다')\n",
    "\n",
    "else:\n",
    "    print('사람이다. 희망이 없다')"
   ]
  },
  {
   "cell_type": "code",
   "execution_count": 9,
   "metadata": {},
   "outputs": [
    {
     "ename": "IndentationError",
     "evalue": "unexpected indent (<ipython-input-9-783369f9c4c0>, line 8)",
     "output_type": "error",
     "traceback": [
      "\u001b[1;36m  File \u001b[1;32m\"<ipython-input-9-783369f9c4c0>\"\u001b[1;36m, line \u001b[1;32m8\u001b[0m\n\u001b[1;33m    print('사지 말고 입양하세요') # 어떤 문장이든 들여쓰지 않으면 오류가 발생한다.\u001b[0m\n\u001b[1;37m    ^\u001b[0m\n\u001b[1;31mIndentationError\u001b[0m\u001b[1;31m:\u001b[0m unexpected indent\n"
     ]
    }
   ],
   "source": [
    "# if문 들여쓰기 안햇을 때, 오류 예시.\n",
    "\n",
    "Cat = True\n",
    "\n",
    "if Cat: \n",
    "    print ('매우 사랑스럽고 귀엽다. 그리고 또 귀엽다')\n",
    "print('입양 문의는 포인핸드')\n",
    "    print('사지 말고 입양하세요') # 어떤 문장이든 들여쓰지 않으면 오류가 발생한다."
   ]
  },
  {
   "cell_type": "markdown",
   "metadata": {},
   "source": [
    "*비교 연산자*\n",
    "\n",
    "- x < y : x가 y보다 작다.\n",
    "- x > y : x가 y보다 크다.\n",
    "- x == y : x와 y가 같다.\n",
    "- x != y : x와 y가 같지 않다.\n",
    "- x >= y : x가 y보다 크거나 같다.\n",
    "- x <= y : x가 y보다 작거나 같다"
   ]
  },
  {
   "cell_type": "code",
   "execution_count": 18,
   "metadata": {},
   "outputs": [
    {
     "data": {
      "text/plain": [
       "False"
      ]
     },
     "execution_count": 18,
     "metadata": {},
     "output_type": "execute_result"
    }
   ],
   "source": [
    "# 연산자 예시: \n",
    "x = 3\n",
    "y = 2\n",
    "\n",
    "x < y\n",
    "# x != y\n",
    "# x == y"
   ]
  },
  {
   "cell_type": "code",
   "execution_count": 17,
   "metadata": {},
   "outputs": [
    {
     "name": "stdout",
     "output_type": "stream",
     "text": [
      "매우 사랑스럽고 귀엽다. 그리고 또 귀엽다\n"
     ]
    }
   ],
   "source": [
    "# if문 비교 연산자 예시.\n",
    "\n",
    "Cat = 3000 # cat 사랑해.\n",
    "\n",
    "if Cat >= 486: # 조건문이 3000 >= 486 이기 때문에 참.\n",
    "    print ('매우 사랑스럽고 귀엽다. 그리고 또 귀엽다')\n",
    "\n",
    "else: \n",
    "    print('사람이다. 희망이 없다')"
   ]
  },
  {
   "cell_type": "markdown",
   "metadata": {},
   "source": [
    "*and, or, not 연산자*\n",
    "\n",
    "- x or y : x와 y 둘 중에 하나만 참이어도 참이다. -> 합집합\n",
    "- x and y : x와 y 모두 참이어야 참이다. -> 교집합\n",
    "- not x : x가 거짓이면 참이다. -> 차집합\n",
    "    - not y : y가 거짓이면 참이다."
   ]
  },
  {
   "cell_type": "code",
   "execution_count": 21,
   "metadata": {},
   "outputs": [
    {
     "name": "stdout",
     "output_type": "stream",
     "text": [
      "맞아. 고양이는 매우 사랑스럽고 귀엽지. 알고 있지? 이런, 또 귀엽다\n"
     ]
    }
   ],
   "source": [
    "# and 예시:\n",
    "\n",
    "Cat = 3000 # cat 사랑해.\n",
    "People = 186 # 인간^^\n",
    "\n",
    "if Cat >= 3000 and People == 186: # 듀 조건이 참이기 때문에.\n",
    "    print ('맞아. 고양이는 매우 사랑스럽고 귀엽지. 알고 있지? 이런, 또 귀엽다')\n",
    "\n",
    "else: # Cat, People 둘 중 하나만 조건이 틀렸다면, 출력.\n",
    "    print('사람이다. 희망이 없다')"
   ]
  },
  {
   "cell_type": "markdown",
   "metadata": {},
   "source": [
    "다양한 조건을 판단하는 **elif**\n",
    "- if와 else만으로는 다양한 조건을 판단하기 어렵다. (선택사항이 두개이기 때문에)\n",
    "- 이러한 조건에서 다중 조건을 판단하게 하는 것이 elif이다. "
   ]
  },
  {
   "cell_type": "code",
   "execution_count": 24,
   "metadata": {},
   "outputs": [
    {
     "name": "stdout",
     "output_type": "stream",
     "text": [
      "고양이는 야옹야옹\n"
     ]
    }
   ],
   "source": [
    "# elif를 사용하지 않을 때 산만한 파이썬 코딩.\n",
    "\n",
    "animal = ['cat', 'people']\n",
    "dog = True\n",
    "\n",
    "if 'cat' in animal:\n",
    "    print(\"고양이는 야옹야옹\")\n",
    "else:\n",
    "    if dog:\n",
    "        print(\"강아지는 멍멍\")\n",
    "    else:\n",
    "         print(\"인간은...ㅎ\")"
   ]
  },
  {
   "cell_type": "code",
   "execution_count": 26,
   "metadata": {},
   "outputs": [
    {
     "name": "stdout",
     "output_type": "stream",
     "text": [
      "고양이는 야옹야옹\n"
     ]
    }
   ],
   "source": [
    "# elif를 사용한 코딩\n",
    "\n",
    "animal = ['cat', 'people']\n",
    "dog = True\n",
    "\n",
    "if 'cat' in animal:\n",
    "    print(\"고양이는 야옹야옹\")\n",
    "elif dog: # 여기서 달라짐.\n",
    "    print(\"강아지는 멍멍\") \n",
    "else:      # else는 가장 마지막에 나온다.\n",
    "    print(\"인간은...ㅎ\")"
   ]
  },
  {
   "cell_type": "markdown",
   "metadata": {},
   "source": [
    "elif 기본 구조 : elif는 이전 조건문이 거짓일 때 수행된다.\n",
    "                 elif는 개수의 제한 없이 사용할 수 있다.\n",
    "\n",
    "If <조건문>:\n",
    "    <수행할 문장1> \n",
    "    <수행할 문장2>\n",
    "    ...\n",
    "elif <조건문>: # if가 거짓일 경우 실행\n",
    "    <수행할 문장1>\n",
    "    <수행할 문장2>\n",
    "    ...\n",
    "elif <조건문>: # 그 전 elif가 거짓일 경우 실행\n",
    "    <수행할 문장1>\n",
    "    <수행할 문장2>\n",
    "    ...\n",
    "...\n",
    "else: # 마지막 조건.\n",
    "   <수행할 문장1>\n",
    "   <수행할 문장2>\n",
    "   ... "
   ]
  },
  {
   "cell_type": "markdown",
   "metadata": {},
   "source": [
    "**for문**\n",
    "\n",
    "- 매우 유용하고 문장 구조가 한눈에 쏙 들어온다는 장점.\n",
    "- while문과 비슷. -> 보충자료 참고.\n",
    "\n",
    "<for문 기본 구조>\n",
    "\n",
    "for 변수 in 리스트(또는 튜플, 문자열):\n",
    "    수행할 문장1\n",
    "    수행할 문장2\n",
    "    ..."
   ]
  },
  {
   "cell_type": "markdown",
   "metadata": {},
   "source": [
    "for문의 장점\n",
    "- Hello World를 10번 작성한다고 했을 때, 여러 가지 방법 중 2가지 방법을 소개한다."
   ]
  },
  {
   "cell_type": "code",
   "execution_count": 31,
   "metadata": {},
   "outputs": [
    {
     "name": "stdout",
     "output_type": "stream",
     "text": [
      "Hello World\n",
      "Hello World\n",
      "Hello World\n",
      "Hello World\n",
      "Hello World\n",
      "Hello World\n",
      "Hello World\n",
      "Hello World\n",
      "Hello World\n",
      "Hello World\n"
     ]
    }
   ],
   "source": [
    "# 방법 1  -> print('Hello World')을 10번 친다.\n",
    "print('Hello World')\n",
    "print('Hello World')\n",
    "print('Hello World')\n",
    "print('Hello World')\n",
    "print('Hello World')\n",
    "print('Hello World')\n",
    "print('Hello World')\n",
    "print('Hello World')\n",
    "print('Hello World')\n",
    "print('Hello World')"
   ]
  },
  {
   "cell_type": "code",
   "execution_count": 48,
   "metadata": {},
   "outputs": [
    {
     "name": "stdout",
     "output_type": "stream",
     "text": [
      "Hello World 0\n",
      "Hello World 1\n",
      "Hello World 2\n",
      "Hello World 3\n",
      "Hello World 4\n",
      "Hello World 5\n",
      "Hello World 6\n",
      "Hello World 7\n",
      "Hello World 8\n",
      "Hello World 9\n"
     ]
    }
   ],
   "source": [
    "# 방법 2 -> for문 활용\n",
    "\n",
    "for i in range(0,10):\n",
    "    print('Hello World', i)"
   ]
  },
  {
   "cell_type": "code",
   "execution_count": 58,
   "metadata": {},
   "outputs": [
    {
     "name": "stdout",
     "output_type": "stream",
     "text": [
      "Hello World 10\n",
      "Hello World 9\n",
      "Hello World 8\n",
      "Hello World 7\n",
      "Hello World 6\n",
      "Hello World 5\n",
      "Hello World 4\n",
      "Hello World 3\n",
      "Hello World 2\n",
      "Hello World 1\n"
     ]
    }
   ],
   "source": [
    "# 논외)for문 숫자 감소 방법 1\n",
    "\n",
    "for i in range(10, 0,-1):\n",
    "    print('Hello World', i)"
   ]
  },
  {
   "cell_type": "code",
   "execution_count": 59,
   "metadata": {},
   "outputs": [
    {
     "name": "stdout",
     "output_type": "stream",
     "text": [
      "Hello World 9\n",
      "Hello World 8\n",
      "Hello World 7\n",
      "Hello World 6\n",
      "Hello World 5\n",
      "Hello World 4\n",
      "Hello World 3\n",
      "Hello World 2\n",
      "Hello World 1\n",
      "Hello World 0\n"
     ]
    }
   ],
   "source": [
    "# 논외)for문 숫자 감소 방법 2\n",
    "\n",
    "for i in reversed(range(10)): # reversed 함수를 활용하여 range 숫자의 순서를 반대로 뒤짐음\n",
    "    print('Hello World', i)"
   ]
  },
  {
   "cell_type": "markdown",
   "metadata": {},
   "source": [
    "reserved 활용 방법\n",
    "\n",
    "- for 변수 in reversed(range(횟수))\n",
    "- for 변수 in reversed(range(시작, 끝))\n",
    "- for 변수 in reversed(range(시작, 끝, 증각폭))"
   ]
  },
  {
   "cell_type": "code",
   "execution_count": 61,
   "metadata": {},
   "outputs": [
    {
     "name": "stdout",
     "output_type": "stream",
     "text": [
      "cat\n",
      "dog\n",
      "people\n"
     ]
    }
   ],
   "source": [
    "# 전형적인 for문 예시 -> list로 for문 돌리기.\n",
    "\n",
    "animal = ['cat','dog', 'people']\n",
    "\n",
    "for i in animal: \n",
    "     print(i)"
   ]
  },
  {
   "cell_type": "code",
   "execution_count": 62,
   "metadata": {},
   "outputs": [
    {
     "name": "stdout",
     "output_type": "stream",
     "text": [
      "0\n",
      "1\n",
      "2\n"
     ]
    }
   ],
   "source": [
    "animal = ['cat','dog', 'people']\n",
    "\n",
    "for i in range(len(animal)):  # len 길이 함수\n",
    "     print(i)"
   ]
  },
  {
   "cell_type": "code",
   "execution_count": 45,
   "metadata": {},
   "outputs": [
    {
     "name": "stdout",
     "output_type": "stream",
     "text": [
      "3\n",
      "7\n",
      "11\n"
     ]
    }
   ],
   "source": [
    "# 다양한 for문 사용\n",
    "\n",
    "a = [(1,2), (3,4), (5,6)]\n",
    "\n",
    "for (first, last) in a: # a리스트의 요솟값이 튜플이기 때문에 각각의 요소가 자동으로 (first, list) 변수 대입\n",
    "     print(first + last) # (first + last) = (1+2) "
   ]
  },
  {
   "cell_type": "code",
   "execution_count": 65,
   "metadata": {},
   "outputs": [
    {
     "name": "stdout",
     "output_type": "stream",
     "text": [
      "0 * 0 = 0\n",
      "0 * 1 = 0\n",
      "0 * 2 = 0\n",
      "0 * 3 = 0\n",
      "1 * 0 = 0\n",
      "1 * 1 = 1\n",
      "1 * 2 = 2\n",
      "1 * 3 = 3\n"
     ]
    }
   ],
   "source": [
    "# for문 응용 -> for문안에 for문\n",
    "\n",
    "for i in range(2):\n",
    "     for j in range(4):\n",
    "        print(i, \"*\", j, \"=\", i*j)"
   ]
  },
  {
   "cell_type": "code",
   "execution_count": 71,
   "metadata": {},
   "outputs": [
    {
     "name": "stdout",
     "output_type": "stream",
     "text": [
      "1번 학생은 합격입니다.\n",
      "2번 학생은 불합격입니다.\n",
      "3번 학생은 합격입니다.\n",
      "4번 학생은 불합격입니다.\n",
      "5번 학생은 합격입니다.\n"
     ]
    }
   ],
   "source": [
    "scores = [90, 25, 67, 45, 80]\n",
    "number = 0 \n",
    "\n",
    "for scores in scores: \n",
    "    number = number +1 \n",
    "    \n",
    "    if scores >= 50: \n",
    "        print(\"%d번 학생은 합격입니다.\" % number)\n",
    "    \n",
    "    else: \n",
    "        print(\"%d번 학생은 불합격입니다.\" % number)"
   ]
  },
  {
   "cell_type": "markdown",
   "metadata": {},
   "source": [
    "리스트 내포 사용. \n",
    "\n",
    "- 리스트 안에 for문을 포함하는 리스트 내포. \n",
    "\n",
    "<구조>\n",
    "[표현식 for 항목 in 반복가능객체 if 조건문]\n",
    "\n",
    "\n",
    "<for in for>\n",
    "[표현식 for 항목1 in 반복가능객체1 if 조건문1\n",
    "        for 항목2 in 반복가능객체2 if 조건문2\n",
    "        ...\n",
    "        for 항목n in 반복가능객체n if 조건문n]"
   ]
  },
  {
   "cell_type": "code",
   "execution_count": 77,
   "metadata": {},
   "outputs": [
    {
     "name": "stdout",
     "output_type": "stream",
     "text": [
      "[3, 6, 9, 12]\n"
     ]
    }
   ],
   "source": [
    "# 리스트 사용 안 한 코드 -> 코드 약간 변경하기 밑에 것도.\n",
    "\n",
    "a = [1,2,3,4]\n",
    "result = []\n",
    "\n",
    "for num in a:\n",
    "     result.append(num*3)\n",
    "        \n",
    "print(result)"
   ]
  },
  {
   "cell_type": "code",
   "execution_count": 75,
   "metadata": {},
   "outputs": [
    {
     "name": "stdout",
     "output_type": "stream",
     "text": [
      "[3, 6, 9, 12]\n"
     ]
    }
   ],
   "source": [
    "# 리스트 내포 사용\n",
    "\n",
    "a = [1,2,3,4]\n",
    "\n",
    "result = [num * 3 for num in a]\n",
    "\n",
    "print(result)"
   ]
  },
  {
   "cell_type": "code",
   "execution_count": 78,
   "metadata": {},
   "outputs": [
    {
     "name": "stdout",
     "output_type": "stream",
     "text": [
      "[6, 12]\n"
     ]
    }
   ],
   "source": [
    "# 리스트 내포, if 사용.\n",
    "\n",
    "a = [1,2,3,4]\n",
    "\n",
    "result = [num * 3 for num in a if num % 2 == 0]\n",
    "print(result)"
   ]
  },
  {
   "cell_type": "markdown",
   "metadata": {},
   "source": [
    "**함수**\n",
    "- 프로그래밍을 하다 보면 똑같은 내용을 반복해서 작성하고 있을 때가 종종 있다. 이런 작업을 단순하게 해주는 작업이 바로 함수다.\n",
    "- 반복 적으로 작성하고 있는 뭉치를 묶어서 '어떤 입력 값을 주었을 때 어떤 결과값을' 돌려주는 것.\n",
    "- 자신이 만든 코딩의 흐름을 한 눈에 볼 수 있다. -> 프로그래머 능력"
   ]
  },
  {
   "cell_type": "markdown",
   "metadata": {},
   "source": [
    "<함수 구조>\n",
    "\n",
    "def 함수명(매개변수): # def 함수를 만들어 예약어? \n",
    "    <수행할 문장1>    # 함수 정의 후 if, for, while문 등 다양하게 작성할 수 있다.\n",
    "    <수행할 문장2>\n",
    "    ..."
   ]
  },
  {
   "cell_type": "code",
   "execution_count": 80,
   "metadata": {},
   "outputs": [],
   "source": [
    "# 간단한 함수 만들기.\n",
    "\n",
    "def add(a, b): # a, b는 매개변수\n",
    "    return a + b "
   ]
  },
  {
   "cell_type": "code",
   "execution_count": 83,
   "metadata": {},
   "outputs": [
    {
     "data": {
      "text/plain": [
       "15"
      ]
     },
     "execution_count": 83,
     "metadata": {},
     "output_type": "execute_result"
    }
   ],
   "source": [
    "add(7,8) # 7,8은 인수"
   ]
  },
  {
   "cell_type": "markdown",
   "metadata": {},
   "source": [
    "- 매개 변수: 함수에 입력으로 전달 된 값을 반듣 변수\n",
    "- 인수: 함수를 호출할 때 전달하는 입력값"
   ]
  },
  {
   "cell_type": "code",
   "execution_count": 85,
   "metadata": {},
   "outputs": [
    {
     "name": "stdout",
     "output_type": "stream",
     "text": [
      "11\n"
     ]
    }
   ],
   "source": [
    "a = 5\n",
    "b = 6\n",
    "c = add(a, b)\n",
    "\n",
    "print(c)"
   ]
  },
  {
   "cell_type": "code",
   "execution_count": 86,
   "metadata": {},
   "outputs": [],
   "source": [
    "# 함수의 결과값은 언제나 하나. -> 명칭 변경하기."
   ]
  },
  {
   "cell_type": "code",
   "execution_count": 87,
   "metadata": {},
   "outputs": [],
   "source": [
    "def add_and_mul(a,b): \n",
    "     return a+b, a*b"
   ]
  },
  {
   "cell_type": "code",
   "execution_count": 89,
   "metadata": {},
   "outputs": [
    {
     "data": {
      "text/plain": [
       "(7, 12)"
      ]
     },
     "execution_count": 89,
     "metadata": {},
     "output_type": "execute_result"
    }
   ],
   "source": [
    "add_and_mul(3,4)"
   ]
  },
  {
   "cell_type": "code",
   "execution_count": null,
   "metadata": {},
   "outputs": [],
   "source": []
  }
 ],
 "metadata": {
  "kernelspec": {
   "display_name": "Python 3",
   "language": "python",
   "name": "python3"
  },
  "language_info": {
   "codemirror_mode": {
    "name": "ipython",
    "version": 3
   },
   "file_extension": ".py",
   "mimetype": "text/x-python",
   "name": "python",
   "nbconvert_exporter": "python",
   "pygments_lexer": "ipython3",
   "version": "3.7.4"
  }
 },
 "nbformat": 4,
 "nbformat_minor": 2
}
