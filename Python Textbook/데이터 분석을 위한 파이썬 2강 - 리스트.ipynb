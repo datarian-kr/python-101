{
 "cells": [
  {
   "cell_type": "markdown",
   "metadata": {},
   "source": [
    "# 리스트, List"
   ]
  },
  {
   "cell_type": "markdown",
   "metadata": {},
   "source": [
    "**리스트(List) :** 배열, 데이터의 모음 자체"
   ]
  },
  {
   "cell_type": "markdown",
   "metadata": {},
   "source": [
    "    리스트는 어떻게 만들고 사용할까?\n",
    "    \n",
    "    리스트의 인덱싱과 슬라이싱\n",
    "        리스트의 인덱싱\n",
    "        리스트의 슬라이싱\n",
    "    \n",
    "    리스트 연산하기\n",
    "        리스트 더하기(+)\n",
    "        리스트 반복하기(*)\n",
    "\n",
    "    리스트 길이구하기\n",
    "    \n",
    "    리스트의 수정과 삭제\n",
    "        리스트에서 값 수정하기\n",
    "        del 함수 사용해 리스트 요소 삭제하기\n",
    "\n",
    "    리스트 관련 함수들\n",
    "        리스트에 요소 추가(append)\n",
    "        리스트 정렬(sort)\n",
    "        리스트 뒤집기(reverse)\n",
    "        위치 반환(index)\n",
    "        리스트에 요소 삽입(insert)\n",
    "        리스트 요소 제거(remove)\n",
    "        리스트 요소 끄집어내기(pop)\n",
    "        리스트에 포함된 요소 x의 개수 세기(count)\n",
    "        리스트 확장(extend)\n",
    "        \n",
    "    문자열 리스트화 시키기\n",
    "        list('김, 이, 박, 최')"
   ]
  },
  {
   "cell_type": "markdown",
   "metadata": {},
   "source": [
    "## 리스트 만들기\n",
    "\n",
    "- 대괄호 속에 요소를 넣어서 만든다. \n",
    "- 요소 구분은 쉼표로 해준다.\n",
    "- 리스트 안에 리스트를 넣을 수도 있고, 어떠한 데이터 타입이든 들어갈 수 있다."
   ]
  },
  {
   "cell_type": "code",
   "execution_count": 1,
   "metadata": {},
   "outputs": [],
   "source": [
    "a = []\n",
    "b = [1, 2, 3]\n",
    "c = ['Name', 'Age', 'Phone', 'City']\n",
    "d = [1, 2, 'Name', 'City']\n",
    "e = [1, 2, ['Name', 'City']]"
   ]
  },
  {
   "cell_type": "code",
   "execution_count": null,
   "metadata": {},
   "outputs": [],
   "source": []
  }
 ],
 "metadata": {
  "kernelspec": {
   "display_name": "Python 3",
   "language": "python",
   "name": "python3"
  },
  "language_info": {
   "codemirror_mode": {
    "name": "ipython",
    "version": 3
   },
   "file_extension": ".py",
   "mimetype": "text/x-python",
   "name": "python",
   "nbconvert_exporter": "python",
   "pygments_lexer": "ipython3",
   "version": "3.7.0"
  }
 },
 "nbformat": 4,
 "nbformat_minor": 2
}
