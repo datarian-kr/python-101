{
 "cells": [
  {
   "cell_type": "code",
   "execution_count": 304,
   "metadata": {},
   "outputs": [],
   "source": [
    "import pandas as pd\n",
    "import seaborn as sns\n",
    "import matplotlib as plt"
   ]
  },
  {
   "cell_type": "code",
   "execution_count": 110,
   "metadata": {},
   "outputs": [],
   "source": [
    "import numpy as np"
   ]
  },
  {
   "cell_type": "code",
   "execution_count": 123,
   "metadata": {},
   "outputs": [],
   "source": [
    "df = pd.read_csv('googleplaystore.csv')"
   ]
  },
  {
   "cell_type": "markdown",
   "metadata": {},
   "source": [
    "### 컬럼 설명\n",
    "Current Ver = 어플 업데이트 버전\n",
    "Android Ver = 어플이 돌아가기 위한 핸드폰 최소 성능"
   ]
  },
  {
   "cell_type": "code",
   "execution_count": 124,
   "metadata": {
    "scrolled": true
   },
   "outputs": [
    {
     "data": {
      "text/html": [
       "<div>\n",
       "<style scoped>\n",
       "    .dataframe tbody tr th:only-of-type {\n",
       "        vertical-align: middle;\n",
       "    }\n",
       "\n",
       "    .dataframe tbody tr th {\n",
       "        vertical-align: top;\n",
       "    }\n",
       "\n",
       "    .dataframe thead th {\n",
       "        text-align: right;\n",
       "    }\n",
       "</style>\n",
       "<table border=\"1\" class=\"dataframe\">\n",
       "  <thead>\n",
       "    <tr style=\"text-align: right;\">\n",
       "      <th></th>\n",
       "      <th>App</th>\n",
       "      <th>Category</th>\n",
       "      <th>Rating</th>\n",
       "      <th>Reviews</th>\n",
       "      <th>Size</th>\n",
       "      <th>Installs</th>\n",
       "      <th>Type</th>\n",
       "      <th>Price</th>\n",
       "      <th>Content Rating</th>\n",
       "      <th>Genres</th>\n",
       "      <th>Last Updated</th>\n",
       "      <th>Current Ver</th>\n",
       "      <th>Android Ver</th>\n",
       "    </tr>\n",
       "  </thead>\n",
       "  <tbody>\n",
       "    <tr>\n",
       "      <th>10054</th>\n",
       "      <td>Aurum Blade EX</td>\n",
       "      <td>FAMILY</td>\n",
       "      <td>4.3</td>\n",
       "      <td>28151</td>\n",
       "      <td>17M</td>\n",
       "      <td>1,000,000+</td>\n",
       "      <td>Free</td>\n",
       "      <td>0</td>\n",
       "      <td>Everyone 10+</td>\n",
       "      <td>Role Playing</td>\n",
       "      <td>June 4, 2015</td>\n",
       "      <td>1.0.2</td>\n",
       "      <td>2.2 and up</td>\n",
       "    </tr>\n",
       "    <tr>\n",
       "      <th>5299</th>\n",
       "      <td>AK 47 Lock Screen</td>\n",
       "      <td>PERSONALIZATION</td>\n",
       "      <td>4.6</td>\n",
       "      <td>5</td>\n",
       "      <td>8.8M</td>\n",
       "      <td>500+</td>\n",
       "      <td>Free</td>\n",
       "      <td>0</td>\n",
       "      <td>Mature 17+</td>\n",
       "      <td>Personalization</td>\n",
       "      <td>February 11, 2018</td>\n",
       "      <td>1.0</td>\n",
       "      <td>4.0.3 and up</td>\n",
       "    </tr>\n",
       "    <tr>\n",
       "      <th>3130</th>\n",
       "      <td>Goibibo - Flight Hotel Bus Car IRCTC Booking App</td>\n",
       "      <td>TRAVEL_AND_LOCAL</td>\n",
       "      <td>4.3</td>\n",
       "      <td>459851</td>\n",
       "      <td>Varies with device</td>\n",
       "      <td>10,000,000+</td>\n",
       "      <td>Free</td>\n",
       "      <td>0</td>\n",
       "      <td>Everyone</td>\n",
       "      <td>Travel &amp; Local</td>\n",
       "      <td>August 1, 2018</td>\n",
       "      <td>3.9.7</td>\n",
       "      <td>4.3 and up</td>\n",
       "    </tr>\n",
       "    <tr>\n",
       "      <th>7596</th>\n",
       "      <td>Soundtrack Attack</td>\n",
       "      <td>FAMILY</td>\n",
       "      <td>4.3</td>\n",
       "      <td>96045</td>\n",
       "      <td>25M</td>\n",
       "      <td>5,000,000+</td>\n",
       "      <td>Free</td>\n",
       "      <td>0</td>\n",
       "      <td>Everyone</td>\n",
       "      <td>Action;Action &amp; Adventure</td>\n",
       "      <td>July 26, 2016</td>\n",
       "      <td>1.0.4</td>\n",
       "      <td>4.1 and up</td>\n",
       "    </tr>\n",
       "    <tr>\n",
       "      <th>1104</th>\n",
       "      <td>Chime - Mobile Banking</td>\n",
       "      <td>FINANCE</td>\n",
       "      <td>4.3</td>\n",
       "      <td>5928</td>\n",
       "      <td>22M</td>\n",
       "      <td>500,000+</td>\n",
       "      <td>Free</td>\n",
       "      <td>0</td>\n",
       "      <td>Everyone</td>\n",
       "      <td>Finance</td>\n",
       "      <td>July 22, 2018</td>\n",
       "      <td>5.1.1</td>\n",
       "      <td>5.0 and up</td>\n",
       "    </tr>\n",
       "  </tbody>\n",
       "</table>\n",
       "</div>"
      ],
      "text/plain": [
       "                                                    App          Category  \\\n",
       "10054                                    Aurum Blade EX            FAMILY   \n",
       "5299                                  AK 47 Lock Screen   PERSONALIZATION   \n",
       "3130   Goibibo - Flight Hotel Bus Car IRCTC Booking App  TRAVEL_AND_LOCAL   \n",
       "7596                                  Soundtrack Attack            FAMILY   \n",
       "1104                             Chime - Mobile Banking           FINANCE   \n",
       "\n",
       "       Rating Reviews                Size     Installs  Type Price  \\\n",
       "10054     4.3   28151                 17M   1,000,000+  Free     0   \n",
       "5299      4.6       5                8.8M         500+  Free     0   \n",
       "3130      4.3  459851  Varies with device  10,000,000+  Free     0   \n",
       "7596      4.3   96045                 25M   5,000,000+  Free     0   \n",
       "1104      4.3    5928                 22M     500,000+  Free     0   \n",
       "\n",
       "      Content Rating                     Genres       Last Updated  \\\n",
       "10054   Everyone 10+               Role Playing       June 4, 2015   \n",
       "5299      Mature 17+            Personalization  February 11, 2018   \n",
       "3130        Everyone             Travel & Local     August 1, 2018   \n",
       "7596        Everyone  Action;Action & Adventure      July 26, 2016   \n",
       "1104        Everyone                    Finance      July 22, 2018   \n",
       "\n",
       "      Current Ver   Android Ver  \n",
       "10054       1.0.2    2.2 and up  \n",
       "5299          1.0  4.0.3 and up  \n",
       "3130        3.9.7    4.3 and up  \n",
       "7596        1.0.4    4.1 and up  \n",
       "1104        5.1.1    5.0 and up  "
      ]
     },
     "execution_count": 124,
     "metadata": {},
     "output_type": "execute_result"
    }
   ],
   "source": [
    "df.sample(5)"
   ]
  },
  {
   "cell_type": "code",
   "execution_count": 305,
   "metadata": {},
   "outputs": [
    {
     "data": {
      "text/plain": [
       "App                         0\n",
       "Rating                   1474\n",
       "Reviews                     0\n",
       "Size                     1695\n",
       "Installs                    0\n",
       "Type                        1\n",
       "Price                       0\n",
       "Content Rating              0\n",
       "Genres                      0\n",
       "Last Updated                0\n",
       "Current Ver                 8\n",
       "Android Ver              1365\n",
       "upYear                      0\n",
       "upMonth                     0\n",
       "upMonth_n                   0\n",
       "upYM                        0\n",
       "C_ART_AND_DESIGN            0\n",
       "C_AUTO_AND_VEHICLES         0\n",
       "C_BEAUTY                    0\n",
       "C_BOOKS_AND_REFERENCE       0\n",
       "C_BUSINESS                  0\n",
       "C_COMICS                    0\n",
       "C_COMMUNICATION             0\n",
       "C_DATING                    0\n",
       "C_EDUCATION                 0\n",
       "C_ENTERTAINMENT             0\n",
       "C_EVENTS                    0\n",
       "C_FAMILY                    0\n",
       "C_FINANCE                   0\n",
       "C_FOOD_AND_DRINK            0\n",
       "C_GAME                      0\n",
       "C_HEALTH_AND_FITNESS        0\n",
       "C_HOUSE_AND_HOME            0\n",
       "C_LIBRARIES_AND_DEMO        0\n",
       "C_LIFESTYLE                 0\n",
       "C_MAPS_AND_NAVIGATION       0\n",
       "C_MEDICAL                   0\n",
       "C_NEWS_AND_MAGAZINES        0\n",
       "C_PARENTING                 0\n",
       "C_PERSONALIZATION           0\n",
       "C_PHOTOGRAPHY               0\n",
       "C_PRODUCTIVITY              0\n",
       "C_SHOPPING                  0\n",
       "C_SOCIAL                    0\n",
       "C_SPORTS                    0\n",
       "C_TOOLS                     0\n",
       "C_TRAVEL_AND_LOCAL          0\n",
       "C_VIDEO_PLAYERS             0\n",
       "C_WEATHER                   0\n",
       "Current Ver2                0\n",
       "dtype: int64"
      ]
     },
     "execution_count": 305,
     "metadata": {},
     "output_type": "execute_result"
    }
   ],
   "source": [
    "df.isnull().sum()\n",
    "# Rating null값이 많은데, 상관관계를 아직 알 수 없음\n",
    "# 추후에 다시 봐야 함"
   ]
  },
  {
   "cell_type": "markdown",
   "metadata": {},
   "source": [
    "## 밀린 데이터 한줄 수정\n"
   ]
  },
  {
   "cell_type": "code",
   "execution_count": 139,
   "metadata": {},
   "outputs": [
    {
     "data": {
      "text/plain": [
       "1,000,000+        1579\n",
       "10,000,000+       1252\n",
       "100,000+          1169\n",
       "10,000+           1054\n",
       "1,000+             907\n",
       "5,000,000+         752\n",
       "100+               719\n",
       "500,000+           539\n",
       "50,000+            479\n",
       "5,000+             477\n",
       "100,000,000+       409\n",
       "10+                386\n",
       "500+               330\n",
       "50,000,000+        289\n",
       "50+                205\n",
       "5+                  82\n",
       "500,000,000+        72\n",
       "1+                  67\n",
       "1,000,000,000+      58\n",
       "0+                  14\n",
       "1000+                1\n",
       "0                    1\n",
       "Name: Installs, dtype: int64"
      ]
     },
     "execution_count": 139,
     "metadata": {},
     "output_type": "execute_result"
    }
   ],
   "source": [
    "df[df['Installs']=='Free']\n",
    "\n",
    "df.loc[df['Installs']=='Free', 'Category'] = 'PHOTOGRAPHY'\n",
    "\n",
    "df.loc[df['App']=='Life Made WI-Fi Touchscreen Photo Frame', 'Rating'] = '1.9'\n",
    "df.loc[df['App']=='Life Made WI-Fi Touchscreen Photo Frame', 'Reviews'] = '19'\n",
    "df.loc[df['App']=='Life Made WI-Fi Touchscreen Photo Frame', 'Size'] = '3.0M'\n",
    "df.loc[df['App']=='Life Made WI-Fi Touchscreen Photo Frame', 'Installs'] = '1000+'\n",
    "df.loc[df['App']=='Life Made WI-Fi Touchscreen Photo Frame', 'Type'] = 'Free'\n",
    "df.loc[df['App']=='Life Made WI-Fi Touchscreen Photo Frame', 'Price'] = '0'\n",
    "df.loc[df['App']=='Life Made WI-Fi Touchscreen Photo Frame', 'Content Rating'] = 'Everyone'\n",
    "df.loc[df['App']=='Life Made WI-Fi Touchscreen Photo Frame', 'Genres'] = 'Photography'\n",
    "df.loc[df['App']=='Life Made WI-Fi Touchscreen Photo Frame', 'Last Updated'] = 'February 11, 2018'\n",
    "df.loc[df['App']=='Life Made WI-Fi Touchscreen Photo Frame', 'Current Ver'] = '1.0.19'\n",
    "df.loc[df['App']=='Life Made WI-Fi Touchscreen Photo Frame', 'Android Ver'] = '4.0 and up'\n",
    "\n",
    "df[df['App']=='Life Made WI-Fi Touchscreen Photo Frame']\n",
    "\n",
    "df['Installs'].value_counts()"
   ]
  },
  {
   "cell_type": "markdown",
   "metadata": {},
   "source": [
    "# Last Updated 년/월"
   ]
  },
  {
   "cell_type": "code",
   "execution_count": 142,
   "metadata": {},
   "outputs": [],
   "source": [
    "df['upYear'] = df['Last Updated'].apply(lambda x: x[ -4:])"
   ]
  },
  {
   "cell_type": "code",
   "execution_count": 143,
   "metadata": {},
   "outputs": [],
   "source": [
    "df['upMonth'] = df['Last Updated'].apply(lambda x: x.split(\" \")[0])"
   ]
  },
  {
   "cell_type": "code",
   "execution_count": 144,
   "metadata": {},
   "outputs": [
    {
     "data": {
      "text/plain": [
       "{'': 0,\n",
       " 'Jan': 1,\n",
       " 'Feb': 2,\n",
       " 'Mar': 3,\n",
       " 'Apr': 4,\n",
       " 'May': 5,\n",
       " 'Jun': 6,\n",
       " 'Jul': 7,\n",
       " 'Aug': 8,\n",
       " 'Sep': 9,\n",
       " 'Oct': 10,\n",
       " 'Nov': 11,\n",
       " 'Dec': 12}"
      ]
     },
     "execution_count": 144,
     "metadata": {},
     "output_type": "execute_result"
    }
   ],
   "source": [
    "import calendar\n",
    "dic = dict((v,k) for k,v in enumerate(calendar.month_abbr))\n",
    "dic"
   ]
  },
  {
   "cell_type": "code",
   "execution_count": 145,
   "metadata": {},
   "outputs": [],
   "source": [
    "df['upMonth'] = df['upMonth'].apply(lambda x: x[:3])"
   ]
  },
  {
   "cell_type": "code",
   "execution_count": 149,
   "metadata": {},
   "outputs": [],
   "source": [
    "df['upMonth'] = df['upMonth'].transform(lambda x : dic[x])"
   ]
  },
  {
   "cell_type": "code",
   "execution_count": 151,
   "metadata": {},
   "outputs": [],
   "source": [
    "df['upYear'] = df['upYear'].apply(lambda x: int(x))"
   ]
  },
  {
   "cell_type": "code",
   "execution_count": 152,
   "metadata": {},
   "outputs": [],
   "source": [
    "df['upYM'] = df['upYear'] + df['upMonth']/100"
   ]
  },
  {
   "cell_type": "code",
   "execution_count": 155,
   "metadata": {
    "scrolled": true
   },
   "outputs": [
    {
     "data": {
      "text/plain": [
       "array([2018.01, 2018.08, 2018.06, 2018.04, 2018.07, 2018.03, 2018.05,\n",
       "       2018.02])"
      ]
     },
     "execution_count": 155,
     "metadata": {},
     "output_type": "execute_result"
    }
   ],
   "source": [
    "df[df['upYear']==2018]['upYM'].unique()\n",
    "# 데이터 업데이트 마지막은 2018년 8월"
   ]
  },
  {
   "cell_type": "markdown",
   "metadata": {},
   "source": [
    "# Category 살펴보기"
   ]
  },
  {
   "cell_type": "code",
   "execution_count": 69,
   "metadata": {
    "collapsed": true
   },
   "outputs": [
    {
     "data": {
      "text/plain": [
       "FAMILY                 1972\n",
       "GAME                   1144\n",
       "TOOLS                   843\n",
       "MEDICAL                 463\n",
       "BUSINESS                460\n",
       "PRODUCTIVITY            424\n",
       "PERSONALIZATION         392\n",
       "COMMUNICATION           387\n",
       "SPORTS                  384\n",
       "LIFESTYLE               382\n",
       "FINANCE                 366\n",
       "HEALTH_AND_FITNESS      341\n",
       "PHOTOGRAPHY             335\n",
       "SOCIAL                  295\n",
       "NEWS_AND_MAGAZINES      283\n",
       "SHOPPING                260\n",
       "TRAVEL_AND_LOCAL        258\n",
       "DATING                  234\n",
       "BOOKS_AND_REFERENCE     231\n",
       "VIDEO_PLAYERS           175\n",
       "EDUCATION               156\n",
       "ENTERTAINMENT           149\n",
       "MAPS_AND_NAVIGATION     137\n",
       "FOOD_AND_DRINK          127\n",
       "HOUSE_AND_HOME           88\n",
       "AUTO_AND_VEHICLES        85\n",
       "LIBRARIES_AND_DEMO       85\n",
       "WEATHER                  82\n",
       "ART_AND_DESIGN           65\n",
       "EVENTS                   64\n",
       "PARENTING                60\n",
       "COMICS                   60\n",
       "BEAUTY                   53\n",
       "1.9                       1\n",
       "Name: Category, dtype: int64"
      ]
     },
     "execution_count": 69,
     "metadata": {},
     "output_type": "execute_result"
    }
   ],
   "source": [
    "df['Category'].value_counts()"
   ]
  },
  {
   "cell_type": "code",
   "execution_count": 71,
   "metadata": {},
   "outputs": [
    {
     "data": {
      "text/plain": [
       "Free    10039\n",
       "Paid      800\n",
       "0           1\n",
       "Name: Type, dtype: int64"
      ]
     },
     "execution_count": 71,
     "metadata": {},
     "output_type": "execute_result"
    }
   ],
   "source": [
    "df['Type'].value_counts()"
   ]
  },
  {
   "cell_type": "markdown",
   "metadata": {},
   "source": [
    "# [Installs] to int "
   ]
  },
  {
   "cell_type": "code",
   "execution_count": 156,
   "metadata": {},
   "outputs": [],
   "source": [
    "df.loc[df['Installs'] == '0', 'Installs'] = '0+'"
   ]
  },
  {
   "cell_type": "code",
   "execution_count": 157,
   "metadata": {},
   "outputs": [],
   "source": [
    "df['Installs'] = df['Installs'].apply(lambda x : x[:-1])"
   ]
  },
  {
   "cell_type": "code",
   "execution_count": 158,
   "metadata": {},
   "outputs": [],
   "source": [
    "df['Installs'] = df['Installs'].apply(lambda x : x.replace(',', \"\"))"
   ]
  },
  {
   "cell_type": "markdown",
   "metadata": {},
   "source": [
    "# Size 단위 통일"
   ]
  },
  {
   "cell_type": "code",
   "execution_count": 159,
   "metadata": {},
   "outputs": [
    {
     "data": {
      "text/plain": [
       "Varies with device    1695\n",
       "11M                    198\n",
       "12M                    196\n",
       "14M                    194\n",
       "13M                    191\n",
       "                      ... \n",
       "569k                     1\n",
       "25k                      1\n",
       "857k                     1\n",
       "240k                     1\n",
       "280k                     1\n",
       "Name: Size, Length: 461, dtype: int64"
      ]
     },
     "execution_count": 159,
     "metadata": {},
     "output_type": "execute_result"
    }
   ],
   "source": [
    "df['Size'].value_counts()"
   ]
  },
  {
   "cell_type": "code",
   "execution_count": 160,
   "metadata": {},
   "outputs": [],
   "source": [
    "df['Size'] = df['Size'].apply(lambda x : x[:-1] if x[-1] == 'k' else x[:-1] + '0')"
   ]
  },
  {
   "cell_type": "code",
   "execution_count": 161,
   "metadata": {},
   "outputs": [],
   "source": [
    "df.loc[df['Size']=='Varies with devic0', 'Size'] = np.nan"
   ]
  },
  {
   "cell_type": "code",
   "execution_count": 162,
   "metadata": {},
   "outputs": [
    {
     "data": {
      "text/plain": [
       "110    198\n",
       "120    196\n",
       "140    194\n",
       "130    191\n",
       "150    184\n",
       "      ... \n",
       "872      1\n",
       "779      1\n",
       "626      1\n",
       "186      1\n",
       "97       1\n",
       "Name: Size, Length: 432, dtype: int64"
      ]
     },
     "execution_count": 162,
     "metadata": {},
     "output_type": "execute_result"
    }
   ],
   "source": [
    "df['Size'].value_counts()"
   ]
  },
  {
   "cell_type": "markdown",
   "metadata": {},
   "source": [
    "# Price 전처리"
   ]
  },
  {
   "cell_type": "code",
   "execution_count": 163,
   "metadata": {},
   "outputs": [
    {
     "data": {
      "text/plain": [
       "0          10041\n",
       "$0.99        148\n",
       "$2.99        129\n",
       "$1.99         73\n",
       "$4.99         72\n",
       "           ...  \n",
       "$14.00         1\n",
       "$400.00        1\n",
       "$74.99         1\n",
       "$18.99         1\n",
       "$1.29          1\n",
       "Name: Price, Length: 92, dtype: int64"
      ]
     },
     "execution_count": 163,
     "metadata": {},
     "output_type": "execute_result"
    }
   ],
   "source": [
    "df['Price'].value_counts()"
   ]
  },
  {
   "cell_type": "code",
   "execution_count": 164,
   "metadata": {},
   "outputs": [],
   "source": [
    "df['Price'] = df['Price'].apply(lambda x : x.replace('$', \"\"))"
   ]
  },
  {
   "cell_type": "code",
   "execution_count": 165,
   "metadata": {},
   "outputs": [
    {
     "data": {
      "text/plain": [
       "0         10041\n",
       "0.99        148\n",
       "2.99        129\n",
       "1.99         73\n",
       "4.99         72\n",
       "          ...  \n",
       "2.90          1\n",
       "394.99        1\n",
       "19.90         1\n",
       "1.61          1\n",
       "37.99         1\n",
       "Name: Price, Length: 92, dtype: int64"
      ]
     },
     "execution_count": 165,
     "metadata": {},
     "output_type": "execute_result"
    }
   ],
   "source": [
    "df['Price'].value_counts()"
   ]
  },
  {
   "cell_type": "markdown",
   "metadata": {},
   "source": [
    "# Version 소수점 한자리까지만 살리기"
   ]
  },
  {
   "cell_type": "code",
   "execution_count": 202,
   "metadata": {},
   "outputs": [],
   "source": [
    "df['Android Ver2'] = df['Android Ver'].replace('Varies with device', np.nan)"
   ]
  },
  {
   "cell_type": "code",
   "execution_count": 214,
   "metadata": {},
   "outputs": [],
   "source": [
    "df.loc[df['Current Ver'] == 'Varies with device', 'Current Ver'] = np.nan\n",
    "df['Current Ver'] = df['Current Ver'].astype('str')\n"
   ]
  },
  {
   "cell_type": "code",
   "execution_count": 229,
   "metadata": {},
   "outputs": [
    {
     "data": {
      "text/plain": [
       "1235      9.15.0.2020\n",
       "7585            1.1.1\n",
       "5488          1.0.0.4\n",
       "6390             1.07\n",
       "3316            6.0.1\n",
       "8841              5.1\n",
       "9539            1.2.1\n",
       "4137              nan\n",
       "10428           1.0.6\n",
       "6687              nan\n",
       "1846            1.8.2\n",
       "1117              nan\n",
       "2149          2.19.01\n",
       "5696              nan\n",
       "836               nan\n",
       "4775            1.4.7\n",
       "6349           2.1.10\n",
       "7196            1.1.0\n",
       "4262            7.1.1\n",
       "1653     2.347.225742\n",
       "8006             2.28\n",
       "2240          3.14.15\n",
       "3412             11.0\n",
       "9284            1.1.3\n",
       "2600            2.1.3\n",
       "8887             14.0\n",
       "8422            3.4.5\n",
       "7126            4.3.6\n",
       "2088     2.347.225742\n",
       "3574              nan\n",
       "9414             0.62\n",
       "360      69.0.3497.24\n",
       "689               8.2\n",
       "5595            2.3.5\n",
       "2315              nan\n",
       "2732              nan\n",
       "773              2.48\n",
       "4193              2.0\n",
       "1595            7.0.8\n",
       "1856     12.0.4.62276\n",
       "1513            2.1.0\n",
       "9976              nan\n",
       "4813             1.77\n",
       "890       2.3.34 Prod\n",
       "731               nan\n",
       "6221            3.2.9\n",
       "9818            1.4.1\n",
       "1720           2.12.5\n",
       "5449         8.0.0130\n",
       "8135            5.1.0\n",
       "Name: Current Ver, dtype: object"
      ]
     },
     "execution_count": 229,
     "metadata": {},
     "output_type": "execute_result"
    }
   ],
   "source": [
    "df['Current Ver'].sample(50)"
   ]
  },
  {
   "cell_type": "code",
   "execution_count": 290,
   "metadata": {},
   "outputs": [
    {
     "ename": "TypeError",
     "evalue": "object of type 'float' has no len()",
     "output_type": "error",
     "traceback": [
      "\u001b[0;31m---------------------------------------------------------------------------\u001b[0m",
      "\u001b[0;31mTypeError\u001b[0m                                 Traceback (most recent call last)",
      "\u001b[0;32m<ipython-input-290-a0a4203ac54d>\u001b[0m in \u001b[0;36m<module>\u001b[0;34m\u001b[0m\n\u001b[0;32m----> 1\u001b[0;31m df['Current Ver'] = df['Current Ver'].apply(lambda x: x if x is None\n\u001b[0m\u001b[1;32m      2\u001b[0m                                                  \u001b[0;32melse\u001b[0m \u001b[0mx\u001b[0m \u001b[0;32mif\u001b[0m \u001b[0mlen\u001b[0m\u001b[0;34m(\u001b[0m\u001b[0mx\u001b[0m\u001b[0;34m)\u001b[0m \u001b[0;34m==\u001b[0m \u001b[0;36m1\u001b[0m\u001b[0;34m\u001b[0m\u001b[0m\n\u001b[1;32m      3\u001b[0m                                                  else x.split('.')[0])\n",
      "\u001b[0;32m/usr/local/lib/python3.7/site-packages/pandas/core/series.py\u001b[0m in \u001b[0;36mapply\u001b[0;34m(self, func, convert_dtype, args, **kwds)\u001b[0m\n\u001b[1;32m   4036\u001b[0m             \u001b[0;32melse\u001b[0m\u001b[0;34m:\u001b[0m\u001b[0;34m\u001b[0m\u001b[0m\n\u001b[1;32m   4037\u001b[0m                 \u001b[0mvalues\u001b[0m \u001b[0;34m=\u001b[0m \u001b[0mself\u001b[0m\u001b[0;34m.\u001b[0m\u001b[0mastype\u001b[0m\u001b[0;34m(\u001b[0m\u001b[0mobject\u001b[0m\u001b[0;34m)\u001b[0m\u001b[0;34m.\u001b[0m\u001b[0mvalues\u001b[0m\u001b[0;34m\u001b[0m\u001b[0m\n\u001b[0;32m-> 4038\u001b[0;31m                 \u001b[0mmapped\u001b[0m \u001b[0;34m=\u001b[0m \u001b[0mlib\u001b[0m\u001b[0;34m.\u001b[0m\u001b[0mmap_infer\u001b[0m\u001b[0;34m(\u001b[0m\u001b[0mvalues\u001b[0m\u001b[0;34m,\u001b[0m \u001b[0mf\u001b[0m\u001b[0;34m,\u001b[0m \u001b[0mconvert\u001b[0m\u001b[0;34m=\u001b[0m\u001b[0mconvert_dtype\u001b[0m\u001b[0;34m)\u001b[0m\u001b[0;34m\u001b[0m\u001b[0m\n\u001b[0m\u001b[1;32m   4039\u001b[0m \u001b[0;34m\u001b[0m\u001b[0m\n\u001b[1;32m   4040\u001b[0m         \u001b[0;32mif\u001b[0m \u001b[0mlen\u001b[0m\u001b[0;34m(\u001b[0m\u001b[0mmapped\u001b[0m\u001b[0;34m)\u001b[0m \u001b[0;32mand\u001b[0m \u001b[0misinstance\u001b[0m\u001b[0;34m(\u001b[0m\u001b[0mmapped\u001b[0m\u001b[0;34m[\u001b[0m\u001b[0;36m0\u001b[0m\u001b[0;34m]\u001b[0m\u001b[0;34m,\u001b[0m \u001b[0mSeries\u001b[0m\u001b[0;34m)\u001b[0m\u001b[0;34m:\u001b[0m\u001b[0;34m\u001b[0m\u001b[0m\n",
      "\u001b[0;32mpandas/_libs/lib.pyx\u001b[0m in \u001b[0;36mpandas._libs.lib.map_infer\u001b[0;34m()\u001b[0m\n",
      "\u001b[0;32m<ipython-input-290-a0a4203ac54d>\u001b[0m in \u001b[0;36m<lambda>\u001b[0;34m(x)\u001b[0m\n\u001b[1;32m      1\u001b[0m df['Current Ver'] = df['Current Ver'].apply(lambda x: x if x is None\n\u001b[0;32m----> 2\u001b[0;31m                                                  \u001b[0;32melse\u001b[0m \u001b[0mx\u001b[0m \u001b[0;32mif\u001b[0m \u001b[0mlen\u001b[0m\u001b[0;34m(\u001b[0m\u001b[0mx\u001b[0m\u001b[0;34m)\u001b[0m \u001b[0;34m==\u001b[0m \u001b[0;36m1\u001b[0m\u001b[0;34m\u001b[0m\u001b[0m\n\u001b[0m\u001b[1;32m      3\u001b[0m                                                  else x.split('.')[0])\n",
      "\u001b[0;31mTypeError\u001b[0m: object of type 'float' has no len()"
     ]
    }
   ],
   "source": [
    "df['Current Ver'] = df['Current Ver'].apply(lambda x: x if x is None\n",
    "                                                 else x if len(x) == 1\n",
    "                                                 else x.split('.')[0])"
   ]
  },
  {
   "cell_type": "code",
   "execution_count": 284,
   "metadata": {},
   "outputs": [
    {
     "data": {
      "text/plain": [
       "array(['1', '2', 'nan', '6', '3', '5', '4', '11', '0', '8', '10', '18',\n",
       "       '9', '15', '14', '7', '99', '12', '37', '24', '47', 'R6', '69',\n",
       "       '42', '196', '2018', '20', '13', 'v1', '01', '43', '16',\n",
       "       'Cannonau 3', 'p5', '112', 'Public', '220', '858', 'v3',\n",
       "       'Version:6', '02', '3196', '5423', '19', '1_39_93', '79', '108',\n",
       "       '57', '60', '149', '37893', '20180609', '28', '25', '300000', 'PN',\n",
       "       'Initial', 'T4', '50', '27', '29', '584', '22', '71', '1004', '06',\n",
       "       '2017', '17', '53', 'v5', 'MyMetro_HTML_2', 'v8', 'v7', '32',\n",
       "       '20180517', 'v150', '40', '68', 'FreeTimeApp-aosp_v3',\n",
       "       'Natalia Studio Development', '30', '116', '04', '27500000',\n",
       "       'version 0', '5055', 'a', '31', '1009001', '1900001', 'v8[1', '23',\n",
       "       '1805', '1,01', 'v2018', 'H7SubTV0', 'v2', '263', '65',\n",
       "       'acremotecontrol18', 'v67_slk3',\n",
       "       'airConditionerMaintenance_13112015', '11;11',\n",
       "       'acremotecontrol-v7', '1255162018', 'v4', '117', 'cli-6',\n",
       "       'Version 1', '132', '10001008', '18060104', '568', '39',\n",
       "       'newversion', '666', '20180608', '20180620',\n",
       "       'Z (Special Edition R9)', 'Cow V3', '3_1', 'Final', '250',\n",
       "       'Arrow-202', '26', 'BL ONLINE PERSONAL TRAINING 7', '35',\n",
       "       'Rocksteady 1', 'V1', 'V2', 'no_update_signal',\n",
       "       'opciÃ³n de cerrar', '106', '102', 'v6', '01e', '70',\n",
       "       'fcbd82b2-dd5b-41d2-af62-432271c42921', '41', 'The CJ Rubric 7',\n",
       "       '202', '48', 'CL Pro for Craigslist - Canada 150',\n",
       "       'Bowser4Craigslist', 'App copyright', 'Copyright', 'CL Strength 7',\n",
       "       'Gratis', 'Release 1', 'Y4W-GATE_CS-5', 'SolarCT 1', '2014', '200',\n",
       "       '3000', 'KM', 'iu4', '20180805', 'INDIRIMBO V', '700', 'Android 2',\n",
       "       'Android 3', 'Translator 10', '20180518-01', 'Glueboardv',\n",
       "       'DH-Security Camera', 'v2017', '20170828', 'HTTPs', '21 - Rel2',\n",
       "       '67', 'DPSTATUS1', '15|06|17', 'di-v3', 'r2', 'pb1', 'R1',\n",
       "       'Human Dx', '2018-04-27', '2018-03', '33', 'erie1', '4541',\n",
       "       'Build 54', 'Build 12', '130', '25072018', '56', '21', 'Paid-9',\n",
       "       'Fennec-52', 'BlueOrange', '314007', '1000000', '36', 'Pro 1',\n",
       "       'V1-180703', 'MONEY', 'F2i', '81', 'V4', '176', '060816', '125',\n",
       "       '34', '20170920', 'FH CODE 1', '3rd Release Aug 2016'],\n",
       "      dtype=object)"
      ]
     },
     "execution_count": 284,
     "metadata": {},
     "output_type": "execute_result"
    }
   ],
   "source": [
    "df['Current Ver'].unique()"
   ]
  },
  {
   "cell_type": "markdown",
   "metadata": {},
   "source": [
    "# 안드로이드 버전"
   ]
  },
  {
   "cell_type": "code",
   "execution_count": 292,
   "metadata": {},
   "outputs": [],
   "source": [
    "df2 = pd.read_csv('googleplaystore.csv')\n",
    "df['Android Ver'] = df2['Android Ver']"
   ]
  },
  {
   "cell_type": "code",
   "execution_count": 293,
   "metadata": {},
   "outputs": [
    {
     "data": {
      "text/plain": [
       "0              4.0.3 and up\n",
       "1              4.0.3 and up\n",
       "2              4.0.3 and up\n",
       "3                4.2 and up\n",
       "4                4.4 and up\n",
       "                ...        \n",
       "10836            4.1 and up\n",
       "10837            4.1 and up\n",
       "10838            2.2 and up\n",
       "10839    Varies with device\n",
       "10840    Varies with device\n",
       "Name: Android Ver, Length: 10841, dtype: object"
      ]
     },
     "execution_count": 293,
     "metadata": {},
     "output_type": "execute_result"
    }
   ],
   "source": [
    "df['Android Ver']"
   ]
  },
  {
   "cell_type": "code",
   "execution_count": 294,
   "metadata": {},
   "outputs": [],
   "source": [
    "df['Android Ver'] = df['Android Ver'].replace('Varies with device', np.nan)"
   ]
  },
  {
   "cell_type": "code",
   "execution_count": 295,
   "metadata": {},
   "outputs": [],
   "source": [
    "df['Android Ver'] = df['Android Ver'].astype('str')"
   ]
  },
  {
   "cell_type": "code",
   "execution_count": 296,
   "metadata": {},
   "outputs": [],
   "source": [
    "# df['Android Ver'] = df['Android Ver'].replace('and up', '') "
   ]
  },
  {
   "cell_type": "code",
   "execution_count": 297,
   "metadata": {},
   "outputs": [
    {
     "data": {
      "text/plain": [
       "0        4.0.3 \n",
       "1        4.0.3 \n",
       "2        4.0.3 \n",
       "3          4.2 \n",
       "4          4.4 \n",
       "          ...  \n",
       "10836      4.1 \n",
       "10837      4.1 \n",
       "10838      2.2 \n",
       "10839       nan\n",
       "10840       nan\n",
       "Name: Android Ver, Length: 10841, dtype: object"
      ]
     },
     "execution_count": 297,
     "metadata": {},
     "output_type": "execute_result"
    }
   ],
   "source": [
    "df['Android Ver'].apply(lambda x : x.replace('and up', ''))"
   ]
  },
  {
   "cell_type": "code",
   "execution_count": 298,
   "metadata": {},
   "outputs": [],
   "source": [
    "df['Android Ver'] = df['Android Ver'].apply(lambda x: x if x is None\n",
    "                                                 else x if len(x) <= 3\n",
    "                                                 else x[:3])"
   ]
  },
  {
   "cell_type": "markdown",
   "metadata": {},
   "source": [
    "# 카테고리 더미코딩"
   ]
  },
  {
   "cell_type": "code",
   "execution_count": 166,
   "metadata": {},
   "outputs": [],
   "source": [
    "df = pd.get_dummies(df, columns=['Category'], prefix='C')"
   ]
  },
  {
   "cell_type": "code",
   "execution_count": 301,
   "metadata": {},
   "outputs": [],
   "source": [
    "df['Reviews'] = df['Reviews'].apply(lambda x: float(x))\n",
    "df['Size'] = df['Size'].apply(lambda x: float(x))\n",
    "df['Installs'] = df['Installs'].apply(lambda x: float(x))\n",
    "df['Price'] = df['Price'].apply(lambda x: float(x))\n",
    "# df['Current Ver'] = df['Current Ver'].apply(lambda x: float(x))\n",
    "df['Android Ver'] = df['Android Ver'].apply(lambda x: float(x))"
   ]
  },
  {
   "cell_type": "code",
   "execution_count": 303,
   "metadata": {},
   "outputs": [
    {
     "data": {
      "text/plain": [
       "<matplotlib.axes._subplots.AxesSubplot at 0x132358f28>"
      ]
     },
     "execution_count": 303,
     "metadata": {},
     "output_type": "execute_result"
    },
    {
     "data": {
      "image/png": "[encoded data removed]",
      "text/plain": [
       "<Figure size 432x288 with 2 Axes>"
      ]
     },
     "metadata": {
      "needs_background": "light"
     },
     "output_type": "display_data"
    }
   ],
   "source": [
    "corr = df.corr()\n",
    "sns.heatmap(corr)"
   ]
  },
  {
   "cell_type": "code",
   "execution_count": null,
   "metadata": {},
   "outputs": [],
   "source": []
  }
 ],
 "metadata": {
  "kernelspec": {
   "display_name": "Python 3",
   "language": "python",
   "name": "python3"
  },
  "language_info": {
   "codemirror_mode": {
    "name": "ipython",
    "version": 3
   },
   "file_extension": ".py",
   "mimetype": "text/x-python",
   "name": "python",
   "nbconvert_exporter": "python",
   "pygments_lexer": "ipython3",
   "version": "3.7.0"
  }
 },
 "nbformat": 4,
 "nbformat_minor": 2
}
