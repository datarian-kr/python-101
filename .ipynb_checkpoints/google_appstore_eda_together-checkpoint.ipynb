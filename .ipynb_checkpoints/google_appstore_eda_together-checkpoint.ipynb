{
 "cells": [
  {
   "cell_type": "code",
   "execution_count": 2,
   "metadata": {},
   "outputs": [],
   "source": [
    "import pandas as pd\n",
    "import numpy as np\n",
    "import seaborn as sns\n",
    "import matplotlib as plt"
   ]
  },
  {
   "cell_type": "code",
   "execution_count": 6,
   "metadata": {},
   "outputs": [],
   "source": [
    "df = pd.read_csv('../data/googleplaystore.csv')"
   ]
  },
  {
   "cell_type": "markdown",
   "metadata": {},
   "source": [
    "### 컬럼 설명\n",
    "Current Ver = 어플 업데이트 버전\n",
    "Android Ver = 어플이 돌아가기 위한 핸드폰 최소 성능"
   ]
  },
  {
   "cell_type": "code",
   "execution_count": 7,
   "metadata": {
    "scrolled": true
   },
   "outputs": [
    {
     "data": {
      "text/html": [
       "<div>\n",
       "<style scoped>\n",
       "    .dataframe tbody tr th:only-of-type {\n",
       "        vertical-align: middle;\n",
       "    }\n",
       "\n",
       "    .dataframe tbody tr th {\n",
       "        vertical-align: top;\n",
       "    }\n",
       "\n",
       "    .dataframe thead th {\n",
       "        text-align: right;\n",
       "    }\n",
       "</style>\n",
       "<table border=\"1\" class=\"dataframe\">\n",
       "  <thead>\n",
       "    <tr style=\"text-align: right;\">\n",
       "      <th></th>\n",
       "      <th>App</th>\n",
       "      <th>Category</th>\n",
       "      <th>Rating</th>\n",
       "      <th>Reviews</th>\n",
       "      <th>Size</th>\n",
       "      <th>Installs</th>\n",
       "      <th>Type</th>\n",
       "      <th>Price</th>\n",
       "      <th>Content Rating</th>\n",
       "      <th>Genres</th>\n",
       "      <th>Last Updated</th>\n",
       "      <th>Current Ver</th>\n",
       "      <th>Android Ver</th>\n",
       "    </tr>\n",
       "  </thead>\n",
       "  <tbody>\n",
       "    <tr>\n",
       "      <th>7515</th>\n",
       "      <td>Clash of Kings : The King Of Fighters version</td>\n",
       "      <td>FAMILY</td>\n",
       "      <td>4.2</td>\n",
       "      <td>2233681</td>\n",
       "      <td>97M</td>\n",
       "      <td>50,000,000+</td>\n",
       "      <td>Free</td>\n",
       "      <td>0</td>\n",
       "      <td>Teen</td>\n",
       "      <td>Strategy</td>\n",
       "      <td>August 1, 2018</td>\n",
       "      <td>3.44.0</td>\n",
       "      <td>2.3.3 and up</td>\n",
       "    </tr>\n",
       "    <tr>\n",
       "      <th>3600</th>\n",
       "      <td>How do I take care of my child?</td>\n",
       "      <td>PARENTING</td>\n",
       "      <td>4.8</td>\n",
       "      <td>190</td>\n",
       "      <td>6.8M</td>\n",
       "      <td>100,000+</td>\n",
       "      <td>Free</td>\n",
       "      <td>0</td>\n",
       "      <td>Everyone</td>\n",
       "      <td>Parenting</td>\n",
       "      <td>June 24, 2018</td>\n",
       "      <td>1.5</td>\n",
       "      <td>4.0 and up</td>\n",
       "    </tr>\n",
       "    <tr>\n",
       "      <th>3658</th>\n",
       "      <td>Weather Live Pro</td>\n",
       "      <td>WEATHER</td>\n",
       "      <td>4.8</td>\n",
       "      <td>17493</td>\n",
       "      <td>11M</td>\n",
       "      <td>100,000+</td>\n",
       "      <td>Paid</td>\n",
       "      <td>$4.49</td>\n",
       "      <td>Everyone</td>\n",
       "      <td>Weather</td>\n",
       "      <td>April 20, 2018</td>\n",
       "      <td>1.3</td>\n",
       "      <td>4.4 and up</td>\n",
       "    </tr>\n",
       "    <tr>\n",
       "      <th>2329</th>\n",
       "      <td>fred's Pharmacy</td>\n",
       "      <td>MEDICAL</td>\n",
       "      <td>3.0</td>\n",
       "      <td>315</td>\n",
       "      <td>22M</td>\n",
       "      <td>100,000+</td>\n",
       "      <td>Free</td>\n",
       "      <td>0</td>\n",
       "      <td>Everyone</td>\n",
       "      <td>Medical</td>\n",
       "      <td>October 10, 2017</td>\n",
       "      <td>1.0.02</td>\n",
       "      <td>4.0 and up</td>\n",
       "    </tr>\n",
       "    <tr>\n",
       "      <th>8520</th>\n",
       "      <td>Fast Download Manager</td>\n",
       "      <td>TOOLS</td>\n",
       "      <td>4.0</td>\n",
       "      <td>18478</td>\n",
       "      <td>1.7M</td>\n",
       "      <td>1,000,000+</td>\n",
       "      <td>Free</td>\n",
       "      <td>0</td>\n",
       "      <td>Everyone</td>\n",
       "      <td>Tools</td>\n",
       "      <td>August 4, 2018</td>\n",
       "      <td>1.0.5</td>\n",
       "      <td>2.3 and up</td>\n",
       "    </tr>\n",
       "  </tbody>\n",
       "</table>\n",
       "</div>"
      ],
      "text/plain": [
       "                                                App   Category  Rating  \\\n",
       "7515  Clash of Kings : The King Of Fighters version     FAMILY     4.2   \n",
       "3600                How do I take care of my child?  PARENTING     4.8   \n",
       "3658                               Weather Live Pro    WEATHER     4.8   \n",
       "2329                                fred's Pharmacy    MEDICAL     3.0   \n",
       "8520                          Fast Download Manager      TOOLS     4.0   \n",
       "\n",
       "      Reviews  Size     Installs  Type  Price Content Rating     Genres  \\\n",
       "7515  2233681   97M  50,000,000+  Free      0           Teen   Strategy   \n",
       "3600      190  6.8M     100,000+  Free      0       Everyone  Parenting   \n",
       "3658    17493   11M     100,000+  Paid  $4.49       Everyone    Weather   \n",
       "2329      315   22M     100,000+  Free      0       Everyone    Medical   \n",
       "8520    18478  1.7M   1,000,000+  Free      0       Everyone      Tools   \n",
       "\n",
       "          Last Updated Current Ver   Android Ver  \n",
       "7515    August 1, 2018      3.44.0  2.3.3 and up  \n",
       "3600     June 24, 2018         1.5    4.0 and up  \n",
       "3658    April 20, 2018         1.3    4.4 and up  \n",
       "2329  October 10, 2017      1.0.02    4.0 and up  \n",
       "8520    August 4, 2018       1.0.5    2.3 and up  "
      ]
     },
     "execution_count": 7,
     "metadata": {},
     "output_type": "execute_result"
    }
   ],
   "source": [
    "df.sample(5)"
   ]
  },
  {
   "cell_type": "code",
   "execution_count": 8,
   "metadata": {},
   "outputs": [
    {
     "data": {
      "text/plain": [
       "App                  0\n",
       "Category             0\n",
       "Rating            1474\n",
       "Reviews              0\n",
       "Size                 0\n",
       "Installs             0\n",
       "Type                 1\n",
       "Price                0\n",
       "Content Rating       1\n",
       "Genres               0\n",
       "Last Updated         0\n",
       "Current Ver          8\n",
       "Android Ver          3\n",
       "dtype: int64"
      ]
     },
     "execution_count": 8,
     "metadata": {},
     "output_type": "execute_result"
    }
   ],
   "source": [
    "df.isnull().sum()\n",
    "# Rating null값이 많은데, 상관관계를 아직 알 수 없음\n",
    "# 추후에 다시 봐야 함"
   ]
  },
  {
   "cell_type": "markdown",
   "metadata": {},
   "source": [
    "## 밀린 데이터 한줄 수정\n"
   ]
  },
  {
   "cell_type": "code",
   "execution_count": 9,
   "metadata": {},
   "outputs": [
    {
     "data": {
      "text/plain": [
       "1,000,000+        1579\n",
       "10,000,000+       1252\n",
       "100,000+          1169\n",
       "10,000+           1054\n",
       "1,000+             907\n",
       "5,000,000+         752\n",
       "100+               719\n",
       "500,000+           539\n",
       "50,000+            479\n",
       "5,000+             477\n",
       "100,000,000+       409\n",
       "10+                386\n",
       "500+               330\n",
       "50,000,000+        289\n",
       "50+                205\n",
       "5+                  82\n",
       "500,000,000+        72\n",
       "1+                  67\n",
       "1,000,000,000+      58\n",
       "0+                  14\n",
       "1000+                1\n",
       "0                    1\n",
       "Name: Installs, dtype: int64"
      ]
     },
     "execution_count": 9,
     "metadata": {},
     "output_type": "execute_result"
    }
   ],
   "source": [
    "df[df['Installs']=='Free']\n",
    "\n",
    "df.loc[df['Installs']=='Free', 'Category'] = 'PHOTOGRAPHY'\n",
    "\n",
    "df.loc[df['App']=='Life Made WI-Fi Touchscreen Photo Frame', 'Rating'] = '1.9'\n",
    "df.loc[df['App']=='Life Made WI-Fi Touchscreen Photo Frame', 'Reviews'] = '19'\n",
    "df.loc[df['App']=='Life Made WI-Fi Touchscreen Photo Frame', 'Size'] = '3.0M'\n",
    "df.loc[df['App']=='Life Made WI-Fi Touchscreen Photo Frame', 'Installs'] = '1000+'\n",
    "df.loc[df['App']=='Life Made WI-Fi Touchscreen Photo Frame', 'Type'] = 'Free'\n",
    "df.loc[df['App']=='Life Made WI-Fi Touchscreen Photo Frame', 'Price'] = '0'\n",
    "df.loc[df['App']=='Life Made WI-Fi Touchscreen Photo Frame', 'Content Rating'] = 'Everyone'\n",
    "df.loc[df['App']=='Life Made WI-Fi Touchscreen Photo Frame', 'Genres'] = 'Photography'\n",
    "df.loc[df['App']=='Life Made WI-Fi Touchscreen Photo Frame', 'Last Updated'] = 'February 11, 2018'\n",
    "df.loc[df['App']=='Life Made WI-Fi Touchscreen Photo Frame', 'Current Ver'] = '1.0.19'\n",
    "df.loc[df['App']=='Life Made WI-Fi Touchscreen Photo Frame', 'Android Ver'] = '4.0 and up'\n",
    "\n",
    "df[df['App']=='Life Made WI-Fi Touchscreen Photo Frame']\n",
    "\n",
    "df['Installs'].value_counts()"
   ]
  },
  {
   "cell_type": "markdown",
   "metadata": {},
   "source": [
    "# Last Updated 년/월"
   ]
  },
  {
   "cell_type": "code",
   "execution_count": 10,
   "metadata": {},
   "outputs": [],
   "source": [
    "df['upYear'] = df['Last Updated'].apply(lambda x: x[ -4:])"
   ]
  },
  {
   "cell_type": "code",
   "execution_count": 11,
   "metadata": {},
   "outputs": [],
   "source": [
    "df['upMonth'] = df['Last Updated'].apply(lambda x: x.split(\" \")[0])"
   ]
  },
  {
   "cell_type": "code",
   "execution_count": 12,
   "metadata": {},
   "outputs": [
    {
     "data": {
      "text/plain": [
       "{'': 0,\n",
       " 'Jan': 1,\n",
       " 'Feb': 2,\n",
       " 'Mar': 3,\n",
       " 'Apr': 4,\n",
       " 'May': 5,\n",
       " 'Jun': 6,\n",
       " 'Jul': 7,\n",
       " 'Aug': 8,\n",
       " 'Sep': 9,\n",
       " 'Oct': 10,\n",
       " 'Nov': 11,\n",
       " 'Dec': 12}"
      ]
     },
     "execution_count": 12,
     "metadata": {},
     "output_type": "execute_result"
    }
   ],
   "source": [
    "import calendar\n",
    "dic = dict((v,k) for k,v in enumerate(calendar.month_abbr))\n",
    "dic"
   ]
  },
  {
   "cell_type": "code",
   "execution_count": 13,
   "metadata": {},
   "outputs": [],
   "source": [
    "df['upMonth'] = df['upMonth'].apply(lambda x: x[:3])"
   ]
  },
  {
   "cell_type": "code",
   "execution_count": 14,
   "metadata": {},
   "outputs": [],
   "source": [
    "df['upMonth'] = df['upMonth'].transform(lambda x : dic[x])"
   ]
  },
  {
   "cell_type": "code",
   "execution_count": 15,
   "metadata": {},
   "outputs": [],
   "source": [
    "df['upYear'] = df['upYear'].apply(lambda x: int(x))"
   ]
  },
  {
   "cell_type": "code",
   "execution_count": 16,
   "metadata": {},
   "outputs": [],
   "source": [
    "df['upYM'] = df['upYear'] + df['upMonth']/100"
   ]
  },
  {
   "cell_type": "code",
   "execution_count": 17,
   "metadata": {
    "scrolled": true
   },
   "outputs": [
    {
     "data": {
      "text/plain": [
       "array([2018.01, 2018.08, 2018.06, 2018.04, 2018.07, 2018.03, 2018.05,\n",
       "       2018.02])"
      ]
     },
     "execution_count": 17,
     "metadata": {},
     "output_type": "execute_result"
    }
   ],
   "source": [
    "df[df['upYear']==2018]['upYM'].unique()\n",
    "# 데이터 업데이트 마지막은 2018년 8월"
   ]
  },
  {
   "cell_type": "markdown",
   "metadata": {},
   "source": [
    "# Category 살펴보기"
   ]
  },
  {
   "cell_type": "code",
   "execution_count": 18,
   "metadata": {},
   "outputs": [
    {
     "data": {
      "text/plain": [
       "FAMILY                 1972\n",
       "GAME                   1144\n",
       "TOOLS                   843\n",
       "MEDICAL                 463\n",
       "BUSINESS                460\n",
       "PRODUCTIVITY            424\n",
       "PERSONALIZATION         392\n",
       "COMMUNICATION           387\n",
       "SPORTS                  384\n",
       "LIFESTYLE               382\n",
       "FINANCE                 366\n",
       "HEALTH_AND_FITNESS      341\n",
       "PHOTOGRAPHY             336\n",
       "SOCIAL                  295\n",
       "NEWS_AND_MAGAZINES      283\n",
       "SHOPPING                260\n",
       "TRAVEL_AND_LOCAL        258\n",
       "DATING                  234\n",
       "BOOKS_AND_REFERENCE     231\n",
       "VIDEO_PLAYERS           175\n",
       "EDUCATION               156\n",
       "ENTERTAINMENT           149\n",
       "MAPS_AND_NAVIGATION     137\n",
       "FOOD_AND_DRINK          127\n",
       "HOUSE_AND_HOME           88\n",
       "LIBRARIES_AND_DEMO       85\n",
       "AUTO_AND_VEHICLES        85\n",
       "WEATHER                  82\n",
       "ART_AND_DESIGN           65\n",
       "EVENTS                   64\n",
       "PARENTING                60\n",
       "COMICS                   60\n",
       "BEAUTY                   53\n",
       "Name: Category, dtype: int64"
      ]
     },
     "execution_count": 18,
     "metadata": {},
     "output_type": "execute_result"
    }
   ],
   "source": [
    "df['Category'].value_counts()"
   ]
  },
  {
   "cell_type": "code",
   "execution_count": 19,
   "metadata": {},
   "outputs": [
    {
     "data": {
      "text/plain": [
       "Free    10040\n",
       "Paid      800\n",
       "Name: Type, dtype: int64"
      ]
     },
     "execution_count": 19,
     "metadata": {},
     "output_type": "execute_result"
    }
   ],
   "source": [
    "df['Type'].value_counts()"
   ]
  },
  {
   "cell_type": "markdown",
   "metadata": {},
   "source": [
    "# [Installs] to int "
   ]
  },
  {
   "cell_type": "code",
   "execution_count": 20,
   "metadata": {},
   "outputs": [],
   "source": [
    "df.loc[df['Installs'] == '0', 'Installs'] = '0+'"
   ]
  },
  {
   "cell_type": "code",
   "execution_count": 21,
   "metadata": {},
   "outputs": [],
   "source": [
    "df['Installs'] = df['Installs'].apply(lambda x : x[:-1])"
   ]
  },
  {
   "cell_type": "code",
   "execution_count": 22,
   "metadata": {},
   "outputs": [],
   "source": [
    "df['Installs'] = df['Installs'].apply(lambda x : x.replace(',', \"\"))"
   ]
  },
  {
   "cell_type": "markdown",
   "metadata": {},
   "source": [
    "# Size 단위 통일"
   ]
  },
  {
   "cell_type": "code",
   "execution_count": 23,
   "metadata": {},
   "outputs": [
    {
     "data": {
      "text/plain": [
       "Varies with device    1695\n",
       "11M                    198\n",
       "12M                    196\n",
       "14M                    194\n",
       "13M                    191\n",
       "                      ... \n",
       "498k                     1\n",
       "246k                     1\n",
       "874k                     1\n",
       "459k                     1\n",
       "89k                      1\n",
       "Name: Size, Length: 461, dtype: int64"
      ]
     },
     "execution_count": 23,
     "metadata": {},
     "output_type": "execute_result"
    }
   ],
   "source": [
    "df['Size'].value_counts()"
   ]
  },
  {
   "cell_type": "code",
   "execution_count": 24,
   "metadata": {},
   "outputs": [],
   "source": [
    "df['Size'] = df['Size'].apply(lambda x : x[:-1] if x[-1] == 'k' else x[:-1] + '0')"
   ]
  },
  {
   "cell_type": "code",
   "execution_count": 25,
   "metadata": {},
   "outputs": [],
   "source": [
    "df.loc[df['Size']=='Varies with devic0', 'Size'] = np.nan"
   ]
  },
  {
   "cell_type": "code",
   "execution_count": 26,
   "metadata": {},
   "outputs": [
    {
     "data": {
      "text/plain": [
       "110    198\n",
       "120    196\n",
       "140    194\n",
       "130    191\n",
       "150    184\n",
       "      ... \n",
       "861      1\n",
       "518      1\n",
       "454      1\n",
       "144      1\n",
       "562      1\n",
       "Name: Size, Length: 432, dtype: int64"
      ]
     },
     "execution_count": 26,
     "metadata": {},
     "output_type": "execute_result"
    }
   ],
   "source": [
    "df['Size'].value_counts()"
   ]
  },
  {
   "cell_type": "markdown",
   "metadata": {},
   "source": [
    "# Price 전처리"
   ]
  },
  {
   "cell_type": "code",
   "execution_count": 27,
   "metadata": {},
   "outputs": [
    {
     "data": {
      "text/plain": [
       "0          10041\n",
       "$0.99        148\n",
       "$2.99        129\n",
       "$1.99         73\n",
       "$4.99         72\n",
       "           ...  \n",
       "$394.99        1\n",
       "$4.29          1\n",
       "$28.99         1\n",
       "$3.61          1\n",
       "$15.46         1\n",
       "Name: Price, Length: 92, dtype: int64"
      ]
     },
     "execution_count": 27,
     "metadata": {},
     "output_type": "execute_result"
    }
   ],
   "source": [
    "df['Price'].value_counts()"
   ]
  },
  {
   "cell_type": "code",
   "execution_count": 28,
   "metadata": {},
   "outputs": [],
   "source": [
    "df['Price'] = df['Price'].apply(lambda x : x.replace('$', \"\"))"
   ]
  },
  {
   "cell_type": "code",
   "execution_count": 29,
   "metadata": {},
   "outputs": [
    {
     "data": {
      "text/plain": [
       "0         10041\n",
       "0.99        148\n",
       "2.99        129\n",
       "1.99         73\n",
       "4.99         72\n",
       "          ...  \n",
       "1.59          1\n",
       "1.20          1\n",
       "3.88          1\n",
       "37.99         1\n",
       "200.00        1\n",
       "Name: Price, Length: 92, dtype: int64"
      ]
     },
     "execution_count": 29,
     "metadata": {},
     "output_type": "execute_result"
    }
   ],
   "source": [
    "df['Price'].value_counts()"
   ]
  },
  {
   "cell_type": "markdown",
   "metadata": {},
   "source": [
    "# Version 소수점 한자리까지만 살리기"
   ]
  },
  {
   "cell_type": "code",
   "execution_count": 30,
   "metadata": {},
   "outputs": [],
   "source": [
    "df['Android Ver2'] = df['Android Ver'].replace('Varies with device', np.nan)"
   ]
  },
  {
   "cell_type": "code",
   "execution_count": 31,
   "metadata": {},
   "outputs": [],
   "source": [
    "df.loc[df['Current Ver'] == 'Varies with device', 'Current Ver'] = np.nan\n",
    "df['Current Ver'] = df['Current Ver'].astype('str')\n"
   ]
  },
  {
   "cell_type": "code",
   "execution_count": 32,
   "metadata": {},
   "outputs": [
    {
     "data": {
      "text/plain": [
       "5386           1.1.7\n",
       "3382             nan\n",
       "4140             3.1\n",
       "516            4.1.2\n",
       "2791          4.16.0\n",
       "464              nan\n",
       "8517        20170828\n",
       "9605             nan\n",
       "3577           1.0.7\n",
       "3388           6.7.5\n",
       "6533           2.3.2\n",
       "2622             nan\n",
       "2265             1.0\n",
       "3208          4.15.1\n",
       "762            5.5.2\n",
       "2331          3.52.1\n",
       "9471             2.3\n",
       "2027        2.2.3169\n",
       "2699             nan\n",
       "2110             1.3\n",
       "8421           1.4.4\n",
       "9053             nan\n",
       "10632            5.2\n",
       "3316           6.0.1\n",
       "8155         2.00.00\n",
       "7114           2.4.0\n",
       "10330      5.33.3669\n",
       "6565             1.5\n",
       "2272             1.0\n",
       "9773             2.1\n",
       "2531           1.3.4\n",
       "4754           1.1.1\n",
       "3543          4.3.19\n",
       "4430           1.1.2\n",
       "1862           3.0.2\n",
       "3871          8.10.1\n",
       "3278      9.7.753080\n",
       "1346          6.2.73\n",
       "194        9.7.14188\n",
       "4778            1.02\n",
       "6936     1.13.108869\n",
       "836              nan\n",
       "5935           1.2.1\n",
       "5277         0.46.91\n",
       "564            4.5.5\n",
       "10113          1.6.8\n",
       "48               1.0\n",
       "634              8.2\n",
       "6540           2.3.2\n",
       "9785     Pro 1.1.4.1\n",
       "Name: Current Ver, dtype: object"
      ]
     },
     "execution_count": 32,
     "metadata": {},
     "output_type": "execute_result"
    }
   ],
   "source": [
    "df['Current Ver'].sample(50)"
   ]
  },
  {
   "cell_type": "code",
   "execution_count": 33,
   "metadata": {},
   "outputs": [],
   "source": [
    "df['Current Ver'] = df['Current Ver'].apply(lambda x: x if x is None\n",
    "                                                 else x if len(x) == 1\n",
    "                                                 else x.split('.')[0])"
   ]
  },
  {
   "cell_type": "code",
   "execution_count": 34,
   "metadata": {},
   "outputs": [
    {
     "data": {
      "text/plain": [
       "array(['1', '2', 'nan', '6', '3', '5', '4', '11', '0', '8', '10', '18',\n",
       "       '9', '15', '14', '7', '99', '12', '37', '24', '47', 'R6', '69',\n",
       "       '42', '196', '2018', '20', '13', 'v1', '01', '43', '16',\n",
       "       'Cannonau 3', 'p5', '112', 'Public', '220', '858', 'v3',\n",
       "       'Version:6', '02', '3196', '5423', '19', '1_39_93', '79', '108',\n",
       "       '57', '60', '149', '37893', '20180609', '28', '25', '300000', 'PN',\n",
       "       'Initial', 'T4', '50', '27', '29', '584', '22', '71', '1004', '06',\n",
       "       '2017', '17', '53', 'v5', 'MyMetro_HTML_2', 'v8', 'v7', '32',\n",
       "       '20180517', 'v150', '40', '68', 'FreeTimeApp-aosp_v3',\n",
       "       'Natalia Studio Development', '30', '116', '04', '27500000',\n",
       "       'version 0', '5055', 'a', '31', '1009001', '1900001', 'v8[1', '23',\n",
       "       '1805', '1,01', 'v2018', 'H7SubTV0', 'v2', '263', '65',\n",
       "       'acremotecontrol18', 'v67_slk3',\n",
       "       'airConditionerMaintenance_13112015', '11;11',\n",
       "       'acremotecontrol-v7', '1255162018', 'v4', '117', 'cli-6',\n",
       "       'Version 1', '132', '10001008', 'closed', '18060104', '568', '39',\n",
       "       'newversion', '666', '20180608', '20180620',\n",
       "       'Z (Special Edition R9)', 'Cow V3', '3_1', 'Final', '250',\n",
       "       'Arrow-202', '26', 'BL ONLINE PERSONAL TRAINING 7', '35',\n",
       "       'Rocksteady 1', 'V1', 'V2', 'no_update_signal',\n",
       "       'opciÃ³n de cerrar', '106', '102', 'v6', '01e', '70',\n",
       "       'fcbd82b2-dd5b-41d2-af62-432271c42921', '41', 'The CJ Rubric 7',\n",
       "       '202', '48', 'CL Pro for Craigslist - Canada 150',\n",
       "       'Bowser4Craigslist', 'App copyright', 'Copyright', 'CL Strength 7',\n",
       "       'Gratis', 'Release 1', 'Y4W-GATE_CS-5', 'SolarCT 1', '2014', '200',\n",
       "       '3000', 'KM', 'iu4', '20180805', 'INDIRIMBO V', '700', 'Android 2',\n",
       "       'Android 3', 'Translator 10', '20180518-01', 'Glueboardv',\n",
       "       'DH-Security Camera', 'v2017', '20170828', 'HTTPs', '21 - Rel2',\n",
       "       '67', 'DPSTATUS1', '15|06|17', 'di-v3', 'r2', 'pb1', 'R1',\n",
       "       'Human Dx', '2018-04-27', '2018-03', '33', 'erie1', '4541',\n",
       "       'Build 54', 'Build 12', '130', '25072018', '56', '21', 'Paid-9',\n",
       "       'Fennec-52', 'BlueOrange', '314007', '1000000', '36', 'Pro 1',\n",
       "       'V1-180703', 'MONEY', 'F2i', '81', 'V4', '176', '060816', '125',\n",
       "       '34', '20170920', 'FH CODE 1', '3rd Release Aug 2016'],\n",
       "      dtype=object)"
      ]
     },
     "execution_count": 34,
     "metadata": {},
     "output_type": "execute_result"
    }
   ],
   "source": [
    "df['Current Ver'].unique()"
   ]
  },
  {
   "cell_type": "markdown",
   "metadata": {},
   "source": [
    "# 안드로이드 버전"
   ]
  },
  {
   "cell_type": "code",
   "execution_count": 292,
   "metadata": {},
   "outputs": [],
   "source": [
    "df2 = pd.read_csv('googleplaystore.csv')\n",
    "df['Android Ver'] = df2['Android Ver']"
   ]
  },
  {
   "cell_type": "code",
   "execution_count": 293,
   "metadata": {},
   "outputs": [
    {
     "data": {
      "text/plain": [
       "0              4.0.3 and up\n",
       "1              4.0.3 and up\n",
       "2              4.0.3 and up\n",
       "3                4.2 and up\n",
       "4                4.4 and up\n",
       "                ...        \n",
       "10836            4.1 and up\n",
       "10837            4.1 and up\n",
       "10838            2.2 and up\n",
       "10839    Varies with device\n",
       "10840    Varies with device\n",
       "Name: Android Ver, Length: 10841, dtype: object"
      ]
     },
     "execution_count": 293,
     "metadata": {},
     "output_type": "execute_result"
    }
   ],
   "source": [
    "df['Android Ver']"
   ]
  },
  {
   "cell_type": "code",
   "execution_count": 294,
   "metadata": {},
   "outputs": [],
   "source": [
    "df['Android Ver'] = df['Android Ver'].replace('Varies with device', np.nan)"
   ]
  },
  {
   "cell_type": "code",
   "execution_count": 295,
   "metadata": {},
   "outputs": [],
   "source": [
    "df['Android Ver'] = df['Android Ver'].astype('str')"
   ]
  },
  {
   "cell_type": "code",
   "execution_count": 296,
   "metadata": {},
   "outputs": [],
   "source": [
    "# df['Android Ver'] = df['Android Ver'].replace('and up', '') "
   ]
  },
  {
   "cell_type": "code",
   "execution_count": 297,
   "metadata": {},
   "outputs": [
    {
     "data": {
      "text/plain": [
       "0        4.0.3 \n",
       "1        4.0.3 \n",
       "2        4.0.3 \n",
       "3          4.2 \n",
       "4          4.4 \n",
       "          ...  \n",
       "10836      4.1 \n",
       "10837      4.1 \n",
       "10838      2.2 \n",
       "10839       nan\n",
       "10840       nan\n",
       "Name: Android Ver, Length: 10841, dtype: object"
      ]
     },
     "execution_count": 297,
     "metadata": {},
     "output_type": "execute_result"
    }
   ],
   "source": [
    "df['Android Ver'].apply(lambda x : x.replace('and up', ''))"
   ]
  },
  {
   "cell_type": "code",
   "execution_count": 298,
   "metadata": {},
   "outputs": [],
   "source": [
    "df['Android Ver'] = df['Android Ver'].apply(lambda x: x if x is None\n",
    "                                                 else x if len(x) <= 3\n",
    "                                                 else x[:3])"
   ]
  },
  {
   "cell_type": "markdown",
   "metadata": {},
   "source": [
    "# 카테고리 더미코딩"
   ]
  },
  {
   "cell_type": "code",
   "execution_count": 166,
   "metadata": {},
   "outputs": [],
   "source": [
    "df = pd.get_dummies(df, columns=['Category'], prefix='C')"
   ]
  },
  {
   "cell_type": "code",
   "execution_count": 301,
   "metadata": {},
   "outputs": [],
   "source": [
    "df['Reviews'] = df['Reviews'].apply(lambda x: float(x))\n",
    "df['Size'] = df['Size'].apply(lambda x: float(x))\n",
    "df['Installs'] = df['Installs'].apply(lambda x: float(x))\n",
    "df['Price'] = df['Price'].apply(lambda x: float(x))\n",
    "# df['Current Ver'] = df['Current Ver'].apply(lambda x: float(x))\n",
    "df['Android Ver'] = df['Android Ver'].apply(lambda x: float(x))"
   ]
  },
  {
   "cell_type": "code",
   "execution_count": 1,
   "metadata": {},
   "outputs": [
    {
     "ename": "NameError",
     "evalue": "name 'df' is not defined",
     "output_type": "error",
     "traceback": [
      "\u001b[0;31m---------------------------------------------------------------------------\u001b[0m",
      "\u001b[0;31mNameError\u001b[0m                                 Traceback (most recent call last)",
      "\u001b[0;32m<ipython-input-1-e8415166595f>\u001b[0m in \u001b[0;36m<module>\u001b[0;34m\u001b[0m\n\u001b[0;32m----> 1\u001b[0;31m \u001b[0mcorr\u001b[0m \u001b[0;34m=\u001b[0m \u001b[0mdf\u001b[0m\u001b[0;34m.\u001b[0m\u001b[0mcorr\u001b[0m\u001b[0;34m(\u001b[0m\u001b[0;34m)\u001b[0m\u001b[0;34m\u001b[0m\u001b[0m\n\u001b[0m\u001b[1;32m      2\u001b[0m \u001b[0msns\u001b[0m\u001b[0;34m.\u001b[0m\u001b[0mheatmap\u001b[0m\u001b[0;34m(\u001b[0m\u001b[0mcorr\u001b[0m\u001b[0;34m)\u001b[0m\u001b[0;34m\u001b[0m\u001b[0m\n\u001b[1;32m      3\u001b[0m \u001b[0mcorr\u001b[0m\u001b[0;34m\u001b[0m\u001b[0m\n",
      "\u001b[0;31mNameError\u001b[0m: name 'df' is not defined"
     ]
    }
   ],
   "source": [
    "corr = df.corr()\n",
    "sns.heatmap(corr)\n",
    "corr"
   ]
  },
  {
   "cell_type": "code",
   "execution_count": null,
   "metadata": {},
   "outputs": [],
   "source": []
  }
 ],
 "metadata": {
  "kernelspec": {
   "display_name": "Python 3",
   "language": "python",
   "name": "python3"
  },
  "language_info": {
   "codemirror_mode": {
    "name": "ipython",
    "version": 3
   },
   "file_extension": ".py",
   "mimetype": "text/x-python",
   "name": "python",
   "nbconvert_exporter": "python",
   "pygments_lexer": "ipython3",
   "version": "3.7.0"
  }
 },
 "nbformat": 4,
 "nbformat_minor": 2
}
